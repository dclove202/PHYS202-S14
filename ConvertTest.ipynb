{
 "metadata": {
  "name": "",
  "signature": "sha256:b2bf805a043c24e2d3f61da23a018c61b7e4e899d5d5c96d21ae58d471d0866e"
 },
 "nbformat": 3,
 "nbformat_minor": 0,
 "worksheets": [
  {
   "cells": [
    {
     "cell_type": "code",
     "collapsed": false,
     "input": [
      "$ ipython nbconvert --python"
     ],
     "language": "python",
     "metadata": {},
     "outputs": []
    }
   ],
   "metadata": {}
  }
 ]
}