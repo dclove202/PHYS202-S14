{
 "metadata": {
  "name": "",
  "signature": "sha256:0e687ef52f4ea978e15b75ef89401d305b4c1f835daff0e42b527e9a646e8c11"
 },
 "nbformat": 3,
 "nbformat_minor": 0,
 "worksheets": [
  {
   "cells": [
    {
     "cell_type": "heading",
     "level": 2,
     "metadata": {},
     "source": [
      "Solution/Code From Tour"
     ]
    },
    {
     "cell_type": "code",
     "collapsed": false,
     "input": [
      "%pylab inline\n",
      "import numpy as np\n",
      "import matplotlib.pyplot as plt\n",
      "from PIL import Image\n",
      "import requests\n",
      "from StringIO import StringIO"
     ],
     "language": "python",
     "metadata": {},
     "outputs": [
      {
       "output_type": "stream",
       "stream": "stdout",
       "text": [
        "Populating the interactive namespace from numpy and matplotlib\n"
       ]
      }
     ],
     "prompt_number": 1
    },
    {
     "cell_type": "code",
     "collapsed": false,
     "input": [
      "def brightest(picture):\n",
      "    \"\"\"add up each pixel's color values \n",
      "    to approximate its overall luminance\"\"\"\n",
      "    xsize, ysize = picture.size\n",
      "    bx, by, max_val = 0, 0, 0\n",
      "    for x in range(xsize):\n",
      "        for y in range(ysize):\n",
      "            r,g,b = pic.getpixel((x,y))\n",
      "            if r+g+b > max_val:\n",
      "                bx, by, max_val = x, y, r+g+b\n",
      "    return (bx, by), max_val\n",
      "\n",
      "from time import time\n",
      "def elapsed(func, picture):\n",
      "    \"\"\"takes a function and a picture as arguments, \n",
      "    applies the function to the picture, and returns \n",
      "    the elapsed time along with whatever the function \n",
      "    itself returned.\"\"\"    \n",
      "    start = time()\n",
      "    result = func(picture)\n",
      "    return time() - start, result\n",
      "\n",
      "def faster(picture):\n",
      "    \"\"\"This function, 'faster', uses \n",
      "    'picture.getdata' to unpack the \n",
      "    row-and-column representation of the \n",
      "    image to create a vector of pixels, \n",
      "    and then loops over that.\"\"\"\n",
      "    max_val = 0\n",
      "    for (r,g,b) in picture.getdata():\n",
      "        if r+g+b > max_val:\n",
      "            max_val = r + g + b\n",
      "    return max_val\n",
      "\n",
      "def monochrome(picture, threshold):\n",
      "    \"\"\"loops over the pixels in the loaded image, \n",
      "    replacing the RGB values of each with either \n",
      "    black or white depending on whether its total \n",
      "    luminance is above or below some threshold \n",
      "    passed in by the user\"\"\"\n",
      "    black = (0, 0, 0)\n",
      "    white = (255, 255, 255)\n",
      "    xsize, ysize = picture.size\n",
      "    temp = picture.load()\n",
      "    for x in range(xsize):\n",
      "        for y in range(ysize):\n",
      "            r,g,b = temp[x,y]\n",
      "            if r+g+b >= threshold: \n",
      "                temp[x,y] = black\n",
      "            else:\n",
      "                temp[x,y] = white\n",
      "                \n",
      "BLACK = (0,0,0)\n",
      "RED = (255,0,0)\n",
      "#Modified to accept which fillfunction to use\n",
      "def count(picture,fillfunc):\n",
      "    \"\"\"scan the image top to bottom and left to right using a nested loop.\n",
      "    when black pixel is found, increment the count, then call the fill\n",
      "    function to fill in all the pixels connected to that one.\"\"\"\n",
      "    xsize, ysize = picture.size\n",
      "    temp = picture.load()\n",
      "    result = 0\n",
      "    for x in range(xsize):\n",
      "        for y in range(ysize):\n",
      "            if temp[x,y] == BLACK:\n",
      "                result += 1\n",
      "                fillfunc(temp,xsize,ysize,x,y)\n",
      "    return result\n",
      "\n",
      "def fill(picture, xsize, ysize, xstart, ystart):\n",
      "    \"\"\"keep a list of pixels that need to be looked at, \n",
      "    but haven't yet been filled in - a list of the (x,y) \n",
      "    coordinates of pixels that are neighbors of ones we have \n",
      "    already examined.  Keep looping until there's nothing \n",
      "    left in this list\"\"\"\n",
      "    queue = [(xstart,ystart)]\n",
      "    while queue:\n",
      "        x,y,queue = queue[0][0], queue[0][1], queue[1:]\n",
      "        if picture[x,y] == BLACK:\n",
      "            picture[x,y] = RED\n",
      "            if x > 0:\n",
      "                queue.append((x-1,y))\n",
      "            if x < (xsize-1):\n",
      "                queue.append((x+1,y))\n",
      "            if y > 0:\n",
      "                queue.append((x, y-1))\n",
      "            if y < (ysize-1):\n",
      "                queue.append((x, y+1))\n",
      "                \n",
      "def recfill(picture, xsize, ysize, x, y):\n",
      "    \"\"\"each call to 'fillrec' takes care of one pixel, \n",
      "    then calls 'fillrec' again to take care of the neighbors\"\"\"\n",
      "    if picture[x,y] != BLACK:\n",
      "        return\n",
      "    picture[x,y] = RED\n",
      "    if x > 0:\n",
      "        recfill(picture, xsize, ysize, x-1, y)\n",
      "    if x < (xsize-1):\n",
      "        recfill(picture, xsize, ysize, x+1, y)\n",
      "    if y > 0:\n",
      "        recfill(picture, xsize, ysize, x, y-1)\n",
      "    if y < (ysize-1):\n",
      "        recfill(picture, xsize, ysize, x, y+1)"
     ],
     "language": "python",
     "metadata": {},
     "outputs": []
    },
    {
     "cell_type": "heading",
     "level": 2,
     "metadata": {},
     "source": [
      "Helper Codes"
     ]
    },
    {
     "cell_type": "code",
     "collapsed": false,
     "input": [
      "#Image file names\n",
      "imgnames = []\n",
      "imgnames.append(\"http://imgsrc.hubblesite.org/hu/db/images/hs-2004-20-a-large_web.jpg\")\n",
      "imgnames.append(\"http://imgsrc.hubblesite.org/hu/db/images/hs-1993-13-a-large_web.jpg\")\n",
      "imgnames.append(\"http://imgsrc.hubblesite.org/hu/db/images/hs-1995-32-c-full_jpg.jpg\")\n",
      "imgnames.append(\"http://imgsrc.hubblesite.org/hu/db/images/hs-1993-13-a-large_web.jpg\")\n",
      "imgnames.append(\"http://imgsrc.hubblesite.org/hu/db/images/hs-2002-10-c-large_web.jpg\")\n",
      "imgnames.append(\"http://imgsrc.hubblesite.org/hu/db/images/hs-1999-30-b-full_jpg.jpg\")\n",
      "\n",
      "def fetchimg(name):\n",
      "    response = requests.get(name)\n",
      "    pic = Image.open(StringIO(response.content))\n",
      "    return pic\n",
      "\n",
      "#Reset Images\n",
      " def resetimg(imgname,threshold):\n",
      "    '''re-fetch and monochrome\n",
      "    an image\n",
      "    '''\n",
      "    picture = fetchimg(imgname)\n",
      "    monochrome(picture,threshold)\n",
      "    return picture\n",
      "\n",
      "def fastfill(picture, xsize, ysize, xstart, ystart):\n",
      "    \"\"\"keep a list of pixels that need to be looked at, \n",
      "    but haven't yet been filled in - a list of the (x,y) \n",
      "    coordinates of pixels that are neighbors of ones we have \n",
      "    already examined.  Only look at neighbors if they haven't\n",
      "    yet been filled in.  Keep looping until there's nothing \n",
      "    left in this list.\n",
      "    Not much faster than fill\"\"\"\n",
      "    queue = [(xstart,ystart)]\n",
      "    while queue:\n",
      "        x,y,queue = queue[0][0], queue[0][1], queue[1:]\n",
      "        picture[x,y] = RED\n",
      "        if x > 0 and picture[x-1,y] == BLACK:\n",
      "            picture[x-1,y] = RED\n",
      "            queue.append((x-1,y))\n",
      "        if x < (xsize-1) and picture[x+1,y] == BLACK:\n",
      "            picture[x+1,y] = RED\n",
      "            queue.append((x+1,y))\n",
      "        if y > 0 and picture[x,y-1] == BLACK:\n",
      "            picture[x,y-1] = RED\n",
      "            queue.append((x, y-1))\n",
      "        if y < (ysize-1) and picture[x,y+1] == BLACK:\n",
      "            picture[x,y+1] = RED\n",
      "            queue.append((x, y+1))\n",
      "            \n",
      "#Need to modify elapsed as well.  count already modified above\n",
      "def elapsed(func, fillfunc, picture):\n",
      "    \"\"\"takes a function and a picture as arguments, \n",
      "    applies the function to the picture, and returns \n",
      "    the elapsed time along with whatever the function \n",
      "    itself returned.\"\"\"    \n",
      "    start = time()\n",
      "    result = func(picture,fillfunc)\n",
      "    return time() - start, result\n",
      "\n",
      "picture = resetimg(imgnames[0],600)\n",
      "filltime = elapsed(count,fill,picture)\n",
      "\n",
      "picture = resetimg(imgnames[0],600)\n",
      "fastfilltime = elapsed(count,fastfill,picture)\n",
      "\n",
      "picture = resetimg(imgnames[0],600)\n",
      "recfilltime = elapsed(count,recfill,picture)\n",
      "\n",
      "print \"Fill: \",filltime\n",
      "print \"Fastfill: \",fastfilltime\n",
      "print \"Recfill: \",recfilltime\n",
      "print \"Max Time difference: \",max(filltime[0],fastfilltime[0],recfilltime[0]) - min(filltime[0],fastfilltime[0],recfilltime[0])"
     ],
     "language": "python",
     "metadata": {},
     "outputs": []
    },
    {
     "cell_type": "code",
     "collapsed": false,
     "input": [
      "for name in imgnames:\n",
      "    picture = resetimg(name,600)\n",
      "    numstars = count(picture,recfill)\n",
      "    print \"Image file: %s has %d stars with threshold = 600\"%(name,numstars)"
     ],
     "language": "python",
     "metadata": {},
     "outputs": []
    },
    {
     "cell_type": "code",
     "collapsed": false,
     "input": [
      "for name in imgnames:\n",
      "    picture = resetimg(name,500)\n",
      "    numstars = count(picture,fastfill)\n",
      "    print \"Image file: %s has %d stars with threshold = 500\"%(name,numstars)"
     ],
     "language": "python",
     "metadata": {},
     "outputs": []
    },
    {
     "cell_type": "heading",
     "level": 2,
     "metadata": {},
     "source": [
      "Number 4 of Doom:"
     ]
    },
    {
     "cell_type": "code",
     "collapsed": false,
     "input": [
      "def count2(picture,fillfunc):\n",
      "    \"\"\"scan the image top to bottom and left to right using a nested loop.\n",
      "    when non-black pixel is found, increment the count, then call the fill\n",
      "    function to fill in all the pixels connected to that one.  \n",
      "    \n",
      "    Return the count plus a list of star brightest pixel locations and value\"\"\"\n",
      "    xsize, ysize = picture.size\n",
      "    temp = picture.load()\n",
      "    result = 0\n",
      "    #a list of stars' max pixel locations and values\n",
      "    starlist = []\n",
      "    for x in range(xsize):\n",
      "        for y in range(ysize):\n",
      "            if temp[x,y] > BLACK:\n",
      "                result += 1\n",
      "                x,y,max_val = fillfunc(temp,xsize,ysize,x,y)\n",
      "                starlist.append((x,y,max_val))\n",
      "    return result,starlist\n",
      "\n",
      "def fill2(picture, xsize, ysize, xstart, ystart):\n",
      "    \"\"\"keep a list of pixels that need to be looked at, \n",
      "    but haven't yet been filled in - a list of the (x,y) \n",
      "    coordinates of pixels that are neighbors of ones we have \n",
      "    already examined.  Keep looping until there's nothing \n",
      "    left in this list\"\"\"\n",
      "    maxx,maxy,maxval = 0,0,0\n",
      "    queue = [(xstart,ystart)]\n",
      "    while queue:\n",
      "        x,y,queue = queue[0][0], queue[0][1], queue[1:]\n",
      "        r,g,b = picture[x,y]\n",
      "        if (r+g+b > maxval):\n",
      "            maxx,maxy,maxval = x,y,r+g+b\n",
      "        if (r,g,b) > BLACK:\n",
      "            picture[x,y] = BLACK\n",
      "            if x > 0:\n",
      "                queue.append((x-1,y))\n",
      "            if x < (xsize-1):\n",
      "                queue.append((x+1,y))\n",
      "            if y > 0:\n",
      "                queue.append((x, y-1))\n",
      "            if y < (ysize-1):\n",
      "                queue.append((x, y+1))\n",
      "    return maxx,maxy,maxval\n",
      "\n",
      "def imagecut(picture, threshold):\n",
      "    \"\"\"loops over the pixels in the loaded image, \n",
      "    replacing the RGB values of a pixel with black \n",
      "    (0,0,0) depending on whether its total \n",
      "    luminance is above or below some threshold \n",
      "    passed in by the user\"\"\"\n",
      "    black = (0, 0, 0)\n",
      "    xsize, ysize = picture.size\n",
      "    temp = picture.load()\n",
      "    for x in range(xsize):\n",
      "        for y in range(ysize):\n",
      "            r,g,b = temp[x,y]\n",
      "            if r+g+b < threshold: \n",
      "                temp[x,y] = black\n",
      "\n",
      "def resetimg2(imgname,threshold):\n",
      "    '''re-fetch and cut image\n",
      "    '''\n",
      "    picture = fetchimg(imgname)\n",
      "    imagecut(picture,threshold)\n",
      "    return picture\n",
      "\n",
      "def analyzepic(imgname,outname):\n",
      "    threshold = 600\n",
      "    fillfunc = 'fill2'\n",
      "    picture = resetimg2(imgname,threshold)\n",
      "    proctime, result = elapsed(count2,fill2,picture)\n",
      "    #print proctime, result[0]\n",
      "    stars = np.array(result[1])\n",
      "    myheader = \"\\n Image file: %s\\n Applied threshold: %d\\n Algorithm used: %s \\\n",
      "                \\n Processing time: %.6f (s)\\n Star count: %d\\n Location (x,y) and max luminance:\\n\" \\\n",
      "                %(imgname,threshold,fillfunc,proctime,result[0])\n",
      "    np.savetxt(outname,stars,fmt=('%3i\\t'*3),header=myheader)\n",
      "    \n",
      "analyzepic(imgnames[0],'Pleiades.txt')\n",
      "\n",
      "!head -10 Pleiades.txt\n",
      "\n",
      "for name in imgnames:\n",
      "    fileprefix = name.split('/')[6].split('.')[0]\n",
      "    outname = fileprefix + '.txt'\n",
      "    analyzepic(name,outname)\n",
      "    !head -10 $outname"
     ],
     "language": "python",
     "metadata": {},
     "outputs": [],
     "prompt_number": 2
    },
    {
     "cell_type": "code",
     "collapsed": false,
     "input": [],
     "language": "python",
     "metadata": {},
     "outputs": []
    },
    {
     "cell_type": "code",
     "collapsed": false,
     "input": [
      "%pylab inline\n",
      "import numpy as np\n",
      "import matplotlib.pyplot as plt\n",
      "from PIL import Image\n",
      "import requests\n",
      "from StringIO import StringIO"
     ],
     "language": "python",
     "metadata": {},
     "outputs": [
      {
       "output_type": "stream",
       "stream": "stdout",
       "text": [
        "Populating the interactive namespace from numpy and matplotlib\n"
       ]
      },
      {
       "output_type": "stream",
       "stream": "stderr",
       "text": [
        "WARNING: pylab import has clobbered these variables: ['fill']\n",
        "`%matplotlib` prevents importing * from pylab and numpy\n"
       ]
      }
     ],
     "prompt_number": 7
    },
    {
     "cell_type": "markdown",
     "metadata": {},
     "source": [
      "1. Modify the fill function so that it never looks at the same pixel twice. There are at least two ways to do this. Name your new function fastfill. The function prototype might look something like this:\n",
      "\n",
      "    def fastfill(picture, xsize, ysize, xstart, ystart):\n",
      "        \"\"\"Faster fill algorithm that doesn't look at any pixel\n",
      "        more than once.\"\"\"\n",
      "Be sure to include comments and add detail to the docstring to describe what it is doing."
     ]
    },
    {
     "cell_type": "code",
     "collapsed": false,
     "input": [
      "def fastfill(picture, xsize, ysize, xstart, ystart):\n",
      "    number_of_pixels=0\n",
      "    queue = [(xstart,ystart)]\n",
      "    while queue:\n",
      "        x,y,queue = queue[0][0], queue[0][1], queue[1:]\n",
      "        if picture[x,y] == BLACK:\n",
      "            picture[x,y] = RED\n",
      "            number_of_pixels+=1\n",
      "        # only run black squares through queue\n",
      "            if x > 0:\n",
      "                if picture[x-1,y] == BLACK:\n",
      "                    queue.append((x-1,y))\n",
      "            if x < (xsize-1):\n",
      "                if picture[x+1,y] == BLACK:\n",
      "                    queue.append((x+1,y))\n",
      "            if y > 0:\n",
      "                if picture[x, y-1] == BLACK:\n",
      "                    queue.append((x, y-1))\n",
      "            if y < (ysize-1):\n",
      "                if picture[x, y+1] == BLACK:\n",
      "                    queue.append((x, y+1))"
     ],
     "language": "python",
     "metadata": {},
     "outputs": [],
     "prompt_number": 8
    },
    {
     "cell_type": "markdown",
     "metadata": {},
     "source": [
      "2. Modify your count function to take another argument - which full function to use - and compare the time it takes to count the stars using the original fill, your improved fastfill, and the recursive recfill."
     ]
    },
    {
     "cell_type": "code",
     "collapsed": false,
     "input": [
      "BLACK = (0,0,0)\n",
      "RED = (255,0,0)\n",
      "def count(picture, fill_func):\n",
      "    xsize, ysize = picture.size\n",
      "    temp = picture.load()\n",
      "    result = 0\n",
      "    for x in range(xsize):\n",
      "        for y in range(ysize):\n",
      "            if temp[x,y] == BLACK:\n",
      "                result += 1\n",
      "                fill_func(temp,xsize,ysize,x,y)\n",
      "    return result\n",
      "\n",
      "def fill(picture, xsize, ysize, xstart, ystart):\n",
      "    \"\"\"keep a list of pixels that need to be looked at, \n",
      "    but haven't yet been filled in - a list of the (x,y) \n",
      "    coordinates of pixels that are neighbors of ones we have \n",
      "    already examined.  Keep looping until there's nothing \n",
      "    left in this list\"\"\"\n",
      "    queue = [(xstart,ystart)]\n",
      "    while queue:\n",
      "        x,y,queue = queue[0][0], queue[0][1], queue[1:]\n",
      "        if picture[x,y] == BLACK:\n",
      "            picture[x,y] = RED\n",
      "            if x > 0:\n",
      "                queue.append((x-1,y))\n",
      "            if x < (xsize-1):\n",
      "                queue.append((x+1,y))\n",
      "            if y > 0:\n",
      "                queue.append((x, y-1))\n",
      "            if y < (ysize-1):\n",
      "                queue.append((x, y+1))\n",
      "                \n",
      "def fillrec(picture, xsize, ysize, x, y):\n",
      "    ''' each call to fillrec takes care of one pixel,\n",
      "    then calls fillrec again to take care of the beighbors'''\n",
      "    if picture[x,y] != BLACK:\n",
      "        return\n",
      "    picture[x,y] = RED\n",
      "    if x > 0:\n",
      "        fillrec(picture, xsize, ysize, x-1, y)\n",
      "    if x < (xsize-1):\n",
      "        fillrec(picture, xsize, ysize, x+1, y)\n",
      "    if y > 0:\n",
      "        fillrec(picture, xsize, ysize, x, y-1)\n",
      "    if y < (ysize-1):\n",
      "        fillrec(picture, xsize, ysize, x, y+1)\n",
      "\n",
      "from time import time\n",
      "def elapsed(func, picture, fill_func):\n",
      "    start = time()\n",
      "    result = func(picture, fill_func)\n",
      "    return time() - start, result\n",
      "\n",
      "def monochrome(picture, threshold):\n",
      "    \"\"\"loops over the pixels in the loaded image, \n",
      "    replacing the RGB values of each with either \n",
      "    black or white depending on whether its total \n",
      "    luminance is above or below some threshold \n",
      "    passed in by the user\"\"\"\n",
      "    black = (0, 0, 0)\n",
      "    white = (255, 255, 255)\n",
      "    xsize, ysize = picture.size\n",
      "    temp = picture.load()\n",
      "    for x in range(xsize):\n",
      "        for y in range(ysize):\n",
      "            r,g,b = temp[x,y]\n",
      "            if r+g+b >= threshold: \n",
      "                temp[x,y] = black\n",
      "            else:\n",
      "                temp[x,y] = white\n",
      "\n",
      "\n",
      "#resetting picture\n",
      "bwpic = Image.open(StringIO(response.content))\n",
      "monochrome(bwpic, 200+200+200)\n",
      "print \"fillrec -->\", elapsed(count, bwpic, fillrec)\n",
      "\n",
      "response = requests.get('http://imgsrc.hubblesite.org/hu/db/images/hs-2004-20-a-large_web.jpg')\n",
      "bwpic = Image.open(StringIO(response.content))\n",
      "monochrome(bwpic, 200+200+200)\n",
      "print \"fill -->\", elapsed(count, bwpic, fill)\n",
      "\n",
      "#resetting picture\n",
      "bwpic = Image.open(StringIO(response.content))\n",
      "monochrome(bwpic, 200+200+200)\n",
      "print \"fastfill -->\", elapsed(count, bwpic, fastfill)"
     ],
     "language": "python",
     "metadata": {},
     "outputs": [
      {
       "output_type": "stream",
       "stream": "stdout",
       "text": [
        "fillrec --> "
       ]
      },
      {
       "output_type": "stream",
       "stream": "stdout",
       "text": [
        "(0.16837787628173828, 121)\n",
        "fill -->"
       ]
      },
      {
       "output_type": "stream",
       "stream": "stdout",
       "text": [
        " (0.2008991241455078, 121)\n",
        "fastfill -->"
       ]
      },
      {
       "output_type": "stream",
       "stream": "stdout",
       "text": [
        " (0.19728899002075195, 121)\n"
       ]
      }
     ],
     "prompt_number": 9
    },
    {
     "cell_type": "markdown",
     "metadata": {},
     "source": [
      "3. Use the fastest algorithm from question 2 to count the stars above a threshold in all of the images listed at the top of the page. How does the count for each image change if you lower the threshold from 600 to 500? Comment on any changes to the count. Why do they happen?"
     ]
    },
    {
     "cell_type": "code",
     "collapsed": false,
     "input": [
      "\n",
      "#when I ran the functions fillrec's time was .183, fill was .1899, and fastfill was .176\n",
      "\n",
      "#putting fastest fill function (fastfill) permanently into count function for simplicity\n",
      "\n",
      "\n",
      "\n",
      "def count(picture):\n",
      "    xsize, ysize = picture.size\n",
      "    temp = picture.load()\n",
      "    result = 0\n",
      "    for x in range(xsize):\n",
      "        for y in range(ysize):\n",
      "            if temp[x,y] == BLACK:\n",
      "                result += 1\n",
      "                fastfill(temp,xsize,ysize,x,y)\n",
      "    return result\n",
      "\n",
      "#getting pictures, for some reason I have to redefine the picture each time before counting the stars \n",
      "#or else I get the wrong result. I am not sure how to just get the picture in the count function\n",
      "#though that would probably be easier...\n",
      "\n",
      "\n",
      "first = requests.get('http://imgsrc.hubblesite.org/hu/db/images/hs-2004-20-a-large_web.jpg')\n",
      "pic_one = Image.open(StringIO(first.content))\n",
      "monochrome(pic_one, 600)\n",
      "print \"first pic threshold 600:\", count(pic_one)\n",
      "\n",
      "first\n",
      "pic_one = Image.open(StringIO(first.content))\n",
      "monochrome(pic_one, 500)\n",
      "print \"first pic threshold 500:\", count(pic_one)\n",
      "\n",
      "\n",
      "\n",
      "\n",
      "second = requests.get('http://imgsrc.hubblesite.org/hu/db/images/hs-1993-13-a-large_web.jpg')\n",
      "pic_two = Image.open(StringIO(second.content))\n",
      "monochrome(pic_two, 600)\n",
      "print \"second pic threshold 600:\", count(pic_two)\n",
      "\n",
      "second\n",
      "pic_two = Image.open(StringIO(second.content))\n",
      "monochrome(pic_two, 500)\n",
      "print \"second pic threshold 500:\", count(pic_two)\n",
      "\n",
      "\n",
      "\n",
      "\n",
      "third = requests.get('http://imgsrc.hubblesite.org/hu/db/images/hs-1995-32-c-full_jpg.jpg')\n",
      "pic_three = Image.open(StringIO(third.content))\n",
      "monochrome(pic_three, 600)\n",
      "print \"third pic threshold 600:\", count(pic_three)\n",
      "\n",
      "third\n",
      "pic_three = Image.open(StringIO(third.content))\n",
      "monochrome(pic_three, 500)\n",
      "print \"third pic threshold 500:\", count(pic_three)\n",
      "\n",
      "\n",
      "\n",
      "\n",
      "fourth = requests.get('http://imgsrc.hubblesite.org/hu/db/images/hs-1993-13-a-large_web.jpg')\n",
      "pic_four = Image.open(StringIO(fourth.content))\n",
      "monochrome(pic_four, 600)\n",
      "print \"fourth pic threshold 600:\", count(pic_four)\n",
      "\n",
      "fourth\n",
      "pic_four = Image.open(StringIO(fourth.content))\n",
      "monochrome(pic_four, 500)\n",
      "print \"fourth pic threshold 500:\", count(pic_four)\n",
      "\n",
      "\n",
      "\n",
      "\n",
      "fifth = requests.get('http://imgsrc.hubblesite.org/hu/db/images/hs-2002-10-c-large_web.jpg')\n",
      "pic_five = Image.open(StringIO(fifth.content))\n",
      "monochrome(pic_five, 600)\n",
      "print \"fifth pic threshold 600:\", count(pic_five)\n",
      "\n",
      "fifth\n",
      "pic_five = Image.open(StringIO(fifth.content))\n",
      "monochrome(pic_five, 500)\n",
      "print \"fifth pic threshold 500:\", count(pic_five)\n",
      "\n",
      "\n",
      "\n",
      "sixth = requests.get('http://imgsrc.hubblesite.org/hu/db/images/hs-1999-30-b-full_jpg.jpg')\n",
      "pic_six = Image.open(StringIO(sixth.content))\n",
      "monochrome(pic_six, 600)\n",
      "print \"sixth pic threshold 600:\", count(pic_six)\n",
      "\n",
      "sixth = requests.get('http://imgsrc.hubblesite.org/hu/db/images/hs-1999-30-b-full_jpg.jpg')\n",
      "pic_six = Image.open(StringIO(sixth.content))\n",
      "monochrome(pic_six, 500)\n",
      "print \"sixth pic threshold 500:\", count(pic_six)\n",
      "\n",
      "'''\n",
      "sixth\n",
      "pic_six = Image.open(StringIO(sixth.content))\n",
      "monochrome(pic_six, 500)\n",
      "print \"sixth pic threshold 500:\", count(pic_six)\n",
      "'''\n",
      "\n",
      "'''\n",
      "Lower thresholds result in higher star counts because it considers more objects to be bright enough to count as stars\n",
      "'''"
     ],
     "language": "python",
     "metadata": {},
     "outputs": [
      {
       "output_type": "stream",
       "stream": "stdout",
       "text": [
        "first pic threshold 600: "
       ]
      },
      {
       "output_type": "stream",
       "stream": "stdout",
       "text": [
        "121\n",
        "first pic threshold 500:"
       ]
      },
      {
       "output_type": "stream",
       "stream": "stdout",
       "text": [
        " 210\n",
        "second pic threshold 600:"
       ]
      },
      {
       "output_type": "stream",
       "stream": "stdout",
       "text": [
        " 72\n",
        "second pic threshold 500:"
       ]
      },
      {
       "output_type": "stream",
       "stream": "stdout",
       "text": [
        " 77\n",
        "third pic threshold 600:"
       ]
      },
      {
       "output_type": "stream",
       "stream": "stdout",
       "text": [
        " 82\n",
        "third pic threshold 500:"
       ]
      },
      {
       "output_type": "stream",
       "stream": "stdout",
       "text": [
        " 117\n",
        "fourth pic threshold 600:"
       ]
      },
      {
       "output_type": "stream",
       "stream": "stdout",
       "text": [
        " 72\n",
        "fourth pic threshold 500:"
       ]
      },
      {
       "output_type": "stream",
       "stream": "stdout",
       "text": [
        " 77\n",
        "fifth pic threshold 600:"
       ]
      },
      {
       "output_type": "stream",
       "stream": "stdout",
       "text": [
        " 246\n",
        "fifth pic threshold 500:"
       ]
      },
      {
       "output_type": "stream",
       "stream": "stdout",
       "text": [
        " 285\n",
        "sixth pic threshold 600:"
       ]
      },
      {
       "output_type": "stream",
       "stream": "stdout",
       "text": [
        " 320\n",
        "sixth pic threshold 500:"
       ]
      },
      {
       "output_type": "stream",
       "stream": "stdout",
       "text": [
        " 355\n"
       ]
      },
      {
       "metadata": {},
       "output_type": "pyout",
       "prompt_number": 10,
       "text": [
        "'\\nLower thresholds result in higher star counts because it considers more objects to be bright enough to count as stars\\n'"
       ]
      }
     ],
     "prompt_number": 10
    },
    {
     "cell_type": "markdown",
     "metadata": {},
     "source": [
      "4. Write a variation on your count function to keep track of the pixels in a given blob and use the brightest pixel in the blob as the \"location\" of the star. Use the data I/O skills we learned to write out a text (not binary) file containing\n",
      "* a header which includes\n",
      "* the link to the image\n",
      "* the threshold value used in the conversion to monochrome\n",
      "* the algorithm used to count its stars\n",
      "* how fast it processed the image\n",
      "* how many stars were found\n",
      "* a description of the data in the subsequent columns\n",
      "* a list of the star data organized in three columns and formatted for easy reading as follows:\n",
      "* location (x,y in pixel units)\n",
      "* maximum brightness value for the star\n",
      "* Apply your function to the six images at the top of the page."
     ]
    },
    {
     "cell_type": "code",
     "collapsed": false,
     "input": [
      "def count(picture):\n",
      "    xsize, ysize = picture.size\n",
      "    temp = picture.load()\n",
      "    result = 0\n",
      "    for x in range(xsize):\n",
      "        for y in range(ysize):\n",
      "            if temp[x,y] == BLACK:\n",
      "                result += 1\n",
      "                fastfill(temp,xsize,ysize,x,y)\n",
      "    print number_of_pixels\n",
      "    return result\n",
      "\n",
      "a = open('StarStats.out', header=?)\n"
     ],
     "language": "python",
     "metadata": {},
     "outputs": [],
     "prompt_number": 12
    },
    {
     "cell_type": "code",
     "collapsed": false,
     "input": [],
     "language": "python",
     "metadata": {},
     "outputs": []
    }
   ],
   "metadata": {}
  }
 ]
}