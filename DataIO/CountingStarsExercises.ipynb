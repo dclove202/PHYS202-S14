{
 "metadata": {
  "name": "",
  "signature": "sha256:8075edf49cc860e80c7ddb2b976c1d1ad5b0f17adb86569695a6658b58be47e2"
 },
 "nbformat": 3,
 "nbformat_minor": 0,
 "worksheets": [
  {
   "cells": [
    {
     "cell_type": "code",
     "collapsed": false,
     "input": [
      "%pylab inline\n",
      "import numpy as np\n",
      "import matplotlib.pyplot as plt\n",
      "from PIL import Image\n",
      "import requests\n",
      "from StringIO import StringIO"
     ],
     "language": "python",
     "metadata": {},
     "outputs": [
      {
       "output_type": "stream",
       "stream": "stdout",
       "text": [
        "Populating the interactive namespace from numpy and matplotlib\n"
       ]
      },
      {
       "output_type": "stream",
       "stream": "stderr",
       "text": [
        "WARNING: pylab import has clobbered these variables: ['fill']\n",
        "`%matplotlib` prevents importing * from pylab and numpy\n"
       ]
      }
     ],
     "prompt_number": 7
    },
    {
     "cell_type": "markdown",
     "metadata": {},
     "source": [
      "1. Modify the fill function so that it never looks at the same pixel twice. There are at least two ways to do this. Name your new function fastfill. The function prototype might look something like this:\n",
      "\n",
      "    def fastfill(picture, xsize, ysize, xstart, ystart):\n",
      "        \"\"\"Faster fill algorithm that doesn't look at any pixel\n",
      "        more than once.\"\"\"\n",
      "Be sure to include comments and add detail to the docstring to describe what it is doing."
     ]
    },
    {
     "cell_type": "code",
     "collapsed": false,
     "input": [
      "def fastfill(picture, xsize, ysize, xstart, ystart):\n",
      "    number_of_pixels=0\n",
      "    queue = [(xstart,ystart)]\n",
      "    while queue:\n",
      "        x,y,queue = queue[0][0], queue[0][1], queue[1:]\n",
      "        if picture[x,y] == BLACK:\n",
      "            picture[x,y] = RED\n",
      "            number_of_pixels+=1\n",
      "        # only run black squares through queue\n",
      "            if x > 0:\n",
      "                if picture[x-1,y] == BLACK:\n",
      "                    queue.append((x-1,y))\n",
      "            if x < (xsize-1):\n",
      "                if picture[x+1,y] == BLACK:\n",
      "                    queue.append((x+1,y))\n",
      "            if y > 0:\n",
      "                if picture[x, y-1] == BLACK:\n",
      "                    queue.append((x, y-1))\n",
      "            if y < (ysize-1):\n",
      "                if picture[x, y+1] == BLACK:\n",
      "                    queue.append((x, y+1))"
     ],
     "language": "python",
     "metadata": {},
     "outputs": [],
     "prompt_number": 8
    },
    {
     "cell_type": "markdown",
     "metadata": {},
     "source": [
      "2. Modify your count function to take another argument - which full function to use - and compare the time it takes to count the stars using the original fill, your improved fastfill, and the recursive recfill."
     ]
    },
    {
     "cell_type": "code",
     "collapsed": false,
     "input": [
      "BLACK = (0,0,0)\n",
      "RED = (255,0,0)\n",
      "def count(picture, fill_func):\n",
      "    xsize, ysize = picture.size\n",
      "    temp = picture.load()\n",
      "    result = 0\n",
      "    for x in range(xsize):\n",
      "        for y in range(ysize):\n",
      "            if temp[x,y] == BLACK:\n",
      "                result += 1\n",
      "                fill_func(temp,xsize,ysize,x,y)\n",
      "    return result\n",
      "\n",
      "def fill(picture, xsize, ysize, xstart, ystart):\n",
      "    \"\"\"keep a list of pixels that need to be looked at, \n",
      "    but haven't yet been filled in - a list of the (x,y) \n",
      "    coordinates of pixels that are neighbors of ones we have \n",
      "    already examined.  Keep looping until there's nothing \n",
      "    left in this list\"\"\"\n",
      "    queue = [(xstart,ystart)]\n",
      "    while queue:\n",
      "        x,y,queue = queue[0][0], queue[0][1], queue[1:]\n",
      "        if picture[x,y] == BLACK:\n",
      "            picture[x,y] = RED\n",
      "            if x > 0:\n",
      "                queue.append((x-1,y))\n",
      "            if x < (xsize-1):\n",
      "                queue.append((x+1,y))\n",
      "            if y > 0:\n",
      "                queue.append((x, y-1))\n",
      "            if y < (ysize-1):\n",
      "                queue.append((x, y+1))\n",
      "                \n",
      "def fillrec(picture, xsize, ysize, x, y):\n",
      "    ''' each call to fillrec takes care of one pixel,\n",
      "    then calls fillrec again to take care of the beighbors'''\n",
      "    if picture[x,y] != BLACK:\n",
      "        return\n",
      "    picture[x,y] = RED\n",
      "    if x > 0:\n",
      "        fillrec(picture, xsize, ysize, x-1, y)\n",
      "    if x < (xsize-1):\n",
      "        fillrec(picture, xsize, ysize, x+1, y)\n",
      "    if y > 0:\n",
      "        fillrec(picture, xsize, ysize, x, y-1)\n",
      "    if y < (ysize-1):\n",
      "        fillrec(picture, xsize, ysize, x, y+1)\n",
      "\n",
      "from time import time\n",
      "def elapsed(func, picture, fill_func):\n",
      "    start = time()\n",
      "    result = func(picture, fill_func)\n",
      "    return time() - start, result\n",
      "\n",
      "def monochrome(picture, threshold):\n",
      "    \"\"\"loops over the pixels in the loaded image, \n",
      "    replacing the RGB values of each with either \n",
      "    black or white depending on whether its total \n",
      "    luminance is above or below some threshold \n",
      "    passed in by the user\"\"\"\n",
      "    black = (0, 0, 0)\n",
      "    white = (255, 255, 255)\n",
      "    xsize, ysize = picture.size\n",
      "    temp = picture.load()\n",
      "    for x in range(xsize):\n",
      "        for y in range(ysize):\n",
      "            r,g,b = temp[x,y]\n",
      "            if r+g+b >= threshold: \n",
      "                temp[x,y] = black\n",
      "            else:\n",
      "                temp[x,y] = white\n",
      "\n",
      "\n",
      "#resetting picture\n",
      "bwpic = Image.open(StringIO(response.content))\n",
      "monochrome(bwpic, 200+200+200)\n",
      "print \"fillrec -->\", elapsed(count, bwpic, fillrec)\n",
      "\n",
      "response = requests.get('http://imgsrc.hubblesite.org/hu/db/images/hs-2004-20-a-large_web.jpg')\n",
      "bwpic = Image.open(StringIO(response.content))\n",
      "monochrome(bwpic, 200+200+200)\n",
      "print \"fill -->\", elapsed(count, bwpic, fill)\n",
      "\n",
      "#resetting picture\n",
      "bwpic = Image.open(StringIO(response.content))\n",
      "monochrome(bwpic, 200+200+200)\n",
      "print \"fastfill -->\", elapsed(count, bwpic, fastfill)"
     ],
     "language": "python",
     "metadata": {},
     "outputs": [
      {
       "output_type": "stream",
       "stream": "stdout",
       "text": [
        "fillrec --> "
       ]
      },
      {
       "output_type": "stream",
       "stream": "stdout",
       "text": [
        "(0.16837787628173828, 121)\n",
        "fill -->"
       ]
      },
      {
       "output_type": "stream",
       "stream": "stdout",
       "text": [
        " (0.2008991241455078, 121)\n",
        "fastfill -->"
       ]
      },
      {
       "output_type": "stream",
       "stream": "stdout",
       "text": [
        " (0.19728899002075195, 121)\n"
       ]
      }
     ],
     "prompt_number": 9
    },
    {
     "cell_type": "markdown",
     "metadata": {},
     "source": [
      "3. Use the fastest algorithm from question 2 to count the stars above a threshold in all of the images listed at the top of the page. How does the count for each image change if you lower the threshold from 600 to 500? Comment on any changes to the count. Why do they happen?"
     ]
    },
    {
     "cell_type": "code",
     "collapsed": false,
     "input": [
      "\n",
      "#when I ran the functions fillrec's time was .183, fill was .1899, and fastfill was .176\n",
      "\n",
      "#putting fastest fill function (fastfill) permanently into count function for simplicity\n",
      "\n",
      "\n",
      "\n",
      "def count(picture):\n",
      "    xsize, ysize = picture.size\n",
      "    temp = picture.load()\n",
      "    result = 0\n",
      "    for x in range(xsize):\n",
      "        for y in range(ysize):\n",
      "            if temp[x,y] == BLACK:\n",
      "                result += 1\n",
      "                fastfill(temp,xsize,ysize,x,y)\n",
      "    return result\n",
      "\n",
      "#getting pictures, for some reason I have to redefine the picture each time before counting the stars \n",
      "#or else I get the wrong result. I am not sure how to just get the picture in the count function\n",
      "#though that would probably be easier...\n",
      "\n",
      "\n",
      "first = requests.get('http://imgsrc.hubblesite.org/hu/db/images/hs-2004-20-a-large_web.jpg')\n",
      "pic_one = Image.open(StringIO(first.content))\n",
      "monochrome(pic_one, 600)\n",
      "print \"first pic threshold 600:\", count(pic_one)\n",
      "\n",
      "first\n",
      "pic_one = Image.open(StringIO(first.content))\n",
      "monochrome(pic_one, 500)\n",
      "print \"first pic threshold 500:\", count(pic_one)\n",
      "\n",
      "\n",
      "\n",
      "\n",
      "second = requests.get('http://imgsrc.hubblesite.org/hu/db/images/hs-1993-13-a-large_web.jpg')\n",
      "pic_two = Image.open(StringIO(second.content))\n",
      "monochrome(pic_two, 600)\n",
      "print \"second pic threshold 600:\", count(pic_two)\n",
      "\n",
      "second\n",
      "pic_two = Image.open(StringIO(second.content))\n",
      "monochrome(pic_two, 500)\n",
      "print \"second pic threshold 500:\", count(pic_two)\n",
      "\n",
      "\n",
      "\n",
      "\n",
      "third = requests.get('http://imgsrc.hubblesite.org/hu/db/images/hs-1995-32-c-full_jpg.jpg')\n",
      "pic_three = Image.open(StringIO(third.content))\n",
      "monochrome(pic_three, 600)\n",
      "print \"third pic threshold 600:\", count(pic_three)\n",
      "\n",
      "third\n",
      "pic_three = Image.open(StringIO(third.content))\n",
      "monochrome(pic_three, 500)\n",
      "print \"third pic threshold 500:\", count(pic_three)\n",
      "\n",
      "\n",
      "\n",
      "\n",
      "fourth = requests.get('http://imgsrc.hubblesite.org/hu/db/images/hs-1993-13-a-large_web.jpg')\n",
      "pic_four = Image.open(StringIO(fourth.content))\n",
      "monochrome(pic_four, 600)\n",
      "print \"fourth pic threshold 600:\", count(pic_four)\n",
      "\n",
      "fourth\n",
      "pic_four = Image.open(StringIO(fourth.content))\n",
      "monochrome(pic_four, 500)\n",
      "print \"fourth pic threshold 500:\", count(pic_four)\n",
      "\n",
      "\n",
      "\n",
      "\n",
      "fifth = requests.get('http://imgsrc.hubblesite.org/hu/db/images/hs-2002-10-c-large_web.jpg')\n",
      "pic_five = Image.open(StringIO(fifth.content))\n",
      "monochrome(pic_five, 600)\n",
      "print \"fifth pic threshold 600:\", count(pic_five)\n",
      "\n",
      "fifth\n",
      "pic_five = Image.open(StringIO(fifth.content))\n",
      "monochrome(pic_five, 500)\n",
      "print \"fifth pic threshold 500:\", count(pic_five)\n",
      "\n",
      "\n",
      "\n",
      "sixth = requests.get('http://imgsrc.hubblesite.org/hu/db/images/hs-1999-30-b-full_jpg.jpg')\n",
      "pic_six = Image.open(StringIO(sixth.content))\n",
      "monochrome(pic_six, 600)\n",
      "print \"sixth pic threshold 600:\", count(pic_six)\n",
      "\n",
      "sixth = requests.get('http://imgsrc.hubblesite.org/hu/db/images/hs-1999-30-b-full_jpg.jpg')\n",
      "pic_six = Image.open(StringIO(sixth.content))\n",
      "monochrome(pic_six, 500)\n",
      "print \"sixth pic threshold 500:\", count(pic_six)\n",
      "\n",
      "'''\n",
      "sixth\n",
      "pic_six = Image.open(StringIO(sixth.content))\n",
      "monochrome(pic_six, 500)\n",
      "print \"sixth pic threshold 500:\", count(pic_six)\n",
      "'''\n",
      "\n",
      "'''\n",
      "Lower thresholds result in higher star counts because it considers more objects to be bright enough to count as stars\n",
      "'''"
     ],
     "language": "python",
     "metadata": {},
     "outputs": [
      {
       "output_type": "stream",
       "stream": "stdout",
       "text": [
        "first pic threshold 600: "
       ]
      },
      {
       "output_type": "stream",
       "stream": "stdout",
       "text": [
        "121\n",
        "first pic threshold 500:"
       ]
      },
      {
       "output_type": "stream",
       "stream": "stdout",
       "text": [
        " 210\n",
        "second pic threshold 600:"
       ]
      },
      {
       "output_type": "stream",
       "stream": "stdout",
       "text": [
        " 72\n",
        "second pic threshold 500:"
       ]
      },
      {
       "output_type": "stream",
       "stream": "stdout",
       "text": [
        " 77\n",
        "third pic threshold 600:"
       ]
      },
      {
       "output_type": "stream",
       "stream": "stdout",
       "text": [
        " 82\n",
        "third pic threshold 500:"
       ]
      },
      {
       "output_type": "stream",
       "stream": "stdout",
       "text": [
        " 117\n",
        "fourth pic threshold 600:"
       ]
      },
      {
       "output_type": "stream",
       "stream": "stdout",
       "text": [
        " 72\n",
        "fourth pic threshold 500:"
       ]
      },
      {
       "output_type": "stream",
       "stream": "stdout",
       "text": [
        " 77\n",
        "fifth pic threshold 600:"
       ]
      },
      {
       "output_type": "stream",
       "stream": "stdout",
       "text": [
        " 246\n",
        "fifth pic threshold 500:"
       ]
      },
      {
       "output_type": "stream",
       "stream": "stdout",
       "text": [
        " 285\n",
        "sixth pic threshold 600:"
       ]
      },
      {
       "output_type": "stream",
       "stream": "stdout",
       "text": [
        " 320\n",
        "sixth pic threshold 500:"
       ]
      },
      {
       "output_type": "stream",
       "stream": "stdout",
       "text": [
        " 355\n"
       ]
      },
      {
       "metadata": {},
       "output_type": "pyout",
       "prompt_number": 10,
       "text": [
        "'\\nLower thresholds result in higher star counts because it considers more objects to be bright enough to count as stars\\n'"
       ]
      }
     ],
     "prompt_number": 10
    },
    {
     "cell_type": "markdown",
     "metadata": {},
     "source": [
      "4. Write a variation on your count function to keep track of the pixels in a given blob and use the brightest pixel in the blob as the \"location\" of the star. Use the data I/O skills we learned to write out a text (not binary) file containing\n",
      "* a header which includes\n",
      "* the link to the image\n",
      "* the threshold value used in the conversion to monochrome\n",
      "* the algorithm used to count its stars\n",
      "* how fast it processed the image\n",
      "* how many stars were found\n",
      "* a description of the data in the subsequent columns\n",
      "* a list of the star data organized in three columns and formatted for easy reading as follows:\n",
      "* location (x,y in pixel units)\n",
      "* maximum brightness value for the star\n",
      "* Apply your function to the six images at the top of the page."
     ]
    },
    {
     "cell_type": "code",
     "collapsed": false,
     "input": [
      "def count(picture):\n",
      "    xsize, ysize = picture.size\n",
      "    temp = picture.load()\n",
      "    result = 0\n",
      "    for x in range(xsize):\n",
      "        for y in range(ysize):\n",
      "            if temp[x,y] == BLACK:\n",
      "                result += 1\n",
      "                fastfill(temp,xsize,ysize,x,y)\n",
      "    print number_of_pixels\n",
      "    return result\n",
      "\n",
      "a = open('StarStats.out', header=?)\n"
     ],
     "language": "python",
     "metadata": {},
     "outputs": [],
     "prompt_number": 12
    },
    {
     "cell_type": "code",
     "collapsed": false,
     "input": [],
     "language": "python",
     "metadata": {},
     "outputs": []
    }
   ],
   "metadata": {}
  }
 ]
}