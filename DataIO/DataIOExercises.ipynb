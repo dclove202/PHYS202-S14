{
 "metadata": {
  "name": "",
  "signature": "sha256:0dd25c7d6f946e59a63346303cf76e918f680dea05dcecbe406c6531957b21d4"
 },
 "nbformat": 3,
 "nbformat_minor": 0,
 "worksheets": [
  {
   "cells": [
    {
     "cell_type": "heading",
     "level": 1,
     "metadata": {},
     "source": [
      "Data I/O Exercises"
     ]
    },
    {
     "cell_type": "code",
     "collapsed": false,
     "input": [
      "%pylab inline\n",
      "import numpy as np"
     ],
     "language": "python",
     "metadata": {},
     "outputs": [
      {
       "output_type": "stream",
       "stream": "stdout",
       "text": [
        "Populating the interactive namespace from numpy and matplotlib\n"
       ]
      },
      {
       "output_type": "stream",
       "stream": "stderr",
       "text": [
        "WARNING: pylab import has clobbered these variables: ['f', 'random']\n",
        "`%matplotlib` prevents importing * from pylab and numpy\n"
       ]
      }
     ],
     "prompt_number": 117
    },
    {
     "cell_type": "markdown",
     "metadata": {},
     "source": [
      "1. Here is some code that creates a comma-delimited file of numbers with random precision, leading spaces, and formatting:"
     ]
    },
    {
     "cell_type": "code",
     "collapsed": false,
     "input": [
      "f = open('messy_data.dat', 'w')\n",
      "import random\n",
      "for i in range(100):\n",
      "    for j in range(5):\n",
      "        f.write(' ' * random.randint(0, 6))\n",
      "        f.write('%0*.*g' % (random.randint(8, 12),\n",
      "                            random.randint(5, 10),\n",
      "                            100 * random.random()))\n",
      "        if j != 4:\n",
      "            f.write(',')\n",
      "    f.write('\\n')\n",
      "f.close()"
     ],
     "language": "python",
     "metadata": {},
     "outputs": [],
     "prompt_number": 118
    },
    {
     "cell_type": "code",
     "collapsed": false,
     "input": [
      "!head -4 messy_data.dat"
     ],
     "language": "python",
     "metadata": {},
     "outputs": [
      {
       "output_type": "stream",
       "stream": "stdout",
       "text": [
        "     43.72933446,58.5596344,    8.84891263,64.8261421,    0090.353311\r\n",
        " 67.259236,   000078.0639,     065.812083,      072.308253,   4.2889706\r\n",
        "   48.47682,    0055.918086,  00046.5494,     083.7741, 00003.5625\r\n",
        "00012.1373, 0000083.0012,  0065.005,      0040.974843,    00053.2985\r\n"
       ]
      }
     ],
     "prompt_number": 134
    },
    {
     "cell_type": "markdown",
     "metadata": {},
     "source": [
      "\n",
      "(a) Write a program that reads in the contents of \"messy_data.dat\" and extracts the numbers from each line, using the string manipulations we used in section 1 (remember that float() will convert a suitable string to a floating-point number)."
     ]
    },
    {
     "cell_type": "code",
     "collapsed": false,
     "input": [
      "f = open('messy_data.dat')\n",
      "for line in f:\n",
      "    line.split()\n",
      "for i in f:\n",
      "    (float(f))\n",
      "f.close()"
     ],
     "language": "python",
     "metadata": {},
     "outputs": [],
     "prompt_number": 120
    },
    {
     "cell_type": "markdown",
     "metadata": {},
     "source": [
      "(c) Now re-do the same task using NumPy's loadtxt and savetxt functions."
     ]
    },
    {
     "cell_type": "code",
     "collapsed": false,
     "input": [
      "list1 = []\n",
      "\n",
      "for line in open('messy_data.dat'):\n",
      "    spiffy = line.split()\n",
      "    list1.append(spiffy)\n",
      "\n",
      "data_array = np.array(list1)\n",
      "\n"
     ],
     "language": "python",
     "metadata": {},
     "outputs": [],
     "prompt_number": 144
    },
    {
     "cell_type": "code",
     "collapsed": false,
     "input": [
      "contents = open('messy_data.dat').read()\n",
      "c = open('clean_data.dat', 'w')\n",
      "data_array\n",
      "c.write(contents.replace(',',' '))\n",
      "c.write(contents.replace(' ',''))\n",
      "c.close"
     ],
     "language": "python",
     "metadata": {},
     "outputs": [
      {
       "metadata": {},
       "output_type": "pyout",
       "prompt_number": 133,
       "text": [
        "<function close>"
       ]
      }
     ],
     "prompt_number": 133
    },
    {
     "cell_type": "code",
     "collapsed": false,
     "input": [
      "c\n",
      "np.genfromtxt('clean_data.dat', unpack=True, delimiter=',', usecols=[0])\n"
     ],
     "language": "python",
     "metadata": {},
     "outputs": [
      {
       "metadata": {},
       "output_type": "pyout",
       "prompt_number": 156,
       "text": [
        "array([         nan,          nan,          nan,          nan,\n",
        "                nan,          nan,          nan,          nan,\n",
        "                nan,          nan,          nan,          nan,\n",
        "                nan,          nan,          nan,          nan,\n",
        "                nan,          nan,          nan,          nan,\n",
        "                nan,          nan,          nan,          nan,\n",
        "                nan,          nan,          nan,          nan,\n",
        "                nan,          nan,          nan,          nan,\n",
        "                nan,          nan,          nan,          nan,\n",
        "                nan,          nan,          nan,          nan,\n",
        "                nan,          nan,          nan,          nan,\n",
        "                nan,          nan,          nan,          nan,\n",
        "                nan,          nan,          nan,          nan,\n",
        "                nan,          nan,          nan,          nan,\n",
        "                nan,          nan,          nan,          nan,\n",
        "                nan,          nan,          nan,          nan,\n",
        "                nan,          nan,          nan,          nan,\n",
        "                nan,          nan,          nan,          nan,\n",
        "                nan,          nan,          nan,          nan,\n",
        "                nan,          nan,          nan,          nan,\n",
        "                nan,          nan,          nan,          nan,\n",
        "                nan,          nan,          nan,          nan,\n",
        "                nan,          nan,          nan,          nan,\n",
        "                nan,          nan,          nan,          nan,\n",
        "                nan,          nan,          nan,          nan,\n",
        "        43.72933446,  67.259236  ,  48.47682   ,  12.1373    ,\n",
        "        65.925     ,   8.4842938 ,  83.1391438 ,  45.4274    ,\n",
        "        77.8989878 ,  49.99142817,  82.0667196 ,  21.45449245,\n",
        "        21.06059583,  75.6457    ,  29.905177  ,  68.7935108 ,\n",
        "         5.54999937,  27.61649   ,  95.8256974 ,  87.1802    ,\n",
        "        60.046     ,  37.2742265 ,  87.68113   ,  73.33904   ,\n",
        "         3.365491  ,  28.0048512 ,  78.73017   ,  70.79569   ,\n",
        "        33.281957  ,  22.48859432,  84.40635372,  89.98910511,\n",
        "        32.48903   ,  52.22965211,  15.70078   ,  80.022738  ,\n",
        "        77.602384  ,  10.242     ,   9.10240358,  50.18082   ,\n",
        "        36.8881835 ,  68.488237  ,  89.366     ,   3.634619  ,\n",
        "        94.6708493 ,  46.41789   ,  77.7378397 ,  98.78626   ,\n",
        "        97.2489    ,  41.743     ,  63.244     ,  71.40586   ,\n",
        "        77.1534997 ,  38.2021    ,  13.7318    ,  17.7093    ,\n",
        "        34.89259896,  86.87484937,  25.0348453 ,  93.089553  ,\n",
        "         2.011379  ,  76.214     ,  12.35089211,  71.8259    ,\n",
        "         7.16834   ,  71.6065    ,  19.5964249 ,  49.903     ,\n",
        "        60.76828   ,  87.0844    ,  69.0565    ,  84.34571   ,\n",
        "        91.9041    ,  32.702278  ,  84.76384869,   7.51178   ,\n",
        "        45.5815741 ,  63.3014763 ,  85.5999    ,  82.211349  ,\n",
        "        12.47679986,  49.30258   ,  33.1434    ,  33.3625258 ,\n",
        "        50.7121    ,   4.965     ,  76.9822    ,  47.0953537 ,\n",
        "        64.572     ,  12.723457  ,  54.256412  ,  17.6097    ])"
       ]
      }
     ],
     "prompt_number": 156
    },
    {
     "cell_type": "code",
     "collapsed": false,
     "input": [],
     "language": "python",
     "metadata": {},
     "outputs": [],
     "prompt_number": 155
    },
    {
     "cell_type": "markdown",
     "metadata": {},
     "source": []
    },
    {
     "cell_type": "code",
     "collapsed": false,
     "input": [],
     "language": "python",
     "metadata": {},
     "outputs": [],
     "prompt_number": 124
    },
    {
     "cell_type": "markdown",
     "metadata": {},
     "source": []
    },
    {
     "cell_type": "code",
     "collapsed": false,
     "input": [],
     "language": "python",
     "metadata": {},
     "outputs": [],
     "prompt_number": 124
    },
    {
     "cell_type": "code",
     "collapsed": false,
     "input": [],
     "language": "python",
     "metadata": {},
     "outputs": [],
     "prompt_number": 124
    }
   ],
   "metadata": {}
  }
 ]
}