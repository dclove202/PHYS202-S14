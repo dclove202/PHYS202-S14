{
 "metadata": {
  "name": "",
  "signature": "sha256:e93fbaa66251cc726c163f6e3d1b65fda9aa474f26299ab73eb2179e0c362806"
 },
 "nbformat": 3,
 "nbformat_minor": 0,
 "worksheets": [
  {
   "cells": [
    {
     "cell_type": "heading",
     "level": 1,
     "metadata": {},
     "source": [
      "Data I/O Exercises"
     ]
    },
    {
     "cell_type": "heading",
     "level": 2,
     "metadata": {},
     "source": [
      "Solutions"
     ]
    },
    {
     "cell_type": "code",
     "collapsed": false,
     "input": [
      "%pylab inline\n",
      "import numpy as np"
     ],
     "language": "python",
     "metadata": {},
     "outputs": [
      {
       "output_type": "stream",
       "stream": "stdout",
       "text": [
        "Populating the interactive namespace from numpy and matplotlib\n"
       ]
      }
     ],
     "prompt_number": 1
    },
    {
     "cell_type": "code",
     "collapsed": false,
     "input": [
      "# Don't modify this: it simply writes the example file\n",
      "f = open('messy_data.dat', 'w')\n",
      "import random\n",
      "for i in range(100):\n",
      "    for j in range(5):\n",
      "        f.write(' ' * random.randint(0, 6))\n",
      "        f.write('%0*.*g' % (random.randint(8, 12),\n",
      "                            random.randint(5, 10),\n",
      "                            100 * random.random()))\n",
      "        if j != 4:\n",
      "            f.write(',')\n",
      "    f.write('\\n')\n",
      "f.close()"
     ],
     "language": "python",
     "metadata": {},
     "outputs": [],
     "prompt_number": 2
    },
    {
     "cell_type": "code",
     "collapsed": false,
     "input": [
      "# Look at the first four lines of the file:\n",
      "!head -4 messy_data.dat"
     ],
     "language": "python",
     "metadata": {},
     "outputs": [
      {
       "output_type": "stream",
       "stream": "stdout",
       "text": [
        "    0092.8111,     00000043.414,    27.95168,     80.76568,  11.440147\r\n",
        "   27.851162,29.8182875,      00000047.123,  66.45265989,    00067.11879\r\n",
        "    000046.47, 37.737522,  00094.818,   66.4091677, 0051.2292\r\n",
        "     000030.79269,    38.11152166,    57.11223353,      0000028.8342, 0016.79798\r\n"
       ]
      }
     ],
     "prompt_number": 3
    },
    {
     "cell_type": "code",
     "collapsed": false,
     "input": [
      "#read lines as floats and split at commas\n",
      "for line in open('messy_data.dat'):\n",
      "    for item in line.split(','):\n",
      "        print float(item),\n",
      "        print '   ',\n",
      "    print ' '"
     ],
     "language": "python",
     "metadata": {},
     "outputs": [
      {
       "output_type": "stream",
       "stream": "stdout",
       "text": [
        "92.8111     43.414     27.95168     80.76568     11.440147      \n",
        "27.851162     29.8182875     47.123     66.45265989     67.11879      \n",
        "46.47     37.737522     94.818     66.4091677     51.2292      \n",
        "30.79269     38.11152166     57.11223353     28.8342     16.79798      \n",
        "81.6717223     78.74853     98.41312     71.643     66.67936961      \n",
        "7.5142249     61.815     58.2892399     63.3817051     19.1894931      \n",
        "98.668     32.122312     58.077     43.76521     86.08595      \n",
        "91.0094648     3.554714612     8.61075371     36.4339     93.77351736      \n",
        "55.1349917     76.443     22.176741     85.725     92.5844021      \n",
        "66.2571     79.8429     21.39257     96.982607     55.69581148      \n",
        "72.238     10.9268502     6.40172189     21.5475     55.5452      \n",
        "88.3608671     77.740938     96.6071551     63.995975     10.56408      \n",
        "18.02     12.123     78.1872846     83.58781147     67.7750908      \n",
        "95.672     56.6786343     67.5184514     43.4903089     77.2637      \n",
        "0.8743643     13.572     76.98461     96.1324554     76.1614982      \n",
        "51.64933605     83.359     14.370015     37.26374     87.875134      \n",
        "88.23444     1.32974     60.88577736     52.84454994     26.98951      \n",
        "94.3374     41.56793     3.714542946     94.83023388     3.3044353      \n",
        "2.598511     59.949744     89.3722     97.074     26.803      \n",
        "99.33748     55.11077     46.926522     42.674     36.6875      \n",
        "99.841     51.5515     7.04566988     58.8653326     22.4804      \n",
        "37.8457204     93.09807285     44.5662     33.77337     29.68653      \n",
        "33.948     59.429     48.47754     30.89596     98.993161      \n",
        "81.764308     2.719881119     72.3938361     23.951534     3.8979      \n",
        "7.1033974     55.1163565     59.1306     95.89733     87.6172      \n",
        "59.155     63.1331     46.073     29.271     72.639973      \n",
        "68.7385     71.833936     81.590131     59.5842793     1.4015      \n",
        "11.276     35.44443     17.6692596     45.263905     49.20752985      \n",
        "71.0757284     13.0873055     61.7697134     55.4226     88.94777      \n",
        "97.94607939     31.848     82.43823     87.61567099     74.15921      \n",
        "99.053     4.4925     65.5728     30.2782063     18.73073      \n",
        "0.13260837     59.45838     3.859252668     25.42780232     42.7027      \n",
        "35.6045     80.20489496     4.039743     7.3763     24.2369      \n",
        "27.84621     82.07793377     58.56163051     36.1480493     75.2937      \n",
        "28.82154     2.011734863     19.9546933     55.294     17.90223417      \n",
        "68.49714458     15.987     84.5426135     93.4621723     24.3087539      \n",
        "52.392     86.293     89.42596671     10.4714     21.263989      \n",
        "16.301     53.33852     88.653     54.106122     55.4576105      \n",
        "93.0327     13.272     99.1237     12.85976     57.911638      \n",
        "64.112     85.53266749     51.70863637     17.2916942     72.23049      \n",
        "79.91259     35.16422695     47.213     53.98068558     99.97949075      \n",
        "8.34776     80.521     99.12602     92.6940563     20.10084      \n",
        "2.68850877     81.81262772     25.95465     45.392458     65.606519      \n",
        "24.4588094     54.936     23.924075     91.932436     49.42723795      \n",
        "61.78540281     3.940122847     69.55908     35.67310184     19.864834      \n",
        "34.137     75.0989807     90.737     74.519     41.50541884      \n",
        "40.6242     77.36967     29.6685522     77.31995     48.675128      \n",
        "93.500865     59.655     70.4487     55.5716563     3.9762526      \n",
        "39.596     85.868912     42.418     52.99727474     29.3432      \n",
        "51.79744     8.12608355     50.8388824     26.36813     3.52552      \n",
        "12.8712     92.20804     15.3327234     36.40984     20.6637792      \n",
        "19.09806897     96.8742     38.09727     41.609     61.255      \n",
        "70.11152     58.10793     61.29203     84.0626     81.30273      \n",
        "89.761     22.647     49.68552     2.49645     25.93348      \n",
        "25.51955     73.383309     49.7181     2.67345     31.0902285      \n",
        "52.83153532     69.09742     85.867729     3.951632     24.424      \n",
        "44.578     57.18300058     53.761     35.4134836     39.805      \n",
        "46.0296     67.375365     39.459     71.329204     65.1253      \n",
        "0.096269     57.4292753     79.2209     74.12298     11.69141      \n",
        "25.274     31.5734     20.602898     69.192711     48.621      \n",
        "21.94509     38.0212     78.0110191     77.819     2.9605      \n",
        "88.65579667     45.792     85.946     30.38354699     4.67621629      \n",
        "33.1060251     83.65038     75.00386     91.801     6.0092      \n",
        "38.794     20.78860869     64.4220304     9.672698761     12.4466648      \n",
        "57.839     14.781139     42.7296     52.9769     12.780254      \n",
        "49.8002308     40.612     35.37599     82.0357599     93.08064713      \n",
        "78.9254503     80.2780021     51.4164     58.122571     5.57708719      \n",
        "47.4287915     87.76210026     71.4714403     23.62983065     41.1397      \n",
        "82.04475     74.47433     53.08415     90.198     67.61337359      \n",
        "20.1435136     80.03161045     76.2079491     32.2766     32.341      \n",
        "53.742828     92.48291     78.08793     19.8584154     61.727      \n",
        "71.2528051     39.1169441     9.797971869     0.624243794     49.7652      \n",
        "7.259942     67.5881     40.129257     51.4301     30.990582      \n",
        "46.2884783     17.2257     30.274     19.2944     36.808772      \n",
        "90.948547     12.90271999     54.252     38.29338     36.74601002      \n",
        "19.566     72.8013     28.98935632     95.030811     9.858086      \n",
        "68.09570611     45.996087     66.17336222     75.610414     5.63963      \n",
        "10.107     42.057011     2.825740604     24.773     9.59659997      \n",
        "63.63036     97.1456     36.2802     42.76256     54.6482      \n",
        "65.08755399     69.30839     28.6744     7.78515188     62.333191      \n",
        "66.146     42.50758     24.09376     50.90524     88.081998      \n",
        "38.305     89.137     89.73088     9.88158171     61.5061      \n",
        "84.25192     8.3977     77.04628119     64.239     60.77385521      \n",
        "13.14384696     8.01793     60.6171963     50.50084751     63.08473      \n",
        "62.315039     24.23     11.34446     46.305291     57.98367      \n",
        "51.2906005     1.67459     80.414     68.380668     7.777334      \n",
        "95.47483     76.32261     22.445667     24.8292     90.428      \n",
        "35.4388     75.9516     23.9007918     0.976303     42.48102      \n",
        "58.8897     56.5198675     54.35633     3.250486907     49.07100705      \n",
        "7.707     45.28925857     51.590104     30.10915368     91.0988818      \n",
        "2.323569123     56.963916     88.332319     71.922     30.5368      \n",
        "86.60295     17.44     76.45023     12.19336     21.136      \n",
        "70.041     90.9513247     30.76038     41.8259284     1.968453      \n",
        "77.63679609     51.9593987     1.87479     56.4768992     76.1027651      \n",
        "92.6400342     56.22536306     28.7557     28.342979     57.42395812      \n",
        "40.768627     38.4499133     24.62552944     99.076149     63.782799      \n",
        "7.640713711     29.6742221     68.56410944     97.2816     88.281032      \n",
        "77.73029043     3.59548     29.1723543     99.4320846     54.67884196      \n",
        "59.304679     40.273     8.83202     56.21226505     18.87344712      \n",
        "45.692     37.6622     26.9173     95.7881495     1.029911      \n"
       ]
      }
     ],
     "prompt_number": 4
    },
    {
     "cell_type": "code",
     "collapsed": false,
     "input": [
      "#Writing Clean Data\n",
      "fout = open('clean_data.dat', 'w')\n",
      "for line in open('messy_data.dat'):\n",
      "    for item in line.split(','):\n",
      "        fout.write('%8.5f'%float(item))\n",
      "        fout.write('\\t')\n",
      "    fout.write('\\n')\n",
      "fout.close()\n",
      "\n",
      "!head -5  clean_data.dat"
     ],
     "language": "python",
     "metadata": {},
     "outputs": [
      {
       "output_type": "stream",
       "stream": "stdout",
       "text": [
        "40.43510\t76.91615\t30.97817\t72.48930\t77.46367\t\r\n",
        "87.83600\t53.81370\t93.51400\t96.51223\t41.73308\t\r\n",
        "61.69940\t39.98650\t27.62700\t92.61838\t71.81830\t\r\n",
        "62.95250\t60.05578\t10.77127\t87.29726\t50.15000\t\r\n",
        "88.18980\t29.67761\t87.67930\t47.81721\t32.50391\t\r\n"
       ]
      }
     ],
     "prompt_number": 18
    },
    {
     "cell_type": "code",
     "collapsed": false,
     "input": [
      "#Doin it with NumPy\n",
      "data = np.loadtxt(\"messy_data.dat\", delimiter=',')\n",
      "np.savetxt(\"clean_data.dat\", data, delimiter='\\t', fmt=\"%8.5f\")"
     ],
     "language": "python",
     "metadata": {},
     "outputs": [],
     "prompt_number": 6
    },
    {
     "cell_type": "heading",
     "level": 2,
     "metadata": {},
     "source": [
      "My Messed Up Attempt"
     ]
    },
    {
     "cell_type": "code",
     "collapsed": false,
     "input": [
      "%pylab inline\n",
      "import numpy as np"
     ],
     "language": "python",
     "metadata": {},
     "outputs": [
      {
       "output_type": "stream",
       "stream": "stdout",
       "text": [
        "Populating the interactive namespace from numpy and matplotlib\n"
       ]
      },
      {
       "output_type": "stream",
       "stream": "stderr",
       "text": [
        "WARNING: pylab import has clobbered these variables: ['f', 'random']\n",
        "`%matplotlib` prevents importing * from pylab and numpy\n"
       ]
      }
     ],
     "prompt_number": 7
    },
    {
     "cell_type": "markdown",
     "metadata": {},
     "source": [
      "1. Here is some code that creates a comma-delimited file of numbers with random precision, leading spaces, and formatting:"
     ]
    },
    {
     "cell_type": "code",
     "collapsed": false,
     "input": [
      "f = open('messy_data.dat', 'w')\n",
      "import random\n",
      "for i in range(100):\n",
      "    for j in range(5):\n",
      "        f.write(' ' * random.randint(0, 6))\n",
      "        f.write('%0*.*g' % (random.randint(8, 12),\n",
      "                            random.randint(5, 10),\n",
      "                            100 * random.random()))\n",
      "        if j != 4:\n",
      "            f.write(',')\n",
      "    f.write('\\n')\n",
      "f.close()"
     ],
     "language": "python",
     "metadata": {},
     "outputs": [],
     "prompt_number": 8
    },
    {
     "cell_type": "code",
     "collapsed": false,
     "input": [
      "!head -4 messy_data.dat"
     ],
     "language": "python",
     "metadata": {},
     "outputs": [
      {
       "output_type": "stream",
       "stream": "stdout",
       "text": [
        "      00040.4351,  76.916148,      30.9781699,    000072.4893,077.463671\r\n",
        "   000087.836,      0000053.8137,   0000093.514,     96.51222895,   00041.733083\r\n",
        "   00061.6994, 00039.9865, 00027.627,    92.6183824,  0071.8183\r\n",
        "  62.95249695,60.05577868,    00010.77127,      87.29726377,      000000050.15\r\n"
       ]
      }
     ],
     "prompt_number": 9
    },
    {
     "cell_type": "markdown",
     "metadata": {},
     "source": [
      "\n",
      "(a) Write a program that reads in the contents of \"messy_data.dat\" and extracts the numbers from each line, using the string manipulations we used in section 1 (remember that float() will convert a suitable string to a floating-point number)."
     ]
    },
    {
     "cell_type": "code",
     "collapsed": false,
     "input": [
      "f = open('messy_data.dat')\n",
      "for line in f:\n",
      "    line.split()\n",
      "for i in f:\n",
      "    (float(f))\n",
      "f.close()"
     ],
     "language": "python",
     "metadata": {},
     "outputs": [],
     "prompt_number": 10
    },
    {
     "cell_type": "markdown",
     "metadata": {},
     "source": [
      "(c) Now re-do the same task using NumPy's loadtxt and savetxt functions."
     ]
    },
    {
     "cell_type": "code",
     "collapsed": false,
     "input": [
      "list1 = []\n",
      "\n",
      "for line in open('messy_data.dat'):\n",
      "    spiffy = line.split()\n",
      "    list1.append(spiffy)\n",
      "\n",
      "data_array = np.array(list1)\n",
      "\n"
     ],
     "language": "python",
     "metadata": {},
     "outputs": [],
     "prompt_number": 11
    },
    {
     "cell_type": "code",
     "collapsed": false,
     "input": [
      "contents = open('messy_data.dat').read()\n",
      "c = open('clean_data.dat', 'w')\n",
      "data_array\n",
      "c.write(contents.replace(',',' '))\n",
      "c.write(contents.replace(' ',''))\n",
      "c.close"
     ],
     "language": "python",
     "metadata": {},
     "outputs": [
      {
       "metadata": {},
       "output_type": "pyout",
       "prompt_number": 12,
       "text": [
        "<function close>"
       ]
      }
     ],
     "prompt_number": 12
    },
    {
     "cell_type": "code",
     "collapsed": false,
     "input": [
      "c\n",
      "np.genfromtxt('clean_data.dat', unpack=True, delimiter=',', usecols=[0])\n"
     ],
     "language": "python",
     "metadata": {},
     "outputs": [
      {
       "metadata": {},
       "output_type": "pyout",
       "prompt_number": 13,
       "text": [
        "array([         nan,          nan,          nan,          nan,\n",
        "                nan,          nan,          nan,          nan,\n",
        "                nan,          nan,          nan,          nan,\n",
        "                nan,          nan,          nan,          nan,\n",
        "                nan,          nan,          nan,          nan,\n",
        "                nan,          nan,          nan,          nan,\n",
        "                nan,          nan,          nan,          nan,\n",
        "                nan,          nan,          nan,          nan,\n",
        "                nan,          nan,          nan,          nan,\n",
        "                nan,          nan,          nan,          nan,\n",
        "                nan,          nan,          nan,          nan,\n",
        "                nan,          nan,          nan,          nan,\n",
        "                nan,          nan,          nan,          nan,\n",
        "                nan,          nan,          nan,          nan,\n",
        "                nan,          nan,          nan,          nan,\n",
        "                nan,          nan,          nan,          nan,\n",
        "                nan,          nan,          nan,          nan,\n",
        "                nan,          nan,          nan,          nan,\n",
        "                nan,          nan,          nan,          nan,\n",
        "                nan,          nan,          nan,          nan,\n",
        "                nan,          nan,          nan,          nan,\n",
        "                nan,          nan,          nan,          nan,\n",
        "                nan,          nan,          nan,          nan,\n",
        "                nan,          nan,          nan,          nan,\n",
        "                nan,          nan,          nan,          nan,\n",
        "        40.4351    ,  87.836     ,  61.6994    ,  62.95249695,\n",
        "        88.1898    ,  93.97944   ,  16.94932695,  54.25992   ,\n",
        "        78.25868   ,  86.79592   ,   9.30935782,   4.6596473 ,\n",
        "        68.9184033 ,  26.57754585,  27.5811523 ,  63.24239745,\n",
        "        75.757     ,  67.821     ,  41.376059  ,  71.4230931 ,\n",
        "        26.276     ,   0.70531831,  69.36368669,  57.295     ,\n",
        "         8.4035    ,  82.188     ,  34.175     ,  85.6794    ,\n",
        "        92.04608   ,  12.0842717 ,  70.9376    ,  30.60083694,\n",
        "        15.334704  ,   4.8186    ,  24.5601    ,  86.37169   ,\n",
        "        95.963955  ,  73.9583    ,  57.6818    ,  30.341     ,\n",
        "        72.93928   ,   3.9026    ,  22.512     ,  99.855     ,\n",
        "        81.652505  ,  59.81127615,  56.66152216,  49.25036519,\n",
        "        31.1443287 ,  84.3930878 ,  50.404     ,  77.2157023 ,\n",
        "        23.681491  ,  84.082     ,   1.14937   ,  20.45583   ,\n",
        "        48.1731858 ,  25.8341053 ,  88.4513    ,  54.028921  ,\n",
        "        97.406     ,  82.29049757,  29.294     ,  95.3355    ,\n",
        "        89.63456146,  59.91582   ,  28.18      ,  18.19979   ,\n",
        "         8.6141    ,  25.80684295,   1.5097    ,  79.59084003,\n",
        "        74.571718  ,  88.9963    ,  83.25403814,  10.1466    ,\n",
        "        10.18343   ,   5.5566349 ,  96.716     ,  69.1351319 ,\n",
        "        38.4873998 ,  46.9464627 ,  51.34089   ,  23.80231743,\n",
        "        31.61149504,  37.1377    ,  75.68527821,  65.288     ,\n",
        "        31.94003   ,  46.42143   ,  11.9997    ])"
       ]
      }
     ],
     "prompt_number": 13
    },
    {
     "cell_type": "code",
     "collapsed": false,
     "input": [],
     "language": "python",
     "metadata": {},
     "outputs": [],
     "prompt_number": 13
    },
    {
     "cell_type": "markdown",
     "metadata": {},
     "source": []
    },
    {
     "cell_type": "code",
     "collapsed": false,
     "input": [],
     "language": "python",
     "metadata": {},
     "outputs": [],
     "prompt_number": 13
    },
    {
     "cell_type": "markdown",
     "metadata": {},
     "source": []
    },
    {
     "cell_type": "code",
     "collapsed": false,
     "input": [],
     "language": "python",
     "metadata": {},
     "outputs": [],
     "prompt_number": 13
    },
    {
     "cell_type": "code",
     "collapsed": false,
     "input": [],
     "language": "python",
     "metadata": {},
     "outputs": [],
     "prompt_number": 13
    }
   ],
   "metadata": {}
  }
 ]
}