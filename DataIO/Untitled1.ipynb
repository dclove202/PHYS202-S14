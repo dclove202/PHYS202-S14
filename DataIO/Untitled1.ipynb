{
 "metadata": {
  "name": "",
  "signature": "sha256:174daba846fe3ee375cbf579aeda3edbfca4da59495a258c06cd49689ddcef44"
 },
 "nbformat": 3,
 "nbformat_minor": 0,
 "worksheets": []
}