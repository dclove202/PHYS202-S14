{
 "metadata": {
  "name": "",
  "signature": "sha256:030b10c1e01997b4fe9212f4a042abc8e6ea1f92f940deb2316891a6d9b512e2"
 },
 "nbformat": 3,
 "nbformat_minor": 0,
 "worksheets": [
  {
   "cells": [
    {
     "cell_type": "markdown",
     "metadata": {},
     "source": [
      "This notebook is just for scratchwork involving plotting ellispes"
     ]
    },
    {
     "cell_type": "code",
     "collapsed": false,
     "input": [
      "%pylab inline\n",
      "import numpy as np\n",
      "from matplotlib import pyplot as plt\n",
      "from scipy.integrate import odeint"
     ],
     "language": "python",
     "metadata": {},
     "outputs": [
      {
       "output_type": "stream",
       "stream": "stdout",
       "text": [
        "Populating the interactive namespace from numpy and matplotlib\n"
       ]
      }
     ],
     "prompt_number": 2
    },
    {
     "cell_type": "code",
     "collapsed": false,
     "input": [
      "def GetEllipse(x,y):\n",
      "    '''\n",
      "    Function that returns the major axis and minor axis\n",
      "    of a parametric elliptical orbit,\n",
      "    as well as the # of timesteps that the object is at the max points\n",
      "    of the ellipse starting from the left and proceeding clockwise.\n",
      "    '''\n",
      "    \n",
      "\n",
      "    #Top Max\n",
      "    u = 0\n",
      "    for i in range(len(y)):\n",
      "        if (y[i]) > u:\n",
      "            u = (y[i])\n",
      "            q = (i)\n",
      "    top = y[q]\n",
      "    ttop = q\n",
      "    #Bottom Min\n",
      "    U = 0\n",
      "    for i in range(len(y)):\n",
      "        if y[i] < U:\n",
      "            U = y[i]\n",
      "            Q = i\n",
      "    bot = y[Q]\n",
      "    tbot = Q\n",
      "    \n",
      "    #Horizontal\n",
      "    m = 5\n",
      "    for i in range(len(x)):\n",
      "        if x[i] < m:\n",
      "            m = x[i]\n",
      "            k = i\n",
      "    left = x[k]\n",
      "    tleft = k\n",
      "    M = 0\n",
      "    for i in range(len(x)):\n",
      "        if x[i] > M:\n",
      "            M = x[i]\n",
      "            K = i\n",
      "    right = x[M]\n",
      "    tright = M\n",
      "    ax1 = top-bot\n",
      "    ax2 = right-left\n",
      "    if ax1 > ax2:\n",
      "        MajorAxis= ax1\n",
      "        MinorAxis = ax2\n",
      "    elif ax1 < ax2:\n",
      "        MajorAxis = ax2\n",
      "        MinorAxis = ax1\n",
      "    elif ax1==ax2:\n",
      "        radius = ax1\n",
      "        print \"Is a circle, r = %f\" %(radius)\n",
      "    return MajorAxis, MinorAxis, k,q,Q,K"
     ],
     "language": "python",
     "metadata": {},
     "outputs": [],
     "prompt_number": 1
    },
    {
     "cell_type": "code",
     "collapsed": false,
     "input": [
      "import numpy\n",
      "import PyAstronomy as pyas\n",
      "from PyAstronomy import pyasl\n",
      "import matplotlib.pylab as plt"
     ],
     "language": "python",
     "metadata": {},
     "outputs": [
      {
       "ename": "ImportError",
       "evalue": "No module named PyAstronomy",
       "output_type": "pyerr",
       "traceback": [
        "\u001b[0;31m---------------------------------------------------------------------------\u001b[0m\n\u001b[0;31mImportError\u001b[0m                               Traceback (most recent call last)",
        "\u001b[0;32m<ipython-input-6-1035be35795d>\u001b[0m in \u001b[0;36m<module>\u001b[0;34m()\u001b[0m\n\u001b[1;32m      1\u001b[0m \u001b[0;32mimport\u001b[0m \u001b[0mnumpy\u001b[0m\u001b[0;34m\u001b[0m\u001b[0m\n\u001b[0;32m----> 2\u001b[0;31m \u001b[0;32mimport\u001b[0m \u001b[0mPyAstronomy\u001b[0m \u001b[0;32mas\u001b[0m \u001b[0mpyas\u001b[0m\u001b[0;34m\u001b[0m\u001b[0m\n\u001b[0m\u001b[1;32m      3\u001b[0m \u001b[0;32mfrom\u001b[0m \u001b[0mPyAstronomy\u001b[0m \u001b[0;32mimport\u001b[0m \u001b[0mpyasl\u001b[0m\u001b[0;34m\u001b[0m\u001b[0m\n\u001b[1;32m      4\u001b[0m \u001b[0;32mimport\u001b[0m \u001b[0mmatplotlib\u001b[0m\u001b[0;34m.\u001b[0m\u001b[0mpylab\u001b[0m \u001b[0;32mas\u001b[0m \u001b[0mplt\u001b[0m\u001b[0;34m\u001b[0m\u001b[0m\n",
        "\u001b[0;31mImportError\u001b[0m: No module named PyAstronomy"
       ]
      }
     ],
     "prompt_number": 6
    },
    {
     "cell_type": "code",
     "collapsed": false,
     "input": [
      "from matplotlib.backends.backend_pdf import PdfPages\n",
      "pp = PdfPages('multipage.pdf')"
     ],
     "language": "python",
     "metadata": {},
     "outputs": [],
     "prompt_number": 14
    },
    {
     "cell_type": "code",
     "collapsed": false,
     "input": [
      "from matplotlib.backends.backend_pdf import PdfPages\n",
      "pp = PdfPages('multipage.pdf')\n",
      "x = np.arange(0,10,.1)\n",
      "y = lambda x: np.sin(x)\n",
      "plt.plot(x,y(x))\n",
      "plt.savefig(pp, format='pdf')\n",
      "pp.savefig()\n",
      "pp.close()"
     ],
     "language": "python",
     "metadata": {},
     "outputs": [
      {
       "metadata": {},
       "output_type": "display_data",
       "png": "[encoded data removed]",
       "text": [
        "<matplotlib.figure.Figure at 0x106732910>"
       ]
      }
     ],
     "prompt_number": 17
    },
    {
     "cell_type": "code",
     "collapsed": false,
     "input": [
      "from matplotlib.patches import Ellipse\n",
      "plt.figure()\n",
      "ax = plt.gca()\n",
      "\n",
      "ellipse = Ellipse(xy=(157.18, 68.4705), width=0.036, height=0.012, \n",
      "                        edgecolor='r', fc='None', lw=2)\n",
      "ax.add_patch(ellipse)"
     ],
     "language": "python",
     "metadata": {},
     "outputs": [
      {
       "metadata": {},
       "output_type": "pyout",
       "prompt_number": 22,
       "text": [
        "<matplotlib.patches.Ellipse at 0x10578c550>"
       ]
      },
      {
       "metadata": {},
       "output_type": "display_data",
       "png": "[encoded data removed]",
       "text": [
        "<matplotlib.figure.Figure at 0x10578d690>"
       ]
      }
     ],
     "prompt_number": 22
    },
    {
     "cell_type": "code",
     "collapsed": false,
     "input": [],
     "language": "python",
     "metadata": {},
     "outputs": []
    }
   ],
   "metadata": {}
  }
 ]
}