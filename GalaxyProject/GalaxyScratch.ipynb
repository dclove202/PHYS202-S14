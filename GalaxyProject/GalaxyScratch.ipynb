{
 "metadata": {
  "name": "",
  "signature": "sha256:c8a2333cd8ece80424cf3feec297acf38f1e2b13c053e06650fd5362b8a86f16"
 },
 "nbformat": 3,
 "nbformat_minor": 0,
 "worksheets": [
  {
   "cells": [
    {
     "cell_type": "code",
     "collapsed": false,
     "input": [
      "%pylab inline\n",
      "import numpy as np\n",
      "from matplotlib import pyplot as plt\n",
      "from scipy.integrate import odeint"
     ],
     "language": "python",
     "metadata": {},
     "outputs": [
      {
       "output_type": "stream",
       "stream": "stdout",
       "text": [
        "Populating the interactive namespace from numpy and matplotlib\n"
       ]
      },
      {
       "output_type": "stream",
       "stream": "stderr",
       "text": [
        "WARNING: pylab import has clobbered these variables: ['power', 'random', 'fft', 'linalg', 'info']\n",
        "`%matplotlib` prevents importing * from pylab and numpy\n"
       ]
      }
     ],
     "prompt_number": 53
    },
    {
     "cell_type": "code",
     "collapsed": false,
     "input": [
      "#Plotting Victim Galaxy with Stars\n",
      "\n",
      "%pylab inline\n",
      "import numpy as np\n",
      "from matplotlib import pyplot as plt\n",
      "from scipy.integrate import odeint\n",
      "\n",
      "def ring(ringnumber):\n",
      "    #Creates an x and y position array for a ring of stars\n",
      "    r = ((ringnumber + 1.)/10.)*25.\n",
      "    nstars = 6.*(ringnumber+1.)\n",
      "    theta = (2*np.pi)/nstars\n",
      "    xpositions = np.zeros(nstars)\n",
      "    ypositions = np.zeros(nstars)\n",
      "    for i in range(6*(ringnumber+1)):\n",
      "        xpositions[i] = r*np.cos(i*theta) \n",
      "        ypositions[i] = r*np.sin(i*theta)\n",
      "    return float(r),int(nstars),xpositions, ypositions,theta\n",
      "    \n",
      "\n",
      "for i in range(1,6):\n",
      "    r,a,x,y,theta = ring(i)\n",
      "    G = 4.494*10**(-8)\n",
      "    M = 10.**11\n",
      "    r = r\n",
      "    for b in range(a):\n",
      "        plt.scatter(x[b],y[b])\n",
      "        th = np.pi/2. + b*theta\n",
      "        plt.quiver(x[b],y[b],v*np.cos(th),v*np.sin(th))\n",
      "plt.scatter(0,0,s=200)\n",
      "plt.axis('equal')\n",
      "y = lambda x: -(x/10.)**2 + 25\n",
      "x = np.arange(-90,91,1)\n",
      "plt.scatter(91,y(91),s=200, color='b')\n",
      "\n",
      "plot(x,y(x))\n",
      "\n",
      "plt.show()\n",
      "print y(-10)"
     ],
     "language": "python",
     "metadata": {},
     "outputs": [
      {
       "output_type": "stream",
       "stream": "stdout",
       "text": [
        "Populating the interactive namespace from numpy and matplotlib\n"
       ]
      },
      {
       "metadata": {},
       "output_type": "display_data",
       "png": "[encoded data removed]",
       "text": [
        "<matplotlib.figure.Figure at 0x106fd3690>"
       ]
      },
      {
       "output_type": "stream",
       "stream": "stdout",
       "text": [
        "24.0\n"
       ]
      }
     ],
     "prompt_number": 86
    },
    {
     "cell_type": "code",
     "collapsed": false,
     "input": [
      "#Setting Stars in Motion\n",
      "P6 = 5.442 #million years\n",
      "Vt6 = 30.*np.pi/P6\n",
      "a6 = (Vt6**2)/15\n",
      "print a6"
     ],
     "language": "python",
     "metadata": {},
     "outputs": [
      {
       "output_type": "stream",
       "stream": "stdout",
       "text": [
        "19.9955760822\n"
       ]
      }
     ],
     "prompt_number": 122
    },
    {
     "cell_type": "code",
     "collapsed": false,
     "input": [
      "G = 5.511/11. #kpc, million years, solar masses\n",
      "M = 10**11.\n",
      "Ro = 15.\n",
      "v = np.sqrt(G*M/Ro)\n",
      "x0 = 15\n",
      "vy0 = 17.32\n",
      "y0 = 0\n",
      "vx0 = 0\n",
      "t0 = 0\n",
      "tau = .1\n",
      "t = np.arange(t0,1.,tau)\n",
      "X0 = [x0,y0,vx0,vy0]\n",
      "def func(state,time):\n",
      "    f = np.zeros(4)\n",
      "    f[0] = state[2]\n",
      "    f[1] = state[3]\n",
      "    r = sqrt(state[0]**2 + state[1]**2)\n",
      "    f[2] = -(G*M*state[0])/r**3\n",
      "    f[3] = -(G*M*state[1])/r**3\n",
      "    return f\n",
      "X = odeint(func,X0,t)\n",
      "x = X[:,0]\n",
      "y = X[:,1]\n",
      "vx = X[:,2]\n",
      "vy = X[:,3]\n",
      "print x\n",
      "print y\n",
      "print vx\n",
      "print vy\n",
      "\n"
     ],
     "language": "python",
     "metadata": {},
     "outputs": [
      {
       "output_type": "stream",
       "stream": "stdout",
       "text": [
        "[ 15.          14.99987794  14.99951649  14.99892899  14.99813511\n",
        "  14.99715798  14.99602163  14.994749    14.99336088  14.99187541]\n",
        "[  0.           1.73199531   3.46396316   5.19587914   6.92772404\n",
        "   8.65948476  10.39115399  12.12272922  13.85421145  15.58560406]\n",
        "[ 0.         -0.00243317 -0.00477313 -0.00694352 -0.00889507 -0.01060701\n",
        " -0.01208161 -0.01333626 -0.01439593 -0.01528783]\n",
        "[ 17.32        17.31985999  17.319456    17.31883138  17.31804486\n",
        "  17.31715755  17.31622314  17.3152833   17.31436713  17.31349295]\n"
       ]
      }
     ],
     "prompt_number": 96
    },
    {
     "cell_type": "code",
     "collapsed": false,
     "input": [
      "\n",
      "from pylab import *\n",
      "from scipy.integrate import odeint\n",
      "\n",
      "G = 4.494*10**(-8) # G in kiloparsecs, solar masses, and millions of years.\n",
      "\n",
      "## Set initial position and speed of satellite.\n",
      "# Compute and display some values for a circular orbit to help decide \n",
      "# on initial conditions.\n",
      "Ro = 15.0    # Radius of the orbit \n",
      "M = 10**11 #Solar Masses\n",
      "\n",
      "v =sqrt(G*M/Ro) # v assuming circular orbit\n",
      "\n",
      "# Get initial position and speed.\n",
      "print(\"For circular orbit of r = %g, and v = %g.\" % (Ro,v))\n",
      "x0 = input('Initial radius: ')\n",
      "vy0 = input('Initial tangential velocity: ')\n",
      "\n",
      "## Set initial conditions and define needed array.\n",
      "X0 = [ x0, 0, 0, vy0]       # set initial state of the system\n",
      "t0 = -10.\n",
      "tf = input(\"Enter final time: \")\n",
      "tau = input(\"Enter time step: \")\n",
      "t = arange(t0,tf,tau)   # create time array starting at t0, \n",
      "                        # ending at tf with a spacing tau\n",
      "\n",
      "## Define function to return f(X,t)\n",
      "def f_func(state,time):\n",
      "    f=zeros(4)\n",
      "    f[0] = state[2]\n",
      "    f[1] = state[3]\n",
      "    r = sqrt(state[0]**2 + state[1]**2)\n",
      "    f[2] = -(G*M*state[0])/r**3\n",
      "    f[3] = -(G*M*state[1])/r**3\n",
      "    return f\n",
      "\n",
      "## Solve the ODE with odeint\n",
      "X = odeint(f_func,X0,t) # returns an 2-dimensional array with \n",
      "                        # the first index specifying the time\n",
      "                        # and the second index specifying the \n",
      "                        # component of the state vector\n",
      "\n",
      "x = X[:,0]  # Giving a ':' as the index specifies all of the \n",
      "            # elements for that index so\n",
      "y = X[:,1]  # x, y, vx, and vy are arrays that specify their \n",
      "vx = X[:,2] # values at any given time index\n",
      "vy = X[:,3]\n",
      "\n",
      "## Plot the results\n",
      "figure(1)\n",
      "clf()\n",
      "\n",
      "# Plot the orbit\n",
      "subplot(2,1,1)\n",
      "title(r'Using odeint with $x$ = %g, $v_y$ = %g, and $\\tau$ = %g' \\\n",
      "      % (x0,vy0,tau))\n",
      "plot(x,y)\n",
      "centerx = 0.\n",
      "centery = 0.\n",
      "plot(centerx,centery,'ko')\n",
      "axis('equal')"
     ],
     "language": "python",
     "metadata": {},
     "outputs": [
      {
       "output_type": "stream",
       "stream": "stdout",
       "text": [
        "For circular orbit of r = 15, and v = 17.309.\n"
       ]
      },
      {
       "name": "stdout",
       "output_type": "stream",
       "stream": "stdout",
       "text": [
        "Initial radius: 25\n"
       ]
      },
      {
       "name": "stdout",
       "output_type": "stream",
       "stream": "stdout",
       "text": [
        "Initial tangential velocity: 17\n"
       ]
      },
      {
       "name": "stdout",
       "output_type": "stream",
       "stream": "stdout",
       "text": [
        "Enter final time: 10\n"
       ]
      },
      {
       "name": "stdout",
       "output_type": "stream",
       "stream": "stdout",
       "text": [
        "Enter time step: .01\n"
       ]
      },
      {
       "metadata": {},
       "output_type": "pyout",
       "prompt_number": 88,
       "text": [
        "(-100.0, 40.0, 0.0, 60.0)"
       ]
      },
      {
       "metadata": {},
       "output_type": "display_data",
       "png": "[encoded data removed]",
       "text": [
        "<matplotlib.figure.Figure at 0x106fda650>"
       ]
      }
     ],
     "prompt_number": 88
    },
    {
     "cell_type": "code",
     "collapsed": false,
     "input": [
      "y = lambda x: -x**2 + 25\n",
      "x = np.arange(-9,10,1)\n",
      "x2 = np.arange(0,10,1)\n",
      "plot(x,y(x))\n"
     ],
     "language": "python",
     "metadata": {},
     "outputs": [
      {
       "metadata": {},
       "output_type": "pyout",
       "prompt_number": 71,
       "text": [
        "[<matplotlib.lines.Line2D at 0x106acb510>]"
       ]
      },
      {
       "metadata": {},
       "output_type": "display_data",
       "png": "[encoded data removed]",
       "text": [
        "<matplotlib.figure.Figure at 0x105f72e90>"
       ]
      }
     ],
     "prompt_number": 71
    },
    {
     "cell_type": "code",
     "collapsed": false,
     "input": [],
     "language": "python",
     "metadata": {},
     "outputs": []
    }
   ],
   "metadata": {}
  }
 ]
}