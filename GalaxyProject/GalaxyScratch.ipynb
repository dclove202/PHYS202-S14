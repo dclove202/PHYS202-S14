{
 "metadata": {
  "name": "",
  "signature": "sha256:b501e7a11f25a19fe3a94dfa9f8eb2917c1d71ff8b6bd77b9be302f530af0a51"
 },
 "nbformat": 3,
 "nbformat_minor": 0,
 "worksheets": [
  {
   "cells": [
    {
     "cell_type": "markdown",
     "metadata": {},
     "source": [
      "This Notebook is only for testing code, the functions inside that I use are only tangentially related to the problem I was solving."
     ]
    },
    {
     "cell_type": "code",
     "collapsed": false,
     "input": [
      "#Importing necessary thingies\n",
      "%pylab inline\n",
      "import numpy as np\n",
      "from matplotlib import pyplot as plt\n",
      "from scipy.integrate import odeint"
     ],
     "language": "python",
     "metadata": {},
     "outputs": [
      {
       "output_type": "stream",
       "stream": "stdout",
       "text": [
        "Populating the interactive namespace from numpy and matplotlib\n"
       ]
      }
     ],
     "prompt_number": 1
    },
    {
     "cell_type": "heading",
     "level": 3,
     "metadata": {},
     "source": [
      "Test for Plotting The Galaxy (equal mass, parabolic)"
     ]
    },
    {
     "cell_type": "code",
     "collapsed": false,
     "input": [
      "### ODE attempt for position of massless particles ###\n",
      "\n",
      "\n",
      "## Creating Arrays for Star Postitions\n",
      "def ring(ringnumber):\n",
      "    #Creates an x and y position array for a given ring of stars\n",
      "    r = ((ringnumber + 1.)/10.)*25.\n",
      "    nstars = 6.*(ringnumber+1.)\n",
      "    theta = (2*np.pi)/nstars\n",
      "    xpositions = np.zeros(nstars)\n",
      "    ypositions = np.zeros(nstars)\n",
      "    for i in range(6*(ringnumber+1)):\n",
      "        xpositions[i] = r*np.cos(i*theta) \n",
      "        ypositions[i] = r*np.sin(i*theta)\n",
      "    return float(r),int(nstars),xpositions, ypositions,theta\n",
      "\n",
      "xlst = []\n",
      "ylst = []\n",
      "thet = []\n",
      "for i in range(1,6):\n",
      "    r,n,x,y,theta = ring(i)\n",
      "    G = 4.499736* 10**-8\n",
      "    M = 10.**11\n",
      "    r = r\n",
      "    for b in range(n):\n",
      "        xlst.append(x[b])\n",
      "        ylst.append(y[b])\n",
      "        thet.append(theta*b)\n",
      "th = np.array(thet)\n",
      "xp = np.array(xlst)\n",
      "yp = np.array(ylst)\n",
      "\n",
      "\n",
      "        \n",
      "\n",
      "\n",
      "## Defining Constants\n",
      "M = 10.0**11.00\n",
      "S = 0.0\n",
      "G = 4.499736* 10**-8\n",
      "xvp = []\n",
      "yvp = []\n",
      "a = np.pi/2 # Orthogonalizer\n",
      "for i in range(120):\n",
      "    vy = np.sqrt(xp[i]**2 + yp[i]**2)*np.sin(a+th[i])\n",
      "    yvp.append(vy)\n",
      "yvp = np.array(yvp)\n",
      "for i in range(120):\n",
      "    vx = np.sqrt(xp[i]**2 + yp[i]**2)*np.cos(a+th[i])\n",
      "    xvp.append(vx)\n",
      "xvp = np.array(xvp)\n",
      "\n",
      "\n",
      "#Initials has form [x,y,vx,vy]\n",
      "#Iterating through every star and velocity\n",
      "for i in range(120):\n",
      "    initials = [xp[i],yp[i],xvp[i],yvp[i]]\n",
      "    time = np.arange(0.,10,.01)\n",
      "#Function to feed odeint\n",
      "    def motion(initials,time):\n",
      "        a = np.zeros(4)\n",
      "        a[0] = initials[2]\n",
      "        a[1] = initials[3]\n",
      "        R = np.sqrt(initials[0]**2 + initials[1]**2)\n",
      "        a[2] = (-G*M*initials[0]/R**3)\n",
      "        a[3] = (-G*M*initials[1]/R**3)\n",
      "        return a\n",
      "    w = odeint(motion,initials,time)\n",
      "    xp1 = w[:,0]\n",
      "    yp1 = w[:,1]\n",
      "    xvp1 = w[:,2]\n",
      "    yvp1 = w[:,3]"
     ],
     "language": "python",
     "metadata": {},
     "outputs": [],
     "prompt_number": 45
    },
    {
     "cell_type": "code",
     "collapsed": false,
     "input": [
      "### ODE attempt for position of massless particles ###\n",
      "\n",
      "\n",
      "## Creating Arrays for Star Postitions\n",
      "def ring(ringnumber):\n",
      "    #Creates an x and y position array for a given ring of stars\n",
      "    r = ((ringnumber + 1.)/10.)*25.\n",
      "    nstars = 6.*(ringnumber+1.)\n",
      "    theta = (2*np.pi)/nstars\n",
      "    xpositions = np.zeros(nstars)\n",
      "    ypositions = np.zeros(nstars)\n",
      "    for i in range(6*(ringnumber+1)):\n",
      "        xpositions[i] = r*np.cos(i*theta) \n",
      "        ypositions[i] = r*np.sin(i*theta)\n",
      "    return float(r),int(nstars),xpositions, ypositions,theta\n",
      "\n",
      "xlst = []\n",
      "ylst = []\n",
      "thet = []\n",
      "for i in range(1,6):\n",
      "    r,n,x,y,theta = ring(i)\n",
      "    G = 4.499736* 10**-8\n",
      "    M = 10.**11\n",
      "    r = r\n",
      "    for b in range(n):\n",
      "        xlst.append(x[b])\n",
      "        ylst.append(y[b])\n",
      "        thet.append(theta*b)\n",
      "th = np.array(thet)\n",
      "xp = np.array(xlst)\n",
      "yp = np.array(ylst)\n",
      "\n",
      "\n",
      "        \n",
      "\n",
      "\n",
      "## Defining Constants\n",
      "M = 10.0**11.00\n",
      "S = 0.0\n",
      "G = 4.499736* 10**-8\n",
      "xvp = []\n",
      "yvp = []\n",
      "a = np.pi/2 # Orthogonalizer\n",
      "for i in range(120):\n",
      "    vy = np.sqrt(xp[i]**2 + yp[i]**2)*np.sin(a+th[i])\n",
      "    yvp.append(vy)\n",
      "yvp = np.array(yvp)\n",
      "for i in range(120):\n",
      "    vx = np.sqrt(xp[i]**2 + yp[i]**2)*np.cos(a+th[i])\n",
      "    xvp.append(vx)\n",
      "xvp = np.array(xvp)\n",
      "\n",
      "\n",
      "#Initials has form [x,y,vx,vy]\n",
      "#Iterating through every star and velocity\n",
      "for i in range(120):\n",
      "    initials = [xp[i],yp[i],xvp[i],yvp[i]]\n",
      "    time = np.arange(0.,10,.01)\n",
      "#Function to feed odeint\n",
      "    def motion(initials,time):\n",
      "        a = np.zeros(4)\n",
      "        a[0] = initials[2]\n",
      "        a[1] = initials[3]\n",
      "        R = np.sqrt(initials[0]**2 + initials[1]**2)\n",
      "        a[2] = (-G*M*initials[0]/R**3)\n",
      "        a[3] = (-G*M*initials[1]/R**3)\n",
      "        return a\n",
      "    w = odeint(motion,initials,time)\n",
      "    xp1 = w[:,0]\n",
      "    yp1 = w[:,1]\n",
      "    xvp1 = w[:,2]\n",
      "    yvp1 = w[:,3]\n",
      "\n",
      "\n",
      "\n",
      "G = 4.499736* 10**-8 # G in kiloparsecs, solar masses, and millions of years.\n",
      "# Intial conditions of disruptor mass\n",
      "Rmin = 25.0 # Rmin, where we will start the particle (Xo)\n",
      "M = 10**11 #Solar Masses\n",
      "S = M\n",
      "\n",
      "v =sqrt(G*(M+S)/Rmin) # Gives circular velocity  to help determine initial condition\n",
      "\n",
      "# Using input to vary initial conditions conveniently\n",
      "\n",
      "vy0 = -22.\n",
      "\n",
      "#Using the inputted initial conditions to set the disruptor \n",
      "#on the x axis with the victim speeding directly in the Y direction\n",
      "#initial conditions have format [x,y,vx,vy]\n",
      "it = [Rmin, 35.8051639777, 15.3609179799, -1.08701216176e-05]   \n",
      "\n",
      "# creating a time array that can be adjusted\n",
      "tinit = 0.\n",
      "tfin = 10\n",
      "timestep = .001\n",
      "t = arange(tinit,tfin,timestep)   \n",
      "\n",
      "#Galaxy motion deriviate function for odeint\n",
      "\n",
      "def gmd(inits,time):\n",
      "    f=zeros(4)\n",
      "    f[0] = inits[2]\n",
      "    f[1] = inits[3]\n",
      "    R = sqrt(inits[0]**2 + inits[1]**2)\n",
      "    f[2] = -(G*(M+S)*inits[0])/R**3\n",
      "    f[3] = -(G*(M+S)*inits[1])/R**3\n",
      "    return f\n",
      "\n",
      "#Using odeint to return an array with [time,initial condition]\n",
      "z = odeint(gmd,it,t) \n",
      "\n",
      "#Setting variables for the arrays of conditions\n",
      "x = z[:,0]               \n",
      "y = z[:,1]  \n",
      "vx = z[:,2] \n",
      "vy = z[:,3]\n",
      "\n",
      "plt.scatter(0,0, s=100)\n",
      "plt.scatter(Rmin,0, s=100)\n",
      "plt.plot(x,y)\n",
      "plt.axis('equal')\n",
      "\n",
      "plt.show()\n",
      "\n",
      "def GetEllipse(x,y):\n",
      "    '''\n",
      "    Function that returns the major axis and minor axis\n",
      "    of a parametric elliptical orbit,\n",
      "    as well as the # of timesteps that the object is at the max points\n",
      "    of the ellipse starting from the left and proceeding clockwise.\n",
      "    '''\n",
      "    \n",
      "\n",
      "    #Top Max\n",
      "    u = 0\n",
      "    for i in range(len(y)):\n",
      "        if (y[i]) > u:\n",
      "            u = (y[i])\n",
      "            q = (i)\n",
      "    top = y[q]\n",
      "    ttop = q\n",
      "    #Bottom Min\n",
      "    U = 0\n",
      "    for i in range(len(y)):\n",
      "        if y[i] < U:\n",
      "            U = y[i]\n",
      "            Q = i\n",
      "    bot = y[Q]\n",
      "    tbot = Q\n",
      "    \n",
      "    #Horizontal\n",
      "    m = 5\n",
      "    for i in range(len(x)):\n",
      "        if x[i] < m:\n",
      "            m = x[i]\n",
      "            k = i\n",
      "    left = x[k]\n",
      "    tleft = k\n",
      "    M = 0\n",
      "    for i in range(len(x)):\n",
      "        if x[i] > M:\n",
      "            M = x[i]\n",
      "            K = i\n",
      "    right = x[M]\n",
      "    tright = M\n",
      "    ax1 = top-bot\n",
      "    ax2 = right-left\n",
      "    if ax1 > ax2:\n",
      "        MajorAxis= ax1\n",
      "        MinorAxis = ax2\n",
      "    elif ax1 < ax2:\n",
      "        MajorAxis = ax2\n",
      "        MinorAxis = ax1\n",
      "    elif ax1==ax2:\n",
      "        radius = ax1\n",
      "        print \"Is a circle, r = %f\" %(radius)\n",
      "    return MajorAxis, MinorAxis, k,q,Q,K\n",
      "print GetEllipse(x,y)\n",
      "\n"
     ],
     "language": "python",
     "metadata": {},
     "outputs": [
      {
       "metadata": {},
       "output_type": "display_data",
       "png": "[encoded data removed]",
       "text": [
        "<matplotlib.figure.Figure at 0x10203db10>"
       ]
      },
      {
       "output_type": "stream",
       "stream": "stdout",
       "text": [
        "(71.610322669099929, 37.299672140586566, 9999, 0, 6090, 3045)\n"
       ]
      }
     ],
     "prompt_number": 144
    },
    {
     "cell_type": "heading",
     "level": 3,
     "metadata": {},
     "source": [
      "Plotting Victim Galaxy with Stars"
     ]
    },
    {
     "cell_type": "code",
     "collapsed": false,
     "input": [
      "\n",
      "\n",
      "def ring(ringnumber):\n",
      "    #Creates an x and y position array for a ring of stars\n",
      "    r = ((ringnumber + 1.)/10.)*25.\n",
      "    nstars = 6.*(ringnumber+1.)\n",
      "    theta = (2*np.pi)/nstars\n",
      "    xpositions = np.zeros(nstars)\n",
      "    ypositions = np.zeros(nstars)\n",
      "    for i in range(6*(ringnumber+1)):\n",
      "        xpositions[i] = r*np.cos(i*theta) \n",
      "        ypositions[i] = r*np.sin(i*theta)\n",
      "    return float(r),int(nstars),xpositions, ypositions,theta\n",
      "    \n",
      "\n",
      "for i in range(1,6):\n",
      "    r,a,x,y,theta = ring(i)\n",
      "    G = 4.499736* 10**-8\n",
      "    M = 10.**11\n",
      "    r = r\n",
      "    for b in range(a):\n",
      "        plt.scatter(x[b],y[b])\n",
      "            #th = np.pi/2. + b*theta\n",
      "            #plt.quiver(x[b],y[b],.02*v*np.cos(th),.02*v*np.sin(th))\n",
      "plt.scatter(0,0,s=200)\n",
      "plt.axis('equal')\n",
      "\n",
      "plt.show()\n"
     ],
     "language": "python",
     "metadata": {},
     "outputs": [
      {
       "metadata": {},
       "output_type": "display_data",
       "png": "[encoded data removed]",
       "text": [
        "<matplotlib.figure.Figure at 0x105884950>"
       ]
      }
     ],
     "prompt_number": 43
    },
    {
     "cell_type": "code",
     "collapsed": false,
     "input": [
      "radii = [5.,7.5,10.,12.5,15.]\n",
      "velocities = []\n",
      "for Rmin in radii:\n",
      "    v =sqrt(G*(M)/Rmin)\n",
      "    velocities.append(v)\n",
      "velocity = np.array(velocities)\n",
      "print velocity"
     ],
     "language": "python",
     "metadata": {},
     "outputs": [
      {
       "output_type": "stream",
       "stream": "stdout",
       "text": [
        "[ 29.99911999  24.4941789   21.21258117  18.97310939  17.32      ]\n"
       ]
      }
     ],
     "prompt_number": 68
    },
    {
     "cell_type": "code",
     "collapsed": false,
     "input": [
      "print y[12556]"
     ],
     "language": "python",
     "metadata": {},
     "outputs": [
      {
       "output_type": "stream",
       "stream": "stdout",
       "text": [
        "35.8051639777\n"
       ]
      }
     ],
     "prompt_number": 126
    },
    {
     "cell_type": "code",
     "collapsed": false,
     "input": [
      "print -1.08701216176e-05"
     ],
     "language": "python",
     "metadata": {},
     "outputs": [
      {
       "output_type": "stream",
       "stream": "stdout",
       "text": [
        "-1.08701216176e-05\n"
       ]
      }
     ],
     "prompt_number": 133
    },
    {
     "cell_type": "code",
     "collapsed": false,
     "input": [
      "def GetEllipse(x,y):\n",
      "    '''\n",
      "    Function that returns the major axis and minor axis\n",
      "    of a parametric elliptical orbit,\n",
      "    as well as the # of timesteps that the object is at the max points\n",
      "    of the ellipse starting from the left and proceeding clockwise.\n",
      "    '''\n",
      "    \n",
      "\n",
      "    #Top Max\n",
      "    u = 0\n",
      "    for i in range(len(y)):\n",
      "        if (y[i]) > u:\n",
      "            u = (y[i])\n",
      "            q = (i)\n",
      "    top = y[q]\n",
      "    ttop = q\n",
      "    #Bottom Min\n",
      "    U = 0\n",
      "    for i in range(len(y)):\n",
      "        if y[i] < U:\n",
      "            U = y[i]\n",
      "            Q = i\n",
      "    bot = y[Q]\n",
      "    tbot = Q\n",
      "    \n",
      "    #Horizontal\n",
      "    m = 5\n",
      "    for i in range(len(x)):\n",
      "        if x[i] < m:\n",
      "            m = x[i]\n",
      "            k = i\n",
      "    left = x[k]\n",
      "    tleft = k\n",
      "    M = 0\n",
      "    for i in range(len(x)):\n",
      "        if x[i] > M:\n",
      "            M = x[i]\n",
      "            K = i\n",
      "    right = x[M]\n",
      "    tright = M\n",
      "    ax1 = abs(top)+abs(bot)\n",
      "    ax2 = abs(right)+abs(left)\n",
      "    if ax1 > ax2:\n",
      "        MajorAxis= ax1\n",
      "        MinorAxis = ax2\n",
      "    elif ax1 < ax2:\n",
      "        MajorAxis = ax2\n",
      "        MinorAxis = ax1\n",
      "    elif ax1==ax2:\n",
      "        radius = ax1\n",
      "        print \"Is a circle, r = %f\" %(radius)\n",
      "    return MajorAxis, MinorAxis, k,q,Q,K"
     ],
     "language": "python",
     "metadata": {},
     "outputs": [],
     "prompt_number": 27
    },
    {
     "cell_type": "code",
     "collapsed": false,
     "input": [
      "'''\n",
      "Much of this code is borrowed from \n",
      "http://faculty1.coloradocollege.edu/~sburns/toolbox/ODE_II.html\n",
      "I do not claim any of it as my own, I only used it as a tool to \n",
      "help determine initial conditions for orbits.\n",
      "'''\n",
      "\n",
      "## Import needed modules\n",
      "from pylab import *\n",
      "from scipy.integrate import odeint\n",
      "G = 4.99*10**-8 # define G for convenience.\n",
      "\n",
      "## Set initial position and speed of satellite.\n",
      "# Compute and display some values for a circular orbit to help decide \n",
      "# on initial conditions.\n",
      "Ro = 5.0    # Radius of the orbit \n",
      "M  = 10.**11 # mass of the central mass\n",
      "S = 0.0\n",
      "\n",
      "v =sqrt(G*(M+S)/Ro) # v assuming circular orbit\n",
      "\n",
      "# Get initial position and speed.\n",
      "print(\"For circular orbit of r = %g, and v = %g.\" % (Ro,v))\n",
      "x0 = 5.\n",
      "vy0 = input('Initial tangential velocity: ')\n",
      "\n",
      "## Set initial conditions and define needed array.\n",
      "X0 = [ x0, 0, 0, vy0]       # set initial state of the system\n",
      "t0 = 0.\n",
      "tf = input(\"Enter final time: \")\n",
      "tau = input(\"Enter time step: \")\n",
      "t = arange(t0,tf,tau)   # create time array starting at t0, \n",
      "                        # ending at tf with a spacing tau\n",
      "\n",
      "## Define function to return f(X,t)\n",
      "def f_func(state,time):\n",
      "    f=zeros(4)\n",
      "    f[0] = state[2]\n",
      "    f[1] = state[3]\n",
      "    r = sqrt(state[0]**2 + state[1]**2)\n",
      "    f[2] = -(G*(M+S)*state[0])/r**3\n",
      "    f[3] = -(G*(M+S)*state[1])/r**3\n",
      "    return f\n",
      "\n",
      "## Solve the ODE with odeint\n",
      "X = odeint(f_func,X0,t) # returns an 2-dimensional array with \n",
      "                        # the first index specifying the time\n",
      "                        # and the second index specifying the \n",
      "                        # component of the state vector\n",
      "\n",
      "x = X[:,0]  # Giving a ':' as the index specifies all of the \n",
      "            # elements for that index so\n",
      "y = X[:,1]  # x, y, vx, and vy are arrays that specify their \n",
      "vx = X[:,2] # values at any given time index\n",
      "vy = X[:,3]\n",
      "\n",
      "## Plot the results\n",
      "figure(1)\n",
      "clf()\n",
      "\n",
      "# Plot the orbit\n",
      "subplot(2,1,1)\n",
      "title(r'Using odeint with $x$ = %g, $v_y$ = %g, and $\\tau$ = %g' \\\n",
      "      % (x0,vy0,tau))\n",
      "plot(x,y)\n",
      "centerx = 0.\n",
      "centery = 0.\n",
      "plot(centerx,centery,'ko')\n",
      "axis('equal')\n",
      "\n",
      "print GetEllipse(x,y)"
     ],
     "language": "python",
     "metadata": {},
     "outputs": [
      {
       "output_type": "stream",
       "stream": "stdout",
       "text": [
        "For circular orbit of r = 5, and v = 31.5911.\n"
       ]
      },
      {
       "name": "stdout",
       "output_type": "stream",
       "stream": "stdout",
       "text": [
        "Initial tangential velocity: 15\n"
       ]
      },
      {
       "name": "stdout",
       "output_type": "stream",
       "stream": "stdout",
       "text": [
        "Enter final time: 10\n"
       ]
      },
      {
       "name": "stdout",
       "output_type": "stream",
       "stream": "stdout",
       "text": [
        "Enter time step: .1\n"
       ]
      },
      {
       "output_type": "stream",
       "stream": "stdout",
       "text": [
        "(4.9886896208977278, 3.5629832121505802, 61, 10, 91, 0)\n"
       ]
      },
      {
       "metadata": {},
       "output_type": "display_data",
       "png": "[encoded data removed]",
       "text": [
        "<matplotlib.figure.Figure at 0x105ccd850>"
       ]
      }
     ],
     "prompt_number": 35
    },
    {
     "cell_type": "code",
     "collapsed": false,
     "input": [
      "GetEllipse(x,y)"
     ],
     "language": "python",
     "metadata": {},
     "outputs": [
      {
       "metadata": {},
       "output_type": "pyout",
       "prompt_number": 21,
       "text": [
        "(33.131561354421805, 27.573783399875932, 133, 100, 166, 0)"
       ]
      }
     ],
     "prompt_number": 21
    },
    {
     "cell_type": "code",
     "collapsed": false,
     "input": [
      "y = lambda x: np.sqrt(1-(x**2 / 4))\n",
      "x = np.arange(-2,2,.01)\n",
      "\n",
      "plt.plot(x,(y**2(x)))\n"
     ],
     "language": "python",
     "metadata": {},
     "outputs": [
      {
       "ename": "TypeError",
       "evalue": "'int' object is not callable",
       "output_type": "pyerr",
       "traceback": [
        "\u001b[0;31m---------------------------------------------------------------------------\u001b[0m\n\u001b[0;31mTypeError\u001b[0m                                 Traceback (most recent call last)",
        "\u001b[0;32m<ipython-input-44-4d77ff421b01>\u001b[0m in \u001b[0;36m<module>\u001b[0;34m()\u001b[0m\n\u001b[1;32m      2\u001b[0m \u001b[0mx\u001b[0m \u001b[0;34m=\u001b[0m \u001b[0mnp\u001b[0m\u001b[0;34m.\u001b[0m\u001b[0marange\u001b[0m\u001b[0;34m(\u001b[0m\u001b[0;34m-\u001b[0m\u001b[0;36m2\u001b[0m\u001b[0;34m,\u001b[0m\u001b[0;36m2\u001b[0m\u001b[0;34m,\u001b[0m\u001b[0;36m.01\u001b[0m\u001b[0;34m)\u001b[0m\u001b[0;34m\u001b[0m\u001b[0m\n\u001b[1;32m      3\u001b[0m \u001b[0;34m\u001b[0m\u001b[0m\n\u001b[0;32m----> 4\u001b[0;31m \u001b[0mplt\u001b[0m\u001b[0;34m.\u001b[0m\u001b[0mplot\u001b[0m\u001b[0;34m(\u001b[0m\u001b[0mx\u001b[0m\u001b[0;34m,\u001b[0m\u001b[0;34m(\u001b[0m\u001b[0my\u001b[0m\u001b[0;34m**\u001b[0m\u001b[0;36m2\u001b[0m\u001b[0;34m(\u001b[0m\u001b[0mx\u001b[0m\u001b[0;34m)\u001b[0m\u001b[0;34m)\u001b[0m\u001b[0;34m)\u001b[0m\u001b[0;34m\u001b[0m\u001b[0m\n\u001b[0m",
        "\u001b[0;31mTypeError\u001b[0m: 'int' object is not callable"
       ]
      }
     ],
     "prompt_number": 44
    },
    {
     "cell_type": "code",
     "collapsed": false,
     "input": [],
     "language": "python",
     "metadata": {},
     "outputs": []
    }
   ],
   "metadata": {}
  }
 ]
}