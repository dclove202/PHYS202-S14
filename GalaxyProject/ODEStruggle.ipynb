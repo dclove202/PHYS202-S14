{
 "metadata": {
  "name": "",
  "signature": "sha256:aae4bc3fdaec8d22a7b2f3935058991bf318eb963c601caaaa0a1f6a459b0d4a"
 },
 "nbformat": 3,
 "nbformat_minor": 0,
 "worksheets": [
  {
   "cells": [
    {
     "cell_type": "heading",
     "level": 1,
     "metadata": {},
     "source": [
      "The Struggle is Real"
     ]
    },
    {
     "cell_type": "code",
     "collapsed": false,
     "input": [
      "%pylab inline\n",
      "import numpy as np\n",
      "from matplotlib import pyplot as plt\n",
      "from scipy.integrate import odeint"
     ],
     "language": "python",
     "metadata": {},
     "outputs": [
      {
       "output_type": "stream",
       "stream": "stdout",
       "text": [
        "Populating the interactive namespace from numpy and matplotlib\n"
       ]
      }
     ],
     "prompt_number": 1
    },
    {
     "cell_type": "code",
     "collapsed": false,
     "input": [
      "\n",
      "\n",
      "## Triple ODE attempt for position of massless particles\n",
      "'''\n",
      "def dmotion(state,rx,vx,ry,vy,)\n",
      "\n",
      "M = 10.0**11.0 # Victim galaxy in solar masses\n",
      "S = M # For example a and b\n",
      "gamma = 4.494 * 10 **-8 #Gravity in big units\n",
      "rx = partx #X position of massless particle\n",
      "ry = party #Y position of massless particle\n",
      "RRx = Sxpos #X position of Disruptor Galaxy == position vector from victim galaxy\n",
      "RRy = Sxpos #Y position of Disruptor Galaxy == position vector from victim galaxy\n",
      "rhox = RRx - rx \n",
      "rhoy = RRy - ry\n",
      "xposition = motion[0]\n",
      "xvelocity = motion[1]\n",
      "dxposition = velocity\n",
      "dvelx = -gamma*((M/(rx**3))-(S/(rhox**3))+(S/(RRx**3)))\n",
      "dvely = -gamma*((M/(ry**3))-(S/(rhoy**3))+(S/(RRy**3)))\n",
      "return np.array(dxposition,dvelx)\n",
      "return np.array(dxposition,dvely)\n",
      "'''"
     ],
     "language": "python",
     "metadata": {},
     "outputs": [
      {
       "metadata": {},
       "output_type": "pyout",
       "prompt_number": 2,
       "text": [
        "'\\nM = 10.0**11.0 # Victim galaxy in solar masses\\nS = M # For example a and b\\ngamma = 4.494 * 10 **-8 #Gravity in big units\\nrx = partx #X position of massless particle\\nry = party #Y position of massless particle\\nRRx = Sxpos #X position of Disruptor Galaxy == position vector from victim galaxy\\nRRy = Sxpos #Y position of Disruptor Galaxy == position vector from victim galaxy\\nrhox = RRx - rx \\nrhoy = RRy - ry\\nxposition = motion[0]\\nxvelocity = motion[1]\\ndxposition = velocity\\ndvelx = -gamma*((M/(rx**3))-(S/(rhox**3))+(S/(RRx**3)))\\ndvely = -gamma*((M/(ry**3))-(S/(rhoy**3))+(S/(RRy**3)))\\nreturn np.array(dxposition,dvelx)\\nreturn np.array(dxposition,dvely)\\n'"
       ]
      }
     ],
     "prompt_number": 2
    },
    {
     "cell_type": "code",
     "collapsed": false,
     "input": [
      "#Derivative Formula for ODEint\n",
      "def gmd(values,t,M,S,G,): #gmd = galaxy motion derivatives\n",
      "    Rx = values[0]\n",
      "    Rxv = values[1]\n",
      "    Ry = values[2]\n",
      "    Ryv = values[3]\n",
      "    Rxdot = -G*S*M/(Rx**3)\n",
      "    Rydot = -G*S*M/(Ry**3)\n",
      "    return np.array([Rxv,Rxdot,Ryv,Rydot])\n",
      "#Constants\n",
      "M = 10.0**11.0 # Victim galaxy in solar masses\n",
      "S = M # For example a and b\n",
      "G = 4.494 * 10 **(-8) #Gravity in big units\n",
      "\n",
      "initialvalues = [-0.1,17.,25.,0.] #[x position,x velocity, y position, y velocity]\n",
      "time = np.arange(0.,10.,.1)\n",
      "motion = odeint(gmd,initialvalues,time,args=(M,S,G))\n",
      "plt.plot(motion[:,0],motion[:,1])"
     ],
     "language": "python",
     "metadata": {},
     "outputs": [
      {
       "output_type": "stream",
       "stream": "stdout",
       "text": [
        "Excess work done on this call (perhaps wrong Dfun type).\n",
        "Run with full_output = 1 to get quantitative information.\n"
       ]
      },
      {
       "metadata": {},
       "output_type": "pyout",
       "prompt_number": 14,
       "text": [
        "[<matplotlib.lines.Line2D at 0x106a8b490>]"
       ]
      },
      {
       "metadata": {},
       "output_type": "display_data",
       "png": "[encoded data removed]",
       "text": [
        "<matplotlib.figure.Figure at 0x1062a0510>"
       ]
      }
     ],
     "prompt_number": 14
    },
    {
     "cell_type": "code",
     "collapsed": false,
     "input": [
      "#Ry = values[2]\n",
      " #   Ryv = values[3]"
     ],
     "language": "python",
     "metadata": {},
     "outputs": []
    }
   ],
   "metadata": {}
  }
 ]
}