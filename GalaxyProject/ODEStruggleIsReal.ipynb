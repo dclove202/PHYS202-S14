{
 "metadata": {
  "name": "",
  "signature": "sha256:38eccf1de4a4ed0d90b2829ab5f3f4a198dfeef11df0818f8aeb6deed86496a2"
 },
 "nbformat": 3,
 "nbformat_minor": 0,
 "worksheets": [
  {
   "cells": [
    {
     "cell_type": "heading",
     "level": 1,
     "metadata": {},
     "source": [
      "The Struggle is Real"
     ]
    },
    {
     "cell_type": "code",
     "collapsed": false,
     "input": [
      "%pylab inline\n",
      "import numpy as np\n",
      "from matplotlib import pyplot as plt\n",
      "from scipy.integrate import odeint"
     ],
     "language": "python",
     "metadata": {},
     "outputs": [
      {
       "output_type": "stream",
       "stream": "stdout",
       "text": [
        "Populating the interactive namespace from numpy and matplotlib\n"
       ]
      }
     ],
     "prompt_number": 1
    },
    {
     "cell_type": "heading",
     "level": 2,
     "metadata": {},
     "source": [
      "Test for Plotting The Galaxy (equal mass, parabolic)"
     ]
    },
    {
     "cell_type": "code",
     "collapsed": false,
     "input": [
      "G = 4.499736* 10**-8 # G in kiloparsecs, solar masses, and millions of years.\n",
      "# Intial conditions of disruptor mass\n",
      "Rmin = 25.0 # Rmin, where we will start the particle (Xo)\n",
      "M = 10**11 #Solar Masses\n",
      "S = M\n",
      "\n",
      "v =sqrt(G*(M+S)/Rmin) # Gives circular velocity  to help determine initial condition\n",
      "\n",
      "# Using input to vary initial conditions conveniently\n",
      "\n",
      "vy0 = -10.\n",
      "\n",
      "#Using the inputted initial conditions to set the disruptor \n",
      "#on the x axis with the victim speeding directly in the Y direction\n",
      "#initial conditions have format [x,y,vx,vy]\n",
      "it = [Rmin, 0, 0, vy0]   \n",
      "\n",
      "# creating a time array that can be adjusted\n",
      "tinit = 0.\n",
      "tfin = 10\n",
      "timestep = .01\n",
      "t = arange(tinit,tfin,timestep)   \n",
      "\n",
      "#Galaxy motion deriviate function for odeint\n",
      "\n",
      "def gmd(inits,time):\n",
      "    f=zeros(4)\n",
      "    f[0] = inits[2]\n",
      "    f[1] = inits[3]\n",
      "    R = sqrt(inits[0]**2 + inits[1]**2)\n",
      "    f[2] = -(G*(M+S)*inits[0])/R**3\n",
      "    f[3] = -(G*(M+S)*inits[1])/R**3\n",
      "    return f\n",
      "\n",
      "#Using odeint to return an array with [time,initial condition]\n",
      "z = odeint(gmd,it,t) \n",
      "\n",
      "#Setting variables for the arrays of conditions\n",
      "x = z[:,0]               \n",
      "y = z[:,1]  \n",
      "vx = z[:,2] \n",
      "vy = z[:,3]"
     ],
     "language": "python",
     "metadata": {},
     "outputs": [],
     "prompt_number": 101
    },
    {
     "cell_type": "code",
     "collapsed": false,
     "input": [
      "### ODE attempt for position of massless particles ###\n",
      "\n",
      "\n",
      "## Creating Arrays for Star Postitions\n",
      "def ring(ringnumber):\n",
      "    #Creates an x and y position array for a given ring of stars\n",
      "    r = ((ringnumber + 1.)/10.)*25.\n",
      "    nstars = 6.*(ringnumber+1.)\n",
      "    theta = (2*np.pi)/nstars\n",
      "    xpositions = np.zeros(nstars)\n",
      "    ypositions = np.zeros(nstars)\n",
      "    for i in range(6*(ringnumber+1)):\n",
      "        xpositions[i] = r*np.cos(i*theta) \n",
      "        ypositions[i] = r*np.sin(i*theta)\n",
      "    return float(r),int(nstars),xpositions, ypositions,theta\n",
      "\n",
      "xlst = []\n",
      "ylst = []\n",
      "thet = []\n",
      "for i in range(1,6):\n",
      "    r,n,x,y,theta = ring(i)\n",
      "    G = 4.499736* 10**-8\n",
      "    M = 10.**11\n",
      "    r = r\n",
      "    for b in range(n):\n",
      "        xlst.append(x[b])\n",
      "        ylst.append(y[b])\n",
      "        thet.append(theta*b)\n",
      "th = np.array(thet)\n",
      "xp = np.array(xlst)\n",
      "yp = np.array(ylst)\n",
      "\n",
      "\n",
      "        \n",
      "\n",
      "\n",
      "## Defining Constants\n",
      "M = 10.0**11.00\n",
      "S = 0.0\n",
      "G = 4.499736* 10**-8\n",
      "xvp = []\n",
      "yvp = []\n",
      "a = np.pi/2 # Orthogonalizer\n",
      "for i in range(120):\n",
      "    vy = np.sqrt(xp[i]**2 + yp[i]**2)*np.sin(a+th[i])\n",
      "    yvp.append(vy)\n",
      "yvp = np.array(yvp)\n",
      "for i in range(120):\n",
      "    vx = np.sqrt(xp[i]**2 + yp[i]**2)*np.cos(a+th[i])\n",
      "    xvp.append(vx)\n",
      "xvp = np.array(xvp)\n",
      "\n",
      "\n",
      "#Initials has form [x,y,vx,vy]\n",
      "#Iterating through every star and velocity\n",
      "for i in range(120):\n",
      "    initials = [xp[i],yp[i],xvp[i],yvp[i]]\n",
      "    time = np.arange(0.,10,.01)\n",
      "#Function to feed odeint\n",
      "    def motion(initials,time):\n",
      "        a = np.zeros(4)\n",
      "        a[0] = initials[2]\n",
      "        a[1] = initials[3]\n",
      "        R = np.sqrt(initials[0]**2 + initials[1]**2)\n",
      "        a[2] = (-G*M*initials[0]/R**3)\n",
      "        a[3] = (-G*M*initials[1]/R**3)\n",
      "        return a\n",
      "    w = odeint(motion,initials,time)\n",
      "    xp1 = w[:,0]\n",
      "    yp1 = w[:,1]\n",
      "    xvp1 = w[:,2]\n",
      "    yvp1 = w[:,3]"
     ],
     "language": "python",
     "metadata": {},
     "outputs": [],
     "prompt_number": 103
    },
    {
     "cell_type": "code",
     "collapsed": false,
     "input": [],
     "language": "python",
     "metadata": {},
     "outputs": [],
     "prompt_number": 120
    },
    {
     "cell_type": "code",
     "collapsed": false,
     "input": [
      "### Attempting to solve the grand daddy ODE\n",
      "\n",
      "\n",
      "#Constants\n",
      "M = 10.0**11.00\n",
      "S = M\n",
      "G = 4.5*10**-8\n",
      "\n",
      "#Time\n",
      "t = np.arange(0.,1.,.1)\n",
      "\n",
      "#Test moment for outer right star \n",
      "#And for highest point of galactic elliptic orbit\n",
      "#Array of Initial Conditions of form:\n",
      "\n",
      "#[[0]px,[1]py,[2]px vel,[3]py vel,[4]Sx,[5]Sy,[6]Sx vel,[7]Sy vel]\n",
      "\n",
      "moment = [15.,0.,0.,17.32,-13.140, 35.805, 15.361, 0.]\n",
      "\n",
      "#Function To pass into odeint\n",
      "\n",
      "def disruption(moment,t):\n",
      "    g = np.zeros(4)\n",
      "    g[0] = moment[2]\n",
      "    g[1] = moment[3]\n",
      "    rx = moment[0]\n",
      "    ry = moment[1]\n",
      "    Rx = -G*(M+S)/(moment[5]**3)\n",
      "    Ry = -G*(M+S)/(moment[6]**3)\n",
      "    rhox = \n",
      "    g[2] = -G*((M/(rxx**3))-(S/((moment[4]-rxx)**3))+(S/(moment[4]**3)))\n",
      "    g[3] = -G*((M/(ryy**3))-(S/((moment[5]-ryy)**3))+(S/(moment[5]**3)))\n",
      "    return g\n",
      "\n",
      "#Passing Disruption function to odeint\n",
      "\n",
      "rr = odeint(disruption,moment,t)\n",
      "ppx = rr[:,0]\n",
      "ppy = rr[:,1]\n",
      "ppvx = rr[:,2]\n",
      "ppvy = rr[:,3]\n",
      "\n",
      "plt.plot(ppx,ppy)\n",
      "plt.scatter(0,0,s=100,color='b')\n",
      "plt.show()\n",
      "\n"
     ],
     "language": "python",
     "metadata": {},
     "outputs": [
      {
       "output_type": "stream",
       "stream": "stdout",
       "text": [
        "Illegal input detected (internal error).\n",
        "Run with full_output = 1 to get quantitative information.\n"
       ]
      },
      {
       "metadata": {},
       "output_type": "display_data",
       "png": "[encoded data removed]",
       "text": [
        "<matplotlib.figure.Figure at 0x10742d190>"
       ]
      }
     ],
     "prompt_number": 133
    },
    {
     "cell_type": "code",
     "collapsed": false,
     "input": [],
     "language": "python",
     "metadata": {},
     "outputs": []
    },
    {
     "cell_type": "code",
     "collapsed": false,
     "input": [
      "'''\n",
      "#Arrays defining the particles around\n",
      "#The 'Victim' galaxy, with modified variable names\n",
      "px = xp\n",
      "py = yp\n",
      "ptheta = th\n",
      "pvx = xvp\n",
      "pyx = yvp\n",
      "#Arrays defining the position of the disruptor galaxy\n",
      "Sx = x\n",
      "Sy = y\n",
      "Svx = vx\n",
      "Svy = vy\n",
      "'''\n",
      "\n",
      "'''\n",
      "px = partx #X position of massless particle\n",
      "ry = party #Y position of massless particle\n",
      "RRx = Sxpos #X position of Disruptor Galaxy == position vector from victim galaxy\n",
      "RRy = Sxpos #Y position of Disruptor Galaxy == position vector from victim galaxy\n",
      "rhox = RRx - rx \n",
      "rhoy = RRy - ry\n",
      "xposition = motion[0]\n",
      "xvelocity = motion[1]\n",
      "dxposition = velocity\n",
      "dvelx = -gamma*((M/(rx**3))-(S/(rhox**3))+(S/(RRx**3)))\n",
      "dvely = -gamma*((M/(ry**3))-(S/(rhoy**3))+(S/(RRy**3)))\n",
      "'''"
     ],
     "language": "python",
     "metadata": {},
     "outputs": [
      {
       "output_type": "stream",
       "stream": "stdout",
       "text": [
        "Excess work done on this call (perhaps wrong Dfun type).\n",
        "Run with full_output = 1 to get quantitative information.\n"
       ]
      },
      {
       "metadata": {},
       "output_type": "pyout",
       "prompt_number": 14,
       "text": [
        "[<matplotlib.lines.Line2D at 0x106a8b490>]"
       ]
      },
      {
       "metadata": {},
       "output_type": "display_data",
       "png": "[encoded data removed]",
       "text": [
        "<matplotlib.figure.Figure at 0x1062a0510>"
       ]
      }
     ],
     "prompt_number": 14
    },
    {
     "cell_type": "code",
     "collapsed": false,
     "input": [],
     "language": "python",
     "metadata": {},
     "outputs": []
    }
   ],
   "metadata": {}
  }
 ]
}