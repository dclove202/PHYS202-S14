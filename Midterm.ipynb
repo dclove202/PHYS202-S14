{
 "metadata": {
  "name": "",
  "signature": "sha256:12449e9d3a05196479187e5b99657bcaa7906cd1c449a84333bbcbd2831ad085"
 },
 "nbformat": 3,
 "nbformat_minor": 0,
 "worksheets": [
  {
   "cells": [
    {
     "cell_type": "heading",
     "level": 1,
     "metadata": {},
     "source": [
      "Midterm"
     ]
    },
    {
     "cell_type": "heading",
     "level": 2,
     "metadata": {},
     "source": [
      "Question 1"
     ]
    },
    {
     "cell_type": "code",
     "collapsed": false,
     "input": [
      "prefixes = 'JKLMNOPQ'\n",
      "suffix = 'ack'\n",
      "for letter in prefixes:\n",
      "    if letter == 'O' or letter == 'Q':\n",
      "        print letter + 'u' + suffix\n",
      "    else:\n",
      "        print letter + suffix"
     ],
     "language": "python",
     "metadata": {},
     "outputs": [
      {
       "output_type": "stream",
       "stream": "stdout",
       "text": [
        "Jack\n",
        "Kack\n",
        "Lack\n",
        "Mack\n",
        "Nack\n",
        "Ouack\n",
        "Pack\n",
        "Quack\n"
       ]
      }
     ],
     "prompt_number": 3
    },
    {
     "cell_type": "heading",
     "level": 2,
     "metadata": {},
     "source": [
      "Question 2"
     ]
    },
    {
     "cell_type": "code",
     "collapsed": false,
     "input": [
      "from ipythonblocks import BlockGrid\n",
      "from ipythonblocks import colors\n",
      "grid = BlockGrid(8, 8, fill=(123,234,123))\n",
      "for column_number in range(1, 5):\n",
      "    grid[7, column_number] = colors['Black']\n",
      "for row_number in range(2, 7):\n",
      "    grid[row_number, 1] = colors['Black']\n",
      "grid"
     ],
     "language": "python",
     "metadata": {},
     "outputs": [
      {
       "html": [
        "<style type=\"text/css\">table.blockgrid {border: none;} .blockgrid tr {border: none;} .blockgrid td {padding: 0px;} #blocks4f3e3c96-80aa-47f1-a436-baccd6fe6737 td {border: 1px solid white;}</style><table id=\"blocks4f3e3c96-80aa-47f1-a436-baccd6fe6737\" class=\"blockgrid\"><tbody><tr><td title=\"Index: [0, 0]&#10;Color: (123, 234, 123)\" style=\"width: 20px; height: 20px;background-color: rgb(123, 234, 123);\"></td><td title=\"Index: [0, 1]&#10;Color: (123, 234, 123)\" style=\"width: 20px; height: 20px;background-color: rgb(123, 234, 123);\"></td><td title=\"Index: [0, 2]&#10;Color: (123, 234, 123)\" style=\"width: 20px; height: 20px;background-color: rgb(123, 234, 123);\"></td><td title=\"Index: [0, 3]&#10;Color: (123, 234, 123)\" style=\"width: 20px; height: 20px;background-color: rgb(123, 234, 123);\"></td><td title=\"Index: [0, 4]&#10;Color: (123, 234, 123)\" style=\"width: 20px; height: 20px;background-color: rgb(123, 234, 123);\"></td><td title=\"Index: [0, 5]&#10;Color: (123, 234, 123)\" style=\"width: 20px; height: 20px;background-color: rgb(123, 234, 123);\"></td><td title=\"Index: [0, 6]&#10;Color: (123, 234, 123)\" style=\"width: 20px; height: 20px;background-color: rgb(123, 234, 123);\"></td><td title=\"Index: [0, 7]&#10;Color: (123, 234, 123)\" style=\"width: 20px; height: 20px;background-color: rgb(123, 234, 123);\"></td></tr><tr><td title=\"Index: [1, 0]&#10;Color: (123, 234, 123)\" style=\"width: 20px; height: 20px;background-color: rgb(123, 234, 123);\"></td><td title=\"Index: [1, 1]&#10;Color: (123, 234, 123)\" style=\"width: 20px; height: 20px;background-color: rgb(123, 234, 123);\"></td><td title=\"Index: [1, 2]&#10;Color: (123, 234, 123)\" style=\"width: 20px; height: 20px;background-color: rgb(123, 234, 123);\"></td><td title=\"Index: [1, 3]&#10;Color: (123, 234, 123)\" style=\"width: 20px; height: 20px;background-color: rgb(123, 234, 123);\"></td><td title=\"Index: [1, 4]&#10;Color: (123, 234, 123)\" style=\"width: 20px; height: 20px;background-color: rgb(123, 234, 123);\"></td><td title=\"Index: [1, 5]&#10;Color: (123, 234, 123)\" style=\"width: 20px; height: 20px;background-color: rgb(123, 234, 123);\"></td><td title=\"Index: [1, 6]&#10;Color: (123, 234, 123)\" style=\"width: 20px; height: 20px;background-color: rgb(123, 234, 123);\"></td><td title=\"Index: [1, 7]&#10;Color: (123, 234, 123)\" style=\"width: 20px; height: 20px;background-color: rgb(123, 234, 123);\"></td></tr><tr><td title=\"Index: [2, 0]&#10;Color: (123, 234, 123)\" style=\"width: 20px; height: 20px;background-color: rgb(123, 234, 123);\"></td><td title=\"Index: [2, 1]&#10;Color: (0, 0, 0)\" style=\"width: 20px; height: 20px;background-color: rgb(0, 0, 0);\"></td><td title=\"Index: [2, 2]&#10;Color: (123, 234, 123)\" style=\"width: 20px; height: 20px;background-color: rgb(123, 234, 123);\"></td><td title=\"Index: [2, 3]&#10;Color: (123, 234, 123)\" style=\"width: 20px; height: 20px;background-color: rgb(123, 234, 123);\"></td><td title=\"Index: [2, 4]&#10;Color: (123, 234, 123)\" style=\"width: 20px; height: 20px;background-color: rgb(123, 234, 123);\"></td><td title=\"Index: [2, 5]&#10;Color: (123, 234, 123)\" style=\"width: 20px; height: 20px;background-color: rgb(123, 234, 123);\"></td><td title=\"Index: [2, 6]&#10;Color: (123, 234, 123)\" style=\"width: 20px; height: 20px;background-color: rgb(123, 234, 123);\"></td><td title=\"Index: [2, 7]&#10;Color: (123, 234, 123)\" style=\"width: 20px; height: 20px;background-color: rgb(123, 234, 123);\"></td></tr><tr><td title=\"Index: [3, 0]&#10;Color: (123, 234, 123)\" style=\"width: 20px; height: 20px;background-color: rgb(123, 234, 123);\"></td><td title=\"Index: [3, 1]&#10;Color: (0, 0, 0)\" style=\"width: 20px; height: 20px;background-color: rgb(0, 0, 0);\"></td><td title=\"Index: [3, 2]&#10;Color: (123, 234, 123)\" style=\"width: 20px; height: 20px;background-color: rgb(123, 234, 123);\"></td><td title=\"Index: [3, 3]&#10;Color: (123, 234, 123)\" style=\"width: 20px; height: 20px;background-color: rgb(123, 234, 123);\"></td><td title=\"Index: [3, 4]&#10;Color: (123, 234, 123)\" style=\"width: 20px; height: 20px;background-color: rgb(123, 234, 123);\"></td><td title=\"Index: [3, 5]&#10;Color: (123, 234, 123)\" style=\"width: 20px; height: 20px;background-color: rgb(123, 234, 123);\"></td><td title=\"Index: [3, 6]&#10;Color: (123, 234, 123)\" style=\"width: 20px; height: 20px;background-color: rgb(123, 234, 123);\"></td><td title=\"Index: [3, 7]&#10;Color: (123, 234, 123)\" style=\"width: 20px; height: 20px;background-color: rgb(123, 234, 123);\"></td></tr><tr><td title=\"Index: [4, 0]&#10;Color: (123, 234, 123)\" style=\"width: 20px; height: 20px;background-color: rgb(123, 234, 123);\"></td><td title=\"Index: [4, 1]&#10;Color: (0, 0, 0)\" style=\"width: 20px; height: 20px;background-color: rgb(0, 0, 0);\"></td><td title=\"Index: [4, 2]&#10;Color: (123, 234, 123)\" style=\"width: 20px; height: 20px;background-color: rgb(123, 234, 123);\"></td><td title=\"Index: [4, 3]&#10;Color: (123, 234, 123)\" style=\"width: 20px; height: 20px;background-color: rgb(123, 234, 123);\"></td><td title=\"Index: [4, 4]&#10;Color: (123, 234, 123)\" style=\"width: 20px; height: 20px;background-color: rgb(123, 234, 123);\"></td><td title=\"Index: [4, 5]&#10;Color: (123, 234, 123)\" style=\"width: 20px; height: 20px;background-color: rgb(123, 234, 123);\"></td><td title=\"Index: [4, 6]&#10;Color: (123, 234, 123)\" style=\"width: 20px; height: 20px;background-color: rgb(123, 234, 123);\"></td><td title=\"Index: [4, 7]&#10;Color: (123, 234, 123)\" style=\"width: 20px; height: 20px;background-color: rgb(123, 234, 123);\"></td></tr><tr><td title=\"Index: [5, 0]&#10;Color: (123, 234, 123)\" style=\"width: 20px; height: 20px;background-color: rgb(123, 234, 123);\"></td><td title=\"Index: [5, 1]&#10;Color: (0, 0, 0)\" style=\"width: 20px; height: 20px;background-color: rgb(0, 0, 0);\"></td><td title=\"Index: [5, 2]&#10;Color: (123, 234, 123)\" style=\"width: 20px; height: 20px;background-color: rgb(123, 234, 123);\"></td><td title=\"Index: [5, 3]&#10;Color: (123, 234, 123)\" style=\"width: 20px; height: 20px;background-color: rgb(123, 234, 123);\"></td><td title=\"Index: [5, 4]&#10;Color: (123, 234, 123)\" style=\"width: 20px; height: 20px;background-color: rgb(123, 234, 123);\"></td><td title=\"Index: [5, 5]&#10;Color: (123, 234, 123)\" style=\"width: 20px; height: 20px;background-color: rgb(123, 234, 123);\"></td><td title=\"Index: [5, 6]&#10;Color: (123, 234, 123)\" style=\"width: 20px; height: 20px;background-color: rgb(123, 234, 123);\"></td><td title=\"Index: [5, 7]&#10;Color: (123, 234, 123)\" style=\"width: 20px; height: 20px;background-color: rgb(123, 234, 123);\"></td></tr><tr><td title=\"Index: [6, 0]&#10;Color: (123, 234, 123)\" style=\"width: 20px; height: 20px;background-color: rgb(123, 234, 123);\"></td><td title=\"Index: [6, 1]&#10;Color: (0, 0, 0)\" style=\"width: 20px; height: 20px;background-color: rgb(0, 0, 0);\"></td><td title=\"Index: [6, 2]&#10;Color: (123, 234, 123)\" style=\"width: 20px; height: 20px;background-color: rgb(123, 234, 123);\"></td><td title=\"Index: [6, 3]&#10;Color: (123, 234, 123)\" style=\"width: 20px; height: 20px;background-color: rgb(123, 234, 123);\"></td><td title=\"Index: [6, 4]&#10;Color: (123, 234, 123)\" style=\"width: 20px; height: 20px;background-color: rgb(123, 234, 123);\"></td><td title=\"Index: [6, 5]&#10;Color: (123, 234, 123)\" style=\"width: 20px; height: 20px;background-color: rgb(123, 234, 123);\"></td><td title=\"Index: [6, 6]&#10;Color: (123, 234, 123)\" style=\"width: 20px; height: 20px;background-color: rgb(123, 234, 123);\"></td><td title=\"Index: [6, 7]&#10;Color: (123, 234, 123)\" style=\"width: 20px; height: 20px;background-color: rgb(123, 234, 123);\"></td></tr><tr><td title=\"Index: [7, 0]&#10;Color: (123, 234, 123)\" style=\"width: 20px; height: 20px;background-color: rgb(123, 234, 123);\"></td><td title=\"Index: [7, 1]&#10;Color: (0, 0, 0)\" style=\"width: 20px; height: 20px;background-color: rgb(0, 0, 0);\"></td><td title=\"Index: [7, 2]&#10;Color: (0, 0, 0)\" style=\"width: 20px; height: 20px;background-color: rgb(0, 0, 0);\"></td><td title=\"Index: [7, 3]&#10;Color: (0, 0, 0)\" style=\"width: 20px; height: 20px;background-color: rgb(0, 0, 0);\"></td><td title=\"Index: [7, 4]&#10;Color: (0, 0, 0)\" style=\"width: 20px; height: 20px;background-color: rgb(0, 0, 0);\"></td><td title=\"Index: [7, 5]&#10;Color: (123, 234, 123)\" style=\"width: 20px; height: 20px;background-color: rgb(123, 234, 123);\"></td><td title=\"Index: [7, 6]&#10;Color: (123, 234, 123)\" style=\"width: 20px; height: 20px;background-color: rgb(123, 234, 123);\"></td><td title=\"Index: [7, 7]&#10;Color: (123, 234, 123)\" style=\"width: 20px; height: 20px;background-color: rgb(123, 234, 123);\"></td></tr></tbody></table>"
       ],
       "metadata": {},
       "output_type": "pyout",
       "prompt_number": 9,
       "text": [
        "<ipythonblocks.ipythonblocks.BlockGrid at 0x1024a58d0>"
       ]
      }
     ],
     "prompt_number": 9
    },
    {
     "cell_type": "heading",
     "level": 2,
     "metadata": {},
     "source": [
      "Question 3"
     ]
    },
    {
     "cell_type": "code",
     "collapsed": false,
     "input": [
      "for i in range(1, 100):\n",
      "    print \"99 bottles of beer on the wall, 99 bottles of beer.\"\n",
      "    print \"Take one down, pass it around, \" + str(99-i) + \" bottles of beer on the wall.\""
     ],
     "language": "python",
     "metadata": {},
     "outputs": [
      {
       "output_type": "stream",
       "stream": "stdout",
       "text": [
        "99 bottles of beer on the wall, 99 bottles of beer.\n",
        "Take one down, pass it around, 98 bottles of beer on the wall.\n",
        "99 bottles of beer on the wall, 99 bottles of beer.\n",
        "Take one down, pass it around, 97 bottles of beer on the wall.\n",
        "99 bottles of beer on the wall, 99 bottles of beer.\n",
        "Take one down, pass it around, 96 bottles of beer on the wall.\n",
        "99 bottles of beer on the wall, 99 bottles of beer.\n",
        "Take one down, pass it around, 95 bottles of beer on the wall.\n",
        "99 bottles of beer on the wall, 99 bottles of beer.\n",
        "Take one down, pass it around, 94 bottles of beer on the wall.\n",
        "99 bottles of beer on the wall, 99 bottles of beer.\n",
        "Take one down, pass it around, 93 bottles of beer on the wall.\n",
        "99 bottles of beer on the wall, 99 bottles of beer.\n",
        "Take one down, pass it around, 92 bottles of beer on the wall.\n",
        "99 bottles of beer on the wall, 99 bottles of beer.\n",
        "Take one down, pass it around, 91 bottles of beer on the wall.\n",
        "99 bottles of beer on the wall, 99 bottles of beer.\n",
        "Take one down, pass it around, 90 bottles of beer on the wall.\n",
        "99 bottles of beer on the wall, 99 bottles of beer.\n",
        "Take one down, pass it around, 89 bottles of beer on the wall.\n",
        "99 bottles of beer on the wall, 99 bottles of beer.\n",
        "Take one down, pass it around, 88 bottles of beer on the wall.\n",
        "99 bottles of beer on the wall, 99 bottles of beer.\n",
        "Take one down, pass it around, 87 bottles of beer on the wall.\n",
        "99 bottles of beer on the wall, 99 bottles of beer.\n",
        "Take one down, pass it around, 86 bottles of beer on the wall.\n",
        "99 bottles of beer on the wall, 99 bottles of beer.\n",
        "Take one down, pass it around, 85 bottles of beer on the wall.\n",
        "99 bottles of beer on the wall, 99 bottles of beer.\n",
        "Take one down, pass it around, 84 bottles of beer on the wall.\n",
        "99 bottles of beer on the wall, 99 bottles of beer.\n",
        "Take one down, pass it around, 83 bottles of beer on the wall.\n",
        "99 bottles of beer on the wall, 99 bottles of beer.\n",
        "Take one down, pass it around, 82 bottles of beer on the wall.\n",
        "99 bottles of beer on the wall, 99 bottles of beer.\n",
        "Take one down, pass it around, 81 bottles of beer on the wall.\n",
        "99 bottles of beer on the wall, 99 bottles of beer.\n",
        "Take one down, pass it around, 80 bottles of beer on the wall.\n",
        "99 bottles of beer on the wall, 99 bottles of beer.\n",
        "Take one down, pass it around, 79 bottles of beer on the wall.\n",
        "99 bottles of beer on the wall, 99 bottles of beer.\n",
        "Take one down, pass it around, 78 bottles of beer on the wall.\n",
        "99 bottles of beer on the wall, 99 bottles of beer.\n",
        "Take one down, pass it around, 77 bottles of beer on the wall.\n",
        "99 bottles of beer on the wall, 99 bottles of beer.\n",
        "Take one down, pass it around, 76 bottles of beer on the wall.\n",
        "99 bottles of beer on the wall, 99 bottles of beer.\n",
        "Take one down, pass it around, 75 bottles of beer on the wall.\n",
        "99 bottles of beer on the wall, 99 bottles of beer.\n",
        "Take one down, pass it around, 74 bottles of beer on the wall.\n",
        "99 bottles of beer on the wall, 99 bottles of beer.\n",
        "Take one down, pass it around, 73 bottles of beer on the wall.\n",
        "99 bottles of beer on the wall, 99 bottles of beer.\n",
        "Take one down, pass it around, 72 bottles of beer on the wall.\n",
        "99 bottles of beer on the wall, 99 bottles of beer.\n",
        "Take one down, pass it around, 71 bottles of beer on the wall.\n",
        "99 bottles of beer on the wall, 99 bottles of beer.\n",
        "Take one down, pass it around, 70 bottles of beer on the wall.\n",
        "99 bottles of beer on the wall, 99 bottles of beer.\n",
        "Take one down, pass it around, 69 bottles of beer on the wall.\n",
        "99 bottles of beer on the wall, 99 bottles of beer.\n",
        "Take one down, pass it around, 68 bottles of beer on the wall.\n",
        "99 bottles of beer on the wall, 99 bottles of beer.\n",
        "Take one down, pass it around, 67 bottles of beer on the wall.\n",
        "99 bottles of beer on the wall, 99 bottles of beer.\n",
        "Take one down, pass it around, 66 bottles of beer on the wall.\n",
        "99 bottles of beer on the wall, 99 bottles of beer.\n",
        "Take one down, pass it around, 65 bottles of beer on the wall.\n",
        "99 bottles of beer on the wall, 99 bottles of beer.\n",
        "Take one down, pass it around, 64 bottles of beer on the wall.\n",
        "99 bottles of beer on the wall, 99 bottles of beer.\n",
        "Take one down, pass it around, 63 bottles of beer on the wall.\n",
        "99 bottles of beer on the wall, 99 bottles of beer.\n",
        "Take one down, pass it around, 62 bottles of beer on the wall.\n",
        "99 bottles of beer on the wall, 99 bottles of beer.\n",
        "Take one down, pass it around, 61 bottles of beer on the wall.\n",
        "99 bottles of beer on the wall, 99 bottles of beer.\n",
        "Take one down, pass it around, 60 bottles of beer on the wall.\n",
        "99 bottles of beer on the wall, 99 bottles of beer.\n",
        "Take one down, pass it around, 59 bottles of beer on the wall.\n",
        "99 bottles of beer on the wall, 99 bottles of beer.\n",
        "Take one down, pass it around, 58 bottles of beer on the wall.\n",
        "99 bottles of beer on the wall, 99 bottles of beer.\n",
        "Take one down, pass it around, 57 bottles of beer on the wall.\n",
        "99 bottles of beer on the wall, 99 bottles of beer.\n",
        "Take one down, pass it around, 56 bottles of beer on the wall.\n",
        "99 bottles of beer on the wall, 99 bottles of beer.\n",
        "Take one down, pass it around, 55 bottles of beer on the wall.\n",
        "99 bottles of beer on the wall, 99 bottles of beer.\n",
        "Take one down, pass it around, 54 bottles of beer on the wall.\n",
        "99 bottles of beer on the wall, 99 bottles of beer.\n",
        "Take one down, pass it around, 53 bottles of beer on the wall.\n",
        "99 bottles of beer on the wall, 99 bottles of beer.\n",
        "Take one down, pass it around, 52 bottles of beer on the wall.\n",
        "99 bottles of beer on the wall, 99 bottles of beer.\n",
        "Take one down, pass it around, 51 bottles of beer on the wall.\n",
        "99 bottles of beer on the wall, 99 bottles of beer.\n",
        "Take one down, pass it around, 50 bottles of beer on the wall.\n",
        "99 bottles of beer on the wall, 99 bottles of beer.\n",
        "Take one down, pass it around, 49 bottles of beer on the wall.\n",
        "99 bottles of beer on the wall, 99 bottles of beer.\n",
        "Take one down, pass it around, 48 bottles of beer on the wall.\n",
        "99 bottles of beer on the wall, 99 bottles of beer.\n",
        "Take one down, pass it around, 47 bottles of beer on the wall.\n",
        "99 bottles of beer on the wall, 99 bottles of beer.\n",
        "Take one down, pass it around, 46 bottles of beer on the wall.\n",
        "99 bottles of beer on the wall, 99 bottles of beer.\n",
        "Take one down, pass it around, 45 bottles of beer on the wall.\n",
        "99 bottles of beer on the wall, 99 bottles of beer.\n",
        "Take one down, pass it around, 44 bottles of beer on the wall.\n",
        "99 bottles of beer on the wall, 99 bottles of beer.\n",
        "Take one down, pass it around, 43 bottles of beer on the wall.\n",
        "99 bottles of beer on the wall, 99 bottles of beer.\n",
        "Take one down, pass it around, 42 bottles of beer on the wall.\n",
        "99 bottles of beer on the wall, 99 bottles of beer.\n",
        "Take one down, pass it around, 41 bottles of beer on the wall.\n",
        "99 bottles of beer on the wall, 99 bottles of beer.\n",
        "Take one down, pass it around, 40 bottles of beer on the wall.\n",
        "99 bottles of beer on the wall, 99 bottles of beer.\n",
        "Take one down, pass it around, 39 bottles of beer on the wall.\n",
        "99 bottles of beer on the wall, 99 bottles of beer.\n",
        "Take one down, pass it around, 38 bottles of beer on the wall.\n",
        "99 bottles of beer on the wall, 99 bottles of beer.\n",
        "Take one down, pass it around, 37 bottles of beer on the wall.\n",
        "99 bottles of beer on the wall, 99 bottles of beer.\n",
        "Take one down, pass it around, 36 bottles of beer on the wall.\n",
        "99 bottles of beer on the wall, 99 bottles of beer.\n",
        "Take one down, pass it around, 35 bottles of beer on the wall.\n",
        "99 bottles of beer on the wall, 99 bottles of beer.\n",
        "Take one down, pass it around, 34 bottles of beer on the wall.\n",
        "99 bottles of beer on the wall, 99 bottles of beer.\n",
        "Take one down, pass it around, 33 bottles of beer on the wall.\n",
        "99 bottles of beer on the wall, 99 bottles of beer.\n",
        "Take one down, pass it around, 32 bottles of beer on the wall.\n",
        "99 bottles of beer on the wall, 99 bottles of beer.\n",
        "Take one down, pass it around, 31 bottles of beer on the wall.\n",
        "99 bottles of beer on the wall, 99 bottles of beer.\n",
        "Take one down, pass it around, 30 bottles of beer on the wall.\n",
        "99 bottles of beer on the wall, 99 bottles of beer.\n",
        "Take one down, pass it around, 29 bottles of beer on the wall.\n",
        "99 bottles of beer on the wall, 99 bottles of beer.\n",
        "Take one down, pass it around, 28 bottles of beer on the wall.\n",
        "99 bottles of beer on the wall, 99 bottles of beer.\n",
        "Take one down, pass it around, 27 bottles of beer on the wall.\n",
        "99 bottles of beer on the wall, 99 bottles of beer.\n",
        "Take one down, pass it around, 26 bottles of beer on the wall.\n",
        "99 bottles of beer on the wall, 99 bottles of beer.\n",
        "Take one down, pass it around, 25 bottles of beer on the wall.\n",
        "99 bottles of beer on the wall, 99 bottles of beer.\n",
        "Take one down, pass it around, 24 bottles of beer on the wall.\n",
        "99 bottles of beer on the wall, 99 bottles of beer.\n",
        "Take one down, pass it around, 23 bottles of beer on the wall.\n",
        "99 bottles of beer on the wall, 99 bottles of beer.\n",
        "Take one down, pass it around, 22 bottles of beer on the wall.\n",
        "99 bottles of beer on the wall, 99 bottles of beer.\n",
        "Take one down, pass it around, 21 bottles of beer on the wall.\n",
        "99 bottles of beer on the wall, 99 bottles of beer.\n",
        "Take one down, pass it around, 20 bottles of beer on the wall.\n",
        "99 bottles of beer on the wall, 99 bottles of beer.\n",
        "Take one down, pass it around, 19 bottles of beer on the wall.\n",
        "99 bottles of beer on the wall, 99 bottles of beer.\n",
        "Take one down, pass it around, 18 bottles of beer on the wall.\n",
        "99 bottles of beer on the wall, 99 bottles of beer.\n",
        "Take one down, pass it around, 17 bottles of beer on the wall.\n",
        "99 bottles of beer on the wall, 99 bottles of beer.\n",
        "Take one down, pass it around, 16 bottles of beer on the wall.\n",
        "99 bottles of beer on the wall, 99 bottles of beer.\n",
        "Take one down, pass it around, 15 bottles of beer on the wall.\n",
        "99 bottles of beer on the wall, 99 bottles of beer.\n",
        "Take one down, pass it around, 14 bottles of beer on the wall.\n",
        "99 bottles of beer on the wall, 99 bottles of beer.\n",
        "Take one down, pass it around, 13 bottles of beer on the wall.\n",
        "99 bottles of beer on the wall, 99 bottles of beer.\n",
        "Take one down, pass it around, 12 bottles of beer on the wall.\n",
        "99 bottles of beer on the wall, 99 bottles of beer.\n",
        "Take one down, pass it around, 11 bottles of beer on the wall.\n",
        "99 bottles of beer on the wall, 99 bottles of beer.\n",
        "Take one down, pass it around, 10 bottles of beer on the wall.\n",
        "99 bottles of beer on the wall, 99 bottles of beer.\n",
        "Take one down, pass it around, 9 bottles of beer on the wall.\n",
        "99 bottles of beer on the wall, 99 bottles of beer.\n",
        "Take one down, pass it around, 8 bottles of beer on the wall.\n",
        "99 bottles of beer on the wall, 99 bottles of beer.\n",
        "Take one down, pass it around, 7 bottles of beer on the wall.\n",
        "99 bottles of beer on the wall, 99 bottles of beer.\n",
        "Take one down, pass it around, 6 bottles of beer on the wall.\n",
        "99 bottles of beer on the wall, 99 bottles of beer.\n",
        "Take one down, pass it around, 5 bottles of beer on the wall.\n",
        "99 bottles of beer on the wall, 99 bottles of beer.\n",
        "Take one down, pass it around, 4 bottles of beer on the wall.\n",
        "99 bottles of beer on the wall, 99 bottles of beer.\n",
        "Take one down, pass it around, 3 bottles of beer on the wall.\n",
        "99 bottles of beer on the wall, 99 bottles of beer.\n",
        "Take one down, pass it around, 2 bottles of beer on the wall.\n",
        "99 bottles of beer on the wall, 99 bottles of beer.\n",
        "Take one down, pass it around, 1 bottles of beer on the wall.\n",
        "99 bottles of beer on the wall, 99 bottles of beer.\n",
        "Take one down, pass it around, 0 bottles of beer on the wall.\n"
       ]
      }
     ],
     "prompt_number": 18
    },
    {
     "cell_type": "heading",
     "level": 2,
     "metadata": {},
     "source": [
      "Question 4"
     ]
    },
    {
     "cell_type": "code",
     "collapsed": false,
     "input": [
      "%pylab inline\n",
      "x = np.linspace(0,3,30)\n",
      "y= np.sin(x)\n",
      "plt.plot(x,y, color='red', label='sine function')\n",
      "plt.plot(x,y,'D',markersize=7,color='g')\n",
      "plt.grid()\n",
      "plt.legend(loc='upper left')\n",
      "plt.xlabel('X Axis')\n",
      "plt.ylabel('Y axis: Sin(x)')\n",
      "plt.show()\n"
     ],
     "language": "python",
     "metadata": {},
     "outputs": [
      {
       "output_type": "stream",
       "stream": "stdout",
       "text": [
        "Populating the interactive namespace from numpy and matplotlib\n"
       ]
      },
      {
       "metadata": {},
       "output_type": "display_data",
       "png": "[encoded data removed]",
       "text": [
        "<matplotlib.figure.Figure at 0x1061ca190>"
       ]
      }
     ],
     "prompt_number": 37
    },
    {
     "cell_type": "heading",
     "level": 2,
     "metadata": {},
     "source": [
      "Question 5"
     ]
    },
    {
     "cell_type": "code",
     "collapsed": false,
     "input": [
      "arr.dtype = float\n",
      "arr = np.random.randint(10.7,36.2, 500).reshape(100,5)\n",
      "\n",
      "a = !date\n",
      "myheader = \"\\n %s \\n\" %a\n",
      "\n",
      "\n",
      "np.savetxt('numbers.txt', arr ,fmt='%5.3f', header=myheader)\n",
      "!head -10 numbers.txt\n",
      "\n",
      "arr2 = np.loadtxt('numbers.txt')\n",
      "print arr2[0:10, :]"
     ],
     "language": "python",
     "metadata": {},
     "outputs": [
      {
       "output_type": "stream",
       "stream": "stdout",
       "text": [
        "# \r\n",
        "#  ['Tue Apr 29 15:56:21 PDT 2014'] \r\n",
        "# \r\n",
        "31.000 21.000 17.000 29.000 22.000\r\n",
        "24.000 10.000 11.000 11.000 35.000\r\n",
        "11.000 35.000 16.000 23.000 10.000\r\n",
        "12.000 17.000 28.000 31.000 33.000\r\n",
        "15.000 28.000 16.000 32.000 10.000\r\n",
        "17.000 15.000 32.000 27.000 25.000\r\n",
        "19.000 17.000 15.000 15.000 24.000\r\n"
       ]
      },
      {
       "output_type": "stream",
       "stream": "stdout",
       "text": [
        "[[ 31.  21.  17.  29.  22.]\n",
        " [ 24.  10.  11.  11.  35.]\n",
        " [ 11.  35.  16.  23.  10.]\n",
        " [ 12.  17.  28.  31.  33.]\n",
        " [ 15.  28.  16.  32.  10.]\n",
        " [ 17.  15.  32.  27.  25.]\n",
        " [ 19.  17.  15.  15.  24.]\n",
        " [ 18.  16.  17.  20.  26.]\n",
        " [ 13.  15.  12.  10.  29.]\n",
        " [ 32.  12.  26.  14.  29.]]\n"
       ]
      }
     ],
     "prompt_number": 144
    },
    {
     "cell_type": "code",
     "collapsed": false,
     "input": [],
     "language": "python",
     "metadata": {},
     "outputs": [],
     "prompt_number": 105
    },
    {
     "cell_type": "code",
     "collapsed": false,
     "input": [
      "np.savetxt?"
     ],
     "language": "python",
     "metadata": {},
     "outputs": [],
     "prompt_number": 80
    },
    {
     "cell_type": "code",
     "collapsed": false,
     "input": [
      "np.random?"
     ],
     "language": "python",
     "metadata": {},
     "outputs": [],
     "prompt_number": 147
    },
    {
     "cell_type": "code",
     "collapsed": false,
     "input": [],
     "language": "python",
     "metadata": {},
     "outputs": []
    }
   ],
   "metadata": {}
  }
 ]
}