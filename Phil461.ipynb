{
 "metadata": {
  "name": "",
  "signature": "sha256:cd54d94e0b378ebb299c70200881f0e70032524b073da5c8cbfba2ac8d52e909"
 },
 "nbformat": 3,
 "nbformat_minor": 0,
 "worksheets": [
  {
   "cells": [
    {
     "cell_type": "code",
     "collapsed": false,
     "input": [
      "'''\n",
      "The purpose of this notebook is to create a simulation of the Mach-Zhender Interferometer.\n",
      "In order to do so, I will need to achieve the following:\n",
      "\n",
      "1. Visiually simulate an electron going in and coming out of a labelled measurement box.\n",
      "2. Make that electron's resulting path depend on the appropriate probabilities.\n",
      "3. Have a counter that records the number of electrons that take each path.\n",
      "4. Program and animate each experimental set up.\n",
      "5. Allow the user to control each set up and see a visualization of the resulting probabilities.\n",
      "'''"
     ],
     "language": "python",
     "metadata": {},
     "outputs": []
    },
    {
     "cell_type": "code",
     "collapsed": false,
     "input": [
      "#Programming the first experimental set-up\n",
      "electron = \n",
      "\n",
      "def Xmeasurement(z,x,r):\n",
      "    "
     ],
     "language": "python",
     "metadata": {},
     "outputs": []
    }
   ],
   "metadata": {}
  }
 ]
}