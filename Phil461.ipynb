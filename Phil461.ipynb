{
 "metadata": {
  "name": "",
  "signature": "sha256:e8aa2a8b3894616e663c3699fb0918312e626f3a6f642647abc768a115731b4d"
 },
 "nbformat": 3,
 "nbformat_minor": 0,
 "worksheets": [
  {
   "cells": [
    {
     "cell_type": "code",
     "collapsed": false,
     "input": [
      "'''\n",
      "The purpose of this notebook is to create a simulation of the Mach-Zehnder Interferometer.\n",
      "In order to do so, I will need to achieve the following:\n",
      "\n",
      "* Visiually simulate an electron going in and coming out of a labelled measurement box.\n",
      "* Make that electron's resulting path depend on the appropriate probabilities.\n",
      "* Have a counter that records the number of electrons that take each path.\n",
      "* Program and animate each experimental set up.\n",
      "* Allow the user to control each set up and see a visualization of the resulting probabilities.\n",
      "'''"
     ],
     "language": "python",
     "metadata": {},
     "outputs": [
      {
       "metadata": {},
       "output_type": "pyout",
       "prompt_number": 29,
       "text": [
        "\"\\nThe purpose of this notebook is to create a simulation of the Mach-Zehnder Interferometer.\\nIn order to do so, I will need to achieve the following:\\n\\n* Visiually simulate an electron going in and coming out of a labelled measurement box.\\n* Make that electron's resulting path depend on the appropriate probabilities.\\n* Have a counter that records the number of electrons that take each path.\\n* Program and animate each experimental set up.\\n* Allow the user to control each set up and see a visualization of the resulting probabilities.\\n\""
       ]
      }
     ],
     "prompt_number": 29
    },
    {
     "cell_type": "code",
     "collapsed": false,
     "input": [
      "#Importing \n",
      "%pylab inline\n",
      "import numpy as np"
     ],
     "language": "python",
     "metadata": {},
     "outputs": [
      {
       "output_type": "stream",
       "stream": "stdout",
       "text": [
        "Populating the interactive namespace from numpy and matplotlib\n"
       ]
      }
     ],
     "prompt_number": 30
    },
    {
     "cell_type": "code",
     "collapsed": false,
     "input": [
      "###Creating functions to represent measurements in X and Z oriented boxes###\n",
      "\n",
      "def Xmeasurement(x,z,bb,p):\n",
      "    '''\n",
      "    This function represents an electron running through an X-box. \n",
      "    It should work no matter what state the electron is known to be in prior.\n",
      "    0 represents unmeasured, 1 represents spin up, 2 represents spin down.\n",
      "    If the bb variable is set to 1, it is assumed that there is a black box situation present,\n",
      "    and that no actual measurement takes place.\n",
      "    If the p variable is set to 1, it will print the spin state of each electron.\n",
      "    The x and z variables are there to determine whether information is known about the x and z variables.\n",
      "    '''\n",
      "    if bb == 1:\n",
      "        if x ==1:\n",
      "            return x,z\n",
      "        elif x==2:\n",
      "            return x,z\n",
      "        else:\n",
      "            return 0,z\n",
      "    else:\n",
      "        if x==0:\n",
      "            xspin = randint(1,3)\n",
      "        elif x==1:\n",
      "            xspin = 1\n",
      "        elif x==2:\n",
      "            xspin = 2\n",
      "    if p == 1:\n",
      "        if xspin == 1:\n",
      "            print \"Electron is X+.\"\n",
      "        elif xspin == 2:\n",
      "            print \"Electron is X-.\"\n",
      "    return xspin, 0\n",
      "\n",
      "def Zmeasurement(x,z,bb,p):\n",
      "    '''\n",
      "    This function represents an electron running through an X-box. \n",
      "    It should work no matter what state the electron is known to be in prior.\n",
      "    0 represents unmeasured, 1 represents spin up, 2 represents spin down.\n",
      "    If the bb variable is set to one, it is assumed that there is a black box situation present,\n",
      "    and that no actual measurement takes place.\n",
      "    If the p variable is set to 1, it will print the spin state of each electron.\n",
      "    The x and z variables are there to determine whether information is known about the x and z variables.\n",
      "    '''\n",
      "    if bb == 1:\n",
      "        if z==1: \n",
      "            return x,z\n",
      "        elif z==2: \n",
      "            return x,z\n",
      "        else:\n",
      "            return x, 0\n",
      "    else:\n",
      "        if z==0:\n",
      "            zspin = randint(1,3)\n",
      "        elif z==1:\n",
      "            zspin = 1\n",
      "        elif z==2:\n",
      "            zspin = 2\n",
      "    if p == 1:\n",
      "        if zspin == 1:\n",
      "            print \"Electron is Z+.\"\n",
      "        elif zspin == 2:\n",
      "            print \"Electron is Z-.\"\n",
      "    return 0, zspin\n",
      "    "
     ],
     "language": "python",
     "metadata": {},
     "outputs": [],
     "prompt_number": 32
    },
    {
     "cell_type": "code",
     "collapsed": false,
     "input": [
      "###X measurement function test###\n",
      "\n",
      "#Initializing Spin Counters\n",
      "\n",
      "downcount = 0\n",
      "upcount = 0\n",
      "\n",
      "#measuring random electrons\n",
      "for i in range(10):\n",
      "    (a,b) = Xmeasurement(0,0,0,1)\n",
      "    if a ==1:\n",
      "        upcount+=1\n",
      "    elif a ==2:\n",
      "        downcount+=1\n",
      "   \n",
      "\n",
      "print \"Spin up electrons =\", upcount\n",
      "print \"Spin down electrons =\", downcount"
     ],
     "language": "python",
     "metadata": {},
     "outputs": [
      {
       "output_type": "stream",
       "stream": "stdout",
       "text": [
        "Electron is X-.\n",
        "Electron is X-.\n",
        "Electron is X+.\n",
        "Electron is X-.\n",
        "Electron is X-.\n",
        "Electron is X+.\n",
        "Electron is X-.\n",
        "Electron is X-.\n",
        "Electron is X+.\n",
        "Electron is X+.\n",
        "Spin up electrons = 4\n",
        "Spin down electrons = 6\n"
       ]
      }
     ],
     "prompt_number": 33
    },
    {
     "cell_type": "code",
     "collapsed": false,
     "input": [
      "###Experimental Set Up Number 1###\n",
      "\n",
      "#Initializing spin counters\n",
      "downcount = 0\n",
      "upcount = 0\n",
      "\n",
      "#Sending through only x+ electrons\n",
      "x=1\n",
      "\n",
      "#Making the first Z measurement with the black box option and saving the electron states for further use\n",
      "(x,z) = Zmeasurement(x,0,1,0)\n",
      "\n",
      "#Making 10 measurements of electrons coming out of the final Z box \n",
      "for i in range(10):\n",
      "    (a,b) = Zmeasurement(x,z,0,1)\n",
      "    if b ==1:\n",
      "        upcount+=1\n",
      "    elif b ==2:\n",
      "        downcount+=1\n",
      "   \n",
      "\n",
      "print \"Spin up electrons =\", upcount\n",
      "print \"Spin down electrons =\", downcount"
     ],
     "language": "python",
     "metadata": {},
     "outputs": [
      {
       "output_type": "stream",
       "stream": "stdout",
       "text": [
        "Electron is Z-.\n",
        "Electron is Z-.\n",
        "Electron is Z-.\n",
        "Electron is Z-.\n",
        "Electron is Z-.\n",
        "Electron is Z-.\n",
        "Electron is Z+.\n",
        "Electron is Z-.\n",
        "Electron is Z+.\n",
        "Electron is Z-.\n",
        "Spin up electrons = 2\n",
        "Spin down electrons = 8\n"
       ]
      }
     ],
     "prompt_number": 35
    },
    {
     "cell_type": "code",
     "collapsed": false,
     "input": [
      "###Experimental Set Up Number 2###\n",
      "\n",
      "#Initializing spin counters\n",
      "downcount = 0\n",
      "upcount = 0\n",
      "\n",
      "#Sending through only Z+ electrons\n",
      "z=1\n",
      "\n",
      "#Running the particles through the first Z-box, recombining the electron beams prior to measurement and saving the states\n",
      "#to be put into the next box\n",
      "(x,z) = Zmeasurement(0,z,1,0)\n",
      "\n",
      "#Making 10 measurements of the Electrons coming out of the final X-box\n",
      "for i in range(10):\n",
      "    (a,b) = Xmeasurement(x,z,0,1)\n",
      "    if a ==1:\n",
      "        upcount+=1\n",
      "    elif a ==2:\n",
      "        downcount+=1\n",
      "        \n",
      "print \"Spin up electrons =\", upcount\n",
      "print \"Spin down electrons =\", downcount"
     ],
     "language": "python",
     "metadata": {},
     "outputs": [
      {
       "output_type": "stream",
       "stream": "stdout",
       "text": [
        "Electron is X-.\n",
        "Electron is X+.\n",
        "Electron is X+.\n",
        "Electron is X+.\n",
        "Electron is X+.\n",
        "Electron is X+.\n",
        "Electron is X-.\n",
        "Electron is X-.\n",
        "Electron is X+.\n",
        "Electron is X+.\n",
        "Spin up electrons = 7\n",
        "Spin down electrons = 3\n"
       ]
      }
     ],
     "prompt_number": 36
    },
    {
     "cell_type": "code",
     "collapsed": false,
     "input": [
      "###Experimental Set Up Number 3###\n",
      "\n",
      "#Initializing spin counters\n",
      "downcount = 0\n",
      "upcount = 0\n",
      "\n",
      "#Sending through only X+ electrons\n",
      "x=1\n",
      "\n",
      "#Running the particles through the first Z-box, recombining the electron beams prior to measurement and saving the states\n",
      "#to be put into the next box\n",
      "(x,z) = Zmeasurement(x,0,1,0)\n",
      "\n",
      "#Making 10 measurements of the Electrons coming out of the final X-box\n",
      "for i in range(10):\n",
      "    (a,b) = Xmeasurement(x,z,0,1)\n",
      "    if a ==1:\n",
      "        upcount+=1\n",
      "    elif a ==2:\n",
      "        downcount+=1\n",
      "#Printing total amount of electron states        \n",
      "print \"Spin up electrons =\", upcount\n",
      "print \"Spin down electrons =\", downcount\n"
     ],
     "language": "python",
     "metadata": {},
     "outputs": [
      {
       "output_type": "stream",
       "stream": "stdout",
       "text": [
        "Electron is X+.\n",
        "Electron is X+.\n",
        "Electron is X+.\n",
        "Electron is X+.\n",
        "Electron is X+.\n",
        "Electron is X+.\n",
        "Electron is X+.\n",
        "Electron is X+.\n",
        "Electron is X+.\n",
        "Electron is X+.\n",
        "Spin up electrons = 10\n",
        "Spin down electrons = 0\n"
       ]
      }
     ],
     "prompt_number": 37
    },
    {
     "cell_type": "code",
     "collapsed": false,
     "input": [
      "'''\n",
      "The logic now effectively works for all three experimental set-ups.\n",
      "What remains is to create general a function that uses raw input to \n",
      "allow the user to modify which experiment and which parameters are used.\n",
      "The variables they will input will be the initial state of the electron,\n",
      "the kinds of measurements made, how many electrons it measures, whether\n",
      "or to print the ultimate state of each electron or just count the results.\n",
      "Additionally, I'll have to use the python animation tutorials to animate\n",
      "the whole scenario.\n",
      "'''"
     ],
     "language": "python",
     "metadata": {},
     "outputs": [
      {
       "metadata": {},
       "output_type": "pyout",
       "prompt_number": 38,
       "text": [
        "\"\\nThe logic now effectively works for all three experimental set-ups.\\nWhat remains is to create general a function that uses raw input to \\nallow the user to modify which experiment and which parameters are used.\\nThe variables they will input will be the initial state of the electron,\\nthe kinds of measurements made, how many electrons it measures, whether\\nor to print the ultimate state of each electron or just count the results.\\nAdditionally, I'll have to use the python animation tutorials to animate\\nthe whole scenario.\\n\""
       ]
      }
     ],
     "prompt_number": 38
    },
    {
     "cell_type": "code",
     "collapsed": false,
     "input": [
      "def MZI():\n",
      "    '''\n",
      "    This function prompts the user for input to indicate the initial state of the electrons that are being entered\n",
      "    as well as for the measurements that you would like to be made.\n",
      "    '''\n",
      "    ##Initializing Electron State Counters##\n",
      "    \n",
      "    upcount=0\n",
      "    downcount=0\n",
      "    \n",
      "    ##Prompting user for number of electron samples##\n",
      "    #The electron types will only be individually printed if n < 20 ##\n",
      "    \n",
      "    n = raw_input(\"Please enter the number of electrons you would like to measure:\")\n",
      "    while not n.isdigit():\n",
      "        n = raw_input(\"That was not an acceptable number. Please enter the number of electrons you would like to measure:\")\n",
      "    \n",
      "    if int(n) >= 20:\n",
      "        p=0\n",
      "    elif int(n) <20:\n",
      "        p=1\n",
      "        \n",
      "    \n",
      "    ##Prompting the user for the state of electrons to be sent into the machine##\n",
      "    \n",
      "    InitialState = raw_input(\"Please enter the initial state of the electrons(ex. 'x+', 'z-', 'unknown', 'random','none', etc.):\")\n",
      "    while not (InitialState=='x+' or InitialState=='x-' or InitialState=='z+' or InitialState=='z-' \n",
      "                or InitialState=='none' or InitialState == 'unknown' or InitialState=='random'):\n",
      "        InitialState = raw_input(\"That was not an acceptable state. Please enter an initial state for the electrons:\")\n",
      "    if InitialState== 'x+':\n",
      "        x=1\n",
      "        z=0\n",
      "    elif InitialState=='x-':\n",
      "        x=2\n",
      "        z=0\n",
      "    elif InitialState=='z+':\n",
      "        z=1\n",
      "        x=0\n",
      "    elif InitialState=='z-':\n",
      "        z=2\n",
      "        x=0\n",
      "    elif InitialState=='none' or InitialState == 'unknown' or InitialState=='random':\n",
      "        x=0\n",
      "        z=0\n",
      "    else:\n",
      "        print \"You did not enter a correct initial state, please restart the function and put in a correct state.\"\n",
      "        return\n",
      "    \n",
      "    ##Prompting the user for the first measurement to be made##\n",
      "    \n",
      "    FirstMeasurement = raw_input(\"Thank You. Now, please enter the first measurement you would like to make('x' or 'z'):\")\n",
      "    while not (FirstMeasurement == 'x' or FirstMeasurement =='z'):\n",
      "        FirstMeasurement = raw_input(\"That was not an appropriate measurement type. Please enter 'x' or 'z': \")\n",
      "    if FirstMeasurement == 'x':\n",
      "        (x,z) = Xmeasurement(x,z,1,0)\n",
      "    elif FirstMeasurement =='z':\n",
      "        (x,z) = Zmeasurement(x,z,1,0)\n",
      "    \n",
      "    ##Prompting the user for the second and final measurement to be made##\n",
      "    \n",
      "    FinalMeasurement = raw_input(\"Please enter the second measurement to be made: \")\n",
      "    while not (FinalMeasurement == 'x' or FinalMeasurement=='z'):\n",
      "        FinalMeasurement = raw_input(\"That was not an appropriate measurement type. Please enter 'x' or 'z': \")\n",
      "        \n",
      "    ##Counting the Electrons' ultimate states and printing each if there are less than 20##\n",
      "    \n",
      "    if FinalMeasurement == 'x':\n",
      "        for i in range(int(n)):\n",
      "            (a,b) = Xmeasurement(x,z,0,p)\n",
      "            if a ==1:\n",
      "                upcount+=1\n",
      "            elif a ==2:\n",
      "                downcount+=1\n",
      "    elif FinalMeasurement == 'z':\n",
      "        for i in range(int(n)):\n",
      "            (a,b) = Zmeasurement(x,z,0,p)\n",
      "            if b ==1:\n",
      "                upcount+=1\n",
      "            elif b ==2:\n",
      "                downcount+=1\n",
      "    \n",
      "    print \"The total amount of spin up electrons is:\", upcount\n",
      "    print \"The total amount of spin down electrons is:\", downcount\n",
      "    return \n",
      "        \n",
      "        "
     ],
     "language": "python",
     "metadata": {},
     "outputs": [],
     "prompt_number": 42
    },
    {
     "cell_type": "code",
     "collapsed": false,
     "input": [
      "MZI()"
     ],
     "language": "python",
     "metadata": {},
     "outputs": [
      {
       "name": "stdout",
       "output_type": "stream",
       "stream": "stdout",
       "text": [
        "Please enter the number of electrons you would like to measure:50\n"
       ]
      },
      {
       "name": "stdout",
       "output_type": "stream",
       "stream": "stdout",
       "text": [
        "Please enter the initial state of the electrons(ex. 'x+', 'z-', 'unknown', 'random','none', etc.):z+\n"
       ]
      },
      {
       "name": "stdout",
       "output_type": "stream",
       "stream": "stdout",
       "text": [
        "Thank You. Now, please enter the first measurement you would like to make('x' or 'z'):z\n"
       ]
      },
      {
       "name": "stdout",
       "output_type": "stream",
       "stream": "stdout",
       "text": [
        "Please enter the second measurement to be made: z\n"
       ]
      },
      {
       "output_type": "stream",
       "stream": "stdout",
       "text": [
        "The total amount of spin up electrons is: 50\n",
        "The total amount of spin down electrons is: 0\n"
       ]
      }
     ],
     "prompt_number": 44
    },
    {
     "cell_type": "code",
     "collapsed": false,
     "input": [
      "def Exp1(n):\n",
      "    ###Experimental Set Up Number 1###\n",
      "    \n",
      "    #Fixing Print Setting\n",
      "    if n >= 20:\n",
      "        p=0\n",
      "    elif n <20:\n",
      "        p = 1\n",
      "    \n",
      "    #Initializing spin counters\n",
      "    downcount = 0\n",
      "    upcount = 0\n",
      "\n",
      "    #Sending through only x+ electrons\n",
      "    x=1\n",
      "\n",
      "    #Making the first Z measurement with the black box option and saving the electron states for further use\n",
      "    (x,z) = Zmeasurement(x,0,1,0)\n",
      "\n",
      "    #Making n measurements of electrons coming out of the final Z box \n",
      "    for i in range(n):\n",
      "        (a,b) = Zmeasurement(x,z,0,p)\n",
      "        if b ==1:\n",
      "            upcount+=1\n",
      "        elif b ==2:\n",
      "            downcount+=1\n",
      "   \n",
      "\n",
      "    print \"Spin z+ electrons =\", upcount\n",
      "    print \"Spin z- electrons =\", downcount\n",
      "    \n",
      "def Exp2(n):\n",
      "    ###Experimental Set Up Number 2###\n",
      "    \n",
      "    #Fixing Print Setting\n",
      "    if n >= 20:\n",
      "        p=0\n",
      "    elif n <20:\n",
      "        p = 1\n",
      "\n",
      "    #Initializing spin counters\n",
      "    downcount = 0\n",
      "    upcount = 0\n",
      "\n",
      "    #Sending through only Z+ electrons\n",
      "    z=1\n",
      "\n",
      "    #Running the particles through the first Z-box, recombining the electron beams prior to measurement and saving the states\n",
      "    #to be put into the next box\n",
      "    (x,z) = Zmeasurement(0,z,1,0)\n",
      "\n",
      "    #Making n measurements of the Electrons coming out of the final X-box\n",
      "    for i in range(n):\n",
      "        (a,b) = Xmeasurement(x,z,0,p)\n",
      "        if a ==1:\n",
      "            upcount+=1\n",
      "        elif a ==2:\n",
      "            downcount+=1\n",
      "        \n",
      "    print \"Spin x+ electrons =\", upcount\n",
      "    print \"Spin x- electrons =\", downcount\n",
      "    \n",
      "def Exp3(n):\n",
      "    ###Experimental Set Up Number 3###\n",
      "    \n",
      "    #Fixing Print Setting\n",
      "    if n >= 20:\n",
      "        p=0\n",
      "    elif n <20:\n",
      "        p = 1\n",
      "\n",
      "    #Initializing spin counters\n",
      "    downcount = 0\n",
      "    upcount = 0\n",
      "\n",
      "    #Sending through only X+ electrons\n",
      "    x=1\n",
      "\n",
      "    #Running the particles through the first Z-box, recombining the electron beams prior to measurement and saving the states\n",
      "    #to be put into the next box\n",
      "    (x,z) = Zmeasurement(x,0,1,0)\n",
      "\n",
      "    #Making n measurements of the Electrons coming out of the final X-box\n",
      "    for i in range(n):\n",
      "        (a,b) = Xmeasurement(x,z,0,p)\n",
      "        if a ==1:\n",
      "            upcount+=1\n",
      "        elif a ==2:\n",
      "            downcount+=1\n",
      "    #Printing total amount of electron states        \n",
      "    print \"Spin x+ electrons =\", upcount\n",
      "    print \"Spin x- electrons =\", downcount\n",
      "    print 'Gasp!'\n"
     ],
     "language": "python",
     "metadata": {},
     "outputs": [],
     "prompt_number": 45
    },
    {
     "cell_type": "code",
     "collapsed": false,
     "input": [
      "Exp3(500)"
     ],
     "language": "python",
     "metadata": {},
     "outputs": [
      {
       "output_type": "stream",
       "stream": "stdout",
       "text": [
        "Spin x+ electrons = 500\n",
        "Spin x- electrons = 0\n",
        "Gasp!\n"
       ]
      }
     ],
     "prompt_number": 46
    },
    {
     "cell_type": "code",
     "collapsed": false,
     "input": [
      "'''\n",
      "The program now has each of the three experimental set-ups coded in\n",
      "so that they can be easily accessed with varying numbers of electrons.\n",
      "All that is left is to animate the function and find a way to share it!\n",
      "'''"
     ],
     "language": "python",
     "metadata": {},
     "outputs": []
    }
   ],
   "metadata": {}
  }
 ]
}