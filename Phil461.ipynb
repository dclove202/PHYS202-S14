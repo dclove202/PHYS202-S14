{
 "metadata": {
  "name": "",
  "signature": "sha256:6b9c7dbb6b488e1817af0e9473f98a821bd895b4620d4a95b87f63065e214767"
 },
 "nbformat": 3,
 "nbformat_minor": 0,
 "worksheets": [
  {
   "cells": [
    {
     "cell_type": "code",
     "collapsed": false,
     "input": [
      "'''\n",
      "The purpose of this notebook is to create a simulation of the Mach-Zhender Interferometer.\n",
      "In order to do so, I will need to achieve the following:\n",
      "\n",
      "* Visiually simulate an electron going in and coming out of a labelled measurement box.\n",
      "* Make that electron's resulting path depend on the appropriate probabilities.\n",
      "* Have a counter that records the number of electrons that take each path.\n",
      "* Program and animate each experimental set up.\n",
      "* Allow the user to control each set up and see a visualization of the resulting probabilities.\n",
      "'''"
     ],
     "language": "python",
     "metadata": {},
     "outputs": [
      {
       "metadata": {},
       "output_type": "pyout",
       "prompt_number": 16,
       "text": [
        "\"\\nThe purpose of this notebook is to create a simulation of the Mach-Zhender Interferometer.\\nIn order to do so, I will need to achieve the following:\\n\\n* Visiually simulate an electron going in and coming out of a labelled measurement box.\\n* Make that electron's resulting path depend on the appropriate probabilities.\\n* Have a counter that records the number of electrons that take each path.\\n* Program and animate each experimental set up.\\n* Allow the user to control each set up and see a visualization of the resulting probabilities.\\n\""
       ]
      }
     ],
     "prompt_number": 16
    },
    {
     "cell_type": "code",
     "collapsed": false,
     "input": [
      "#Importing \n",
      "%pylab inline\n",
      "import numpy as np"
     ],
     "language": "python",
     "metadata": {},
     "outputs": [
      {
       "output_type": "stream",
       "stream": "stdout",
       "text": [
        "Populating the interactive namespace from numpy and matplotlib\n"
       ]
      }
     ],
     "prompt_number": 17
    },
    {
     "cell_type": "code",
     "collapsed": false,
     "input": [
      "#Programming the first experimental set-up\n",
      "downcount = 0\n",
      "upcount = 0\n",
      "\n",
      "def Xmeasurement(x):\n",
      "    '''\n",
      "    This function represents an electron running through an X-box. \n",
      "    It should work no matter what state the electron is known to be in prior.\n",
      "    0 represents unmeasured, 1 represents spin up, 2 represents spin down.\n",
      "    '''\n",
      "    if x==0:\n",
      "        xspin = randint(1,3)\n",
      "    elif x==1:\n",
      "        xspin = 1\n",
      "    elif x==2:\n",
      "        xspin = 2   \n",
      "    print xspin\n",
      "    return xspin\n",
      "\n",
      "        \n",
      "    "
     ],
     "language": "python",
     "metadata": {},
     "outputs": [],
     "prompt_number": 34
    },
    {
     "cell_type": "code",
     "collapsed": false,
     "input": [
      "downcount = 0\n",
      "upcount = 0\n",
      "\n",
      "for i in range(10):\n",
      "    if Xmeasurement(0) ==1:\n",
      "        upcount+=1\n",
      "    elif Xmeasurement(0)==2:\n",
      "        downcount+=1\n",
      "    else:\n",
      "        print \"fuck\"\n",
      "\n",
      "print \"Spin up electrons =\", upcount\n",
      "print \"Spin down electrons =\", downcount"
     ],
     "language": "python",
     "metadata": {},
     "outputs": [
      {
       "output_type": "stream",
       "stream": "stdout",
       "text": [
        "1\n",
        "1\n",
        "1\n",
        "1\n",
        "1\n",
        "2\n",
        "1\n",
        "fuck\n",
        "2\n",
        "1\n",
        "fuck\n",
        "2\n",
        "2\n",
        "1\n",
        "1\n",
        "Spin up electrons = 7\n",
        "Spin down electrons = 1\n"
       ]
      }
     ],
     "prompt_number": 37
    },
    {
     "cell_type": "code",
     "collapsed": false,
     "input": [],
     "language": "python",
     "metadata": {},
     "outputs": [],
     "prompt_number": 19
    }
   ],
   "metadata": {}
  }
 ]
}