{
 "metadata": {
  "name": "",
  "signature": "sha256:5ce02b5f93afa22398b34dddb083a02665dc3496e3eb39d812ed12cc01e12532"
 },
 "nbformat": 3,
 "nbformat_minor": 0,
 "worksheets": []
}