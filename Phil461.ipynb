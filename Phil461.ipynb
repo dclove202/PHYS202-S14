{
 "metadata": {
  "name": "",
  "signature": "sha256:7e29da7f5c8d167c4706897c36a79602141a8bcafedde0428c4dc5aec9b545ec"
 },
 "nbformat": 3,
 "nbformat_minor": 0,
 "worksheets": [
  {
   "cells": [
    {
     "cell_type": "code",
     "collapsed": false,
     "input": [
      "'''\n",
      "The purpose of this notebook is to create a simulation of the Mach-Zhender Interferometer.\n",
      "In order to do so, I will need to achieve the following:\n",
      "\n",
      "* Visiually simulate an electron going in and coming out of a labelled measurement box.\n",
      "* Make that electron's resulting path depend on the appropriate probabilities.\n",
      "* Have a counter that records the number of electrons that take each path.\n",
      "* Program and animate each experimental set up.\n",
      "* Allow the user to control each set up and see a visualization of the resulting probabilities.\n",
      "'''"
     ],
     "language": "python",
     "metadata": {},
     "outputs": [
      {
       "metadata": {},
       "output_type": "pyout",
       "prompt_number": 16,
       "text": [
        "\"\\nThe purpose of this notebook is to create a simulation of the Mach-Zhender Interferometer.\\nIn order to do so, I will need to achieve the following:\\n\\n* Visiually simulate an electron going in and coming out of a labelled measurement box.\\n* Make that electron's resulting path depend on the appropriate probabilities.\\n* Have a counter that records the number of electrons that take each path.\\n* Program and animate each experimental set up.\\n* Allow the user to control each set up and see a visualization of the resulting probabilities.\\n\""
       ]
      }
     ],
     "prompt_number": 16
    },
    {
     "cell_type": "code",
     "collapsed": false,
     "input": [
      "#Importing \n",
      "%pylab inline\n",
      "import numpy as np"
     ],
     "language": "python",
     "metadata": {},
     "outputs": [
      {
       "output_type": "stream",
       "stream": "stdout",
       "text": [
        "Populating the interactive namespace from numpy and matplotlib\n"
       ]
      }
     ],
     "prompt_number": 1
    },
    {
     "cell_type": "code",
     "collapsed": false,
     "input": [
      "#Creating functions to represent measurements in X and Z oriented boxes\n",
      "downcount = 0\n",
      "upcount = 0\n",
      "\n",
      "def Xmeasurement(x):\n",
      "    '''\n",
      "    This function represents an electron running through an X-box. \n",
      "    It should work no matter what state the electron is known to be in prior.\n",
      "    0 represents unmeasured, 1 represents spin up, 2 represents spin down.\n",
      "    '''\n",
      "    if x==0:\n",
      "        xspin = randint(1,3)\n",
      "    elif x==1:\n",
      "        xspin = 1\n",
      "    elif x==2:\n",
      "        xspin = 2\n",
      "    if xspin == 1:\n",
      "        print \"Electron is X+.\"\n",
      "    elif xspin == 2:\n",
      "        print \"Electron is X-.\"\n",
      "    return xspin, 0\n",
      "\n",
      "def Zmeasurement(z):\n",
      "    '''\n",
      "    This function represents an electron running through a Z-box. \n",
      "    It should work no matter what state the electron is known to be in prior.\n",
      "    0 represents unmeasured, 1 represents spin up, 2 represents spin down.\n",
      "    '''\n",
      "    if z==0:\n",
      "        zspin = randint(1,3)\n",
      "    elif z==1:\n",
      "        zspin = 1\n",
      "    elif z==2:\n",
      "        zspin = 2\n",
      "    if zspin == 1:\n",
      "        print \"Electron is Z+.\"\n",
      "    elif zspin == 2:\n",
      "        print \"Electron is Z-.\"\n",
      "    return 0, zspin\n",
      "    "
     ],
     "language": "python",
     "metadata": {},
     "outputs": [],
     "prompt_number": 133
    },
    {
     "cell_type": "code",
     "collapsed": false,
     "input": [
      "downcount = 0\n",
      "upcount = 0\n",
      "\n",
      "for i in range(10):\n",
      "    (a,b) = Xmeasurement(0)\n",
      "    if a ==1:\n",
      "        upcount+=1\n",
      "    elif a ==2:\n",
      "        downcount+=1\n",
      "   \n",
      "\n",
      "print \"Spin up electrons =\", upcount\n",
      "print \"Spin down electrons =\", downcount"
     ],
     "language": "python",
     "metadata": {},
     "outputs": [
      {
       "output_type": "stream",
       "stream": "stdout",
       "text": [
        "Electron is X-.\n",
        "Electron is X-.\n",
        "Electron is X-.\n",
        "Electron is X+.\n",
        "Electron is X+.\n",
        "Electron is X+.\n",
        "Electron is X+.\n",
        "Electron is X+.\n",
        "Electron is X+.\n",
        "Electron is X+.\n",
        "Spin up electrons = 7\n",
        "Spin down electrons = 3\n"
       ]
      }
     ],
     "prompt_number": 135
    },
    {
     "cell_type": "code",
     "collapsed": false,
     "input": [
      "\n",
      "for i in range(10):\n",
      "    x=0\n",
      "    (x,z) = Xmeasurement(x)\n",
      "    if x = 1:\n",
      "        Zmeasurement(z)\n",
      "        if \n",
      "        \n",
      "''' \n",
      "(x,z) = Zmeasurement(z)\n",
      "(x,z) = Xmeasurement(x)\n",
      "'''"
     ],
     "language": "python",
     "metadata": {},
     "outputs": [
      {
       "output_type": "stream",
       "stream": "stdout",
       "text": [
        "Electron is X-.\n",
        "Electron is X+.\n",
        "Electron is X-.\n",
        "Electron is X-.\n",
        "Electron is X+.\n"
       ]
      },
      {
       "metadata": {},
       "output_type": "pyout",
       "prompt_number": 166,
       "text": [
        "' \\n(x,z) = Zmeasurement(z)\\n(x,z) = Xmeasurement(x)\\n'"
       ]
      }
     ],
     "prompt_number": 166
    },
    {
     "cell_type": "code",
     "collapsed": false,
     "input": [],
     "language": "python",
     "metadata": {},
     "outputs": []
    }
   ],
   "metadata": {}
  }
 ]
}