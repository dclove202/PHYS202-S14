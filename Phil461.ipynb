{
 "metadata": {
  "name": "",
  "signature": "sha256:c98cb667a567dcfafc69003b3a7cc535e26bc920b3aa9f19004f7b42981ec883"
 },
 "nbformat": 3,
 "nbformat_minor": 0,
 "worksheets": [
  {
   "cells": [
    {
     "cell_type": "code",
     "collapsed": false,
     "input": [
      "'''\n",
      "The purpose of this notebook is to create a simulation of the Mach-Zhender Interferometer.\n",
      "In order to do so, I will need to achieve the following:\n",
      "\n",
      "* Visiually simulate an electron going in and coming out of a labelled measurement box.\n",
      "* Make that electron's resulting path depend on the appropriate probabilities.\n",
      "* Have a counter that records the number of electrons that take each path.\n",
      "* Program and animate each experimental set up.\n",
      "* Allow the user to control each set up and see a visualization of the resulting probabilities.\n",
      "'''"
     ],
     "language": "python",
     "metadata": {},
     "outputs": [
      {
       "metadata": {},
       "output_type": "pyout",
       "prompt_number": 10,
       "text": [
        "\"\\nThe purpose of this notebook is to create a simulation of the Mach-Zhender Interferometer.\\nIn order to do so, I will need to achieve the following:\\n\\n* Visiually simulate an electron going in and coming out of a labelled measurement box.\\n* Make that electron's resulting path depend on the appropriate probabilities.\\n* Have a counter that records the number of electrons that take each path.\\n* Program and animate each experimental set up.\\n* Allow the user to control each set up and see a visualization of the resulting probabilities.\\n\""
       ]
      }
     ],
     "prompt_number": 10
    },
    {
     "cell_type": "code",
     "collapsed": false,
     "input": [
      "#Importing \n",
      "%pylab inline\n",
      "import numpy as np"
     ],
     "language": "python",
     "metadata": {},
     "outputs": [
      {
       "output_type": "stream",
       "stream": "stdout",
       "text": [
        "Populating the interactive namespace from numpy and matplotlib\n"
       ]
      }
     ],
     "prompt_number": 11
    },
    {
     "cell_type": "code",
     "collapsed": false,
     "input": [
      "###Creating functions to represent measurements in X and Z oriented boxes###\n",
      "\n",
      "def Xmeasurement(x,z,bb,p):\n",
      "    '''\n",
      "    This function represents an electron running through an X-box. \n",
      "    It should work no matter what state the electron is known to be in prior.\n",
      "    0 represents unmeasured, 1 represents spin up, 2 represents spin down.\n",
      "    If the bb variable is set to 1, it is assumed that there is a black box situation present,\n",
      "    and that no actual measurement takes place.\n",
      "    If the p variable is set to 1, it will print the spin state of each electron.\n",
      "    '''\n",
      "    if bb == 1:\n",
      "        return 0,z\n",
      "    else:\n",
      "        if x==0:\n",
      "            xspin = randint(1,3)\n",
      "        elif x==1:\n",
      "            xspin = 1\n",
      "        elif x==2:\n",
      "            xspin = 2\n",
      "    if p == 1:\n",
      "        if xspin == 1:\n",
      "            print \"Electron is X+.\"\n",
      "        elif xspin == 2:\n",
      "            print \"Electron is X-.\"\n",
      "    return xspin, 0\n",
      "\n",
      "def Zmeasurement(x,z,bb,p):\n",
      "    '''\n",
      "    This function represents an electron running through an X-box. \n",
      "    It should work no matter what state the electron is known to be in prior.\n",
      "    0 represents unmeasured, 1 represents spin up, 2 represents spin down.\n",
      "    If the bb variable is set to one, it is assumed that there is a black box situation present,\n",
      "    and that no actual measurement takes place.\n",
      "    If the p variable is set to 1, it will print the spin state of each electron.\n",
      "    '''\n",
      "    if bb == 1:\n",
      "        return x, 0\n",
      "    else:\n",
      "        if z==0:\n",
      "            zspin = randint(1,3)\n",
      "        elif z==1:\n",
      "            zspin = 1\n",
      "        elif z==2:\n",
      "            zspin = 2\n",
      "    if p == 1:\n",
      "        if zspin == 1:\n",
      "            print \"Electron is Z+.\"\n",
      "        elif zspin == 2:\n",
      "            print \"Electron is Z-.\"\n",
      "    return 0, zspin\n",
      "    "
     ],
     "language": "python",
     "metadata": {},
     "outputs": [],
     "prompt_number": 12
    },
    {
     "cell_type": "code",
     "collapsed": false,
     "input": [
      "###X measurement test###\n",
      "\n",
      "#Initializing Spin Counters\n",
      "\n",
      "downcount = 0\n",
      "upcount = 0\n",
      "\n",
      "#measuring random electrons\n",
      "for i in range(10):\n",
      "    (a,b) = Xmeasurement(0,0,0,1)\n",
      "    if a ==1:\n",
      "        upcount+=1\n",
      "    elif a ==2:\n",
      "        downcount+=1\n",
      "   \n",
      "\n",
      "print \"Spin up electrons =\", upcount\n",
      "print \"Spin down electrons =\", downcount"
     ],
     "language": "python",
     "metadata": {},
     "outputs": [
      {
       "output_type": "stream",
       "stream": "stdout",
       "text": [
        "Electron is X+.\n",
        "Electron is X-.\n",
        "Electron is X-.\n",
        "Electron is X-.\n",
        "Electron is X+.\n",
        "Electron is X-.\n",
        "Electron is X+.\n",
        "Electron is X+.\n",
        "Electron is X+.\n",
        "Electron is X+.\n",
        "Spin up electrons = 6\n",
        "Spin down electrons = 4\n"
       ]
      }
     ],
     "prompt_number": 13
    },
    {
     "cell_type": "code",
     "collapsed": false,
     "input": [
      "###Experimental Set Up Number 1###\n",
      "\n",
      "#Initializing spin counters\n",
      "downcount = 0\n",
      "upcount = 0\n",
      "\n",
      "#Sending through only x+ electrons\n",
      "x=1\n",
      "\n",
      "#Making the first Z measurement with the black box option and saving the electron states for further use\n",
      "(x,z) = Zmeasurement(x,0,1,0)\n",
      "\n",
      "#Making 10 measurements of electrons coming out of the final Z box \n",
      "for i in range(10):\n",
      "    (a,b) = Zmeasurement(x,z,0,1)\n",
      "    if b ==1:\n",
      "        upcount+=1\n",
      "    elif b ==2:\n",
      "        downcount+=1\n",
      "   \n",
      "\n",
      "print \"Spin up electrons =\", upcount\n",
      "print \"Spin down electrons =\", downcount"
     ],
     "language": "python",
     "metadata": {},
     "outputs": [
      {
       "output_type": "stream",
       "stream": "stdout",
       "text": [
        "Electron is Z-.\n",
        "Electron is Z-.\n",
        "Electron is Z+.\n",
        "Electron is Z+.\n",
        "Electron is Z+.\n",
        "Electron is Z-.\n",
        "Electron is Z-.\n",
        "Electron is Z-.\n",
        "Electron is Z-.\n",
        "Electron is Z+.\n",
        "Spin up electrons = 4\n",
        "Spin down electrons = 6\n"
       ]
      }
     ],
     "prompt_number": 14
    },
    {
     "cell_type": "code",
     "collapsed": false,
     "input": [
      "###Experimental Set Up Number 2###\n",
      "\n",
      "#Initializing spin counters\n",
      "downcount = 0\n",
      "upcount = 0\n",
      "\n",
      "#Sending through only Z+ electrons\n",
      "z=1\n",
      "\n",
      "#Running the particles through the first Z-box, recombining the electron beams prior to measurement and saving the states\n",
      "#to be put into the next box\n",
      "(x,z) = Zmeasurement(0,z,1,0)\n",
      "\n",
      "#Making 10 measurements of the Electrons coming out of the final X-box\n",
      "for i in range(10):\n",
      "    (a,b) = Xmeasurement(x,z,0,1)\n",
      "    if a ==1:\n",
      "        upcount+=1\n",
      "    elif a ==2:\n",
      "        downcount+=1\n",
      "        \n",
      "print \"Spin up electrons =\", upcount\n",
      "print \"Spin down electrons =\", downcount"
     ],
     "language": "python",
     "metadata": {},
     "outputs": [
      {
       "output_type": "stream",
       "stream": "stdout",
       "text": [
        "Electron is X-.\n",
        "Electron is X-.\n",
        "Electron is X-.\n",
        "Electron is X-.\n",
        "Electron is X+.\n",
        "Electron is X-.\n",
        "Electron is X-.\n",
        "Electron is X+.\n",
        "Electron is X-.\n",
        "Electron is X+.\n",
        "Spin up electrons = 3\n",
        "Spin down electrons = 7\n"
       ]
      }
     ],
     "prompt_number": 15
    },
    {
     "cell_type": "code",
     "collapsed": false,
     "input": [
      "###Experimental Set Up Number 3###\n",
      "\n",
      "#Initializing spin counters\n",
      "downcount = 0\n",
      "upcount = 0\n",
      "\n",
      "#Sending through only X+ electrons\n",
      "x=1\n",
      "\n",
      "#Running the particles through the first Z-box, recombining the electron beams prior to measurement and saving the states\n",
      "#to be put into the next box\n",
      "(x,z) = Zmeasurement(x,0,1,0)\n",
      "\n",
      "#Making 10 measurements of the Electrons coming out of the final X-box\n",
      "for i in range(10):\n",
      "    (a,b) = Xmeasurement(x,z,0,1)\n",
      "    if a ==1:\n",
      "        upcount+=1\n",
      "    elif a ==2:\n",
      "        downcount+=1\n",
      "        \n",
      "print \"Spin up electrons =\", upcount\n",
      "print \"Spin down electrons =\", downcount\n"
     ],
     "language": "python",
     "metadata": {},
     "outputs": [
      {
       "output_type": "stream",
       "stream": "stdout",
       "text": [
        "Electron is X+.\n",
        "Electron is X+.\n",
        "Electron is X+.\n",
        "Electron is X+.\n",
        "Electron is X+.\n",
        "Electron is X+.\n",
        "Electron is X+.\n",
        "Electron is X+.\n",
        "Electron is X+.\n",
        "Electron is X+.\n",
        "Spin up electrons = 10\n",
        "Spin down electrons = 0\n"
       ]
      }
     ],
     "prompt_number": 16
    },
    {
     "cell_type": "code",
     "collapsed": false,
     "input": [
      "'''\n",
      "The logic now effectively works for all three experimental set-ups.\n",
      "What remains is to create general a function that uses raw input to \n",
      "allow the user to modify which experiment and which parameters are used.\n",
      "The variables they will input will be the initial state of the electron,\n",
      "the kinds of measurements made, how many electrons it measures, whether\n",
      "or to print the ultimate state of each electron or just count the results.\n",
      "Additionally, I'll have to use the python animation tutorials to animate\n",
      "the whole scenario.\n",
      "'''"
     ],
     "language": "python",
     "metadata": {},
     "outputs": [
      {
       "metadata": {},
       "output_type": "pyout",
       "prompt_number": 18,
       "text": [
        "\"\\nThe logic now effectively works for all three experimental set-ups.\\nWhat remains is to create general a function that uses raw input to \\nallow the user to modify which experiment and which parameters are used.\\nThe variables they will input will be the initial state of the electron,\\nthe kinds of measurements made, how many electrons it measures, whether\\nor to print the ultimate state of each electron or just count the results.\\nAdditionally, I'll have to use the python animation tutorials to animate\\nthe whole scenario.\\n\""
       ]
      }
     ],
     "prompt_number": 18
    },
    {
     "cell_type": "code",
     "collapsed": false,
     "input": [],
     "language": "python",
     "metadata": {},
     "outputs": []
    }
   ],
   "metadata": {}
  }
 ]
}