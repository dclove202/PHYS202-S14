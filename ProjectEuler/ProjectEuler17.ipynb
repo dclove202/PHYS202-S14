{
 "metadata": {
  "name": "",
  "signature": "sha256:03d69a3c7aa109b1bdfa6bf883bb0c83f39262f7e937a1eae72cba12e363f58f"
 },
 "nbformat": 3,
 "nbformat_minor": 0,
 "worksheets": [
  {
   "cells": [
    {
     "cell_type": "heading",
     "level": 1,
     "metadata": {},
     "source": [
      "Number Letter Counts"
     ]
    },
    {
     "cell_type": "heading",
     "level": 2,
     "metadata": {},
     "source": [
      "Problem 17"
     ]
    },
    {
     "cell_type": "markdown",
     "metadata": {},
     "source": [
      "If the numbers 1 to 5 are written out in words: one, two, three, four, five, then there are\n",
      "\n",
      "3+3+5+4+4 = 19 letters used in total.\n",
      "\n",
      "If all the numbers from 1 to 1000 (one thousand) inclusive were written out in words, how many letters would be used?"
     ]
    },
    {
     "cell_type": "code",
     "collapsed": false,
     "input": [
      "one = 3\n",
      "two = 3\n",
      "three = 5\n",
      "four = 4\n",
      "five = 4\n",
      "six = 3\n",
      "seven = 5\n",
      "eight = 5\n",
      "nine = 4\n",
      "ten = 3\n",
      "\n",
      "ones = [one,two,three,four,five,six,seven,eight,nine]\n",
      "\n",
      "eleven = 6\n",
      "twelve = 6\n",
      "thirteen = 8\n",
      "fourteen = 8\n",
      "fifteen = 7\n",
      "sixteen = 7\n",
      "seventeen = 9\n",
      "eighteen = 8\n",
      "nineteen = 8\n",
      "\n",
      "teens = [eleven,twelve,thirteen,fourteen,fifteen,sixteen,seventeen,eighteen,nineteen]\n",
      "\n",
      "twenty = 6\n",
      "thirty = 6\n",
      "fourty = 6\n",
      "fifty = 5\n",
      "sixty = 5\n",
      "seventy = 7\n",
      "eighty = 6\n",
      "ninety = 6\n",
      "\n",
      "tens = [twenty,thirty,fourty,fifty,sixty,seventy,eighty,ninety]\n",
      "\n",
      "hundred = 7\n",
      "thousand = 8\n",
      "letters = 0\n",
      "\n",
      "#Test Case\n",
      "for i in range(5):\n",
      "    letters += ones[i]\n",
      "print letters"
     ],
     "language": "python",
     "metadata": {},
     "outputs": [
      {
       "output_type": "stream",
       "stream": "stdout",
       "text": [
        "19\n"
       ]
      }
     ],
     "prompt_number": 7
    },
    {
     "cell_type": "code",
     "collapsed": false,
     "input": [
      "onesletters = 0\n",
      "for i in range(9):\n",
      "    onesletters+=ones[i]\n",
      "print onesletters\n",
      "teenletters=0\n",
      "for i in range(9):\n",
      "    teenletters+=teens[i]\n",
      "print teenletters\n",
      "\n",
      "tensletters = 3\n",
      "for i in range(8):\n",
      "    tensletters+=tens[i]\n",
      "print tensletters"
     ],
     "language": "python",
     "metadata": {},
     "outputs": [
      {
       "output_type": "stream",
       "stream": "stdout",
       "text": [
        "36\n",
        "67\n",
        "50\n"
       ]
      }
     ],
     "prompt_number": 13
    },
    {
     "cell_type": "code",
     "collapsed": false,
     "input": [],
     "language": "python",
     "metadata": {},
     "outputs": []
    }
   ],
   "metadata": {}
  }
 ]
}