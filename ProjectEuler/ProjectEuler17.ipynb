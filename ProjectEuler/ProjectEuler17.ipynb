{
 "metadata": {
  "name": "",
  "signature": "sha256:86440e9fd10b006de66a5959e65a62095d24e3e9e9014e9e5d0f0ba00a5b9402"
 },
 "nbformat": 3,
 "nbformat_minor": 0,
 "worksheets": [
  {
   "cells": [
    {
     "cell_type": "heading",
     "level": 1,
     "metadata": {},
     "source": [
      "Number Letter Counts"
     ]
    },
    {
     "cell_type": "heading",
     "level": 2,
     "metadata": {},
     "source": [
      "Problem 17"
     ]
    },
    {
     "cell_type": "markdown",
     "metadata": {},
     "source": [
      "If the numbers 1 to 5 are written out in words: one, two, three, four, five, then there are\n",
      "\n",
      "3+3+5+4+4 = 19 letters used in total.\n",
      "\n",
      "If all the numbers from 1 to 1000 (one thousand) inclusive were written out in words, how many letters would be used?"
     ]
    },
    {
     "cell_type": "code",
     "collapsed": false,
     "input": [
      "one = 3\n",
      "two = 3\n",
      "three = 5\n",
      "four = 4\n",
      "five = 4\n",
      "six = 3\n",
      "seven = 5\n",
      "eight = 5\n",
      "nine = 4\n",
      "\n",
      "\n",
      "ones = [one,two,three,four,five,six,seven,eight,nine]\n",
      "\n",
      "ten = 3\n",
      "eleven = 6\n",
      "twelve = 6\n",
      "thirteen = 8\n",
      "fourteen = 8\n",
      "fifteen = 7\n",
      "sixteen = 7\n",
      "seventeen = 9\n",
      "eighteen = 8\n",
      "nineteen = 8\n",
      "\n",
      "teens = [ten,eleven,twelve,thirteen,fourteen,fifteen,sixteen,seventeen,eighteen,nineteen]\n",
      "\n",
      "twenty = 6\n",
      "thirty = 6\n",
      "forty = 5\n",
      "fifty = 5\n",
      "sixty = 5\n",
      "seventy = 7\n",
      "eighty = 6\n",
      "ninety = 6\n",
      "\n",
      "tens = [twenty,thirty,forty,fifty,sixty,seventy,eighty,ninety]\n",
      "\n",
      "hundred = 7\n",
      "onethousand = 11\n",
      "letters = 0\n",
      "\n",
      "#Test Case\n",
      "for i in range(5):\n",
      "    letters += ones[i]\n",
      "print letters"
     ],
     "language": "python",
     "metadata": {},
     "outputs": [
      {
       "output_type": "stream",
       "stream": "stdout",
       "text": [
        "19\n"
       ]
      }
     ],
     "prompt_number": 54
    },
    {
     "cell_type": "code",
     "collapsed": false,
     "input": [
      "onesletters = 0\n",
      "for i in range(9):\n",
      "    onesletters+=ones[i]\n",
      "\n",
      "teenletters=0\n",
      "for i in range(10):\n",
      "    teenletters+=teens[i]\n",
      "\n",
      "tensletters = 0\n",
      "for i in range(8):\n",
      "    tensletters+=tens[i]\n",
      "\n",
      "#and\n",
      "a=3\n",
      "\n",
      "# hundred\n",
      "hundredsletters = 0\n",
      "hundredsletters += hundred\n",
      "\n",
      "\n",
      "letters = 0\n",
      "#1-99\n",
      "letters += onesletters *9\n",
      "letters += teenletters\n",
      "letters += tensletters * 10\n",
      "n = letters\n",
      "\n",
      "#100-999\n",
      "Total = 0\n",
      "#number of hundreds\n",
      "Total += onesletters *100\n",
      "\n",
      "\n",
      "#1-99 times 10\n",
      "Total += n*10\n",
      "\n",
      "#hundred\n",
      "Total += hundred * 9\n",
      "\n",
      "#hundred and\n",
      "Total += (hundred+a)*99*9\n",
      "\n",
      "\n",
      "\n",
      "\n",
      "#1000\n",
      "Total += onethousand\n",
      "print \"Total Letters = \", Total\n"
     ],
     "language": "python",
     "metadata": {},
     "outputs": [
      {
       "output_type": "stream",
       "stream": "stdout",
       "text": [
        "Total Letters =  21124\n"
       ]
      }
     ],
     "prompt_number": 53
    },
    {
     "cell_type": "code",
     "collapsed": false,
     "input": [],
     "language": "python",
     "metadata": {},
     "outputs": []
    }
   ],
   "metadata": {}
  }
 ]
}