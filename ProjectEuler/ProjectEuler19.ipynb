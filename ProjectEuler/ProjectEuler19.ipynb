{
 "metadata": {
  "name": "",
  "signature": "sha256:ecaaa36efef9f342961c2852487f476bb617bf83dcf7a72b6110b52a359cc2ff"
 },
 "nbformat": 3,
 "nbformat_minor": 0,
 "worksheets": [
  {
   "cells": [
    {
     "cell_type": "heading",
     "level": 1,
     "metadata": {},
     "source": [
      "Counting Sundays"
     ]
    },
    {
     "cell_type": "heading",
     "level": 2,
     "metadata": {},
     "source": [
      "Problem 19"
     ]
    },
    {
     "cell_type": "markdown",
     "metadata": {},
     "source": [
      "You are given the following information, but you may prefer to do some research for yourself.\n",
      "\n",
      "1 Jan 1900 was a Monday.\n",
      "\n",
      "Thirty days has September, April, June and November. All the rest have thirty-one, Saving February alone, which has 28, rain or shine. And on leap years, twenty-nine.\n",
      "\n",
      "A leap year occurs on any year evenly divisible by 4, but not on a century unless it is divisible by 400.\n",
      "\n",
      "How many Sundays fell on the first of the month during the twentieth century (1 Jan 1901 to 31 Dec 2000)?"
     ]
    },
    {
     "cell_type": "code",
     "collapsed": false,
     "input": [
      "#Finding day of the week one year from\n",
      "#Monday, 1/1/1900\n",
      "number_of_days = 365\n",
      "\n",
      "#Function to find the day of the week given a number of days since Monday\n",
      "def weekday(number_of_days):\n",
      "    if number_of_days % 7 == 0:\n",
      "        day = 'Monday'\n",
      "    elif number_of_days % 7 == 1:\n",
      "        day = 'Tuesday'\n",
      "    elif number_of_days % 7 == 2:\n",
      "        day = 'Wednesday'\n",
      "    elif number_of_days % 7 == 3:\n",
      "        day = 'Thursday'\n",
      "    elif number_of_days % 7 == 4:\n",
      "        day = 'Friday'\n",
      "    elif number_of_days % 7 == 5:\n",
      "        day = 'Saturday'\n",
      "    elif number_of_days % 7 == 6:\n",
      "        day = 'Sunday'\n",
      "    return day\n",
      "\n",
      "print \"January First 1901 was a\", weekday(365), '.'\n"
     ],
     "language": "python",
     "metadata": {},
     "outputs": [
      {
       "output_type": "stream",
       "stream": "stdout",
       "text": [
        "January First 1901 was a Tuesday .\n"
       ]
      }
     ],
     "prompt_number": 1
    },
    {
     "cell_type": "code",
     "collapsed": false,
     "input": [
      "\n",
      "#Starting the days one year from the given date\n",
      "number_of_days = 365\n",
      "# Initializing Sunday Counter\n",
      "total_sundays = 0\n",
      "#setting days in each month\n",
      "january = 31\n",
      "#fixing leap definition error\n",
      "leap = 1 or 0\n",
      "if leap == 1:\n",
      "    february = 29\n",
      "else:\n",
      "    february = 28\n",
      "march = 31\n",
      "april = 30\n",
      "may = 31\n",
      "june = 30\n",
      "july = 31\n",
      "august = 31\n",
      "september = 30\n",
      "october = 31\n",
      "november = 30\n",
      "december = 31\n",
      "#List of months for convenience\n",
      "months = [january, february, march, april, may, june, july, august, september, october, november, december]\n",
      "\n",
      "#Iterating over the 20th Century\n",
      "for i in range(1901,2001):\n",
      "    year = i\n",
      "    # Determining whether this year is a leap year\n",
      "    if year % 4 != 0:\n",
      "        leap = 0\n",
      "    elif year % 100 != 0:\n",
      "        leap = 1\n",
      "    elif year % 400 != 0:\n",
      "        leap = 0\n",
      "    else:\n",
      "        leap = 1\n",
      "    #Iterating over each month for each year\n",
      "    for month in months:\n",
      "        #picking out the first day of each month\n",
      "        number_of_days += month\n",
      "        #Figuring out if it's Sunday\n",
      "        if weekday(number_of_days) == \"Sunday\":\n",
      "            #incrementing the sunday counter if it is\n",
      "            total_sundays += 1\n",
      "print \"The total Sundays that occured on the first of the month in the 20th century is\", total_sundays,"
     ],
     "language": "python",
     "metadata": {},
     "outputs": [
      {
       "output_type": "stream",
       "stream": "stdout",
       "text": [
        "The total Sundays that occured on the first of the month in the 20th century is 171\n"
       ]
      }
     ],
     "prompt_number": 5
    },
    {
     "cell_type": "code",
     "collapsed": false,
     "input": [],
     "language": "python",
     "metadata": {},
     "outputs": []
    }
   ],
   "metadata": {}
  }
 ]
}