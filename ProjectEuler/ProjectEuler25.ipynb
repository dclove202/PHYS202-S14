{
 "metadata": {
  "name": "",
  "signature": "sha256:47edb15d9bd7793ffefdcde257b3cc590e57380f324658bcc4d732795bc4a8e7"
 },
 "nbformat": 3,
 "nbformat_minor": 0,
 "worksheets": [
  {
   "cells": [
    {
     "cell_type": "heading",
     "level": 1,
     "metadata": {},
     "source": [
      "1000-digit Fibonacci number"
     ]
    },
    {
     "cell_type": "heading",
     "level": 2,
     "metadata": {},
     "source": [
      "Problem 25"
     ]
    },
    {
     "cell_type": "markdown",
     "metadata": {},
     "source": [
      "The Fibonacci sequence is defined by the recurrence relation:\n",
      "\n",
      "\n",
      "Fn = Fn\u22121 + Fn\u22122, where F1 = 1 and F2 = 1.\n",
      "\n",
      "Hence the first 12 terms will be:\n",
      "\n",
      "F1 = 1\n",
      "\n",
      "F2 = 1\n",
      "\n",
      "F3 = 2\n",
      "\n",
      "F4 = 3\n",
      "\n",
      "F5 = 5\n",
      "\n",
      "F6 = 8\n",
      "\n",
      "F7 = 13\n",
      "\n",
      "F8 = 21\n",
      "\n",
      "F9 = 34\n",
      "\n",
      "F10 = 55\n",
      "\n",
      "F11 = 89\n",
      "\n",
      "F12 = 144\n",
      "\n",
      "The 12th term, F12, is the first term to contain three digits.\n",
      "\n",
      "What is the first term in the Fibonacci sequence to contain 1000 digits?"
     ]
    },
    {
     "cell_type": "code",
     "collapsed": false,
     "input": [
      "def fib_dig(n):\n",
      "    old=1\n",
      "    term=1\n",
      "    new=0\n",
      "    while len(str(old)) != n:\n",
      "        old, new = old+new, old\n",
      "        term = term + 1\n",
      "    return \"The first term with %d digits in the Fibonacci Sequence is the %dth term.\" %(n, term)\n",
      "print fib_dig(3)"
     ],
     "language": "python",
     "metadata": {},
     "outputs": [
      {
       "output_type": "stream",
       "stream": "stdout",
       "text": [
        "The first term with 3 digits in the Fibonacci Sequence is the 12th term.\n"
       ]
      }
     ],
     "prompt_number": 12
    },
    {
     "cell_type": "code",
     "collapsed": false,
     "input": [
      "print fib_dig(1000)"
     ],
     "language": "python",
     "metadata": {},
     "outputs": [
      {
       "output_type": "stream",
       "stream": "stdout",
       "text": [
        "The first term with 1000 digits in the Fibonacci Sequence is the 4782th term.\n"
       ]
      }
     ],
     "prompt_number": 13
    }
   ],
   "metadata": {}
  }
 ]
}