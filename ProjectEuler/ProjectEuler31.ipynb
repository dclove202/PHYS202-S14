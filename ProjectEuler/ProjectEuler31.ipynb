{
 "metadata": {
  "name": "",
  "signature": "sha256:2535f43a41c30b72e196d307053542a0d2c1be2e89e630abf24e2c47b602d82b"
 },
 "nbformat": 3,
 "nbformat_minor": 0,
 "worksheets": [
  {
   "cells": [
    {
     "cell_type": "heading",
     "level": 1,
     "metadata": {},
     "source": [
      "Coin Sums"
     ]
    },
    {
     "cell_type": "markdown",
     "metadata": {},
     "source": [
      "Problem 31\n",
      "\n",
      "In England the currency is made up of pound, \u00a3, and pence, p, and there are eight coins in general circulation:\n",
      "\n",
      "1p, 2p, 5p, 10p, 20p, 50p, \u00a31 (100p) and \u00a32 (200p).\n",
      "It is possible to make \u00a32 in the following way:\n",
      "\n",
      "1\u00d7\u00a31 + 1\u00d750p + 2\u00d720p + 1\u00d75p + 1\u00d72p + 3\u00d71p\n",
      "How many different ways can \u00a32 be made using any number of coins?"
     ]
    },
    {
     "cell_type": "code",
     "collapsed": false,
     "input": [
      "a = 1\n",
      "b = 2\n",
      "c = 5\n",
      "d = 10\n",
      "e = 20\n",
      "f = 50\n",
      "g = 100\n",
      "\n",
      "combos = 0\n",
      "running_sum = 0\n",
      "for pound in range(3):\n",
      "    running_sum += g\n",
      "    if running_sum == 200:\n",
      "        combos += 1\n",
      "        running_sum = 0\n",
      "    else:\n",
      "        for halfpound in range(5):\n",
      "            running_sum += f\n",
      "            if running_sum == 200:\n",
      "                combos += 1\n",
      "                running_sum = 0\n",
      "            else:\n",
      "                for twentyp in range(11):\n",
      "                    running_sum += e\n",
      "                    if running_sum == 200:\n",
      "                        combos += 1\n",
      "                        running_sum = 0\n",
      "                    else:\n",
      "                        for tenp in range(21):\n",
      "                            running_sum += d\n",
      "                            if running_sum == 200:\n",
      "                                combos +=1\n",
      "                                running_sum = 0\n",
      "                            else:\n",
      "                                for fivep in range(41):\n",
      "                                    running_sum += c\n",
      "                                    if running_sum == 200:\n",
      "                                        combos += 1\n",
      "                                        running_sum = 0\n",
      "                                    else:\n",
      "                                        for twop in range(101):\n",
      "                                            running_sum += b\n",
      "                                            if running_sum == 200:\n",
      "                                                combos += 1\n",
      "                                                running_sum = 0\n",
      "                                            else:\n",
      "                                                for penny in range(201):\n",
      "                                                    running_sum += a\n",
      "                                                    if running_sum == 200:\n",
      "                                                        combos += 1\n",
      "                                                        running_sum = 0\n",
      "                                                        \n",
      "\n",
      "#Printing total combinations + 1 for the 2 pound note                                                \n",
      "print combos + 1"
     ],
     "language": "python",
     "metadata": {},
     "outputs": [
      {
       "output_type": "stream",
       "stream": "stdout",
       "text": [
        "1532\n"
       ]
      }
     ],
     "prompt_number": 6
    },
    {
     "cell_type": "code",
     "collapsed": false,
     "input": [],
     "language": "python",
     "metadata": {},
     "outputs": []
    }
   ],
   "metadata": {}
  }
 ]
}