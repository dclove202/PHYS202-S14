{
 "metadata": {
  "name": "",
  "signature": "sha256:bc4c96301b103276c219ebf3a8130c49ba9408f372ea100457e1e1f25f8b3cf6"
 },
 "nbformat": 3,
 "nbformat_minor": 0,
 "worksheets": [
  {
   "cells": [
    {
     "cell_type": "heading",
     "level": 1,
     "metadata": {},
     "source": [
      "Coin Sums"
     ]
    },
    {
     "cell_type": "markdown",
     "metadata": {},
     "source": [
      "Problem 31\n",
      "\n",
      "In England the currency is made up of pound, \u00a3, and pence, p, and there are eight coins in general circulation:\n",
      "\n",
      "1p, 2p, 5p, 10p, 20p, 50p, \u00a31 (100p) and \u00a32 (200p).\n",
      "It is possible to make \u00a32 in the following way:\n",
      "\n",
      "1\u00d7\u00a31 + 1\u00d750p + 2\u00d720p + 1\u00d75p + 1\u00d72p + 3\u00d71p\n",
      "How many different ways can \u00a32 be made using any number of coins?"
     ]
    },
    {
     "cell_type": "code",
     "collapsed": false,
     "input": [
      "twoquid = 200\n",
      "#excluding 2 pound note for simplicity\n",
      "different_coins = [1,2,5,10,20,50,100]\n",
      "combinations = [1]+[0]*twoquid\n",
      "for i in different_coins:\n",
      "    for thing in range(i, twoquid + 1):\n",
      "        combinations[thing] += combinations[thing-i]\n",
      "#adding 1 to account for 2 pound note combination\n",
      "print \"The number of combinations is:\", combinations[twoquid] + 1"
     ],
     "language": "python",
     "metadata": {},
     "outputs": [
      {
       "output_type": "stream",
       "stream": "stdout",
       "text": [
        "The number of combinations is: 73682\n"
       ]
      }
     ],
     "prompt_number": 7
    },
    {
     "cell_type": "code",
     "collapsed": false,
     "input": [],
     "language": "python",
     "metadata": {},
     "outputs": []
    }
   ],
   "metadata": {}
  }
 ]
}