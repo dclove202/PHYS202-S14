{
 "metadata": {
  "name": "",
  "signature": "sha256:95648778cc77952a738302fc6659c53dc5dfad34e8c3eceb77b6fc16bfe2e137"
 },
 "nbformat": 3,
 "nbformat_minor": 0,
 "worksheets": [
  {
   "cells": [
    {
     "cell_type": "heading",
     "level": 1,
     "metadata": {},
     "source": [
      "Largest Palindrome Product"
     ]
    },
    {
     "cell_type": "heading",
     "level": 2,
     "metadata": {},
     "source": [
      "Problem 4"
     ]
    },
    {
     "cell_type": "markdown",
     "metadata": {},
     "source": [
      "A palindromic number reads the same both ways. The largest palindrome made from the product of two 2-digit numbers is 9009 = 91 \u00d7 99.\n",
      "\n",
      "Find the largest palindrome made from the product of two 3-digit numbers.`"
     ]
    },
    {
     "cell_type": "code",
     "collapsed": false,
     "input": [
      "#products of 2 digit numbers result in either 3 or 4 digit numbers\n",
      "a = 0\n",
      "for i in range(10,100):\n",
      "    for j in range(10,100):\n",
      "        if len(str(i*j)) == 3:\n",
      "            if str(i*j)[0] == str(i*j)[2]:\n",
      "                if i*j > a:\n",
      "                    a = i*j\n",
      "        elif str(i*j)[0]+str(i*j)[1] == str(i*j)[3]+str(i*j)[2]:\n",
      "            if i*j > a:\n",
      "                a = i*j\n",
      "print a"
     ],
     "language": "python",
     "metadata": {},
     "outputs": [
      {
       "output_type": "stream",
       "stream": "stdout",
       "text": [
        "9009\n"
       ]
      }
     ],
     "prompt_number": 12
    },
    {
     "cell_type": "code",
     "collapsed": false,
     "input": [
      "#products of 3 digits numbers result in either 5 or 6 digits\n",
      "b = 0\n",
      "for i in range(100,1000):\n",
      "    for j in range(100,1000):\n",
      "        if len(str(i*j)) == 5:\n",
      "            if str(i*j)[0]+str(i*j)[1] == str(i*j)[4]+str(i*j)[3]:\n",
      "                if i*j > b:\n",
      "                    b = i*j\n",
      "        elif len(str(i*j)) == 6:\n",
      "            if str(i*j)[0]+str(i*j)[1]+str(i*j)[2] == str(i*j)[5]+str(i*j)[4]+str(i*j)[3]:\n",
      "                if i*j > b:\n",
      "                    b = i*j\n",
      "print \"The largest palendrome is made from %i X %i and is:\"%(i,j), b,\".\""
     ],
     "language": "python",
     "metadata": {},
     "outputs": [
      {
       "output_type": "stream",
       "stream": "stdout",
       "text": [
        "The largest palendrome is made from 999 X 999 and is: 906609 .\n"
       ]
      }
     ],
     "prompt_number": 24
    },
    {
     "cell_type": "code",
     "collapsed": false,
     "input": [],
     "language": "python",
     "metadata": {},
     "outputs": []
    }
   ],
   "metadata": {}
  }
 ]
}