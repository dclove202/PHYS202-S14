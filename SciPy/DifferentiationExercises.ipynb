{
 "metadata": {
  "name": "",
  "signature": "sha256:960066fd932e994a206ce0fe62a4cfd86eae156b4abb91bdc3d0c0986ea06bf5"
 },
 "nbformat": 3,
 "nbformat_minor": 0,
 "worksheets": [
  {
   "cells": [
    {
     "cell_type": "heading",
     "level": 1,
     "metadata": {},
     "source": [
      "Differentiation Exercises"
     ]
    },
    {
     "cell_type": "code",
     "collapsed": false,
     "input": [
      "%pylab inline"
     ],
     "language": "python",
     "metadata": {},
     "outputs": [
      {
       "output_type": "stream",
       "stream": "stdout",
       "text": [
        "Populating the interactive namespace from numpy and matplotlib\n"
       ]
      }
     ],
     "prompt_number": 1
    },
    {
     "cell_type": "heading",
     "level": 2,
     "metadata": {},
     "source": [
      "Question 1"
     ]
    },
    {
     "cell_type": "markdown",
     "metadata": {},
     "source": [
      "\n",
      "Let\u2019s explore the accuracy of numerical differentiation.\n",
      "\n",
      "(a) Write two functions called twoPtForwardDiff(x,y) and twoPtCenteredDiff(x,y) that take as arguments arrays of values x and y(x) and return the derivatives of y with respect to x. Make sure that the arrays returned by the function have the same shape as the input arrays.\n",
      "\n",
      "\n",
      "    def twoPtForwardDiff(x,y):\n",
      "        \"\"\"include a docstring to describe what your function does\"\"\"\n",
      "    \n",
      "        # your code goes here ...\n",
      "    \n",
      "        return dydx\n",
      "        \n",
      "    def twoPtCenteredDiff(x,y):\n",
      "        \"\"\"include a docstring to describe what your function does\"\"\"\n",
      "    \n",
      "        # your code goes here ...\n",
      "    \n",
      "        return dydx"
     ]
    },
    {
     "cell_type": "code",
     "collapsed": false,
     "input": [],
     "language": "python",
     "metadata": {},
     "outputs": []
    }
   ],
   "metadata": {}
  }
 ]
}