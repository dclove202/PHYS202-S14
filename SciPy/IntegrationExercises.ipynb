{
 "metadata": {
  "name": "",
  "signature": "sha256:a0203e30e2743367bae1b07ddbd1f1b641394d275b6f8f27595327807b91d1e0"
 },
 "nbformat": 3,
 "nbformat_minor": 0,
 "worksheets": [
  {
   "cells": [
    {
     "cell_type": "heading",
     "level": 1,
     "metadata": {},
     "source": [
      "Integration Exercises"
     ]
    },
    {
     "cell_type": "code",
     "collapsed": false,
     "input": [
      "%pylab inline\n",
      "import numpy as np\n",
      "import matplotlib.pyplot as plt"
     ],
     "language": "python",
     "metadata": {},
     "outputs": [
      {
       "output_type": "stream",
       "stream": "stdout",
       "text": [
        "Populating the interactive namespace from numpy and matplotlib\n"
       ]
      },
      {
       "output_type": "stream",
       "stream": "stderr",
       "text": [
        "WARNING: pylab import has clobbered these variables: ['trapz']\n",
        "`%matplotlib` prevents importing * from pylab and numpy\n"
       ]
      }
     ],
     "prompt_number": 71
    },
    {
     "cell_type": "heading",
     "level": 2,
     "metadata": {},
     "source": [
      "Question 1"
     ]
    },
    {
     "cell_type": "markdown",
     "metadata": {},
     "source": [
      "(a) Write two functions trapz(func,a,b,N) and simps(func,a,b,N) to compute the integral of the function func over the variable x using the trapezoidal rule and Simpson's rule to a file called Integrators.py. Do not use the scipy.integrate built-in functions. Include docstrings with each function that describe what they do. Then import the module and use the functions to answer the following questions. To avoid namespace conflicts, import your module as myint and then call the functions from that namespace. i.e.\n",
      "\n",
      "    import integrators as myint\n",
      "    #...your code...here\n",
      "    I = myint.trapz(func,a,b,N)\n",
      "    \n",
      "Also, be sure that you import any needed modules."
     ]
    },
    {
     "cell_type": "code",
     "collapsed": false,
     "input": [
      "%%file Integrators.py\n",
      "import numpy as np\n",
      "\n",
      "def trapz(func,a,b,N):\n",
      "    '''\n",
      "    Uses the trapezoid rule of integration to calculate the area under a curve,\n",
      "    func, between the end point b and start point a, given some number N trapezoids.\n",
      "    '''\n",
      "    h = (b-a)/N\n",
      "    k = np.arange(1,N)\n",
      "    I = h*(0.5*func(a) + 0.5*func(b) + func(a+k*h).sum())\n",
      "    return \"Trapezoid Rule Integral =\", I\n",
      "\n",
      "def simps(func,a,b,N):\n",
      "    '''Uses Simpson's Rule to calculate the integral of a function, func,\n",
      "    between points a and b.\n",
      "    '''\n",
      "    h = (b-a)/N\n",
      "    k1 = np.arange(1,N/2+1)\n",
      "    k2 = np.arange(1,N/2)\n",
      "    I = (1./3.)*h*(func(a) + func(b) + 4.*func(a+(2*k1-1)*h).sum() + 2.*func(a+2*k2*h).sum())\n",
      "    return \"Simpson's Rule Integral =\", I"
     ],
     "language": "python",
     "metadata": {},
     "outputs": [
      {
       "output_type": "stream",
       "stream": "stdout",
       "text": [
        "Overwriting Integrators.py\n"
       ]
      }
     ],
     "prompt_number": 72
    },
    {
     "cell_type": "markdown",
     "metadata": {},
     "source": [
      "(b) Use your trapz and simps functions from part (a) to calculate the integral of x^4\u22122x+1 from x = 0 to x = 2 with N = 10, N = 100, and N = 1000. Then compare your result to the known correct value of 4.4. What is the percent error in each case?"
     ]
    },
    {
     "cell_type": "code",
     "collapsed": false,
     "input": [
      "from Integrators import *\n",
      "print trapz(lambda x: x**4 - 2*x +1,0.0,2.0,10)\n",
      "print simps(lambda x: x**4 - 2*x +1,0.0,2.0,10)"
     ],
     "language": "python",
     "metadata": {},
     "outputs": [
      {
       "output_type": "stream",
       "stream": "stdout",
       "text": [
        "('Trapezoid Rule Integral =', 4.5065600000000003)\n",
        "(\"Simpson's Rule Integral =\", 4.4004266666666672)\n"
       ]
      }
     ],
     "prompt_number": 73
    },
    {
     "cell_type": "code",
     "collapsed": false,
     "input": [
      "def Error(correct, attempt):\n",
      "    return \"The error is %f percent.\" %(abs((100*(correct-attempt)/correct)))"
     ],
     "language": "python",
     "metadata": {},
     "outputs": [],
     "prompt_number": 74
    },
    {
     "cell_type": "code",
     "collapsed": false,
     "input": [
      "#Trapezoid Rule Error\n",
      "print\"For the Trap function:\", Error(4.4,4.5065600000000003)\n",
      "\n",
      "#Simposon's Rule Error\n",
      "print\"For Simpson's Rule:\", Error(4.4,4.4004266666666672)"
     ],
     "language": "python",
     "metadata": {},
     "outputs": [
      {
       "output_type": "stream",
       "stream": "stdout",
       "text": [
        "For the Trap function: The error is 2.421818 percent.\n",
        "For Simpson's Rule: The error is 0.009697 percent.\n"
       ]
      }
     ],
     "prompt_number": 75
    },
    {
     "cell_type": "heading",
     "level": 2,
     "metadata": {},
     "source": [
      "Question 2"
     ]
    },
    {
     "cell_type": "markdown",
     "metadata": {},
     "source": [
      "Consider the Integral\n",
      "\n",
      "E(x)=\u222bx0e\u2212t2dt\n",
      "\n",
      "This is the error function, commonly seen in probability and statistics. There is no known way to perform this particular integral analytically, although the integrand can be expanded in a Taylor series and terms computed to arbitrary order. For most applications, numerical approaches are the only way forward."
     ]
    },
    {
     "cell_type": "markdown",
     "metadata": {},
     "source": [
      "(a) Use scipy.integrate.cumtrapz to calculate E(x) for values of x from 0 to 3 in steps of 0.1.\n",
      "Print the result."
     ]
    },
    {
     "cell_type": "code",
     "collapsed": false,
     "input": [
      "import scipy.integrate as integrate\n",
      "funshin = lambda x : np.exp(-x**2)\n",
      "a = np.arange(0,3,.1)\n",
      "print integrate.cumtrapz(funshin(a),a)"
     ],
     "language": "python",
     "metadata": {},
     "outputs": [
      {
       "output_type": "stream",
       "stream": "stdout",
       "text": [
        "[ 0.09950249  0.19704446  0.29078049  0.37908424  0.46063146  0.53445532\n",
        "  0.59997046  0.6569664   0.70557392  0.7462108   0.77951463  0.80627088\n",
        "  0.82734325  0.84361215  0.85592503  0.86506023  0.87170427  0.87644128\n",
        "  0.87975207  0.88202044  0.88354398  0.88454709  0.88519453  0.88560418\n",
        "  0.88585826  0.88601274  0.88610482  0.88615862  0.88618943]\n"
       ]
      }
     ],
     "prompt_number": 76
    },
    {
     "cell_type": "markdown",
     "metadata": {},
     "source": [
      "(b) Plot the integrand as a function of t and E(x) as a function of x (both ranging from 0 to 3) on the same graph."
     ]
    },
    {
     "cell_type": "code",
     "collapsed": false,
     "input": [
      "b = integrate.cumtrapz(funshin(a),a)\n",
      "c= a[0:-1]\n",
      "plt.plot(c,b, color=\"black\", linewidth=5, label=\"CumTrapz Integration\")\n",
      "plt.plot(c,funshin(c),color=\"blue\", linewidth=5,label=\"Error Function\")\n",
      "plt.legend(loc='best', fancybox=True)\n",
      "plt.xlabel('X', fontsize=18)\n",
      "plt.ylabel('Y', fontsize=18)\n",
      "plt.show()"
     ],
     "language": "python",
     "metadata": {},
     "outputs": [
      {
       "metadata": {},
       "output_type": "display_data",
       "png": "[encoded data removed]",
       "text": [
        "<matplotlib.figure.Figure at 0x106326f10>"
       ]
      }
     ],
     "prompt_number": 101
    },
    {
     "cell_type": "heading",
     "level": 2,
     "metadata": {},
     "source": [
      "Question 3"
     ]
    },
    {
     "cell_type": "markdown",
     "metadata": {},
     "source": [
      "Consider a particle in a one-dimensional box of width L. The probability of finding the particle between a and b is given by\n",
      "\n",
      "[integral from a to b of the wave function of x squared]\n",
      "\n",
      "where\n",
      "\n",
      "[wave function of x = (2/L)**.5 * sin(n\u03c0x/L)]\n",
      "\n",
      "is the wave function."
     ]
    },
    {
     "cell_type": "markdown",
     "metadata": {},
     "source": [
      "**(a)** What is the probability of finding the particle between L/3 and L/2 for the ground state (n = 1) and for the first excited state (n = 2)? Let L = 1. Perform the integral using both scipy.integrate.trapz and scipy.integrate.quad with an accuracy of 6 sig figs. How many slices did you need to use for scipy.integrate.trapz?"
     ]
    },
    {
     "cell_type": "code",
     "collapsed": false,
     "input": [
      "def psi(L,n,x):\n",
      "    first = np.sqrt(2/L)\n",
      "    second = np.sin(n*np.pi*x/L)\n",
      "    return first*second"
     ],
     "language": "python",
     "metadata": {},
     "outputs": [],
     "prompt_number": 102
    },
    {
     "cell_type": "code",
     "collapsed": false,
     "input": [
      "t = 1.0/3.0\n",
      "x = np.linspace(t, 0.5, 300)\n",
      "\n",
      "#Trapz\n",
      "\n",
      "#n = 2\n",
      "print integrate.trapz((psi(1,2,x))**2, x)\n",
      "#n = 1\n",
      "print integrate.trapz((psi(1,1,x))**2,x)"
     ],
     "language": "python",
     "metadata": {},
     "outputs": [
      {
       "output_type": "stream",
       "stream": "stdout",
       "text": [
        "0.0977508365219\n",
        "0.304498749631\n"
       ]
      }
     ],
     "prompt_number": 166
    },
    {
     "cell_type": "code",
     "collapsed": false,
     "input": [
      "#Quad\n",
      "\n",
      "func2 = lambda y: (np.sqrt(2)*np.sin(2*np.pi*y))**2\n",
      "#n = 2\n",
      "print integrate.quad(func2,t,0.5)\n",
      "\n",
      "#n = 1\n",
      "func1 = lambda y: (np.sqrt(2)*np.sin(np.pi*y))**2\n",
      "print integrate.quad(func1,t,0.5)"
     ],
     "language": "python",
     "metadata": {},
     "outputs": [
      {
       "output_type": "stream",
       "stream": "stdout",
       "text": [
        "(0.09775055473894276, 1.0852491654105595e-15)\n",
        "(0.3044988905221147, 3.380616792304666e-15)\n"
       ]
      }
     ],
     "prompt_number": 161
    },
    {
     "cell_type": "markdown",
     "metadata": {},
     "source": [
      "I Used 300 slices to get the trapz function equal to 6 significant Figures."
     ]
    },
    {
     "cell_type": "markdown",
     "metadata": {},
     "source": [
      "(b) Make a plot of psi(x) ^ 2 vs. x for the first two excited states with L=1."
     ]
    },
    {
     "cell_type": "code",
     "collapsed": false,
     "input": [
      "func3 = lambda y: (np.sqrt(2)*np.sin(3*np.pi*y))**2\n",
      "plt.plot(x,func3(x),color=\"black\", linewidth=5, label=\"Second Excited State\")\n",
      "plt.plot(x,func2(x), color=\"blue\", linewidth=5, label=\"First Excited State\")\n",
      "plt.legend(loc='best',fancybox=True, framealpha=.1)\n",
      "plt.xlabel('x')\n",
      "plt.ylabel('y')\n",
      "plt.show()"
     ],
     "language": "python",
     "metadata": {},
     "outputs": [
      {
       "metadata": {},
       "output_type": "display_data",
       "png": "[encoded data removed]",
       "text": [
        "<matplotlib.figure.Figure at 0x10690f2d0>"
       ]
      }
     ],
     "prompt_number": 141
    },
    {
     "cell_type": "heading",
     "level": 2,
     "metadata": {},
     "source": [
      "Question 4"
     ]
    },
    {
     "cell_type": "markdown",
     "metadata": {},
     "source": [
      "Integrals of mass density lead to three interesting quantities:\n",
      "\n",
      "See "
     ]
    }
   ],
   "metadata": {}
  }
 ]
}