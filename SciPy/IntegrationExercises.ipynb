{
 "metadata": {
  "name": "",
  "signature": "sha256:71d03879c979a16a6cf38ebb59c8e2670ea2a974c0f649aa587a04d5e7e03f27"
 },
 "nbformat": 3,
 "nbformat_minor": 0,
 "worksheets": [
  {
   "cells": [
    {
     "cell_type": "heading",
     "level": 1,
     "metadata": {},
     "source": [
      "Integration Exercises"
     ]
    },
    {
     "cell_type": "code",
     "collapsed": false,
     "input": [
      "%pylab inline\n",
      "import numpy as np\n",
      "import matplotlib.pyplot as plt"
     ],
     "language": "python",
     "metadata": {},
     "outputs": [
      {
       "output_type": "stream",
       "stream": "stdout",
       "text": [
        "Populating the interactive namespace from numpy and matplotlib\n"
       ]
      }
     ],
     "prompt_number": 2
    },
    {
     "cell_type": "heading",
     "level": 2,
     "metadata": {},
     "source": [
      "Question 1"
     ]
    },
    {
     "cell_type": "markdown",
     "metadata": {},
     "source": [
      "(a) Write two functions trapz(func,a,b,N) and simps(func,a,b,N) to compute the integral of the function func over the variable x using the trapezoidal rule and Simpson's rule to a file called Integrators.py. Do not use the scipy.integrate built-in functions. Include docstrings with each function that describe what they do. Then import the module and use the functions to answer the following questions. To avoid namespace conflicts, import your module as myint and then call the functions from that namespace. i.e.\n",
      "\n",
      "    import integrators as myint\n",
      "    #...your code...here\n",
      "    I = myint.trapz(func,a,b,N)\n",
      "    \n",
      "Also, be sure that you import any needed modules."
     ]
    },
    {
     "cell_type": "code",
     "collapsed": false,
     "input": [
      "%%file Integrators.py\n",
      "import numpy as np\n",
      "\n",
      "def trapz(func,a,b,N):\n",
      "    '''\n",
      "    Uses the trapezoid rule of integration to calculate the area under a curve,\n",
      "    func, between the end point b and start point a, given some number N trapezoids.\n",
      "    '''\n",
      "    h = (b-a)/N\n",
      "    k = np.arange(1,N)\n",
      "    I = h*(0.5*func(a) + 0.5*func(b) + func(a+k*h).sum())\n",
      "    return \"Trapezoid Rule Integral =\", I\n",
      "\n",
      "def simps(func,a,b,N):\n",
      "    '''Uses Simpson's Rule to calculate the integral of a function, func,\n",
      "    between points a and b.\n",
      "    '''\n",
      "    h = (b-a)/N\n",
      "    k1 = np.arange(1,N/2+1)\n",
      "    k2 = np.arange(1,N/2)\n",
      "    I = (1./3.)*h*(func(a) + func(b) + 4.*func(a+(2*k1-1)*h).sum() + 2.*func(a+2*k2*h).sum())\n",
      "    return \"Simpson's Rule Integral =\", I"
     ],
     "language": "python",
     "metadata": {},
     "outputs": [
      {
       "output_type": "stream",
       "stream": "stdout",
       "text": [
        "Overwriting Integrators.py\n"
       ]
      }
     ],
     "prompt_number": 3
    },
    {
     "cell_type": "markdown",
     "metadata": {},
     "source": [
      "(b) Use your trapz and simps functions from part (a) to calculate the integral of x^4\u22122x+1 from x = 0 to x = 2 with N = 10, N = 100, and N = 1000. Then compare your result to the known correct value of 4.4. What is the percent error in each case?"
     ]
    },
    {
     "cell_type": "code",
     "collapsed": false,
     "input": [
      "from Integrators import *\n",
      "print trapz(lambda x: x**4 - 2*x +1,0.0,2.0,10)\n",
      "print simps(lambda x: x**4 - 2*x +1,0.0,2.0,10)"
     ],
     "language": "python",
     "metadata": {},
     "outputs": [
      {
       "output_type": "stream",
       "stream": "stdout",
       "text": [
        "('Trapezoid Rule Integral =', 4.5065600000000003)\n",
        "(\"Simpson's Rule Integral =\", 4.4004266666666672)\n"
       ]
      }
     ],
     "prompt_number": 4
    },
    {
     "cell_type": "code",
     "collapsed": false,
     "input": [
      "def Error(correct, attempt):\n",
      "    return \"The error is %f percent.\" %(abs((100*(correct-attempt)/correct)))"
     ],
     "language": "python",
     "metadata": {},
     "outputs": [],
     "prompt_number": 5
    },
    {
     "cell_type": "code",
     "collapsed": false,
     "input": [
      "#Trapezoid Rule Error\n",
      "print\"For the Trap function:\", Error(4.4,4.5065600000000003)\n",
      "\n",
      "#Simposon's Rule Error\n",
      "print\"For Simpson's Rule:\", Error(4.4,4.4004266666666672)"
     ],
     "language": "python",
     "metadata": {},
     "outputs": [
      {
       "output_type": "stream",
       "stream": "stdout",
       "text": [
        "For the Trap function: The error is 2.421818 percent.\n",
        "For Simpson's Rule: The error is 0.009697 percent.\n"
       ]
      }
     ],
     "prompt_number": 6
    },
    {
     "cell_type": "heading",
     "level": 2,
     "metadata": {},
     "source": [
      "Question 2"
     ]
    },
    {
     "cell_type": "markdown",
     "metadata": {},
     "source": [
      "Consider the Integral\n",
      "\n",
      "E(x)=\u222bx0e\u2212t2dt\n",
      "\n",
      "This is the error function, commonly seen in probability and statistics. There is no known way to perform this particular integral analytically, although the integrand can be expanded in a Taylor series and terms computed to arbitrary order. For most applications, numerical approaches are the only way forward."
     ]
    },
    {
     "cell_type": "markdown",
     "metadata": {},
     "source": [
      "(a) Use scipy.integrate.cumtrapz to calculate E(x) for values of x from 0 to 3 in steps of 0.1.\n",
      "Print the result."
     ]
    },
    {
     "cell_type": "code",
     "collapsed": false,
     "input": [
      "import scipy.integrate as integrate\n",
      "funshin = lambda x : np.exp(-x**2)\n",
      "a = np.arange(0,3,.1)\n",
      "print integrate.cumtrapz(funshin(a),a)"
     ],
     "language": "python",
     "metadata": {},
     "outputs": [
      {
       "output_type": "stream",
       "stream": "stdout",
       "text": [
        "[ 0.09950249  0.19704446  0.29078049  0.37908424  0.46063146  0.53445532\n",
        "  0.59997046  0.6569664   0.70557392  0.7462108   0.77951463  0.80627088\n",
        "  0.82734325  0.84361215  0.85592503  0.86506023  0.87170427  0.87644128\n",
        "  0.87975207  0.88202044  0.88354398  0.88454709  0.88519453  0.88560418\n",
        "  0.88585826  0.88601274  0.88610482  0.88615862  0.88618943]\n"
       ]
      }
     ],
     "prompt_number": 7
    },
    {
     "cell_type": "markdown",
     "metadata": {},
     "source": [
      "(b) Plot the integrand as a function of t and E(x) as a function of x (both ranging from 0 to 3) on the same graph."
     ]
    },
    {
     "cell_type": "code",
     "collapsed": false,
     "input": [
      "b = integrate.cumtrapz(funshin(a),a)\n",
      "c= a[0:-1]\n",
      "plt.plot(c,b, color=\"black\", linewidth=5, label=\"CumTrapz Integration\")\n",
      "plt.plot(c,funshin(c),color=\"blue\", linewidth=5,label=\"Error Function\")\n",
      "plt.legend(loc='best', fancybox=True)\n",
      "plt.xlabel('X', fontsize=18)\n",
      "plt.ylabel('Y', fontsize=18)\n",
      "plt.show()"
     ],
     "language": "python",
     "metadata": {},
     "outputs": [
      {
       "metadata": {},
       "output_type": "display_data",
       "png": "[encoded data removed]",
       "text": [
        "<matplotlib.figure.Figure at 0x105178650>"
       ]
      }
     ],
     "prompt_number": 8
    },
    {
     "cell_type": "heading",
     "level": 2,
     "metadata": {},
     "source": [
      "Question 3"
     ]
    },
    {
     "cell_type": "markdown",
     "metadata": {},
     "source": [
      "Consider a particle in a one-dimensional box of width L. The probability of finding the particle between a and b is given by\n",
      "\n",
      "[integral from a to b of the wave function of x squared]\n",
      "\n",
      "where\n",
      "\n",
      "[wave function of x = (2/L)**.5 * sin(n\u03c0x/L)]\n",
      "\n",
      "is the wave function."
     ]
    },
    {
     "cell_type": "markdown",
     "metadata": {},
     "source": [
      "**(a)** What is the probability of finding the particle between L/3 and L/2 for the ground state (n = 1) and for the first excited state (n = 2)? Let L = 1. Perform the integral using both scipy.integrate.trapz and scipy.integrate.quad with an accuracy of 6 sig figs. How many slices did you need to use for scipy.integrate.trapz?"
     ]
    },
    {
     "cell_type": "code",
     "collapsed": false,
     "input": [
      "def psi(L,n,x):\n",
      "    first = np.sqrt(2/L)\n",
      "    second = np.sin(n*np.pi*x/L)\n",
      "    return first*second"
     ],
     "language": "python",
     "metadata": {},
     "outputs": [],
     "prompt_number": 9
    },
    {
     "cell_type": "code",
     "collapsed": false,
     "input": [
      "t = 1.0/3.0\n",
      "x = np.linspace(t, 0.5, 300)\n",
      "\n",
      "#Trapz\n",
      "\n",
      "#n = 2\n",
      "print integrate.trapz((psi(1,2,x))**2, x)\n",
      "#n = 1\n",
      "print integrate.trapz((psi(1,1,x))**2,x)"
     ],
     "language": "python",
     "metadata": {},
     "outputs": [
      {
       "output_type": "stream",
       "stream": "stdout",
       "text": [
        "0.0977508365219\n",
        "0.304498749631\n"
       ]
      }
     ],
     "prompt_number": 10
    },
    {
     "cell_type": "code",
     "collapsed": false,
     "input": [
      "#Quad\n",
      "\n",
      "func2 = lambda y: (np.sqrt(2)*np.sin(2*np.pi*y))**2\n",
      "#n = 2\n",
      "print integrate.quad(func2,t,0.5)\n",
      "\n",
      "#n = 1\n",
      "func1 = lambda y: (np.sqrt(2)*np.sin(np.pi*y))**2\n",
      "print integrate.quad(func1,t,0.5)"
     ],
     "language": "python",
     "metadata": {},
     "outputs": [
      {
       "output_type": "stream",
       "stream": "stdout",
       "text": [
        "(0.09775055473894276, 1.0852491654105595e-15)\n",
        "(0.3044988905221147, 3.380616792304666e-15)\n"
       ]
      }
     ],
     "prompt_number": 11
    },
    {
     "cell_type": "markdown",
     "metadata": {},
     "source": [
      "I Used 300 slices to get the trapz function equal to 6 significant Figures."
     ]
    },
    {
     "cell_type": "markdown",
     "metadata": {},
     "source": [
      "(b) Make a plot of psi(x) ^ 2 vs. x for the first two excited states with L=1."
     ]
    },
    {
     "cell_type": "code",
     "collapsed": false,
     "input": [
      "func3 = lambda y: (np.sqrt(2)*np.sin(3*np.pi*y))**2\n",
      "plt.plot(x,func3(x),color=\"black\", linewidth=5, label=\"Second Excited State\")\n",
      "plt.plot(x,func2(x), color=\"blue\", linewidth=5, label=\"First Excited State\")\n",
      "plt.legend(loc='best',fancybox=True, framealpha=.1)\n",
      "plt.xlabel('x')\n",
      "plt.ylabel('y')\n",
      "plt.show()"
     ],
     "language": "python",
     "metadata": {},
     "outputs": [
      {
       "metadata": {},
       "output_type": "display_data",
       "png": "[encoded data removed]",
       "text": [
        "<matplotlib.figure.Figure at 0x105431110>"
       ]
      }
     ],
     "prompt_number": 12
    },
    {
     "cell_type": "heading",
     "level": 2,
     "metadata": {},
     "source": [
      "Question 4"
     ]
    },
    {
     "cell_type": "markdown",
     "metadata": {},
     "source": [
      "\n",
      "(a) Use numerical integration to find M, r\u20d7 cm, and Icm. Note that you need M to compute r\u20d7 cm and r\u20d7 cm to compute Icm. The moments of inertia Icm are Ixx, Iyy, and Izz, where e.g. \n",
      "\n",
      "Ixx=\u222b((y\u2212ycm)2+(z\u2212zcm)2)\u03c1dV, etc."
     ]
    },
    {
     "cell_type": "code",
     "collapsed": false,
     "input": [
      "from scipy.integrate import tplquad\n",
      "\n",
      "#Density Function to be Integrated\n",
      "density = lambda z,y,x: 100.00*(y+.01) + 100.0*z**2\n",
      "#limits in order\n",
      "xmin = -.1\n",
      "xmax = .1\n",
      "\n",
      "ymin = lambda x: -.1\n",
      "ymax = lambda x: .1\n",
      "\n",
      "zmin = lambda x,y: -.5\n",
      "zmax = lambda x,y: .5\n",
      "\n",
      "ans, err = tplquad(density, xmin, xmax, ymin, ymax, zmin, zmax)\n",
      "print \"The Mass is M =\", ans\n",
      "M = ans"
     ],
     "language": "python",
     "metadata": {},
     "outputs": [
      {
       "output_type": "stream",
       "stream": "stdout",
       "text": [
        "The Mass is M = 0.373333333333\n"
       ]
      }
     ],
     "prompt_number": 52
    },
    {
     "cell_type": "code",
     "collapsed": false,
     "input": [
      "#First Moments, Center of Mass\n",
      "\n",
      "#Xcm\n",
      "densityX = lambda z,y,x: x* (100.00*(y+.01) + 100.0*z**2)\n",
      "xmin = -.1\n",
      "xmax = .1\n",
      "\n",
      "ymin = lambda x: -.1\n",
      "ymax = lambda x: .1\n",
      "\n",
      "zmin = lambda x,y: -.5\n",
      "zmax = lambda x,y: .5\n",
      "\n",
      "xc, erx = tplquad(densityX, xmin, xmax, ymin, ymax, zmin, zmax)\n",
      "xbar = (1/M) * xc\n",
      "print \"Xcm = \", xbar\n",
      "\n",
      "#Ycm\n",
      "densityY = lambda z,x,y: y *(100.00*(y+.01) + 100.0*z**2)\n",
      "ymin = -.1\n",
      "ymax = .1\n",
      "xmin = lambda y: -.1\n",
      "xmax = lambda y: .1\n",
      "zmin = lambda y,x: -.5\n",
      "zmax = lambda y,x: .5\n",
      "yc, ery = tplquad(densityY, ymin, ymax, xmin, xmax, zmin, zmax)\n",
      "ybar = (1/M) * yc\n",
      "print \"Ycm = \", ybar\n",
      "\n",
      "#Zcm\n",
      "\n",
      "densityZ = lambda x,y,z: z *(100.00*(y+.01) + 100.0*z**2)\n",
      "zmin = -.5\n",
      "zmax = .5\n",
      "ymin = lambda z: -.1\n",
      "ymax = lambda z: .1\n",
      "xmin = lambda z,y: -.1\n",
      "xmax = lambda z,y: .1\n",
      "zc, erz = tplquad(densityZ, zmin,zmax,ymin,ymax,xmin,xmax)\n",
      "zbar = (1/M)*zc\n",
      "print \"Zcm = \", zbar\n",
      "\n",
      "#center of mass\n",
      "\n",
      "com = (xbar,ybar,zbar)\n",
      "print \"Center of Mass = \", com"
     ],
     "language": "python",
     "metadata": {},
     "outputs": [
      {
       "output_type": "stream",
       "stream": "stdout",
       "text": [
        "Xcm =  0.0\n",
        "Ycm =  0.0357142857143\n",
        "Zcm =  0.0\n",
        "Center of Mass =  (0.0, 0.03571428571428572, 0.0)\n"
       ]
      }
     ],
     "prompt_number": 53
    },
    {
     "cell_type": "code",
     "collapsed": false,
     "input": [
      "#Moment of Inertia\n",
      "\n",
      "#About X axis\n",
      "inertx = lambda z,y,x: (y-ybar)**2 + (z-zbar)**2 *(100.00*(y+.01) + 100.0*z**2)\n",
      "xmin = -.1\n",
      "xmax = .1\n",
      "ymin = lambda x: -.1\n",
      "ymax = lambda x: .1\n",
      "zmin = lambda x,y: -.5\n",
      "zmax = lambda x,y: .5\n",
      "Ix, ex = tplquad(inertx,xmin, xmax, ymin, ymax, zmin, zmax)\n",
      "print \"Moment of Inetia about X axis = \", Ix\n",
      "\n",
      "#About Y axis\n",
      "inerty = lambda z,x,y: ((x-xbar))**2 + ((z-zbar)**2) *(100.00*(y+.01) + 100.0*z**2)\n",
      "ymin = -.1\n",
      "ymax = .1\n",
      "xmin = lambda y: -.1\n",
      "xmax = lambda y: .1\n",
      "zmin = lambda y,x: -.5\n",
      "zmax = lambda y,x: .5\n",
      "Iy, ey = tplquad(inerty,ymin,ymax,xmin,xmax,zmin,zmax)\n",
      "print \"Moment of Inertia about Y axis = \", Iy\n",
      "\n",
      "#About Z axis\n",
      "inertz = lambda x,y,z: ((x-xbar)**2)+((y-ybar)**2) *(100.00*(y+.01) + 100.0*z**2)\n",
      "zmin = -.5\n",
      "zmax = .5\n",
      "ymin = lambda z: -.1\n",
      "ymax = lambda z: .1\n",
      "xmin = lambda z,y: -.1\n",
      "xmax = lambda z,y: .1\n",
      "Iz, ez = tplquad(inertz,zmin,zmax,ymin,ymax,xmin,xmax)\n",
      "print \"Moment of Inertia about Z axis = \", Iz"
     ],
     "language": "python",
     "metadata": {},
     "outputs": [
      {
       "output_type": "stream",
       "stream": "stdout",
       "text": [
        "Moment of Inetia about X axis =  0.0535176870748\n",
        "Moment of Inertia about Y axis =  0.0534666666667\n",
        "Moment of Inertia about Z axis =  0.000901587301587\n"
       ]
      }
     ],
     "prompt_number": 54
    },
    {
     "cell_type": "markdown",
     "metadata": {},
     "source": [
      "(b) The mass, center of mass, and moments of inertia can be easily computed analytically for a rectangular box of uniform density. (Compute them yourself or look them up). Verify your algorithm from part (a) works by having it compute the result for this test case. How accurate (how many sig figs?) is the numerical result?"
     ]
    },
    {
     "cell_type": "code",
     "collapsed": false,
     "input": [
      "#Analytic Solutions for given rectangular box with uniform density\n",
      "\n",
      "#Mass = Volume * 1 kg/m^3\n",
      "Mass = .2*.2*1.0 #kg\n",
      "#Center of Mass, by symmetry with uniform density\n",
      "Xbar = 0\n",
      "Ybar = 0\n",
      "Zbar = 0\n",
      "CoM = (Xbar,Ybar,Zbar)\n",
      "#Moments of Inertia, from wikipedia cuboid formula\n",
      "ix = (1./12.)*(Mass)*(.2**2 + 1.**2)\n",
      "iy = (1./12.)*(Mass)*(.2**2 + 1.**2)\n",
      "iz = (1./12.)*(Mass)*(.2**2 + .2**2)\n",
      "\n",
      "\n",
      "#Numerical Integrations Using tplquad\n",
      "\n",
      "#Mass\n",
      "density = lambda z,y,x: 1\n",
      "xmin = -.1\n",
      "xmax = .1\n",
      "ymin = lambda x: -.1\n",
      "ymax = lambda x: .1\n",
      "zmin = lambda x,y: -.5\n",
      "zmax = lambda x,y: .5\n",
      "Ma, err1 = tplquad(density, xmin, xmax, ymin, ymax, zmin, zmax)\n",
      "print \"Percent error in Mass calculation is:\", (Mass-Ma)/Mass, '%'\n",
      "\n",
      "#Center of Mass for Uniform Density\n",
      "\n",
      "#Xcm\n",
      "densityX = lambda z,y,x: x\n",
      "xmin = -.1\n",
      "xmax = .1\n",
      "ymin = lambda x: -.1\n",
      "ymax = lambda x: .1\n",
      "zmin = lambda x,y: -.5\n",
      "zmax = lambda x,y: .5\n",
      "xcen, erxx = tplquad(densityX, xmin, xmax, ymin, ymax, zmin, zmax)\n",
      "xbar = (1/Ma) * xcen\n",
      "\n",
      "#Ycm\n",
      "densityY = lambda z,x,y: y\n",
      "ymin = -.1\n",
      "ymax = .1\n",
      "xmin = lambda y: -.1\n",
      "xmax = lambda y: .1\n",
      "zmin = lambda y,x: -.5\n",
      "zmax = lambda y,x: .5\n",
      "ycen, eryy = tplquad(densityY, ymin, ymax, xmin, xmax, zmin, zmax)\n",
      "ybar = (1/Ma) * ycen\n",
      "\n",
      "\n",
      "#Zcm\n",
      "\n",
      "densityZ = lambda x,y,z: z\n",
      "zmin = -.5\n",
      "zmax = .5\n",
      "ymin = lambda z: -.1\n",
      "ymax = lambda z: .1\n",
      "xmin = lambda z,y: -.1\n",
      "xmax = lambda z,y: .1\n",
      "zcen, erzz = tplquad(densityZ, zmin,zmax,ymin,ymax,xmin,xmax)\n",
      "zbar = (1./Ma)*zcen\n",
      "COM = (Xbar,Ybar,Zbar)\n",
      "print \"Analytic center of mass = \", CoM\n",
      "print \"Numerical center of mass = \",COM\n",
      "print \"Percent error in Center of Mass Calculations are all 0%\"\n",
      "\n",
      "\n",
      "\n",
      "#Moments of Inertia\n",
      "\n",
      "#About X axis\n",
      "inertx = lambda z,y,x: (y-ybar)**2 + (z-zbar)**2\n",
      "xmin = -.1\n",
      "xmax = .1\n",
      "ymin = lambda x: -.1\n",
      "ymax = lambda x: .1\n",
      "zmin = lambda x,y: -.5\n",
      "zmax = lambda x,y: .5\n",
      "Ix, ex = tplquad(inertx,xmin, xmax, ymin, ymax, zmin, zmax)\n",
      "print \"Moment of Inetia about X axis = \", Ix\n",
      "\n",
      "#About Y axis\n",
      "inerty = lambda z,x,y: ((x-xbar))**2 + ((z-zbar)**2)\n",
      "ymin = -.1\n",
      "ymax = .1\n",
      "xmin = lambda y: -.1\n",
      "xmax = lambda y: .1\n",
      "zmin = lambda y,x: -.5\n",
      "zmax = lambda y,x: .5\n",
      "Iy, ey = tplquad(inerty,ymin,ymax,xmin,xmax,zmin,zmax)\n",
      "print \"Moment of Inertia about Y axis = \", Iy\n",
      "\n",
      "#About Z axis\n",
      "inertz = lambda x,y,z: ((x-xbar)**2)+((y-ybar)**2)\n",
      "zmin = -.5\n",
      "zmax = .5\n",
      "ymin = lambda z: -.1\n",
      "ymax = lambda z: .1\n",
      "xmin = lambda z,y: -.1\n",
      "xmax = lambda z,y: .1\n",
      "Iz, ez = tplquad(inertz,zmin,zmax,ymin,ymax,xmin,xmax)\n",
      "\n",
      "#Inertia Erros\n",
      "print \"Error in Moment of Inertia about X axis = \", (ix-Ix)/ix,'%'\n",
      "print \"Error in Moment of Inertia about Y axis = \", (iy-Iy)/iy,'%'\n",
      "print \"Error in Moment of Inertia about Z axis = \", (iz-Iz)/iz,'%'"
     ],
     "language": "python",
     "metadata": {},
     "outputs": [
      {
       "output_type": "stream",
       "stream": "stdout",
       "text": [
        "Percent error in Mass calculation is: 0.0 %\n",
        "Analytic center of mass =  (0, 0, 0)\n",
        "Numerical center of mass =  (0, 0, 0)\n",
        "Percent error in Center of Mass Calculations are all 0%\n",
        "Moment of Inetia about X axis = "
       ]
      },
      {
       "output_type": "stream",
       "stream": "stdout",
       "text": [
        " 0.00346666666667\n",
        "Moment of Inertia about Y axis =  0.00346666666667\n",
        "Error in Moment of Inertia about X axis =  0.0 %\n",
        "Error in Moment of Inertia about Y axis =  0.0 %\n",
        "Error in Moment of Inertia about Z axis =  0.0 %\n"
       ]
      }
     ],
     "prompt_number": 55
    },
    {
     "cell_type": "code",
     "collapsed": false,
     "input": [
      "print \"The errors involved in these calculations are:\", err1, erxx, eryy,erzz, ex, ey, ez\n",
      "print \"So, the numerical result is accurate to around 16 significant figures.\""
     ],
     "language": "python",
     "metadata": {},
     "outputs": [
      {
       "output_type": "stream",
       "stream": "stdout",
       "text": [
        "The errors involved in these calculations are: 4.4408920985e-16 2.2121680083e-17 2.2121680083e-17 1.10608400415e-16 3.84877315203e-17 3.84877315203e-17 2.96059473233e-18\n",
        "So, the numerical result is accurate to around 16 significant figures.\n"
       ]
      }
     ],
     "prompt_number": 56
    },
    {
     "cell_type": "markdown",
     "metadata": {},
     "source": [
      "(c) Finally, change the desntiy function to something of your choosing (different from that used in parts (a) and (b)) and recompute the Mass, Center of Mass, and Moments of Inertia for that case."
     ]
    },
    {
     "cell_type": "code",
     "collapsed": false,
     "input": [
      "from scipy.integrate import tplquad\n",
      "#New Density function = 1000 * x^2 + y^2 + z^2\n",
      "\n",
      "#Finding Mass\n",
      "density = lambda z,y,x: 1000*x**2+y**2+z**2\n",
      "xmin = -.1\n",
      "xmax = .1\n",
      "ymin = lambda x: -.1\n",
      "ymax = lambda x: .1\n",
      "zmin = lambda x,y: -.5\n",
      "zmax = lambda x,y: .5\n",
      "\n",
      "ans, err = tplquad(density, xmin, xmax, ymin, ymax, zmin, zmax)\n",
      "print \"The Mass is M =\", ans\n",
      "M = ans\n",
      "\n",
      "#First Moments, Center of Mass\n",
      "\n",
      "#Xcm\n",
      "densityX = lambda z,y,x: x*1000*x**2+y**2+z**2\n",
      "xmin = -.1\n",
      "xmax = .1\n",
      "\n",
      "ymin = lambda x: -.1\n",
      "ymax = lambda x: .1\n",
      "\n",
      "zmin = lambda x,y: -.5\n",
      "zmax = lambda x,y: .5\n",
      "\n",
      "xc, erx = tplquad(densityX, xmin, xmax, ymin, ymax, zmin, zmax)\n",
      "xbar = (1/M) * xc\n",
      "print \"Xcm = \", xbar\n",
      "\n",
      "#Ycm\n",
      "densityY = lambda z,x,y: y *1000*x**2+y**2+z**2\n",
      "ymin = -.1\n",
      "ymax = .1\n",
      "xmin = lambda y: -.1\n",
      "xmax = lambda y: .1\n",
      "zmin = lambda y,x: -.5\n",
      "zmax = lambda y,x: .5\n",
      "yc, ery = tplquad(densityY, ymin, ymax, xmin, xmax, zmin, zmax)\n",
      "ybar = (1/M) * yc\n",
      "print \"Ycm = \", ybar\n",
      "\n",
      "#Zcm\n",
      "\n",
      "densityZ = lambda x,y,z: z *1000*x**2+y**2+z**2\n",
      "zmin = -.5\n",
      "zmax = .5\n",
      "ymin = lambda z: -.1\n",
      "ymax = lambda z: .1\n",
      "xmin = lambda z,y: -.1\n",
      "xmax = lambda z,y: .1\n",
      "zc, erz = tplquad(densityZ, zmin,zmax,ymin,ymax,xmin,xmax)\n",
      "zbar = (1/M)*zc\n",
      "print \"Zcm = \", zbar\n",
      "\n",
      "#center of mass\n",
      "\n",
      "com = (xbar,ybar,zbar)\n",
      "print \"Center of Mass = \", com\n",
      "\n",
      "#Moment of Inertia\n",
      "\n",
      "#About X axis\n",
      "inertx = lambda z,y,x: (y-ybar)**2 + (z-zbar)**2 *1000*x**2+y**2+z**2\n",
      "xmin = -.1\n",
      "xmax = .1\n",
      "ymin = lambda x: -.1\n",
      "ymax = lambda x: .1\n",
      "zmin = lambda x,y: -.5\n",
      "zmax = lambda x,y: .5\n",
      "Ix, ex = tplquad(inertx,xmin, xmax, ymin, ymax, zmin, zmax)\n",
      "print \"Moment of Inetia about X axis = \", Ix\n",
      "\n",
      "#About Y axis\n",
      "inerty = lambda z,x,y: ((x-xbar))**2 + ((z-zbar)**2) *1000*x**2+y**2+z**2\n",
      "ymin = -.1\n",
      "ymax = .1\n",
      "xmin = lambda y: -.1\n",
      "xmax = lambda y: .1\n",
      "zmin = lambda y,x: -.5\n",
      "zmax = lambda y,x: .5\n",
      "Iy, ey = tplquad(inerty,ymin,ymax,xmin,xmax,zmin,zmax)\n",
      "print \"Moment of Inertia about Y axis = \", Iy\n",
      "\n",
      "#About Z axis\n",
      "inertz = lambda x,y,z: ((x-xbar)**2)+((y-ybar)**2) *1000*x**2+y**2+z**2\n",
      "zmin = -.5\n",
      "zmax = .5\n",
      "ymin = lambda z: -.1\n",
      "ymax = lambda z: .1\n",
      "xmin = lambda z,y: -.1\n",
      "xmax = lambda z,y: .1\n",
      "Iz, ez = tplquad(inertz,zmin,zmax,ymin,ymax,xmin,xmax)\n",
      "print \"Moment of Inertia about Z axis = \", Iz"
     ],
     "language": "python",
     "metadata": {},
     "outputs": [
      {
       "output_type": "stream",
       "stream": "stdout",
       "text": [
        "The Mass is M = 0.1368\n",
        "Xcm =  0.0253411306043\n",
        "Ycm =  0.0253411306043\n",
        "Zcm = "
       ]
      },
      {
       "output_type": "stream",
       "stream": "stdout",
       "text": [
        " 0.0253411306043\n",
        "Center of Mass =  (0.02534113060428849, 0.025341130604288484, 0.025341130604288484)\n",
        "Moment of Inetia about X axis =  0.0148224210805\n",
        "Moment of Inertia about Y axis =  0.0148224210805\n",
        "Moment of Inertia about Z axis = "
       ]
      },
      {
       "output_type": "stream",
       "stream": "stdout",
       "text": [
        " 0.00415575441383\n"
       ]
      }
     ],
     "prompt_number": 57
    }
   ],
   "metadata": {}
  }
 ]
}