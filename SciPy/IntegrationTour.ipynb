{
 "metadata": {
  "name": "",
  "signature": "sha256:f2904df3df90881e78719f7f5dc7a9f43f19cfd9ba35b3593894ca73799d65ef"
 },
 "nbformat": 3,
 "nbformat_minor": 0,
 "worksheets": [
  {
   "cells": [
    {
     "cell_type": "heading",
     "level": 1,
     "metadata": {},
     "source": [
      "Numerical Integration"
     ]
    },
    {
     "cell_type": "code",
     "collapsed": false,
     "input": [
      "%pylab inline\n",
      "import numpy as np\n",
      "import matplotlib.pyplot as plt"
     ],
     "language": "python",
     "metadata": {},
     "outputs": [
      {
       "output_type": "stream",
       "stream": "stdout",
       "text": [
        "Populating the interactive namespace from numpy and matplotlib\n"
       ]
      }
     ],
     "prompt_number": 1
    },
    {
     "cell_type": "heading",
     "level": 2,
     "metadata": {},
     "source": [
      "Introduction"
     ]
    },
    {
     "cell_type": "markdown",
     "metadata": {},
     "source": [
      "Equations for trapezoids, application of the trapezoid rule:"
     ]
    },
    {
     "cell_type": "code",
     "collapsed": false,
     "input": [
      "func = lambda x: x**4 - 2*x + 1"
     ],
     "language": "python",
     "metadata": {},
     "outputs": [],
     "prompt_number": 2
    },
    {
     "cell_type": "code",
     "collapsed": false,
     "input": [
      "N = 10\n",
      "a = 0.0\n",
      "b = 2.0\n",
      "h = (b-a)/N\n",
      "\n",
      "k = np.arange(1,N)\n",
      "I = h*(0.5*func(a) + 0.5*func(b) + func(a+k*h).sum())\n",
      "\n",
      "print \"Trapezoidal Rule Integral =\",I"
     ],
     "language": "python",
     "metadata": {},
     "outputs": [
      {
       "output_type": "stream",
       "stream": "stdout",
       "text": [
        "Trapezoidal Rule Integral = 4.50656\n"
       ]
      }
     ],
     "prompt_number": 3
    },
    {
     "cell_type": "code",
     "collapsed": false,
     "input": [],
     "language": "python",
     "metadata": {},
     "outputs": []
    }
   ],
   "metadata": {}
  }
 ]
}