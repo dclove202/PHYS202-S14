{
 "metadata": {
  "name": "",
  "signature": "sha256:05c9eb88f19607278818f767ae920600feb7a1d91eca3fbeb5c6ec4b49cce355"
 },
 "nbformat": 3,
 "nbformat_minor": 0,
 "worksheets": [
  {
   "cells": [
    {
     "cell_type": "heading",
     "level": 1,
     "metadata": {},
     "source": [
      "Monte Carlo Integration Exercises"
     ]
    },
    {
     "cell_type": "code",
     "collapsed": false,
     "input": [
      "%pylab inline\n",
      "import numpy as np\n",
      "import matplotlib.pyplot as plt\n",
      "from Electrostatics import *"
     ],
     "language": "python",
     "metadata": {},
     "outputs": [
      {
       "output_type": "stream",
       "stream": "stdout",
       "text": [
        "Populating the interactive namespace from numpy and matplotlib\n"
       ]
      }
     ],
     "prompt_number": 2
    },
    {
     "cell_type": "code",
     "collapsed": false,
     "input": [
      "help(pointPotential)"
     ],
     "language": "python",
     "metadata": {},
     "outputs": [
      {
       "output_type": "stream",
       "stream": "stdout",
       "text": [
        "Help on function pointPotential in module Electrostatics:\n",
        "\n",
        "pointPotential(x, y, q, Xc, Yc)\n",
        "    Return the electric potential for a\n",
        "    point charge q at (Xc, Yc)\n",
        "    \n",
        "    Units returned are volts if input\n",
        "    units are meters and coulombs\n",
        "\n"
       ]
      }
     ],
     "prompt_number": 3
    },
    {
     "cell_type": "heading",
     "level": 2,
     "metadata": {},
     "source": [
      "Question 1"
     ]
    },
    {
     "cell_type": "markdown",
     "metadata": {},
     "source": [
      "\n",
      "Let\u2019s compute the electric potential from a plane of charge as shown in the figure using Monte Carlo integration.\n",
      "\n",
      "The integral comes from summing all the potentials from the chunks of \u201cpoint\u201d charges. Just as we summed two charges for a dipole, now we\u2019ll sum many charges. The important part is to understand how dQ, modeled as a point charge, is related to \u03c3dA, where \u03c3 is the surface charge density = charge/area (\u03c3=Q/A ) Review your notes from PHYS 133 if you need a refresher.\n",
      "We want to use our previously defined pointPotential() function from Electrostatics.py, so we have to import it."
     ]
    },
    {
     "cell_type": "markdown",
     "metadata": {},
     "source": [
      "(a) Use the sample mean method to compute the potential at point P(2,3) due to the disk of charge for different numbers of samples N=(10^1,10^2,10^3,10^4,10^5,10^6). Report the value and its statistical uncertainty for each sample size. How does the result depend on N?"
     ]
    },
    {
     "cell_type": "heading",
     "level": 2,
     "metadata": {},
     "source": [
      "Question 3"
     ]
    },
    {
     "cell_type": "markdown",
     "metadata": {},
     "source": [
      "(a) Use the hit or miss Monte Carlo method to estimate the integral of f(x)=4(1-x^2)^.5 in the interval 0 \u2264 x \u2264 1 as a function of N, the number of samples. Let N range from 10 to 10^6 and use at least 100 different values for N.\n",
      "(np.logspace might be useful here to get evenly spaced values for N.)"
     ]
    },
    {
     "cell_type": "code",
     "collapsed": false,
     "input": [
      "def hitmiss3(N,xmin=0.0,xmax=1.0):\n",
      "\n",
      "    #Set up the function\n",
      "    f = lambda x: 4*np.sqrt(1-x**2)\n",
      "    x = np.arange(0.,1.1,0.001)\n",
      "    intf = lambda x: 2*(x*np.sqrt(1-(x**2))+np.arcsin(x))\n",
      "    intexact = intf(1.0)-intf(0)\n",
      "    \n",
      "    \n",
      "    \n",
      "    #find the maximum value of f within the boundary to set ymax\n",
      "    subx = x[logical_and((x > xmin),(x < xmax))]\n",
      "    ymax = f(subx).max()*1.05\n",
      "    ymin = 0.\n",
      "\n",
      "    #integration\n",
      "    samples_x = xmin + (xmax-xmin)*np.random.random_sample(int(N));\n",
      "    samples_y = ymin + (ymax-ymin)*np.random.random_sample(int(N));\n",
      "    \n",
      "    newmask = (samples_y < f(samples_x))\n",
      "    I = (xmax-xmin)*(ymax-ymin)*newmask.sum()/newmask.size\n",
      "    Ierr = 100*np.abs(intexact-I)/intexact\n",
      "    \n",
      "   \n",
      "    #Print our results:  \n",
      "    print \"I =\", I\n",
      "    print \"N = \", N\n",
      "    Ii.append(I)\n",
      "    Nn.append(N)\n",
      "    '''\n",
      "    #Plot our function\n",
      "    plt.plot(x,f(x),lw=3)\n",
      "    plt.ylabel(r'$4(1-x^2)^{1/2}$',fontsize=20)\n",
      "    plt.xlabel(r'$x$', fontsize = 20)\n",
      "    plt.xlim(0.,2.)\n",
      "\n",
      "    #Just show the first 500 points or it gets hard to see\n",
      "    plt.plot(samples_x[1:500],samples_y[1:500],'g.')\n",
      "\n",
      "    #Use the mask to show the ones below the function in red\n",
      "    plt.plot(samples_x[newmask[:500]],samples_y[newmask[:500]],'r.')\n",
      "\n",
      "    #plot the box\n",
      "    plt.plot([xmin, xmin], [ymin, ymax], color='k', linestyle='--') #vertical left\n",
      "    plt.plot([xmax, xmax], [ymin, ymax], color='k', linestyle='--') #vertical right\n",
      "    plt.plot([xmin, xmax], [ymax, ymax], color='k', linestyle='--') #horizontal top\n",
      "\n",
      "    plt.show()\n",
      "'''"
     ],
     "language": "python",
     "metadata": {},
     "outputs": [],
     "prompt_number": 42
    },
    {
     "cell_type": "code",
     "collapsed": false,
     "input": [
      "j = np.logspace(1,6,110)\n",
      "Ii = []\n",
      "Nn = []\n",
      "for i in j:\n",
      "    print hitmiss3(i)\n",
      "I = np.array(Ii)\n",
      "N = np.array(Nn)"
     ],
     "language": "python",
     "metadata": {},
     "outputs": [
      {
       "output_type": "stream",
       "stream": "stdout",
       "text": [
        "I = 3.35999832\n",
        "N =  10.0\n",
        "None\n",
        "I = 3.81817990909\n",
        "N =  11.1140298694\n",
        "None\n",
        "I = 3.149998425\n",
        "N =  12.3521659937\n",
        "None\n",
        "I = 2.90769085385\n",
        "N =  13.7282341805\n",
        "None\n",
        "I = 3.63999818\n",
        "N =  15.2576004736\n",
        "None\n",
        "I = 3.41249829375\n",
        "N =  16.9573427398\n",
        "None\n",
        "I = 3.26666503333\n",
        "N =  18.8464413715\n",
        "None\n",
        "I = 3.77999811\n",
        "N =  20.9459912334\n",
        "None\n",
        "I = 3.28695487826\n",
        "N =  23.2794372211\n",
        "None\n",
        "I = 2.183998908\n",
        "N =  25.8728360618\n",
        "None\n",
        "I = 3.749998125\n",
        "N =  28.7551472795\n",
        "None\n",
        "I = 3.11612747419\n",
        "N =  31.9585565762\n",
        "None\n",
        "I = 3.23999838\n",
        "N =  35.518835237\n",
        "None\n",
        "I = 3.33845986923\n",
        "N =  39.4757395749\n",
        "None\n",
        "I = 3.22325420233\n",
        "N =  43.873454875\n",
        "None\n",
        "I = 3.149998425\n",
        "N =  48.7610887953\n",
        "None\n",
        "I = 2.72222086111\n",
        "N =  54.1932197333\n",
        "None\n",
        "I = 3.49999825\n",
        "N =  60.2305062832\n",
        "None\n",
        "I = 2.67272593636\n",
        "N =  66.9403645878\n",
        "None\n",
        "I = 3.06486333243\n",
        "N =  74.3977211495\n",
        "None\n",
        "I = 3.02194970854\n",
        "N =  82.6858495067\n",
        "None\n",
        "I = 2.90769085385\n",
        "N =  91.8973001191\n",
        "None\n",
        "I = 3.33529245\n",
        "N =  102.134933844\n",
        "None\n",
        "I = 3.01061796372\n",
        "N =  113.513070544\n",
        "None\n",
        "I = 3.06666513333\n",
        "N =  126.158765659\n",
        "None\n",
        "I = 3.149998425\n",
        "N =  140.213228982\n",
        "None\n",
        "I = 3.19741775613\n",
        "N =  155.833401498\n",
        "None\n",
        "I = 3.0832354526\n",
        "N =  173.193707889\n",
        "None\n",
        "I = 3.08437345781\n",
        "N =  192.488004267\n",
        "None\n",
        "I = 3.2535195\n",
        "N =  213.931742891\n",
        "None\n",
        "I = 3.08354276202\n",
        "N =  237.76437805\n",
        "None\n",
        "I = 3.149998425\n",
        "N =  264.252039952\n",
        "None\n",
        "I = 3.15358204096\n",
        "N =  293.690506506\n",
        "None\n",
        "I = 3.0404892773\n",
        "N =  326.408506165\n",
        "None\n",
        "I = 3.17900393536\n",
        "N =  362.771388713\n",
        "None\n",
        "I = 3.23076761538\n",
        "N =  403.185204991\n",
        "None\n",
        "I = 3.18749840625\n",
        "N =  448.101241115\n",
        "None\n",
        "I = 3.11204663675\n",
        "N =  498.021057825\n",
        "None\n",
        "I = 3.28101101772\n",
        "N =  553.502091223\n",
        "None\n",
        "I = 3.11414478439\n",
        "N =  615.163877461\n",
        "None\n",
        "I = 3.17920778082\n",
        "N =  683.694970865\n",
        "None\n",
        "I = 3.09881267984\n",
        "N =  759.860632772\n",
        "None\n",
        "I = 3.09028281505\n",
        "N =  844.511376918\n",
        "None\n",
        "I = 3.15671483955\n",
        "N =  938.592466808\n",
        "None\n",
        "I = 3.08456221611\n",
        "N =  1043.15447113\n",
        "None\n",
        "I = 3.05487336471\n",
        "N =  1159.36499504\n",
        "None\n",
        "I = 3.17282450054\n",
        "N =  1288.52171844\n",
        "None\n",
        "I = 3.15293138443\n",
        "N =  1432.06688661\n",
        "None\n",
        "I = 3.16781739786\n",
        "N =  1591.60341527\n",
        "None\n",
        "I = 3.17850519808\n",
        "N =  1768.91278974\n",
        "None\n",
        "I = 3.11847172321\n",
        "N =  1965.97495815\n",
        "None\n",
        "I = 3.16153688077\n",
        "N =  2184.99044073\n",
        "None\n",
        "I = 3.0963740696\n",
        "N =  2428.40490225\n",
        "None\n",
        "I = 3.14454994737\n",
        "N =  2698.93646185\n",
        "None\n",
        "I = 3.11603712154\n",
        "N =  2999.60604525\n",
        "None\n",
        "I = 3.14149257867\n",
        "N =  3333.77111832\n",
        "None\n",
        "I = 3.17408748178\n",
        "N =  3705.16317866\n",
        "None\n",
        "I = 3.14209218654\n",
        "N =  4117.92942385\n",
        "None\n",
        "I = 3.1711085543\n",
        "N =  4576.67906166\n",
        "None\n",
        "I = 3.16610144487\n",
        "N =  5086.53477937\n",
        "None\n",
        "I = 3.12789512807\n",
        "N =  5653.18994695\n",
        "None\n",
        "I = 3.16504139742\n",
        "N =  6282.97219275\n",
        "None\n",
        "I = 3.12864352304\n",
        "N =  6982.91406186\n",
        "None\n",
        "I = 3.09533350388\n",
        "N =  7760.83154586\n",
        "None\n",
        "I = 3.14914625151\n",
        "N =  8625.41136117\n",
        "None\n",
        "I = 3.1559132979\n",
        "N =  9586.30795036\n",
        "None\n",
        "I = 3.11432170171\n",
        "N =  10654.2512897\n",
        "None\n",
        "I = 3.18130066423\n",
        "N =  11841.1667069\n",
        "None\n",
        "I = 3.13436013495\n",
        "N =  13160.3080469\n",
        "None\n",
        "I = 3.14037857476\n",
        "N =  14626.4056723\n",
        "None\n",
        "I = 3.14657486473\n",
        "N =  16255.8309524\n",
        "None\n",
        "I = 3.14383768414\n",
        "N =  18066.7790756\n",
        "None\n",
        "I = 3.13572232277\n",
        "N =  20079.4722289\n",
        "None\n",
        "I = 3.14322302061\n",
        "N =  22316.3854113\n",
        "None\n",
        "I = 3.13873724202\n",
        "N =  24802.4974037\n",
        "None\n",
        "I = 3.1346474441\n",
        "N =  27565.5696979\n",
        "None\n",
        "I = 3.11874109633\n",
        "N =  30636.4564989\n",
        "None\n",
        "I ="
       ]
      },
      {
       "output_type": "stream",
       "stream": "stdout",
       "text": [
        " 3.15496332604\n",
        "N =  34049.449262\n",
        "None\n",
        "I = 3.14850009057\n",
        "N =  37842.6596133\n",
        "None\n",
        "I = 3.14655318444\n",
        "N =  42058.4449278\n",
        "None\n",
        "I = 3.13236477744\n",
        "N =  46743.8813186\n",
        "None\n",
        "I = 3.13825563477\n",
        "N =  51951.2893185\n",
        "None\n",
        "I = 3.14392443864\n",
        "N =  57738.8181237\n",
        "None\n",
        "I = 3.15292731665\n",
        "N =  64171.0949248\n",
        "None\n",
        "I = 3.13802896983\n",
        "N =  71319.9465744\n",
        "None\n",
        "I = 3.14269949469\n",
        "N =  79265.2016508\n",
        "None\n",
        "I = 3.13511166248\n",
        "N =  88095.5818748\n",
        "None\n",
        "I = 3.1496659736\n",
        "N =  97909.6928315\n",
        "None\n",
        "I = 3.14734488874\n",
        "N =  108817.125063\n",
        "None\n",
        "I ="
       ]
      },
      {
       "output_type": "stream",
       "stream": "stdout",
       "text": [
        " 3.12863187899\n",
        "N =  120939.677825\n",
        "None\n",
        "I = 3.13406235583\n",
        "N =  134412.719173\n",
        "None\n",
        "I = 3.14919714549\n",
        "N =  149386.697571\n",
        "None\n",
        "I = 3.14278880131\n",
        "N =  166028.821889\n",
        "None\n",
        "I = 3.14765401569\n",
        "N =  184524.928565\n",
        "None\n",
        "I ="
       ]
      },
      {
       "output_type": "stream",
       "stream": "stdout",
       "text": [
        " 3.14299948662\n",
        "N =  205081.556771\n",
        "None\n",
        "I = 3.14015848046\n",
        "N =  227928.254761\n",
        "None\n",
        "I = 3.14167535953\n",
        "N =  253320.143149\n",
        "None\n",
        "I ="
       ]
      },
      {
       "output_type": "stream",
       "stream": "stdout",
       "text": [
        " 3.14227093011\n",
        "N =  281540.763746\n",
        "None\n",
        "I = 3.14593473358\n",
        "N =  312905.245772\n",
        "None\n",
        "I = 3.14406550813\n",
        "N =  347763.824779\n",
        "None"
       ]
      },
      {
       "output_type": "stream",
       "stream": "stdout",
       "text": [
        "\n",
        "I = 3.14170992059\n",
        "N =  386505.753607\n",
        "None\n",
        "I ="
       ]
      },
      {
       "output_type": "stream",
       "stream": "stdout",
       "text": [
        " 3.14330825717\n",
        "N =  429563.649027\n",
        "None\n",
        "I = 3.14071285599\n",
        "N =  477418.322607\n",
        "None\n",
        "I ="
       ]
      },
      {
       "output_type": "stream",
       "stream": "stdout",
       "text": [
        " 3.14395098021\n",
        "N =  530604.149764\n",
        "None\n",
        "I = 3.14147151372\n",
        "N =  589715.036928\n",
        "None\n",
        "I ="
       ]
      },
      {
       "output_type": "stream",
       "stream": "stdout",
       "text": [
        " 3.14019229299\n",
        "N =  655411.053482\n",
        "None\n",
        "I ="
       ]
      },
      {
       "output_type": "stream",
       "stream": "stdout",
       "text": [
        " 3.14471833703\n",
        "N =  728425.802511\n",
        "None\n",
        "I ="
       ]
      },
      {
       "output_type": "stream",
       "stream": "stdout",
       "text": [
        " 3.1400194781\n",
        "N =  809574.612672\n",
        "None\n",
        "I ="
       ]
      },
      {
       "output_type": "stream",
       "stream": "stdout",
       "text": [
        " 3.14099755927\n",
        "N =  899763.64267\n",
        "None\n",
        "I ="
       ]
      },
      {
       "output_type": "stream",
       "stream": "stdout",
       "text": [
        " 3.14105242947\n",
        "N =  1000000.0\n",
        "None\n"
       ]
      }
     ],
     "prompt_number": 45
    },
    {
     "cell_type": "code",
     "collapsed": false,
     "input": [
      "plt.plot(N,I)\n",
      "plt.show()"
     ],
     "language": "python",
     "metadata": {},
     "outputs": [
      {
       "metadata": {},
       "output_type": "display_data",
       "png": "[encoded data removed]",
       "text": [
        "<matplotlib.figure.Figure at 0x106315290>"
       ]
      }
     ],
     "prompt_number": 46
    },
    {
     "cell_type": "markdown",
     "metadata": {},
     "source": [
      "(b) Calculate the percent error for the N values from part (a) using the exact result \u03c0. Make a log-log plot of the error as a function of N.\n",
      "What is the approximate functional dependence of the error on N for large N, for example N\u2265104?"
     ]
    },
    {
     "cell_type": "code",
     "collapsed": false,
     "input": [
      "lst = []\n",
      "lst.append(5)\n",
      "lst.append(6)\n",
      "a = np.array(lst)\n",
      "\n",
      "print a\n",
      "print type(a)"
     ],
     "language": "python",
     "metadata": {},
     "outputs": [
      {
       "output_type": "stream",
       "stream": "stdout",
       "text": [
        "[5 6]\n",
        "<type 'numpy.ndarray'>\n"
       ]
      }
     ],
     "prompt_number": 41
    },
    {
     "cell_type": "code",
     "collapsed": false,
     "input": [],
     "language": "python",
     "metadata": {},
     "outputs": []
    }
   ],
   "metadata": {}
  }
 ]
}