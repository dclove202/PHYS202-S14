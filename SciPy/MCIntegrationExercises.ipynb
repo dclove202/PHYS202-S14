{
 "metadata": {
  "name": "",
  "signature": "sha256:6514815c85a598150c129f566dff5ee2b324df4f05547de4ed11ef30d7206aac"
 },
 "nbformat": 3,
 "nbformat_minor": 0,
 "worksheets": [
  {
   "cells": [
    {
     "cell_type": "heading",
     "level": 1,
     "metadata": {},
     "source": [
      "Monte Carlo Integration Exercises"
     ]
    },
    {
     "cell_type": "code",
     "collapsed": false,
     "input": [
      "%pylab inline\n",
      "import numpy as np\n",
      "import matplotlib.pyplot as plt\n",
      "from Electrostatics import *"
     ],
     "language": "python",
     "metadata": {},
     "outputs": [
      {
       "output_type": "stream",
       "stream": "stdout",
       "text": [
        "Populating the interactive namespace from numpy and matplotlib\n"
       ]
      }
     ],
     "prompt_number": 4
    },
    {
     "cell_type": "code",
     "collapsed": false,
     "input": [
      "help(pointPotential)"
     ],
     "language": "python",
     "metadata": {},
     "outputs": [
      {
       "output_type": "stream",
       "stream": "stdout",
       "text": [
        "Help on function pointPotential in module Electrostatics:\n",
        "\n",
        "pointPotential(x, y, q, Xc, Yc)\n",
        "    Return the electric potential for a\n",
        "    point charge q at (Xc, Yc)\n",
        "    \n",
        "    Units returned are volts if input\n",
        "    units are meters and coulombs\n",
        "\n"
       ]
      }
     ],
     "prompt_number": 5
    },
    {
     "cell_type": "heading",
     "level": 2,
     "metadata": {},
     "source": [
      "Question 1"
     ]
    },
    {
     "cell_type": "markdown",
     "metadata": {},
     "source": [
      "\n",
      "Let\u2019s compute the electric potential from a plane of charge as shown in the figure using Monte Carlo integration.\n",
      "\n",
      "The integral comes from summing all the potentials from the chunks of \u201cpoint\u201d charges. Just as we summed two charges for a dipole, now we\u2019ll sum many charges. The important part is to understand how dQ, modeled as a point charge, is related to \u03c3dA, where \u03c3 is the surface charge density = charge/area (\u03c3=Q/A ) Review your notes from PHYS 133 if you need a refresher.\n",
      "We want to use our previously defined pointPotential() function from Electrostatics.py, so we have to import it."
     ]
    },
    {
     "cell_type": "markdown",
     "metadata": {},
     "source": [
      "(a) Use the sample mean method to compute the potential at point P(2,3) due to the disk of charge for different numbers of samples N=(10^1,10^2,10^3,10^4,10^5,10^6). Report the value and its statistical uncertainty for each sample size. How does the result depend on N?"
     ]
    },
    {
     "cell_type": "code",
     "collapsed": false,
     "input": [],
     "language": "python",
     "metadata": {},
     "outputs": [],
     "prompt_number": 5
    },
    {
     "cell_type": "heading",
     "level": 2,
     "metadata": {},
     "source": [
      "Question 2"
     ]
    },
    {
     "cell_type": "markdown",
     "metadata": {},
     "source": [
      "Use the sample mean method to compute the volume of a sphere with radius 1 using spherical coordinates:\n",
      "\n",
      "V=\u222b10\u222b\u03c00\u222b2\u03c00r2sin(\u03b8)drd\u03b8d\u03d5\n",
      "\n",
      "for N=(10^1,10^2,10^3,10^4,10^5,10^6). Report the value and statistical uncertainty for each sample size. How does the result depend on N?"
     ]
    },
    {
     "cell_type": "code",
     "collapsed": false,
     "input": [
      "f = lambda r,th,ph: (r**2)*sin(th)\n",
      "ra = 0.; rb = 1.\n",
      "tha = 0.; thb = np.pi\n",
      "pha = 0.; phb = 2*np.pi\n",
      "\n",
      "i = (10**1,10**2,10**3,10**4,10**5,10**6)\n",
      "for N in i:\n",
      "    r = (rb-ra)*np.random.random_sample(N)\n",
      "    th = (thb-tha)*np.random.random_sample(N)\n",
      "    ph = (phb-pha)*np.random.random_sample(N)\n",
      "    \n",
      "    I = (rb-ra)*(thb-tha)*(phb-pha)*f(r,th,ph).mean()\n",
      "    uncertainty = (rb-ra)*(thb-tha)*(phb-pha)*np.sqrt(((f(r,th,ph)**2).mean() - (f(r,th,ph).mean())**2)/N)\n",
      "    exact = (4./3.)*np.pi *(1**3)\n",
      "    print \"Value = \",\"%f,\"%(I),\"Statistical Uncertainy = \",uncertainty\n",
      "print \"The value becomes more accurate, and the uncertainty decreases as N increases.\"\n",
      "    "
     ],
     "language": "python",
     "metadata": {},
     "outputs": [
      {
       "output_type": "stream",
       "stream": "stdout",
       "text": [
        "Value =  5.261056, Statistical Uncertainy =  1.67640209842\n",
        "Value =  4.072525, Statistical Uncertainy =  0.426458124965\n",
        "Value =  4.187314, Statistical Uncertainy =  0.145783981408\n",
        "Value =  4.156786, Statistical Uncertainy =  0.045858007932\n",
        "Value =  4.170409, Statistical Uncertainy =  0.0145736405528\n",
        "Value = "
       ]
      },
      {
       "output_type": "stream",
       "stream": "stdout",
       "text": [
        " 4.181008, Statistical Uncertainy =  0.00462039671497\n",
        "The value becomes more accurate, and the uncertainty decreases as N increases.\n"
       ]
      }
     ],
     "prompt_number": 20
    },
    {
     "cell_type": "heading",
     "level": 2,
     "metadata": {},
     "source": [
      "Question 3"
     ]
    },
    {
     "cell_type": "markdown",
     "metadata": {},
     "source": [
      "(a) Use the hit or miss Monte Carlo method to estimate the integral of f(x)=4(1-x^2)^.5 in the interval 0 \u2264 x \u2264 1 as a function of N, the number of samples. Let N range from 10 to 10^6 and use at least 100 different values for N.\n",
      "(np.logspace might be useful here to get evenly spaced values for N.)"
     ]
    },
    {
     "cell_type": "code",
     "collapsed": false,
     "input": [
      "def hitmiss3(N,xmin=0.0,xmax=1.0):\n",
      "\n",
      "    #Set up the function\n",
      "    f = lambda x: 4*np.sqrt(1-x**2)\n",
      "    x = np.arange(0.,1.1,0.001)\n",
      "    intf = lambda x: 2*(x*np.sqrt(1-(x**2))+np.arcsin(x))\n",
      "    intexact = intf(1.0)-intf(0)\n",
      "        \n",
      "    #find the maximum value of f within the boundary to set ymax\n",
      "    subx = x[logical_and((x > xmin),(x < xmax))]\n",
      "    ymax = f(subx).max()*1.05\n",
      "    ymin = 0.\n",
      "\n",
      "    #integration\n",
      "    samples_x = xmin + (xmax-xmin)*np.random.random_sample(int(N));\n",
      "    samples_y = ymin + (ymax-ymin)*np.random.random_sample(int(N));\n",
      "    \n",
      "    newmask = (samples_y < f(samples_x))\n",
      "    I = (xmax-xmin)*(ymax-ymin)*newmask.sum()/newmask.size\n",
      "    Ierr = 100*np.abs(np.pi-I)/np.pi\n",
      "    \n",
      "   \n",
      "    #Print our results:  \n",
      "    print \"I =\", I\n",
      "    print \"N = \", N\n",
      "    Ii.append(I)\n",
      "    Nn.append(N)\n",
      "    ERR.append(Ierr)"
     ],
     "language": "python",
     "metadata": {},
     "outputs": [],
     "prompt_number": 7
    },
    {
     "cell_type": "code",
     "collapsed": false,
     "input": [
      "j = np.logspace(1,6,110)\n",
      "Ii = []\n",
      "Nn = []\n",
      "ERR = []\n",
      "for i in j:\n",
      "    hitmiss3(i)\n",
      "I = np.array(Ii)\n",
      "N = np.array(Nn)\n",
      "ER = np.array(ERR)"
     ],
     "language": "python",
     "metadata": {},
     "outputs": [
      {
       "output_type": "stream",
       "stream": "stdout",
       "text": [
        "I = 2.93999853\n",
        "N =  10.0\n",
        "I = 3.81817990909\n",
        "N =  11.1140298694\n",
        "I = 2.7999986\n",
        "N =  12.3521659937\n",
        "I = 2.90769085385\n",
        "N =  13.7282341805\n",
        "I = 3.35999832\n",
        "N =  15.2576004736\n",
        "I = 3.41249829375\n",
        "N =  16.9573427398\n",
        "I = 3.26666503333\n",
        "N =  18.8464413715\n",
        "I = 3.35999832\n",
        "N =  20.9459912334\n",
        "I = 2.92173766956\n",
        "N =  23.2794372211\n",
        "I = 3.527998236\n",
        "N =  25.8728360618\n",
        "I = 3.149998425\n",
        "N =  28.7551472795\n",
        "I = 2.98064367097\n",
        "N =  31.9585565762\n",
        "I = 3.23999838\n",
        "N =  35.518835237\n",
        "I = 3.01538310769\n",
        "N =  39.4757395749\n",
        "I = 3.22325420233\n",
        "N =  43.873454875\n",
        "I = 3.41249829375\n",
        "N =  48.7610887953\n",
        "I = 3.18888729444\n",
        "N =  54.1932197333\n",
        "I = 3.21999839\n",
        "N =  60.2305062832\n",
        "I = 3.30908925455\n",
        "N =  66.9403645878\n",
        "I = 3.23513351757\n",
        "N =  74.3977211495\n",
        "I = 3.32926662805\n",
        "N =  82.6858495067\n",
        "I = 3.32307526154\n",
        "N =  91.8973001191\n",
        "I = 3.2117631\n",
        "N =  102.134933844\n",
        "I = 2.9362817177\n",
        "N =  113.513070544\n",
        "I = 3.16666508333\n",
        "N =  126.158765659\n",
        "I = 3.05999847\n",
        "N =  140.213228982\n",
        "I = 3.38709508064\n",
        "N =  155.833401498\n",
        "I = 3.15606778613\n",
        "N =  173.193707889\n",
        "I = 2.84374857812\n",
        "N =  192.488004267\n",
        "I = 3.1352097\n",
        "N =  213.931742891\n",
        "I = 3.15442880253\n",
        "N =  237.76437805\n",
        "I = 3.13408934205\n",
        "N =  264.252039952\n",
        "I = 3.06757525802\n",
        "N =  293.690506506\n",
        "I = 3.28527443098\n",
        "N =  326.408506165\n",
        "I = 3.27182156851\n",
        "N =  362.771388713\n",
        "I = 3.13697113623\n",
        "N =  403.185204991\n",
        "I = 3.14062342969\n",
        "N =  448.101241115\n",
        "I = 3.17108275181\n",
        "N =  498.021057825\n",
        "I = 3.22784648734\n",
        "N =  553.502091223\n",
        "I = 3.17560816829\n",
        "N =  615.163877461\n",
        "I = 3.16075976662\n",
        "N =  683.694970865\n",
        "I = 3.09327908577\n",
        "N =  759.860632772\n",
        "I = 3.20473773412\n",
        "N =  844.511376918\n",
        "I = 3.06268503582\n",
        "N =  938.592466808\n",
        "I = 3.04429377987\n",
        "N =  1043.15447113\n",
        "I = 3.06574480017\n",
        "N =  1159.36499504\n",
        "I = 3.13043321739\n",
        "N =  1288.52171844\n",
        "I = 3.15879730328\n",
        "N =  1432.06688661\n",
        "I = 3.15989785437\n",
        "N =  1591.60341527\n",
        "I = 3.20938753558\n",
        "N =  1768.91278974\n",
        "I = 3.13343354779\n",
        "N =  1965.97495815\n",
        "I = 3.10576767788\n",
        "N =  2184.99044073\n",
        "I = 3.10156352335\n",
        "N =  2428.40490225\n",
        "I = 3.09473529474\n",
        "N =  2698.93646185\n",
        "I = 3.132842715\n",
        "N =  2999.60604525\n",
        "I = 3.19189759397\n",
        "N =  3333.77111832\n",
        "I = 3.11060573215\n",
        "N =  3705.16317866\n",
        "I = 3.12474946993\n",
        "N =  4117.92942385\n",
        "I = 3.15642324696\n",
        "N =  4576.67906166\n",
        "I = 3.11325050786\n",
        "N =  5086.53477937\n",
        "I = 3.16207165441\n",
        "N =  5653.18994695\n",
        "I = 3.14364694776\n",
        "N =  6282.97219275\n",
        "I = 3.17195487349\n",
        "N =  6982.91406186\n",
        "I = 3.16082316186\n",
        "N =  7760.83154586\n",
        "I = 3.11505931203\n",
        "N =  8625.41136117\n",
        "I = 3.12962497389\n",
        "N =  9586.30795036\n",
        "I = 3.15216662365\n",
        "N =  10654.2512897\n",
        "I = 3.14547600517\n",
        "N =  11841.1667069\n",
        "I = 3.15670054931\n",
        "N =  13160.3080469\n",
        "I = 3.1286050267\n",
        "N =  14626.4056723\n",
        "I = 3.13753149798\n",
        "N =  16255.8309524\n",
        "I = 3.15243947326\n",
        "N =  18066.7790756\n",
        "I = 3.13614067009\n",
        "N =  20079.4722289\n",
        "I = 3.12948400615\n",
        "N =  22316.3854113\n",
        "I = 3.13348766799\n",
        "N =  24802.4974037\n",
        "I ="
       ]
      },
      {
       "output_type": "stream",
       "stream": "stdout",
       "text": [
        " 3.14302763219\n",
        "N =  27565.5696979\n",
        "I = 3.13724872515\n",
        "N =  30636.4564989\n",
        "I = 3.1373240503\n",
        "N =  34049.449262\n",
        "I = 3.12719044528\n",
        "N =  37842.6596133\n",
        "I = 3.15234518306\n",
        "N =  42058.4449278\n",
        "I = 3.13146624763\n",
        "N =  46743.8813186\n",
        "I = 3.14593594508\n",
        "N =  51951.2893185\n",
        "I = 3.14050554811\n",
        "N =  57738.8181237\n",
        "I ="
       ]
      },
      {
       "output_type": "stream",
       "stream": "stdout",
       "text": [
        " 3.13970639792\n",
        "N =  64171.0949248\n",
        "I = 3.14815810286\n",
        "N =  71319.9465744\n",
        "I = 3.13242005746\n",
        "N =  79265.2016508\n",
        "I = 3.13811523666\n",
        "N =  88095.5818748\n",
        "I ="
       ]
      },
      {
       "output_type": "stream",
       "stream": "stdout",
       "text": [
        " 3.14374619391\n",
        "N =  97909.6928315\n",
        "I = 3.14190272709\n",
        "N =  108817.125063\n",
        "I = 3.14363447611\n",
        "N =  120939.677825\n",
        "I ="
       ]
      },
      {
       "output_type": "stream",
       "stream": "stdout",
       "text": [
        " 3.12831287205\n",
        "N =  134412.719173\n",
        "I = 3.13972236678\n",
        "N =  149386.697571\n",
        "I ="
       ]
      },
      {
       "output_type": "stream",
       "stream": "stdout",
       "text": [
        " 3.14676041857\n",
        "N =  166028.821889\n",
        "I = 3.13388345614\n",
        "N =  184524.928565\n",
        "I ="
       ]
      },
      {
       "output_type": "stream",
       "stream": "stdout",
       "text": [
        " 3.14658343458\n",
        "N =  205081.556771\n",
        "I = 3.14211172788\n",
        "N =  227928.254761\n",
        "I ="
       ]
      },
      {
       "output_type": "stream",
       "stream": "stdout",
       "text": [
        " 3.13821017888\n",
        "N =  253320.143149\n",
        "I = 3.13960061816\n",
        "N =  281540.763746\n",
        "I ="
       ]
      },
      {
       "output_type": "stream",
       "stream": "stdout",
       "text": [
        " 3.14640452449\n",
        "N =  312905.245772\n",
        "I = 3.14206069551\n",
        "N =  347763.824779\n",
        "I ="
       ]
      },
      {
       "output_type": "stream",
       "stream": "stdout",
       "text": [
        " 3.14235105039\n",
        "N =  386505.753607\n",
        "I ="
       ]
      },
      {
       "output_type": "stream",
       "stream": "stdout",
       "text": [
        " 3.14266295052\n",
        "N =  429563.649027\n",
        "I ="
       ]
      },
      {
       "output_type": "stream",
       "stream": "stdout",
       "text": [
        " 3.14378311993\n",
        "N =  477418.322607\n",
        "I ="
       ]
      },
      {
       "output_type": "stream",
       "stream": "stdout",
       "text": [
        " 3.1426211756\n",
        "N =  530604.149764\n",
        "I ="
       ]
      },
      {
       "output_type": "stream",
       "stream": "stdout",
       "text": [
        " 3.14059549778\n",
        "N =  589715.036928\n",
        "I ="
       ]
      },
      {
       "output_type": "stream",
       "stream": "stdout",
       "text": [
        " 3.14123041969\n",
        "N =  655411.053482\n",
        "I ="
       ]
      },
      {
       "output_type": "stream",
       "stream": "stdout",
       "text": [
        " 3.13842201592\n",
        "N =  728425.802511\n",
        "I ="
       ]
      },
      {
       "output_type": "stream",
       "stream": "stdout",
       "text": [
        " 3.14209464252\n",
        "N =  809574.612672\n",
        "I ="
       ]
      },
      {
       "output_type": "stream",
       "stream": "stdout",
       "text": [
        " 3.14124962552\n",
        "N =  899763.64267\n",
        "I ="
       ]
      },
      {
       "output_type": "stream",
       "stream": "stdout",
       "text": [
        " 3.14240902879\n",
        "N =  1000000.0\n"
       ]
      }
     ],
     "prompt_number": 8
    },
    {
     "cell_type": "markdown",
     "metadata": {},
     "source": [
      "(b) Calculate the percent error for the N values from part (a) using the exact result \u03c0. Make a log-log plot of the error as a function of N.\n",
      "What is the approximate functional dependence of the error on N for large N, for example N\u2265104?"
     ]
    },
    {
     "cell_type": "code",
     "collapsed": false,
     "input": [
      "plt.loglog(N,ER,linewidth=2, label='N vs. Error')\n",
      "plt.ylabel('Error', fontsize = 18)\n",
      "plt.xlabel('Samples', fontsize = 18)\n",
      "plt.legend(fancybox=True)\n",
      "plt.show()"
     ],
     "language": "python",
     "metadata": {},
     "outputs": [
      {
       "metadata": {},
       "output_type": "display_data",
       "png": "[encoded data removed]",
       "text": [
        "<matplotlib.figure.Figure at 0x104d61ed0>"
       ]
      }
     ],
     "prompt_number": 9
    },
    {
     "cell_type": "markdown",
     "metadata": {},
     "source": [
      "For large N, the error is roughly .1 %."
     ]
    },
    {
     "cell_type": "markdown",
     "metadata": {},
     "source": [
      "c) Estimate the same integral using the sample mean method and compute the statistical uncertainty and error as a function of the number of samples N for N\u226510^4. Use at least 100 different values for N.\n",
      "Make a log-log plot of both the statistical uncertainty and the error as a function of N."
     ]
    },
    {
     "cell_type": "code",
     "collapsed": false,
     "input": [
      "def samplemean(N,xmin=0.0,xmax=1.0):\n",
      "    #Function, x values\n",
      "    f = lambda x: 4*(np.sqrt(1-x**2))\n",
      "    x = np.arange(0,1.1,.001)\n",
      "    \n",
      "    #Sample Mean Approximation\n",
      "    samples_x = xmin + (xmax-xmin)*np.random.random_sample(N);\n",
      "    approx = f(samples_x)\n",
      "    I = approx.mean()*(xmax-xmin)\n",
      "    \n",
      "    #Uncertainty\n",
      "    uncertainty = (xmax-xmin)*np.sqrt(((approx**2).mean()-(approx.mean())**2)/N)\n",
      "    \n",
      "    #Error\n",
      "    hum = 100*np.abs(np.pi-I)/np.pi\n",
      "    \n",
      "    #Boundary\n",
      "    ymax = approx.max()\n",
      "    ymin = 0.\n",
      "    \n",
      "    #Print, supressed because of large loop that follows\n",
      "    '''\n",
      "    print \"Error = \", hum\n",
      "    print \"Approximation = \", I, \"+/-\", uncertainty\n",
      "    '''\n",
      "    #Array Creation For Plots\n",
      "    \n",
      "    unc.append(uncertainty)\n",
      "    err.append(hum)\n",
      "    en.append(N)"
     ],
     "language": "python",
     "metadata": {},
     "outputs": [],
     "prompt_number": 10
    },
    {
     "cell_type": "code",
     "collapsed": false,
     "input": [
      "unc=[]\n",
      "err=[]\n",
      "en=[]\n",
      "j = np.logspace(4,6,110)\n",
      "for i in j:\n",
      "    samplemean(i)\n",
      "U=np.array(unc)\n",
      "ER = np.array(err)\n",
      "N = np.array(en)"
     ],
     "language": "python",
     "metadata": {},
     "outputs": [],
     "prompt_number": 11
    },
    {
     "cell_type": "code",
     "collapsed": false,
     "input": [
      "plt.loglog(N,ER, label='Error vs. Number of Samples')\n",
      "plt.loglog(N,U, label='Numerical Uncertainty vs. Number of Samples')\n",
      "plt.ylabel('Uncertainty, Error',fontsize=18)\n",
      "plt.xlabel('Number of Samples',fontsize=18)\n",
      "plt.legend(fancybox=True, loc='best', framealpha=.4)\n",
      "plt.show()"
     ],
     "language": "python",
     "metadata": {},
     "outputs": [
      {
       "metadata": {},
       "output_type": "display_data",
       "png": "[encoded data removed]",
       "text": [
        "<matplotlib.figure.Figure at 0x105974310>"
       ]
      }
     ],
     "prompt_number": 12
    },
    {
     "cell_type": "markdown",
     "metadata": {},
     "source": [
      "How many samples are needed to determine the result to two decimal places? What is the approximate functional dependence of the error on N for large N?"
     ]
    },
    {
     "cell_type": "markdown",
     "metadata": {},
     "source": [
      "The uncertainty is around .01 when N is approximately 10^4.\n",
      "For large N, the error is around below 1%."
     ]
    },
    {
     "cell_type": "code",
     "collapsed": false,
     "input": [],
     "language": "python",
     "metadata": {},
     "outputs": [],
     "prompt_number": 12
    }
   ],
   "metadata": {}
  }
 ]
}