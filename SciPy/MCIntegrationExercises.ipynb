{
 "metadata": {
  "name": "",
  "signature": "sha256:ed5d7c6a8741584fa249c551dc6f292aeae6d9d632a14b800f750929a92982e6"
 },
 "nbformat": 3,
 "nbformat_minor": 0,
 "worksheets": [
  {
   "cells": [
    {
     "cell_type": "heading",
     "level": 1,
     "metadata": {},
     "source": [
      "Monte Carlo Integration Exercises"
     ]
    },
    {
     "cell_type": "code",
     "collapsed": false,
     "input": [
      "%pylab inline\n",
      "import numpy as np\n",
      "import matplotlib.pyplot as plt\n",
      "from Electrostatics import *"
     ],
     "language": "python",
     "metadata": {},
     "outputs": [
      {
       "output_type": "stream",
       "stream": "stdout",
       "text": [
        "Populating the interactive namespace from numpy and matplotlib\n"
       ]
      },
      {
       "output_type": "stream",
       "stream": "stderr",
       "text": [
        "WARNING: pylab import has clobbered these variables: ['f']\n",
        "`%matplotlib` prevents importing * from pylab and numpy\n"
       ]
      }
     ],
     "prompt_number": 21
    },
    {
     "cell_type": "code",
     "collapsed": false,
     "input": [
      "help(pointPotential)"
     ],
     "language": "python",
     "metadata": {},
     "outputs": [
      {
       "output_type": "stream",
       "stream": "stdout",
       "text": [
        "Help on function pointPotential in module Electrostatics:\n",
        "\n",
        "pointPotential(x, y, q, Xc, Yc)\n",
        "    Return the electric potential for a\n",
        "    point charge q at (Xc, Yc)\n",
        "    \n",
        "    Units returned are volts if input\n",
        "    units are meters and coulombs\n",
        "\n"
       ]
      }
     ],
     "prompt_number": 22
    },
    {
     "cell_type": "heading",
     "level": 2,
     "metadata": {},
     "source": [
      "Question 1"
     ]
    },
    {
     "cell_type": "markdown",
     "metadata": {},
     "source": [
      "\n",
      "Let\u2019s compute the electric potential from a plane of charge as shown in the figure using Monte Carlo integration.\n",
      "\n",
      "The integral comes from summing all the potentials from the chunks of \u201cpoint\u201d charges. Just as we summed two charges for a dipole, now we\u2019ll sum many charges. The important part is to understand how dQ, modeled as a point charge, is related to \u03c3dA, where \u03c3 is the surface charge density = charge/area (\u03c3=Q/A ) Review your notes from PHYS 133 if you need a refresher.\n",
      "We want to use our previously defined pointPotential() function from Electrostatics.py, so we have to import it."
     ]
    },
    {
     "cell_type": "markdown",
     "metadata": {},
     "source": [
      "(a) Use the sample mean method to compute the potential at point P(2,3) due to the disk of charge for different numbers of samples N=(10^1,10^2,10^3,10^4,10^5,10^6). Report the value and its statistical uncertainty for each sample size. How does the result depend on N?"
     ]
    },
    {
     "cell_type": "code",
     "collapsed": false,
     "input": [],
     "language": "python",
     "metadata": {},
     "outputs": [],
     "prompt_number": 22
    },
    {
     "cell_type": "heading",
     "level": 2,
     "metadata": {},
     "source": [
      "Question 2"
     ]
    },
    {
     "cell_type": "markdown",
     "metadata": {},
     "source": [
      "Use the sample mean method to compute the volume of a sphere with radius 1 using spherical coordinates:\n",
      "\n",
      "V=\u222b10\u222b\u03c00\u222b2\u03c00r2sin(\u03b8)drd\u03b8d\u03d5\n",
      "\n",
      "for N=(10^1,10^2,10^3,10^4,10^5,10^6). Report the value and statistical uncertainty for each sample size. How does the result depend on N?"
     ]
    },
    {
     "cell_type": "code",
     "collapsed": false,
     "input": [
      "f = lambda r,th,ph: (r**2)*sin(th)\n",
      "ra = 0.; rb = 1.\n",
      "tha = 0.; thb = np.pi\n",
      "pha = 0.; phb = 2*np.pi\n",
      "\n",
      "i = (10**1,10**2,10**3,10**4,10**5,10**6)\n",
      "for N in i:\n",
      "    r = (rb-ra)*np.random.random_sample(N)\n",
      "    th = (thb-tha)*np.random.random_sample(N)\n",
      "    ph = (phb-pha)*np.random.random_sample(N)\n",
      "    \n",
      "    I = (rb-ra)*(thb-tha)*(phb-pha)*f(r,th,ph).mean()\n",
      "    uncertainty = (rb-ra)*(thb-tha)*(phb-pha)*np.sqrt(((f(r,th,ph)**2).mean() - (f(r,th,ph).mean())**2)/N)\n",
      "    exact = (4./3.)*np.pi *(1**3)\n",
      "    print \"Value = \",\"%f,\"%(I),\"Statistical Uncertainy = \",uncertainty\n",
      "print \"The value becomes more accurate, and the uncertainty decreases as N increases.\"\n",
      "    "
     ],
     "language": "python",
     "metadata": {},
     "outputs": [
      {
       "output_type": "stream",
       "stream": "stdout",
       "text": [
        "Value =  3.974331, Statistical Uncertainy =  1.84048209377\n",
        "Value =  4.480261, Statistical Uncertainy =  0.436318307431\n",
        "Value =  4.296394, Statistical Uncertainy =  0.145090079634\n",
        "Value = "
       ]
      },
      {
       "output_type": "stream",
       "stream": "stdout",
       "text": [
        " 4.124877, Statistical Uncertainy =  0.0457820536615\n",
        "Value = "
       ]
      },
      {
       "output_type": "stream",
       "stream": "stdout",
       "text": [
        " 4.167288, Statistical Uncertainy =  0.0145563825748\n",
        "Value = "
       ]
      },
      {
       "output_type": "stream",
       "stream": "stdout",
       "text": [
        " 4.182558, Statistical Uncertainy =  0.0046212405487\n",
        "The value becomes more accurate, and the uncertainty decreases as N increases.\n"
       ]
      }
     ],
     "prompt_number": 23
    },
    {
     "cell_type": "heading",
     "level": 2,
     "metadata": {},
     "source": [
      "Question 3"
     ]
    },
    {
     "cell_type": "markdown",
     "metadata": {},
     "source": [
      "(a) Use the hit or miss Monte Carlo method to estimate the integral of f(x)=4(1-x^2)^.5 in the interval 0 \u2264 x \u2264 1 as a function of N, the number of samples. Let N range from 10 to 10^6 and use at least 100 different values for N.\n",
      "(np.logspace might be useful here to get evenly spaced values for N.)"
     ]
    },
    {
     "cell_type": "code",
     "collapsed": false,
     "input": [
      "def hitmiss3(N,xmin=0.0,xmax=1.0):\n",
      "\n",
      "    #Set up the function\n",
      "    f = lambda x: 4*np.sqrt(1-x**2)\n",
      "    x = np.arange(0.,1.1,0.001)\n",
      "    intf = lambda x: 2*(x*np.sqrt(1-(x**2))+np.arcsin(x))\n",
      "    intexact = intf(1.0)-intf(0)\n",
      "        \n",
      "    #find the maximum value of f within the boundary to set ymax\n",
      "    subx = x[logical_and((x > xmin),(x < xmax))]\n",
      "    ymax = f(subx).max()*1.05\n",
      "    ymin = 0.\n",
      "\n",
      "    #integration\n",
      "    samples_x = xmin + (xmax-xmin)*np.random.random_sample(int(N));\n",
      "    samples_y = ymin + (ymax-ymin)*np.random.random_sample(int(N));\n",
      "    \n",
      "    newmask = (samples_y < f(samples_x))\n",
      "    I = (xmax-xmin)*(ymax-ymin)*newmask.sum()/newmask.size\n",
      "    Ierr = 100*np.abs(np.pi-I)/np.pi\n",
      "    \n",
      "   \n",
      "    #Print our results:  \n",
      "    print \"I =\", I\n",
      "    print \"N = \", N\n",
      "    Ii.append(I)\n",
      "    Nn.append(N)\n",
      "    ERR.append(Ierr)"
     ],
     "language": "python",
     "metadata": {},
     "outputs": [],
     "prompt_number": 24
    },
    {
     "cell_type": "code",
     "collapsed": false,
     "input": [
      "j = np.logspace(1,6,110)\n",
      "Ii = []\n",
      "Nn = []\n",
      "ERR = []\n",
      "for i in j:\n",
      "    hitmiss3(i)\n",
      "I = np.array(Ii)\n",
      "N = np.array(Nn)\n",
      "ER = np.array(ERR)"
     ],
     "language": "python",
     "metadata": {},
     "outputs": [
      {
       "output_type": "stream",
       "stream": "stdout",
       "text": [
        "I = 2.09999895\n",
        "N =  10.0\n",
        "I = 3.43636191818\n",
        "N =  11.1140298694\n",
        "I = 3.49999825\n",
        "N =  12.3521659937\n",
        "I = 2.90769085385\n",
        "N =  13.7282341805\n",
        "I = 3.63999818\n",
        "N =  15.2576004736\n",
        "I = 2.6249986875\n",
        "N =  16.9573427398\n",
        "I = 3.26666503333\n",
        "N =  18.8464413715\n",
        "I = 2.51999874\n",
        "N =  20.9459912334\n",
        "I = 3.10434627391\n",
        "N =  23.2794372211\n",
        "I = 3.023998488\n",
        "N =  25.8728360618\n",
        "I = 3.149998425\n",
        "N =  28.7551472795\n",
        "I = 3.38709508064\n",
        "N =  31.9585565762\n",
        "I = 2.9999985\n",
        "N =  35.518835237\n",
        "I = 3.44615212308\n",
        "N =  39.4757395749\n",
        "I = 3.22325420233\n",
        "N =  43.873454875\n",
        "I = 3.58749820625\n",
        "N =  48.7610887953\n",
        "I = 2.95555407778\n",
        "N =  54.1932197333\n",
        "I = 3.149998425\n",
        "N =  60.2305062832\n",
        "I = 3.24545292273\n",
        "N =  66.9403645878\n",
        "I = 3.06486333243\n",
        "N =  74.3977211495\n",
        "I = 3.02194970854\n",
        "N =  82.6858495067\n",
        "I = 3.13845996923\n",
        "N =  91.8973001191\n",
        "I = 3.33529245\n",
        "N =  102.134933844\n",
        "I = 2.97344984071\n",
        "N =  113.513070544\n",
        "I = 3.16666508333\n",
        "N =  126.158765659\n",
        "I = 3.05999847\n",
        "N =  140.213228982\n",
        "I = 3.0619339529\n",
        "N =  155.833401498\n",
        "I = 2.93757078555\n",
        "N =  173.193707889\n",
        "I = 3.17187341406\n",
        "N =  192.488004267\n",
        "I = 3.3126744\n",
        "N =  213.931742891\n",
        "I = 3.15442880253\n",
        "N =  237.76437805\n",
        "I = 3.16590750795\n",
        "N =  264.252039952\n",
        "I = 3.01023740273\n",
        "N =  293.690506506\n",
        "I = 3.07913956472\n",
        "N =  326.408506165\n",
        "I = 3.07458409807\n",
        "N =  362.771388713\n",
        "I = 3.02233099504\n",
        "N =  403.185204991\n",
        "I = 3.19687340156\n",
        "N =  448.101241115\n",
        "I = 2.99397440663\n",
        "N =  498.021057825\n",
        "I = 3.15189715823\n",
        "N =  553.502091223\n",
        "I = 3.16877890341\n",
        "N =  615.163877461\n",
        "I = 3.17920778082\n",
        "N =  683.694970865\n",
        "I = 3.28142128419\n",
        "N =  759.860632772\n",
        "I = 3.17985622998\n",
        "N =  844.511376918\n",
        "I = 3.17462527836\n",
        "N =  938.592466808\n",
        "I = 3.2496628047\n",
        "N =  1043.15447113\n",
        "I = 3.25055920302\n",
        "N =  1159.36499504\n",
        "I = 3.19891144402\n",
        "N =  1288.52171844\n",
        "I = 3.09427219588\n",
        "N =  1432.06688661\n",
        "I = 3.1546181587\n",
        "N =  1591.60341527\n",
        "I = 3.18800745577\n",
        "N =  1768.91278974\n",
        "I = 3.10350989863\n",
        "N =  1965.97495815\n",
        "I = 3.19038302019\n",
        "N =  2184.99044073\n",
        "I = 3.18978423707\n",
        "N =  2428.40490225\n",
        "I = 3.09940541842\n",
        "N =  2698.93646185\n",
        "I = 3.1580511052\n",
        "N =  2999.60604525\n",
        "I = 3.16165458479\n",
        "N =  3333.77111832\n",
        "I = 3.17862189247\n",
        "N =  3705.16317866\n",
        "I = 3.09822531511\n",
        "N =  4117.92942385\n",
        "I = 3.13898444449\n",
        "N =  4576.67906166\n",
        "I = 3.10912152841\n",
        "N =  5086.53477937\n",
        "I = 3.13532480771\n",
        "N =  5653.18994695\n",
        "I = 3.159692785\n",
        "N =  6282.97219275\n",
        "I = 3.09676155675\n",
        "N =  6982.91406186\n",
        "I = 3.14404481973\n",
        "N =  7760.83154586\n",
        "I = 3.17544189054\n",
        "N =  8625.41136117\n",
        "I = 3.16993373738\n",
        "N =  9586.30795036\n",
        "I = 3.15334927746\n",
        "N =  10654.2512897\n",
        "I ="
       ]
      },
      {
       "output_type": "stream",
       "stream": "stdout",
       "text": [
        " 3.15292469666\n",
        "N =  11841.1667069\n",
        "I = 3.11776439856\n",
        "N =  13160.3080469\n",
        "I ="
       ]
      },
      {
       "output_type": "stream",
       "stream": "stdout",
       "text": [
        " 3.13578401942\n",
        "N =  14626.4056723\n",
        "I = 3.12073667402\n",
        "N =  16255.8309524\n",
        "I = 3.13779318368\n",
        "N =  18066.7790756\n",
        "I = 3.14659935304\n",
        "N =  20079.4722289\n",
        "I = 3.13531838215\n",
        "N =  22316.3854113\n",
        "I = 3.14466418043\n",
        "N =  24802.4974037\n",
        "I = 3.13906608873\n",
        "N =  27565.5696979\n",
        "I = 3.13848256707\n",
        "N =  30636.4564989\n",
        "I = 3.14151800397\n",
        "N =  34049.449262\n",
        "I = 3.14339465472\n",
        "N =  37842.6596133\n",
        "I = 3.14126049604\n",
        "N =  42058.4449278\n",
        "I = 3.1368574265\n",
        "N =  46743.8813186\n",
        "I ="
       ]
      },
      {
       "output_type": "stream",
       "stream": "stdout",
       "text": [
        " 3.13138377819\n",
        "N =  51951.2893185\n",
        "I = 3.14537928567\n",
        "N =  57738.8181237\n",
        "I = 3.14265165209\n",
        "N =  64171.0949248\n",
        "I = 3.13667449274\n",
        "N =  71319.9465744\n",
        "I = 3.1458257153\n",
        "N =  79265.2016508\n",
        "I = 3.14026064679\n",
        "N =  88095.5818748\n",
        "I ="
       ]
      },
      {
       "output_type": "stream",
       "stream": "stdout",
       "text": [
        " 3.14730664112\n",
        "N =  97909.6928315\n",
        "I = 3.14780805143\n",
        "N =  108817.125063\n",
        "I = 3.14412067138\n",
        "N =  120939.677825\n",
        "I = 3.13843696305\n",
        "N =  134412.719173\n",
        "I ="
       ]
      },
      {
       "output_type": "stream",
       "stream": "stdout",
       "text": [
        " 3.13775431186\n",
        "N =  149386.697571\n",
        "I = 3.14041089034\n",
        "N =  166028.821889\n",
        "I = 3.14373907975\n",
        "N =  184524.928565\n",
        "I ="
       ]
      },
      {
       "output_type": "stream",
       "stream": "stdout",
       "text": [
        " 3.14213933911\n",
        "N =  205081.556771\n",
        "I = 3.13897916127\n",
        "N =  227928.254761\n",
        "I ="
       ]
      },
      {
       "output_type": "stream",
       "stream": "stdout",
       "text": [
        " 3.1412111248\n",
        "N =  253320.143149\n",
        "I = 3.14525451887\n",
        "N =  281540.763746\n",
        "I ="
       ]
      },
      {
       "output_type": "stream",
       "stream": "stdout",
       "text": [
        " 3.14178715092\n",
        "N =  312905.245772\n",
        "I ="
       ]
      },
      {
       "output_type": "stream",
       "stream": "stdout",
       "text": [
        " 3.14169837998\n",
        "N =  347763.824779\n",
        "I ="
       ]
      },
      {
       "output_type": "stream",
       "stream": "stdout",
       "text": [
        " 3.14180772005\n",
        "N =  386505.753607\n",
        "I ="
       ]
      },
      {
       "output_type": "stream",
       "stream": "stdout",
       "text": [
        " 3.13999372755\n",
        "N =  429563.649027\n",
        "I ="
       ]
      },
      {
       "output_type": "stream",
       "stream": "stdout",
       "text": [
        " 3.13951642076\n",
        "N =  477418.322607\n",
        "I ="
       ]
      },
      {
       "output_type": "stream",
       "stream": "stdout",
       "text": [
        " 3.14051565162\n",
        "N =  530604.149764\n",
        "I ="
       ]
      },
      {
       "output_type": "stream",
       "stream": "stdout",
       "text": [
        " 3.13444914202\n",
        "N =  589715.036928\n",
        "I ="
       ]
      },
      {
       "output_type": "stream",
       "stream": "stdout",
       "text": [
        " 3.14142907357\n",
        "N =  655411.053482\n",
        "I ="
       ]
      },
      {
       "output_type": "stream",
       "stream": "stdout",
       "text": [
        " 3.14437238532\n",
        "N =  728425.802511\n",
        "I ="
       ]
      },
      {
       "output_type": "stream",
       "stream": "stdout",
       "text": [
        " 3.14009210885\n",
        "N =  809574.612672\n",
        "I ="
       ]
      },
      {
       "output_type": "stream",
       "stream": "stdout",
       "text": [
        " 3.13978857484\n",
        "N =  899763.64267\n",
        "I ="
       ]
      },
      {
       "output_type": "stream",
       "stream": "stdout",
       "text": [
        " 3.13911623044\n",
        "N =  1000000.0\n"
       ]
      }
     ],
     "prompt_number": 25
    },
    {
     "cell_type": "markdown",
     "metadata": {},
     "source": [
      "(b) Calculate the percent error for the N values from part (a) using the exact result \u03c0. Make a log-log plot of the error as a function of N.\n",
      "What is the approximate functional dependence of the error on N for large N, for example N\u2265104?"
     ]
    },
    {
     "cell_type": "code",
     "collapsed": false,
     "input": [
      "plt.loglog(N,ER,linewidth=2, label='N vs. Error')\n",
      "plt.ylabel('Error', fontsize = 18)\n",
      "plt.xlabel('Samples', fontsize = 18)\n",
      "plt.legend(fancybox=True)\n",
      "plt.show()"
     ],
     "language": "python",
     "metadata": {},
     "outputs": [
      {
       "metadata": {},
       "output_type": "display_data",
       "png": "[encoded data removed]",
       "text": [
        "<matplotlib.figure.Figure at 0x105965b50>"
       ]
      }
     ],
     "prompt_number": 26
    },
    {
     "cell_type": "markdown",
     "metadata": {},
     "source": [
      "For large N, the error is roughly .1 %."
     ]
    },
    {
     "cell_type": "markdown",
     "metadata": {},
     "source": [
      "c) Estimate the same integral using the sample mean method and compute the statistical uncertainty and error as a function of the number of samples N for N\u226510^4. Use at least 100 different values for N.\n",
      "Make a log-log plot of both the statistical uncertainty and the error as a function of N."
     ]
    },
    {
     "cell_type": "code",
     "collapsed": false,
     "input": [
      "def samplemean(N,xmin=0.0,xmax=1.0):\n",
      "    #Function, x values\n",
      "    f = lambda x: 4*(np.sqrt(1-x**2))\n",
      "    x = np.arange(0,1.1,.001)\n",
      "    \n",
      "    #Sample Mean Approximation\n",
      "    samples_x = xmin + (xmax-xmin)*np.random.random_sample(N);\n",
      "    approx = f(samples_x)\n",
      "    I = approx.mean()*(xmax-xmin)\n",
      "    \n",
      "    #Uncertainty\n",
      "    uncertainty = (xmax-xmin)*np.sqrt(((approx**2).mean()-(approx.mean())**2)/N)\n",
      "    \n",
      "    #Error\n",
      "    hum = 100*np.abs(np.pi-I)/np.pi\n",
      "    \n",
      "    #Boundary\n",
      "    ymax = approx.max()\n",
      "    ymin = 0.\n",
      "    \n",
      "    #Print, supressed because of large loop that follows\n",
      "    '''\n",
      "    print \"Error = \", hum\n",
      "    print \"Approximation = \", I, \"+/-\", uncertainty\n",
      "    '''\n",
      "    #Array Creation For Plots\n",
      "    \n",
      "    unc.append(uncertainty)\n",
      "    err.append(hum)\n",
      "    en.append(N)"
     ],
     "language": "python",
     "metadata": {},
     "outputs": [],
     "prompt_number": 27
    },
    {
     "cell_type": "code",
     "collapsed": false,
     "input": [
      "unc=[]\n",
      "err=[]\n",
      "en=[]\n",
      "j = np.logspace(4,6,110)\n",
      "for i in j:\n",
      "    samplemean(i)\n",
      "U=np.array(unc)\n",
      "ER = np.array(err)\n",
      "N = np.array(en)"
     ],
     "language": "python",
     "metadata": {},
     "outputs": [],
     "prompt_number": 28
    },
    {
     "cell_type": "code",
     "collapsed": false,
     "input": [
      "plt.loglog(N,ER, label='Error vs. Number of Samples')\n",
      "plt.loglog(N,U, label='Numerical Uncertainty vs. Number of Samples')\n",
      "plt.ylabel('Uncertainty, Error',fontsize=18)\n",
      "plt.xlabel('Number of Samples',fontsize=18)\n",
      "plt.legend(fancybox=True, loc='best', framealpha=.4)\n",
      "plt.show()"
     ],
     "language": "python",
     "metadata": {},
     "outputs": [
      {
       "metadata": {},
       "output_type": "display_data",
       "png": "[encoded data removed]",
       "text": [
        "<matplotlib.figure.Figure at 0x104da7510>"
       ]
      }
     ],
     "prompt_number": 29
    },
    {
     "cell_type": "markdown",
     "metadata": {},
     "source": [
      "How many samples are needed to determine the result to two decimal places? What is the approximate functional dependence of the error on N for large N?"
     ]
    },
    {
     "cell_type": "markdown",
     "metadata": {},
     "source": [
      "The uncertainty is around .01 when N is approximately 10^4.\n",
      "For large N, the error is around below 1%."
     ]
    },
    {
     "cell_type": "code",
     "collapsed": false,
     "input": [],
     "language": "python",
     "metadata": {},
     "outputs": [],
     "prompt_number": 29
    }
   ],
   "metadata": {}
  }
 ]
}