{
 "metadata": {
  "name": "",
  "signature": "sha256:7339a44d9769407fba0dda5c3dbdda71a27d27e81265243f75cad60c8f9ad300"
 },
 "nbformat": 3,
 "nbformat_minor": 0,
 "worksheets": [
  {
   "cells": [
    {
     "cell_type": "heading",
     "level": 1,
     "metadata": {},
     "source": [
      "Linear Regression, Optimization and Curve Fitting Exercises"
     ]
    },
    {
     "cell_type": "code",
     "collapsed": false,
     "input": [
      "%pylab inline\n",
      "import numpy as np\n",
      "import matplotlib.pyplot as plot"
     ],
     "language": "python",
     "metadata": {},
     "outputs": [
      {
       "output_type": "stream",
       "stream": "stdout",
       "text": [
        "Populating the interactive namespace from numpy and matplotlib\n"
       ]
      }
     ],
     "prompt_number": 1
    },
    {
     "cell_type": "heading",
     "level": 2,
     "metadata": {},
     "source": [
      "Question 1"
     ]
    },
    {
     "cell_type": "markdown",
     "metadata": {},
     "source": [
      "(a) Write a function that can compute the weighted linear least squares (WLSQ) best fit line to a set of data. Here is the function template to use:\n",
      "def WeightedLLSqFit(x,y,w):\n",
      "    \"\"\"Take in arrays representing (x,y) values for a set of linearly varying data and an array of weights w.\n",
      "    Perform a weighted linear least squares regression.  Return the resulting slope and intercept\n",
      "    parameters of the best fit line with their uncertainties.\n",
      "\n",
      "    If the weights are all equal to one, the uncertainties on the parameters are calculated using the \n",
      "    non-weighted least squares equations.\"\"\"\n",
      "\n",
      "    #your code goes here...\n",
      "\n",
      "    return slope,slerr,intercept,interr\n",
      "Your function should test whether there are unequal weights on the data points and return the correctly calculated uncertainties for whichever case is requested.\n",
      "Use the features of numpy arrays rather than loops to take advantage of their superior computational speed.\n"
     ]
    },
    {
     "cell_type": "code",
     "collapsed": false,
     "input": [
      "def WeightedLLSqFit(x,y,w):\n",
      "    '''Take in arays representing (x,y) values for a set of linearly varying\n",
      "    data and an array of weights w.\n",
      "    Perform a weighted linear least squares regression. return the resulting\n",
      "    slope and intercept parameters of the best fit line with their uncertainties.\n",
      "    \n",
      "    If the weights are all equal to one, the uncertainties on the parameters\n",
      "    are calculated using the non-weighted least squares equations.'''\n",
      "    \n",
      "    return slope,slerr,intercept,interr"
     ],
     "language": "python",
     "metadata": {},
     "outputs": []
    }
   ],
   "metadata": {}
  }
 ]
}