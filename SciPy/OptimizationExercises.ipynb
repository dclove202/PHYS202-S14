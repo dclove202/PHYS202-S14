{
 "metadata": {
  "name": "",
  "signature": "sha256:a4522584d60551bb78eabda521c98917e77497121b58231dcafda92003a9a7d7"
 },
 "nbformat": 3,
 "nbformat_minor": 0,
 "worksheets": [
  {
   "cells": [
    {
     "cell_type": "heading",
     "level": 1,
     "metadata": {},
     "source": [
      "Linear Regression, Optimization and Curve Fitting Exercises"
     ]
    },
    {
     "cell_type": "code",
     "collapsed": false,
     "input": [
      "%pylab inline\n",
      "import numpy as np\n",
      "import matplotlib.pyplot as plot"
     ],
     "language": "python",
     "metadata": {},
     "outputs": [
      {
       "output_type": "stream",
       "stream": "stdout",
       "text": [
        "Populating the interactive namespace from numpy and matplotlib\n"
       ]
      }
     ],
     "prompt_number": 1
    },
    {
     "cell_type": "heading",
     "level": 2,
     "metadata": {},
     "source": [
      "Question 1"
     ]
    },
    {
     "cell_type": "markdown",
     "metadata": {},
     "source": [
      "(a) Write a function that can compute the weighted linear least squares (WLSQ) best fit line to a set of data. Here is the function template to use:\n",
      "def WeightedLLSqFit(x,y,w):\n",
      "    \"\"\"Take in arrays representing (x,y) values for a set of linearly varying data and an array of weights w.\n",
      "    Perform a weighted linear least squares regression.  Return the resulting slope and intercept\n",
      "    parameters of the best fit line with their uncertainties.\n",
      "\n",
      "    If the weights are all equal to one, the uncertainties on the parameters are calculated using the \n",
      "    non-weighted least squares equations.\"\"\"\n",
      "\n",
      "    #your code goes here...\n",
      "\n",
      "    return slope,slerr,intercept,interr\n",
      "Your function should test whether there are unequal weights on the data points and return the correctly calculated uncertainties for whichever case is requested.\n",
      "Use the features of numpy arrays rather than loops to take advantage of their superior computational speed.\n"
     ]
    },
    {
     "cell_type": "code",
     "collapsed": false,
     "input": [
      "def WeightedLLSqFit(x,y,w):\n",
      "    '''\n",
      "    Take in arays representing (x,y) values for a set of linearly varying\n",
      "    data and an array of weights w.\n",
      "    Perform a weighted linear least squares regression. return the resulting\n",
      "    slope and intercept parameters of the best fit line with their uncertainties.\n",
      "    \n",
      "    If the weights are all equal to one, the uncertainties on the parameters\n",
      "    are calculated using the non-weighted least squares equations.\n",
      "    '''\n",
      "    #Determining Slope and Intercept\n",
      "    ww = 1/w**2\n",
      "    slope = (sum(ww)*sum(ww*x*y) - sum(ww*x)*sum(ww*y))/(sum(ww)*sum(ww*x**2) - (sum(ww*x))**2)\n",
      "    intercept = (sum(ww*x**2)*sum(ww*y) - sum(ww*x)*sum(ww*x*y))/(sum(ww)*sum(ww*x**2)-(sum(ww*x))**2)\n",
      "    #Checking if uncertainty is all ones\n",
      "    a = 1\n",
      "    for i in w:\n",
      "        if i == 1:\n",
      "            a = a*1\n",
      "        elif i != 1:\n",
      "            a = 0\n",
      "    #Error if uncertainty is not all ones\n",
      "    if a==0:\n",
      "        slerr = np.sqrt((sum(ww))/((sum(ww)*sum(ww*x**2))-((sum(ww*x)**2))))\n",
      "        interr = np.sqrt((sum(ww*x**2))/(sum(ww)*sum(ww*x**2)-((sum(ww*x))**2)))\n",
      "        \n",
      "    #Error if uncertainty is all ones\n",
      "    elif a==1:\n",
      "        xave = x.mean()\n",
      "        yave = y.mean()\n",
      "        x2ave = (x*x).mean()\n",
      "        xyave = (x*y).mean()\n",
      "        denom = (x2ave - xave**2)\n",
      "        m = (xyave - xave*yave)/denom\n",
      "        b = (x2ave*yave - xave*xyave)/denom\n",
      "        delta = y - (m*x + b)\n",
      "        d2ave = (delta*delta).mean()\n",
      "        n = len(y)\n",
      "        slerr = sqrt((n-2)**(-1)*d2ave/denom)\n",
      "        interr = sqrt((n-2)**(-1)*d2ave*x2ave/denom)\n",
      "    \n",
      "    \n",
      "    return slope,slerr,intercept,interr\n",
      "    "
     ],
     "language": "python",
     "metadata": {},
     "outputs": [],
     "prompt_number": 2
    },
    {
     "cell_type": "markdown",
     "metadata": {},
     "source": [
      "(b) For the data below, use the uncertainties on the position values as weights to perform a WLSQ best fit. Print the results of the fit, both the fitted parameter values and their uncertainties."
     ]
    },
    {
     "cell_type": "code",
     "collapsed": false,
     "input": [
      "time = np.array([1.,2.,3.,4.,5.,6.,7.,8.,9.,10.])\n",
      "pos = np.array([7.75, 7.33, 6.89, 6.45, 5.96, 5.55, 5.10, 4.49, 3.93, 3.58])\n",
      "sigp = np.array([0.02, 0.03, 0.03, 0.04, 0.05, 0.06, 0.08, 0.11, 0.14, 0.17])\n",
      "print WeightedLLSqFit(time,pos,sigp)"
     ],
     "language": "python",
     "metadata": {},
     "outputs": [
      {
       "output_type": "stream",
       "stream": "stdout",
       "text": [
        "(-0.45102398348675593, 0.0065758708587924392, 8.220071817895505, 0.021437765208320705)\n"
       ]
      }
     ],
     "prompt_number": 3
    },
    {
     "cell_type": "markdown",
     "metadata": {},
     "source": [
      "(c) Now make an errorbar plot that shows the (time,position) data with markers and error bars \u03c3p. Also plot lines representing the results from the LSQ and WSLQ fits to these data. Include a legend that shows the fitted line equations with the fit parameters as you did in the tour, with labels indicating which one is the weighted result and which the unweighted result."
     ]
    },
    {
     "cell_type": "code",
     "collapsed": false,
     "input": [
      "#Using LSQ function from tour:\n",
      "def LinearLSqFit(x,y):\n",
      "    \"\"\"Take in arrays representing (x,y) values for a set of linearly varying data and \n",
      "    perform a linear least squares regression.  Return the resulting slope and intercept\n",
      "    parameters of the best fit line with their uncertainties.\"\"\"\n",
      "\n",
      "    xave = x.mean()\n",
      "    yave = y.mean()\n",
      "    x2ave = (x*x).mean()\n",
      "    xyave = (x*y).mean()\n",
      "    denom = (x2ave - xave**2)\n",
      "    m = (xyave - xave*yave)/denom\n",
      "    b = (x2ave*yave - xave*xyave)/denom\n",
      "    delta = y - (m*x + b)\n",
      "    d2ave = (delta*delta).mean()\n",
      "    n = len(y)\n",
      "    merr = sqrt((n-2)**(-1)*d2ave/denom)\n",
      "    berr = sqrt((n-2)**(-1)*d2ave*x2ave/denom)\n",
      "    \n",
      "    return m,b,merr,berr\n",
      "\n"
     ],
     "language": "python",
     "metadata": {},
     "outputs": [],
     "prompt_number": 4
    },
    {
     "cell_type": "code",
     "collapsed": false,
     "input": [
      "#Running Functions\n",
      "m,b,merr,berr = LinearLSqFit(time,pos)\n",
      "slope,slerr,intercept,interr = WeightedLLSqFit(time,pos,sigp)\n",
      "\n",
      "#Basic Function\n",
      "f = lambda x,sl,inte: sl*x + inte\n",
      "lsq='Unweighted: y=%.4f x + %.4f' %(m,b)\n",
      "wlsq='Weighted: y=%.4f x + %.4f' %(slope,intercept)\n",
      "plt.plot(time,f(time,m,b),label=lsq)\n",
      "plt.plot(time,f(time,slope,intercept),label=wlsq)\n",
      "plt.errorbar(time,pos,sigp,fmt='bo',label='Data With Errors')\n",
      "plt.legend(loc='upper right',framealpha=.4,fancybox=True,fontsize=10)\n",
      "plt.xlim(0,11)\n",
      "plt.ylim(3,8)\n",
      "plt.ylabel('Position',fontsize=20)\n",
      "plt.xlabel('Time',fontsize=20)\n",
      "plt.plot()\n",
      "plt.show()"
     ],
     "language": "python",
     "metadata": {},
     "outputs": [
      {
       "metadata": {},
       "output_type": "display_data",
       "png": "[encoded data removed]",
       "text": [
        "<matplotlib.figure.Figure at 0x104dc6350>"
       ]
      }
     ],
     "prompt_number": 7
    },
    {
     "cell_type": "heading",
     "level": 2,
     "metadata": {},
     "source": [
      "Question 2"
     ]
    },
    {
     "cell_type": "code",
     "collapsed": false,
     "input": [],
     "language": "python",
     "metadata": {},
     "outputs": []
    }
   ],
   "metadata": {}
  }
 ]
}