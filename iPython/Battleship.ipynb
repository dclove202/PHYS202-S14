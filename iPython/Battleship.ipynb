{
 "metadata": {
  "name": "",
  "signature": "sha256:fcb93f94ece9f539eee8be5a330ed0ae08941238871461cc4fb32d4803239c77"
 },
 "nbformat": 3,
 "nbformat_minor": 0,
 "worksheets": [
  {
   "cells": [
    {
     "cell_type": "heading",
     "level": 1,
     "metadata": {},
     "source": [
      "BATTLE SHIP!!!"
     ]
    },
    {
     "cell_type": "code",
     "collapsed": false,
     "input": [
      "from random import randint\n",
      "from ipythonblocks import BlockGrid\n",
      "from IPython.display import clear_output"
     ],
     "language": "python",
     "metadata": {},
     "outputs": [],
     "prompt_number": 3
    },
    {
     "cell_type": "markdown",
     "metadata": {},
     "source": [
      "Battleship!\n",
      "Open Codecademy and grab your Battleship! code from Lesson 13-18.\n",
      "Copy it to a new notebook called Battleship and use ipythonblocks to make it more visual.\n",
      "Use a light blue for the background, red for a hit and a different color of your choice for misses.\n",
      "Once it is working:\n",
      "Expand it to a larger field\n",
      "Make the battleship longer\n",
      "Provide more tries for the player to find it and completely sink it.\n",
      "If the player doesn't sink the ship before the end of the game, reveal the playing board to them so they can see where it was.\n",
      "Document your code with a markdown cell that explains how to run it and what the options are.\n",
      "Demonstrate the game in another cell to show that it works as expected. You do not have to provide a demo for each possible outcome. Just one demo will do.\n",
      "Get creative. You could allow ships to lie diagonally, make the player say how many tries they would like to use to sink it, add more ships, etc.\n",
      "I will grade your output for this exercise. Your code must implement the elements listed in items 1-5 above. You will also receive a creativity bonus for any additional features that the code implements (such as those suggested in item 6 or others you come up with). Be sure to document the extra features too!"
     ]
    },
    {
     "cell_type": "heading",
     "level": 2,
     "metadata": {},
     "source": [
      "Solution"
     ]
    },
    {
     "cell_type": "code",
     "collapsed": false,
     "input": [
      "def place_ship(boardsize):\n",
      "    '''\n",
      "    Place a ship randomly on the board\n",
      "    of size boardsize x boardsize.  \n",
      "    Randomly decide whether it is vertical\n",
      "    or horizontal, what length ship, the \n",
      "    placement of the first block, and check\n",
      "    that it will fit on the board.  If not,\n",
      "    adjust the placement.\n",
      "    '''\n",
      "    #Select vertical or horizontal ship\n",
      "    shipdir = randint(0,1)\n",
      "    #random ship length\n",
      "    shiplength = randint(1,boardsize-2)\n",
      "    shipstart = randint(0,boardsize-1)\n",
      "    shipend = shipstart - 1 + shiplength\n",
      "    shipdiff = boardsize - 1 - shipend\n",
      "    if shipdiff < 0:\n",
      "        shipstart += shipdiff\n",
      "        shipend += shipdiff\n",
      "    #print shipdir, shiplength, shipstart, shipend, shipdiff\n",
      "    shipside = randint(0,boardsize-1)\n",
      "    ship = []\n",
      "    if randint(0,1) == 1:\n",
      "        for i in range(shiplength):\n",
      "            ship.append((shipstart+i,shipside))\n",
      "    else:\n",
      "        for i in range(shiplength):\n",
      "            ship.append((shipside,shipstart+i))\n",
      "    return ship\n",
      "\n",
      "BLACK = (0,0,0)\n",
      "RED = (255,0,0)\n",
      "ORANGE = (255,150,0)\n",
      "OCEAN = (13, 123, 234)"
     ],
     "language": "python",
     "metadata": {},
     "outputs": [],
     "prompt_number": 4
    },
    {
     "cell_type": "code",
     "collapsed": false,
     "input": [
      "print \"Let's play Battleship!\"\n",
      "boardsize = input(\"How big should the ocean be? (Enter an integer from 4 to 20)\")\n",
      "nturns = input(\"How many shots would you like?\")\n",
      "\n",
      "board = BlockGrid(boardsize, boardsize, fill=OCEAN)\n",
      "board.show()\n",
      "\n",
      "ship = place_ship(boardsize)\n",
      "nhits = 0\n",
      "\n",
      "for turn in range(nturns+1):\n",
      "    #print ship\n",
      "    guess_row = input(\"Guess Row:\")\n",
      "    guess_col = input(\"Guess Col:\")\n",
      "    \n",
      "    if (guess_row < 0 or guess_row >= board.height) or (guess_col < 0 or guess_col >= board.width):\n",
      "        clear_output()\n",
      "        board.show()\n",
      "        print \"Oops, that's not even in the ocean.\"\n",
      "    else:\n",
      "        guessblock = board[guess_row,guess_col]\n",
      "        if (guess_row,guess_col) in ship:\n",
      "            clear_output()\n",
      "            board[guess_row,guess_col] = RED\n",
      "            board.show()\n",
      "            print \"It's a hit!\"\n",
      "            nhits += 1          \n",
      "        elif (guessblock.red,guessblock.green,guessblock.blue) == BLACK or (guessblock.red,guessblock.green,guessblock.blue) == RED:\n",
      "            clear_output()\n",
      "            board.show()\n",
      "            print \"You guessed that one already.\"\n",
      "        else:\n",
      "            clear_output()\n",
      "            board[guess_row,guess_col] = BLACK\n",
      "            board.show()\n",
      "            print \"You missed my battleship!\"        \n",
      "\n",
      "    if nhits == len(ship):\n",
      "        clear_output()\n",
      "        board[guess_row,guess_col] = RED\n",
      "        board.show()\n",
      "        print \"Congratulations! You sunk my battleship!\"\n",
      "        break\n",
      "\n",
      "    if turn == nturns:\n",
      "        clear_output()\n",
      "        #Reveal location of ship in yellow\n",
      "        for block in ship:\n",
      "            current = board[block[0],block[1]]\n",
      "            if (current.red,current.green,current.blue) == RED:\n",
      "                pass\n",
      "            else:\n",
      "                board[block[0],block[1]] = ORANGE\n",
      "        board.show()\n",
      "        print \"Sorry, you are out of turns.  Game Over.\"\n",
      "    else:\n",
      "        print turn+1"
     ],
     "language": "python",
     "metadata": {},
     "outputs": [
      {
       "html": [
        "<style type=\"text/css\">table.blockgrid {border: none;} .blockgrid tr {border: none;} .blockgrid td {padding: 0px;} #blocks4226d363-d74f-4c96-8323-c0a56e913321 td {border: 1px solid white;}</style><table id=\"blocks4226d363-d74f-4c96-8323-c0a56e913321\" class=\"blockgrid\"><tbody><tr><td title=\"Index: [0, 0]&#10;Color: (13, 123, 234)\" style=\"width: 20px; height: 20px;background-color: rgb(13, 123, 234);\"></td><td title=\"Index: [0, 1]&#10;Color: (13, 123, 234)\" style=\"width: 20px; height: 20px;background-color: rgb(13, 123, 234);\"></td><td title=\"Index: [0, 2]&#10;Color: (0, 0, 0)\" style=\"width: 20px; height: 20px;background-color: rgb(0, 0, 0);\"></td><td title=\"Index: [0, 3]&#10;Color: (13, 123, 234)\" style=\"width: 20px; height: 20px;background-color: rgb(13, 123, 234);\"></td><td title=\"Index: [0, 4]&#10;Color: (0, 0, 0)\" style=\"width: 20px; height: 20px;background-color: rgb(0, 0, 0);\"></td></tr><tr><td title=\"Index: [1, 0]&#10;Color: (13, 123, 234)\" style=\"width: 20px; height: 20px;background-color: rgb(13, 123, 234);\"></td><td title=\"Index: [1, 1]&#10;Color: (0, 0, 0)\" style=\"width: 20px; height: 20px;background-color: rgb(0, 0, 0);\"></td><td title=\"Index: [1, 2]&#10;Color: (13, 123, 234)\" style=\"width: 20px; height: 20px;background-color: rgb(13, 123, 234);\"></td><td title=\"Index: [1, 3]&#10;Color: (13, 123, 234)\" style=\"width: 20px; height: 20px;background-color: rgb(13, 123, 234);\"></td><td title=\"Index: [1, 4]&#10;Color: (0, 0, 0)\" style=\"width: 20px; height: 20px;background-color: rgb(0, 0, 0);\"></td></tr><tr><td title=\"Index: [2, 0]&#10;Color: (13, 123, 234)\" style=\"width: 20px; height: 20px;background-color: rgb(13, 123, 234);\"></td><td title=\"Index: [2, 1]&#10;Color: (0, 0, 0)\" style=\"width: 20px; height: 20px;background-color: rgb(0, 0, 0);\"></td><td title=\"Index: [2, 2]&#10;Color: (255, 0, 0)\" style=\"width: 20px; height: 20px;background-color: rgb(255, 0, 0);\"></td><td title=\"Index: [2, 3]&#10;Color: (0, 0, 0)\" style=\"width: 20px; height: 20px;background-color: rgb(0, 0, 0);\"></td><td title=\"Index: [2, 4]&#10;Color: (13, 123, 234)\" style=\"width: 20px; height: 20px;background-color: rgb(13, 123, 234);\"></td></tr><tr><td title=\"Index: [3, 0]&#10;Color: (13, 123, 234)\" style=\"width: 20px; height: 20px;background-color: rgb(13, 123, 234);\"></td><td title=\"Index: [3, 1]&#10;Color: (13, 123, 234)\" style=\"width: 20px; height: 20px;background-color: rgb(13, 123, 234);\"></td><td title=\"Index: [3, 2]&#10;Color: (255, 150, 0)\" style=\"width: 20px; height: 20px;background-color: rgb(255, 150, 0);\"></td><td title=\"Index: [3, 3]&#10;Color: (0, 0, 0)\" style=\"width: 20px; height: 20px;background-color: rgb(0, 0, 0);\"></td><td title=\"Index: [3, 4]&#10;Color: (13, 123, 234)\" style=\"width: 20px; height: 20px;background-color: rgb(13, 123, 234);\"></td></tr><tr><td title=\"Index: [4, 0]&#10;Color: (0, 0, 0)\" style=\"width: 20px; height: 20px;background-color: rgb(0, 0, 0);\"></td><td title=\"Index: [4, 1]&#10;Color: (13, 123, 234)\" style=\"width: 20px; height: 20px;background-color: rgb(13, 123, 234);\"></td><td title=\"Index: [4, 2]&#10;Color: (13, 123, 234)\" style=\"width: 20px; height: 20px;background-color: rgb(13, 123, 234);\"></td><td title=\"Index: [4, 3]&#10;Color: (13, 123, 234)\" style=\"width: 20px; height: 20px;background-color: rgb(13, 123, 234);\"></td><td title=\"Index: [4, 4]&#10;Color: (13, 123, 234)\" style=\"width: 20px; height: 20px;background-color: rgb(13, 123, 234);\"></td></tr></tbody></table>"
       ],
       "metadata": {},
       "output_type": "display_data",
       "text": [
        "<IPython.core.display.HTML at 0x102189450>"
       ]
      },
      {
       "output_type": "stream",
       "stream": "stdout",
       "text": [
        "Sorry, you are out of turns.  Game Over.\n"
       ]
      }
     ],
     "prompt_number": 5
    },
    {
     "cell_type": "code",
     "collapsed": false,
     "input": [
      "'''\n",
      "Fail Version:\n",
      "\n",
      "from random import randint\n",
      "from ipythonblocks import colors\n",
      "\n",
      "board = BlockGrid(8, 8, fill=(120,140,255))\n",
      "board.show()\n",
      "\n",
      "print \"Let's play Battleship!\"\n",
      "\n",
      "\n",
      "\n",
      "def ship_spot(board):\n",
      "    return board[randint(0,8), randint(0,8)]\n",
      "\n",
      "ship_position = ship_spot(board)\n",
      "print \"ship position =\", ship_position\n",
      "\n",
      "\n",
      "\n",
      "for turn in range(4):\n",
      "    print \"Turn\", turn + 1\n",
      "    guess_row = int(raw_input(\"Guess Row:\"))\n",
      "    guess_col = int(raw_input(\"Guess Col:\"))\n",
      "\n",
      "    if board[guess_row, guess_col] == ship_spot(board):\n",
      "        print \"Congratulations! You sunk my battleship!\"\n",
      "        break\n",
      "\n",
      "    else:\n",
      "        if (guess_row < 0 or guess_row > 8) or (guess_col < 0 or guess_col > 8):\n",
      "            print \"Oops, that's not even in the ocean.\" \n",
      "\n",
      "        elif board[guess_row, guess_col] = (board[guess_row, guess_col] = colors['Black']):\n",
      "            print \"You guessed that one already.\"\n",
      "\n",
      "        else:\n",
      "            print \"You missed my battleship!\"\n",
      "            board[guess_row, guess_col] = colors('Black')\n",
      "            \n",
      "            if turn == 3:\n",
      "                print \"Game Over\"\n",
      "    # Print (turn + 1) here!\n",
      "'''"
     ],
     "language": "python",
     "metadata": {},
     "outputs": [
      {
       "html": [
        "<style type=\"text/css\">table.blockgrid {border: none;} .blockgrid tr {border: none;} .blockgrid td {padding: 0px;} #blocksb5b7f518-2430-4f8f-90db-c60c19040528 td {border: 1px solid white;}</style><table id=\"blocksb5b7f518-2430-4f8f-90db-c60c19040528\" class=\"blockgrid\"><tbody><tr><td title=\"Index: [0, 0]&#10;Color: (120, 140, 255)\" style=\"width: 20px; height: 20px;background-color: rgb(120, 140, 255);\"></td><td title=\"Index: [0, 1]&#10;Color: (120, 140, 255)\" style=\"width: 20px; height: 20px;background-color: rgb(120, 140, 255);\"></td><td title=\"Index: [0, 2]&#10;Color: (120, 140, 255)\" style=\"width: 20px; height: 20px;background-color: rgb(120, 140, 255);\"></td><td title=\"Index: [0, 3]&#10;Color: (120, 140, 255)\" style=\"width: 20px; height: 20px;background-color: rgb(120, 140, 255);\"></td><td title=\"Index: [0, 4]&#10;Color: (120, 140, 255)\" style=\"width: 20px; height: 20px;background-color: rgb(120, 140, 255);\"></td><td title=\"Index: [0, 5]&#10;Color: (120, 140, 255)\" style=\"width: 20px; height: 20px;background-color: rgb(120, 140, 255);\"></td><td title=\"Index: [0, 6]&#10;Color: (120, 140, 255)\" style=\"width: 20px; height: 20px;background-color: rgb(120, 140, 255);\"></td><td title=\"Index: [0, 7]&#10;Color: (120, 140, 255)\" style=\"width: 20px; height: 20px;background-color: rgb(120, 140, 255);\"></td></tr><tr><td title=\"Index: [1, 0]&#10;Color: (120, 140, 255)\" style=\"width: 20px; height: 20px;background-color: rgb(120, 140, 255);\"></td><td title=\"Index: [1, 1]&#10;Color: (120, 140, 255)\" style=\"width: 20px; height: 20px;background-color: rgb(120, 140, 255);\"></td><td title=\"Index: [1, 2]&#10;Color: (120, 140, 255)\" style=\"width: 20px; height: 20px;background-color: rgb(120, 140, 255);\"></td><td title=\"Index: [1, 3]&#10;Color: (120, 140, 255)\" style=\"width: 20px; height: 20px;background-color: rgb(120, 140, 255);\"></td><td title=\"Index: [1, 4]&#10;Color: (120, 140, 255)\" style=\"width: 20px; height: 20px;background-color: rgb(120, 140, 255);\"></td><td title=\"Index: [1, 5]&#10;Color: (120, 140, 255)\" style=\"width: 20px; height: 20px;background-color: rgb(120, 140, 255);\"></td><td title=\"Index: [1, 6]&#10;Color: (120, 140, 255)\" style=\"width: 20px; height: 20px;background-color: rgb(120, 140, 255);\"></td><td title=\"Index: [1, 7]&#10;Color: (120, 140, 255)\" style=\"width: 20px; height: 20px;background-color: rgb(120, 140, 255);\"></td></tr><tr><td title=\"Index: [2, 0]&#10;Color: (120, 140, 255)\" style=\"width: 20px; height: 20px;background-color: rgb(120, 140, 255);\"></td><td title=\"Index: [2, 1]&#10;Color: (120, 140, 255)\" style=\"width: 20px; height: 20px;background-color: rgb(120, 140, 255);\"></td><td title=\"Index: [2, 2]&#10;Color: (120, 140, 255)\" style=\"width: 20px; height: 20px;background-color: rgb(120, 140, 255);\"></td><td title=\"Index: [2, 3]&#10;Color: (120, 140, 255)\" style=\"width: 20px; height: 20px;background-color: rgb(120, 140, 255);\"></td><td title=\"Index: [2, 4]&#10;Color: (120, 140, 255)\" style=\"width: 20px; height: 20px;background-color: rgb(120, 140, 255);\"></td><td title=\"Index: [2, 5]&#10;Color: (120, 140, 255)\" style=\"width: 20px; height: 20px;background-color: rgb(120, 140, 255);\"></td><td title=\"Index: [2, 6]&#10;Color: (120, 140, 255)\" style=\"width: 20px; height: 20px;background-color: rgb(120, 140, 255);\"></td><td title=\"Index: [2, 7]&#10;Color: (120, 140, 255)\" style=\"width: 20px; height: 20px;background-color: rgb(120, 140, 255);\"></td></tr><tr><td title=\"Index: [3, 0]&#10;Color: (120, 140, 255)\" style=\"width: 20px; height: 20px;background-color: rgb(120, 140, 255);\"></td><td title=\"Index: [3, 1]&#10;Color: (120, 140, 255)\" style=\"width: 20px; height: 20px;background-color: rgb(120, 140, 255);\"></td><td title=\"Index: [3, 2]&#10;Color: (120, 140, 255)\" style=\"width: 20px; height: 20px;background-color: rgb(120, 140, 255);\"></td><td title=\"Index: [3, 3]&#10;Color: (120, 140, 255)\" style=\"width: 20px; height: 20px;background-color: rgb(120, 140, 255);\"></td><td title=\"Index: [3, 4]&#10;Color: (120, 140, 255)\" style=\"width: 20px; height: 20px;background-color: rgb(120, 140, 255);\"></td><td title=\"Index: [3, 5]&#10;Color: (120, 140, 255)\" style=\"width: 20px; height: 20px;background-color: rgb(120, 140, 255);\"></td><td title=\"Index: [3, 6]&#10;Color: (120, 140, 255)\" style=\"width: 20px; height: 20px;background-color: rgb(120, 140, 255);\"></td><td title=\"Index: [3, 7]&#10;Color: (120, 140, 255)\" style=\"width: 20px; height: 20px;background-color: rgb(120, 140, 255);\"></td></tr><tr><td title=\"Index: [4, 0]&#10;Color: (120, 140, 255)\" style=\"width: 20px; height: 20px;background-color: rgb(120, 140, 255);\"></td><td title=\"Index: [4, 1]&#10;Color: (120, 140, 255)\" style=\"width: 20px; height: 20px;background-color: rgb(120, 140, 255);\"></td><td title=\"Index: [4, 2]&#10;Color: (120, 140, 255)\" style=\"width: 20px; height: 20px;background-color: rgb(120, 140, 255);\"></td><td title=\"Index: [4, 3]&#10;Color: (120, 140, 255)\" style=\"width: 20px; height: 20px;background-color: rgb(120, 140, 255);\"></td><td title=\"Index: [4, 4]&#10;Color: (120, 140, 255)\" style=\"width: 20px; height: 20px;background-color: rgb(120, 140, 255);\"></td><td title=\"Index: [4, 5]&#10;Color: (120, 140, 255)\" style=\"width: 20px; height: 20px;background-color: rgb(120, 140, 255);\"></td><td title=\"Index: [4, 6]&#10;Color: (120, 140, 255)\" style=\"width: 20px; height: 20px;background-color: rgb(120, 140, 255);\"></td><td title=\"Index: [4, 7]&#10;Color: (120, 140, 255)\" style=\"width: 20px; height: 20px;background-color: rgb(120, 140, 255);\"></td></tr><tr><td title=\"Index: [5, 0]&#10;Color: (120, 140, 255)\" style=\"width: 20px; height: 20px;background-color: rgb(120, 140, 255);\"></td><td title=\"Index: [5, 1]&#10;Color: (120, 140, 255)\" style=\"width: 20px; height: 20px;background-color: rgb(120, 140, 255);\"></td><td title=\"Index: [5, 2]&#10;Color: (120, 140, 255)\" style=\"width: 20px; height: 20px;background-color: rgb(120, 140, 255);\"></td><td title=\"Index: [5, 3]&#10;Color: (120, 140, 255)\" style=\"width: 20px; height: 20px;background-color: rgb(120, 140, 255);\"></td><td title=\"Index: [5, 4]&#10;Color: (120, 140, 255)\" style=\"width: 20px; height: 20px;background-color: rgb(120, 140, 255);\"></td><td title=\"Index: [5, 5]&#10;Color: (120, 140, 255)\" style=\"width: 20px; height: 20px;background-color: rgb(120, 140, 255);\"></td><td title=\"Index: [5, 6]&#10;Color: (120, 140, 255)\" style=\"width: 20px; height: 20px;background-color: rgb(120, 140, 255);\"></td><td title=\"Index: [5, 7]&#10;Color: (120, 140, 255)\" style=\"width: 20px; height: 20px;background-color: rgb(120, 140, 255);\"></td></tr><tr><td title=\"Index: [6, 0]&#10;Color: (120, 140, 255)\" style=\"width: 20px; height: 20px;background-color: rgb(120, 140, 255);\"></td><td title=\"Index: [6, 1]&#10;Color: (120, 140, 255)\" style=\"width: 20px; height: 20px;background-color: rgb(120, 140, 255);\"></td><td title=\"Index: [6, 2]&#10;Color: (120, 140, 255)\" style=\"width: 20px; height: 20px;background-color: rgb(120, 140, 255);\"></td><td title=\"Index: [6, 3]&#10;Color: (120, 140, 255)\" style=\"width: 20px; height: 20px;background-color: rgb(120, 140, 255);\"></td><td title=\"Index: [6, 4]&#10;Color: (120, 140, 255)\" style=\"width: 20px; height: 20px;background-color: rgb(120, 140, 255);\"></td><td title=\"Index: [6, 5]&#10;Color: (120, 140, 255)\" style=\"width: 20px; height: 20px;background-color: rgb(120, 140, 255);\"></td><td title=\"Index: [6, 6]&#10;Color: (120, 140, 255)\" style=\"width: 20px; height: 20px;background-color: rgb(120, 140, 255);\"></td><td title=\"Index: [6, 7]&#10;Color: (120, 140, 255)\" style=\"width: 20px; height: 20px;background-color: rgb(120, 140, 255);\"></td></tr><tr><td title=\"Index: [7, 0]&#10;Color: (120, 140, 255)\" style=\"width: 20px; height: 20px;background-color: rgb(120, 140, 255);\"></td><td title=\"Index: [7, 1]&#10;Color: (120, 140, 255)\" style=\"width: 20px; height: 20px;background-color: rgb(120, 140, 255);\"></td><td title=\"Index: [7, 2]&#10;Color: (120, 140, 255)\" style=\"width: 20px; height: 20px;background-color: rgb(120, 140, 255);\"></td><td title=\"Index: [7, 3]&#10;Color: (120, 140, 255)\" style=\"width: 20px; height: 20px;background-color: rgb(120, 140, 255);\"></td><td title=\"Index: [7, 4]&#10;Color: (120, 140, 255)\" style=\"width: 20px; height: 20px;background-color: rgb(120, 140, 255);\"></td><td title=\"Index: [7, 5]&#10;Color: (120, 140, 255)\" style=\"width: 20px; height: 20px;background-color: rgb(120, 140, 255);\"></td><td title=\"Index: [7, 6]&#10;Color: (120, 140, 255)\" style=\"width: 20px; height: 20px;background-color: rgb(120, 140, 255);\"></td><td title=\"Index: [7, 7]&#10;Color: (120, 140, 255)\" style=\"width: 20px; height: 20px;background-color: rgb(120, 140, 255);\"></td></tr></tbody></table>"
       ],
       "metadata": {},
       "output_type": "display_data",
       "text": [
        "<IPython.core.display.HTML at 0x1024e47d0>"
       ]
      },
      {
       "output_type": "stream",
       "stream": "stdout",
       "text": [
        "Let's play Battleship!\n",
        "ship position = Block [2, 5]\n",
        "Color: (120, 140, 255)\n",
        "Turn 1\n"
       ]
      },
      {
       "name": "stdout",
       "output_type": "stream",
       "stream": "stdout",
       "text": [
        "Guess Row:19\n"
       ]
      },
      {
       "name": "stdout",
       "output_type": "stream",
       "stream": "stdout",
       "text": [
        "Guess Col:20\n"
       ]
      },
      {
       "ename": "IndexError",
       "evalue": "list index out of range",
       "output_type": "pyerr",
       "traceback": [
        "\u001b[0;31m---------------------------------------------------------------------------\u001b[0m\n\u001b[0;31mIndexError\u001b[0m                                Traceback (most recent call last)",
        "\u001b[0;32m<ipython-input-50-719a808698af>\u001b[0m in \u001b[0;36m<module>\u001b[0;34m()\u001b[0m\n\u001b[1;32m     22\u001b[0m     \u001b[0mguess_col\u001b[0m \u001b[0;34m=\u001b[0m \u001b[0mint\u001b[0m\u001b[0;34m(\u001b[0m\u001b[0mraw_input\u001b[0m\u001b[0;34m(\u001b[0m\u001b[0;34m\"Guess Col:\"\u001b[0m\u001b[0;34m)\u001b[0m\u001b[0;34m)\u001b[0m\u001b[0;34m\u001b[0m\u001b[0m\n\u001b[1;32m     23\u001b[0m \u001b[0;34m\u001b[0m\u001b[0m\n\u001b[0;32m---> 24\u001b[0;31m     \u001b[0;32mif\u001b[0m \u001b[0mboard\u001b[0m\u001b[0;34m[\u001b[0m\u001b[0mguess_row\u001b[0m\u001b[0;34m,\u001b[0m \u001b[0mguess_col\u001b[0m\u001b[0;34m]\u001b[0m \u001b[0;34m==\u001b[0m \u001b[0mship_position\u001b[0m\u001b[0;34m:\u001b[0m\u001b[0;34m\u001b[0m\u001b[0m\n\u001b[0m\u001b[1;32m     25\u001b[0m         \u001b[0;32mprint\u001b[0m \u001b[0;34m\"Congratulations! You sunk my battleship!\"\u001b[0m\u001b[0;34m\u001b[0m\u001b[0m\n\u001b[1;32m     26\u001b[0m         \u001b[0;32mbreak\u001b[0m\u001b[0;34m\u001b[0m\u001b[0m\n",
        "\u001b[0;32m//anaconda/lib/python2.7/site-packages/ipythonblocks/ipythonblocks.pyc\u001b[0m in \u001b[0;36m__getitem__\u001b[0;34m(self, index)\u001b[0m\n\u001b[1;32m    506\u001b[0m \u001b[0;34m\u001b[0m\u001b[0m\n\u001b[1;32m    507\u001b[0m         \u001b[0;32melif\u001b[0m \u001b[0mind_cat\u001b[0m \u001b[0;34m==\u001b[0m \u001b[0m_SINGLE_ITEM\u001b[0m\u001b[0;34m:\u001b[0m\u001b[0;34m\u001b[0m\u001b[0m\n\u001b[0;32m--> 508\u001b[0;31m             \u001b[0mblock\u001b[0m \u001b[0;34m=\u001b[0m \u001b[0mself\u001b[0m\u001b[0;34m.\u001b[0m\u001b[0m_grid\u001b[0m\u001b[0;34m[\u001b[0m\u001b[0mindex\u001b[0m\u001b[0;34m[\u001b[0m\u001b[0;36m0\u001b[0m\u001b[0;34m]\u001b[0m\u001b[0;34m]\u001b[0m\u001b[0;34m[\u001b[0m\u001b[0mindex\u001b[0m\u001b[0;34m[\u001b[0m\u001b[0;36m1\u001b[0m\u001b[0;34m]\u001b[0m\u001b[0;34m]\u001b[0m\u001b[0;34m\u001b[0m\u001b[0m\n\u001b[0m\u001b[1;32m    509\u001b[0m             \u001b[0mblock\u001b[0m\u001b[0;34m.\u001b[0m\u001b[0m_row\u001b[0m\u001b[0;34m,\u001b[0m \u001b[0mblock\u001b[0m\u001b[0;34m.\u001b[0m\u001b[0m_col\u001b[0m \u001b[0;34m=\u001b[0m \u001b[0mindex\u001b[0m\u001b[0;34m\u001b[0m\u001b[0m\n\u001b[1;32m    510\u001b[0m             \u001b[0;32mreturn\u001b[0m \u001b[0mblock\u001b[0m\u001b[0;34m\u001b[0m\u001b[0m\n",
        "\u001b[0;31mIndexError\u001b[0m: list index out of range"
       ]
      }
     ],
     "prompt_number": 50
    }
   ],
   "metadata": {}
  }
 ]
}