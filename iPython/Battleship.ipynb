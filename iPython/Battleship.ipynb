{
 "metadata": {
  "name": "",
  "signature": "sha256:fba1ac1e6801d4281433cdc4e810e397664aa8d5677a9319d4aaea401daadc96"
 },
 "nbformat": 3,
 "nbformat_minor": 0,
 "worksheets": [
  {
   "cells": [
    {
     "cell_type": "heading",
     "level": 1,
     "metadata": {},
     "source": [
      "BATTLE SHIP!!!"
     ]
    },
    {
     "cell_type": "code",
     "collapsed": false,
     "input": [
      "from ipythonblocks import BlockGrid"
     ],
     "language": "python",
     "metadata": {},
     "outputs": [],
     "prompt_number": 1
    },
    {
     "cell_type": "code",
     "collapsed": false,
     "input": [
      "from random import randint\n",
      "from ipythonblocks import colors\n",
      "\n",
      "board = BlockGrid(8, 8, fill=(120,140,255))\n",
      "board.show()\n",
      "\n",
      "print \"Let's play Battleship!\"\n",
      "\n",
      "\n",
      "\n",
      "def ship_spot(board):\n",
      "    return board[randint(0,8), randint(0,8)]\n",
      "\n",
      "ship_position = ship_spot(board)\n",
      "print \"ship position =\", ship_position\n",
      "\n",
      "\n",
      "\n",
      "for turn in range(4):\n",
      "    print \"Turn\", turn + 1\n",
      "    guess_row = int(raw_input(\"Guess Row:\"))\n",
      "    guess_col = int(raw_input(\"Guess Col:\"))\n",
      "\n",
      "    if board[guess_row, guess_col] == ship_spot(board):\n",
      "        print \"Congratulations! You sunk my battleship!\"\n",
      "        break\n",
      "\n",
      "    else:\n",
      "        if (guess_row < 0 or guess_row > 8) or (guess_col < 0 or guess_col > 8):\n",
      "            print \"Oops, that's not even in the ocean.\" \n",
      "'''\n",
      "        elif board[guess_row, guess_col] = (board[guess_row, guess_col] = colors['Black']):\n",
      "            print \"You guessed that one already.\"\n",
      "\n",
      "        else:\n",
      "            print \"You missed my battleship!\"\n",
      "            board[guess_row, guess_col] = colors('Black')\n",
      "            \n",
      "            if turn == 3:\n",
      "                print \"Game Over\"\n",
      "    # Print (turn + 1) here!\n",
      "'''"
     ],
     "language": "python",
     "metadata": {},
     "outputs": [
      {
       "html": [
        "<style type=\"text/css\">table.blockgrid {border: none;} .blockgrid tr {border: none;} .blockgrid td {padding: 0px;} #blocksb5b7f518-2430-4f8f-90db-c60c19040528 td {border: 1px solid white;}</style><table id=\"blocksb5b7f518-2430-4f8f-90db-c60c19040528\" class=\"blockgrid\"><tbody><tr><td title=\"Index: [0, 0]&#10;Color: (120, 140, 255)\" style=\"width: 20px; height: 20px;background-color: rgb(120, 140, 255);\"></td><td title=\"Index: [0, 1]&#10;Color: (120, 140, 255)\" style=\"width: 20px; height: 20px;background-color: rgb(120, 140, 255);\"></td><td title=\"Index: [0, 2]&#10;Color: (120, 140, 255)\" style=\"width: 20px; height: 20px;background-color: rgb(120, 140, 255);\"></td><td title=\"Index: [0, 3]&#10;Color: (120, 140, 255)\" style=\"width: 20px; height: 20px;background-color: rgb(120, 140, 255);\"></td><td title=\"Index: [0, 4]&#10;Color: (120, 140, 255)\" style=\"width: 20px; height: 20px;background-color: rgb(120, 140, 255);\"></td><td title=\"Index: [0, 5]&#10;Color: (120, 140, 255)\" style=\"width: 20px; height: 20px;background-color: rgb(120, 140, 255);\"></td><td title=\"Index: [0, 6]&#10;Color: (120, 140, 255)\" style=\"width: 20px; height: 20px;background-color: rgb(120, 140, 255);\"></td><td title=\"Index: [0, 7]&#10;Color: (120, 140, 255)\" style=\"width: 20px; height: 20px;background-color: rgb(120, 140, 255);\"></td></tr><tr><td title=\"Index: [1, 0]&#10;Color: (120, 140, 255)\" style=\"width: 20px; height: 20px;background-color: rgb(120, 140, 255);\"></td><td title=\"Index: [1, 1]&#10;Color: (120, 140, 255)\" style=\"width: 20px; height: 20px;background-color: rgb(120, 140, 255);\"></td><td title=\"Index: [1, 2]&#10;Color: (120, 140, 255)\" style=\"width: 20px; height: 20px;background-color: rgb(120, 140, 255);\"></td><td title=\"Index: [1, 3]&#10;Color: (120, 140, 255)\" style=\"width: 20px; height: 20px;background-color: rgb(120, 140, 255);\"></td><td title=\"Index: [1, 4]&#10;Color: (120, 140, 255)\" style=\"width: 20px; height: 20px;background-color: rgb(120, 140, 255);\"></td><td title=\"Index: [1, 5]&#10;Color: (120, 140, 255)\" style=\"width: 20px; height: 20px;background-color: rgb(120, 140, 255);\"></td><td title=\"Index: [1, 6]&#10;Color: (120, 140, 255)\" style=\"width: 20px; height: 20px;background-color: rgb(120, 140, 255);\"></td><td title=\"Index: [1, 7]&#10;Color: (120, 140, 255)\" style=\"width: 20px; height: 20px;background-color: rgb(120, 140, 255);\"></td></tr><tr><td title=\"Index: [2, 0]&#10;Color: (120, 140, 255)\" style=\"width: 20px; height: 20px;background-color: rgb(120, 140, 255);\"></td><td title=\"Index: [2, 1]&#10;Color: (120, 140, 255)\" style=\"width: 20px; height: 20px;background-color: rgb(120, 140, 255);\"></td><td title=\"Index: [2, 2]&#10;Color: (120, 140, 255)\" style=\"width: 20px; height: 20px;background-color: rgb(120, 140, 255);\"></td><td title=\"Index: [2, 3]&#10;Color: (120, 140, 255)\" style=\"width: 20px; height: 20px;background-color: rgb(120, 140, 255);\"></td><td title=\"Index: [2, 4]&#10;Color: (120, 140, 255)\" style=\"width: 20px; height: 20px;background-color: rgb(120, 140, 255);\"></td><td title=\"Index: [2, 5]&#10;Color: (120, 140, 255)\" style=\"width: 20px; height: 20px;background-color: rgb(120, 140, 255);\"></td><td title=\"Index: [2, 6]&#10;Color: (120, 140, 255)\" style=\"width: 20px; height: 20px;background-color: rgb(120, 140, 255);\"></td><td title=\"Index: [2, 7]&#10;Color: (120, 140, 255)\" style=\"width: 20px; height: 20px;background-color: rgb(120, 140, 255);\"></td></tr><tr><td title=\"Index: [3, 0]&#10;Color: (120, 140, 255)\" style=\"width: 20px; height: 20px;background-color: rgb(120, 140, 255);\"></td><td title=\"Index: [3, 1]&#10;Color: (120, 140, 255)\" style=\"width: 20px; height: 20px;background-color: rgb(120, 140, 255);\"></td><td title=\"Index: [3, 2]&#10;Color: (120, 140, 255)\" style=\"width: 20px; height: 20px;background-color: rgb(120, 140, 255);\"></td><td title=\"Index: [3, 3]&#10;Color: (120, 140, 255)\" style=\"width: 20px; height: 20px;background-color: rgb(120, 140, 255);\"></td><td title=\"Index: [3, 4]&#10;Color: (120, 140, 255)\" style=\"width: 20px; height: 20px;background-color: rgb(120, 140, 255);\"></td><td title=\"Index: [3, 5]&#10;Color: (120, 140, 255)\" style=\"width: 20px; height: 20px;background-color: rgb(120, 140, 255);\"></td><td title=\"Index: [3, 6]&#10;Color: (120, 140, 255)\" style=\"width: 20px; height: 20px;background-color: rgb(120, 140, 255);\"></td><td title=\"Index: [3, 7]&#10;Color: (120, 140, 255)\" style=\"width: 20px; height: 20px;background-color: rgb(120, 140, 255);\"></td></tr><tr><td title=\"Index: [4, 0]&#10;Color: (120, 140, 255)\" style=\"width: 20px; height: 20px;background-color: rgb(120, 140, 255);\"></td><td title=\"Index: [4, 1]&#10;Color: (120, 140, 255)\" style=\"width: 20px; height: 20px;background-color: rgb(120, 140, 255);\"></td><td title=\"Index: [4, 2]&#10;Color: (120, 140, 255)\" style=\"width: 20px; height: 20px;background-color: rgb(120, 140, 255);\"></td><td title=\"Index: [4, 3]&#10;Color: (120, 140, 255)\" style=\"width: 20px; height: 20px;background-color: rgb(120, 140, 255);\"></td><td title=\"Index: [4, 4]&#10;Color: (120, 140, 255)\" style=\"width: 20px; height: 20px;background-color: rgb(120, 140, 255);\"></td><td title=\"Index: [4, 5]&#10;Color: (120, 140, 255)\" style=\"width: 20px; height: 20px;background-color: rgb(120, 140, 255);\"></td><td title=\"Index: [4, 6]&#10;Color: (120, 140, 255)\" style=\"width: 20px; height: 20px;background-color: rgb(120, 140, 255);\"></td><td title=\"Index: [4, 7]&#10;Color: (120, 140, 255)\" style=\"width: 20px; height: 20px;background-color: rgb(120, 140, 255);\"></td></tr><tr><td title=\"Index: [5, 0]&#10;Color: (120, 140, 255)\" style=\"width: 20px; height: 20px;background-color: rgb(120, 140, 255);\"></td><td title=\"Index: [5, 1]&#10;Color: (120, 140, 255)\" style=\"width: 20px; height: 20px;background-color: rgb(120, 140, 255);\"></td><td title=\"Index: [5, 2]&#10;Color: (120, 140, 255)\" style=\"width: 20px; height: 20px;background-color: rgb(120, 140, 255);\"></td><td title=\"Index: [5, 3]&#10;Color: (120, 140, 255)\" style=\"width: 20px; height: 20px;background-color: rgb(120, 140, 255);\"></td><td title=\"Index: [5, 4]&#10;Color: (120, 140, 255)\" style=\"width: 20px; height: 20px;background-color: rgb(120, 140, 255);\"></td><td title=\"Index: [5, 5]&#10;Color: (120, 140, 255)\" style=\"width: 20px; height: 20px;background-color: rgb(120, 140, 255);\"></td><td title=\"Index: [5, 6]&#10;Color: (120, 140, 255)\" style=\"width: 20px; height: 20px;background-color: rgb(120, 140, 255);\"></td><td title=\"Index: [5, 7]&#10;Color: (120, 140, 255)\" style=\"width: 20px; height: 20px;background-color: rgb(120, 140, 255);\"></td></tr><tr><td title=\"Index: [6, 0]&#10;Color: (120, 140, 255)\" style=\"width: 20px; height: 20px;background-color: rgb(120, 140, 255);\"></td><td title=\"Index: [6, 1]&#10;Color: (120, 140, 255)\" style=\"width: 20px; height: 20px;background-color: rgb(120, 140, 255);\"></td><td title=\"Index: [6, 2]&#10;Color: (120, 140, 255)\" style=\"width: 20px; height: 20px;background-color: rgb(120, 140, 255);\"></td><td title=\"Index: [6, 3]&#10;Color: (120, 140, 255)\" style=\"width: 20px; height: 20px;background-color: rgb(120, 140, 255);\"></td><td title=\"Index: [6, 4]&#10;Color: (120, 140, 255)\" style=\"width: 20px; height: 20px;background-color: rgb(120, 140, 255);\"></td><td title=\"Index: [6, 5]&#10;Color: (120, 140, 255)\" style=\"width: 20px; height: 20px;background-color: rgb(120, 140, 255);\"></td><td title=\"Index: [6, 6]&#10;Color: (120, 140, 255)\" style=\"width: 20px; height: 20px;background-color: rgb(120, 140, 255);\"></td><td title=\"Index: [6, 7]&#10;Color: (120, 140, 255)\" style=\"width: 20px; height: 20px;background-color: rgb(120, 140, 255);\"></td></tr><tr><td title=\"Index: [7, 0]&#10;Color: (120, 140, 255)\" style=\"width: 20px; height: 20px;background-color: rgb(120, 140, 255);\"></td><td title=\"Index: [7, 1]&#10;Color: (120, 140, 255)\" style=\"width: 20px; height: 20px;background-color: rgb(120, 140, 255);\"></td><td title=\"Index: [7, 2]&#10;Color: (120, 140, 255)\" style=\"width: 20px; height: 20px;background-color: rgb(120, 140, 255);\"></td><td title=\"Index: [7, 3]&#10;Color: (120, 140, 255)\" style=\"width: 20px; height: 20px;background-color: rgb(120, 140, 255);\"></td><td title=\"Index: [7, 4]&#10;Color: (120, 140, 255)\" style=\"width: 20px; height: 20px;background-color: rgb(120, 140, 255);\"></td><td title=\"Index: [7, 5]&#10;Color: (120, 140, 255)\" style=\"width: 20px; height: 20px;background-color: rgb(120, 140, 255);\"></td><td title=\"Index: [7, 6]&#10;Color: (120, 140, 255)\" style=\"width: 20px; height: 20px;background-color: rgb(120, 140, 255);\"></td><td title=\"Index: [7, 7]&#10;Color: (120, 140, 255)\" style=\"width: 20px; height: 20px;background-color: rgb(120, 140, 255);\"></td></tr></tbody></table>"
       ],
       "metadata": {},
       "output_type": "display_data",
       "text": [
        "<IPython.core.display.HTML at 0x1024e47d0>"
       ]
      },
      {
       "output_type": "stream",
       "stream": "stdout",
       "text": [
        "Let's play Battleship!\n",
        "ship position = Block [2, 5]\n",
        "Color: (120, 140, 255)\n",
        "Turn 1\n"
       ]
      },
      {
       "name": "stdout",
       "output_type": "stream",
       "stream": "stdout",
       "text": [
        "Guess Row:19\n"
       ]
      },
      {
       "name": "stdout",
       "output_type": "stream",
       "stream": "stdout",
       "text": [
        "Guess Col:20\n"
       ]
      },
      {
       "ename": "IndexError",
       "evalue": "list index out of range",
       "output_type": "pyerr",
       "traceback": [
        "\u001b[0;31m---------------------------------------------------------------------------\u001b[0m\n\u001b[0;31mIndexError\u001b[0m                                Traceback (most recent call last)",
        "\u001b[0;32m<ipython-input-50-719a808698af>\u001b[0m in \u001b[0;36m<module>\u001b[0;34m()\u001b[0m\n\u001b[1;32m     22\u001b[0m     \u001b[0mguess_col\u001b[0m \u001b[0;34m=\u001b[0m \u001b[0mint\u001b[0m\u001b[0;34m(\u001b[0m\u001b[0mraw_input\u001b[0m\u001b[0;34m(\u001b[0m\u001b[0;34m\"Guess Col:\"\u001b[0m\u001b[0;34m)\u001b[0m\u001b[0;34m)\u001b[0m\u001b[0;34m\u001b[0m\u001b[0m\n\u001b[1;32m     23\u001b[0m \u001b[0;34m\u001b[0m\u001b[0m\n\u001b[0;32m---> 24\u001b[0;31m     \u001b[0;32mif\u001b[0m \u001b[0mboard\u001b[0m\u001b[0;34m[\u001b[0m\u001b[0mguess_row\u001b[0m\u001b[0;34m,\u001b[0m \u001b[0mguess_col\u001b[0m\u001b[0;34m]\u001b[0m \u001b[0;34m==\u001b[0m \u001b[0mship_position\u001b[0m\u001b[0;34m:\u001b[0m\u001b[0;34m\u001b[0m\u001b[0m\n\u001b[0m\u001b[1;32m     25\u001b[0m         \u001b[0;32mprint\u001b[0m \u001b[0;34m\"Congratulations! You sunk my battleship!\"\u001b[0m\u001b[0;34m\u001b[0m\u001b[0m\n\u001b[1;32m     26\u001b[0m         \u001b[0;32mbreak\u001b[0m\u001b[0;34m\u001b[0m\u001b[0m\n",
        "\u001b[0;32m//anaconda/lib/python2.7/site-packages/ipythonblocks/ipythonblocks.pyc\u001b[0m in \u001b[0;36m__getitem__\u001b[0;34m(self, index)\u001b[0m\n\u001b[1;32m    506\u001b[0m \u001b[0;34m\u001b[0m\u001b[0m\n\u001b[1;32m    507\u001b[0m         \u001b[0;32melif\u001b[0m \u001b[0mind_cat\u001b[0m \u001b[0;34m==\u001b[0m \u001b[0m_SINGLE_ITEM\u001b[0m\u001b[0;34m:\u001b[0m\u001b[0;34m\u001b[0m\u001b[0m\n\u001b[0;32m--> 508\u001b[0;31m             \u001b[0mblock\u001b[0m \u001b[0;34m=\u001b[0m \u001b[0mself\u001b[0m\u001b[0;34m.\u001b[0m\u001b[0m_grid\u001b[0m\u001b[0;34m[\u001b[0m\u001b[0mindex\u001b[0m\u001b[0;34m[\u001b[0m\u001b[0;36m0\u001b[0m\u001b[0;34m]\u001b[0m\u001b[0;34m]\u001b[0m\u001b[0;34m[\u001b[0m\u001b[0mindex\u001b[0m\u001b[0;34m[\u001b[0m\u001b[0;36m1\u001b[0m\u001b[0;34m]\u001b[0m\u001b[0;34m]\u001b[0m\u001b[0;34m\u001b[0m\u001b[0m\n\u001b[0m\u001b[1;32m    509\u001b[0m             \u001b[0mblock\u001b[0m\u001b[0;34m.\u001b[0m\u001b[0m_row\u001b[0m\u001b[0;34m,\u001b[0m \u001b[0mblock\u001b[0m\u001b[0;34m.\u001b[0m\u001b[0m_col\u001b[0m \u001b[0;34m=\u001b[0m \u001b[0mindex\u001b[0m\u001b[0;34m\u001b[0m\u001b[0m\n\u001b[1;32m    510\u001b[0m             \u001b[0;32mreturn\u001b[0m \u001b[0mblock\u001b[0m\u001b[0;34m\u001b[0m\u001b[0m\n",
        "\u001b[0;31mIndexError\u001b[0m: list index out of range"
       ]
      }
     ],
     "prompt_number": 50
    },
    {
     "cell_type": "markdown",
     "metadata": {},
     "source": [
      "Printing Board"
     ]
    },
    {
     "cell_type": "code",
     "collapsed": false,
     "input": [
      "board = BlockGrid(8, 8, fill=(120,140,255))\n",
      "board"
     ],
     "language": "python",
     "metadata": {},
     "outputs": [
      {
       "html": [
        "<style type=\"text/css\">table.blockgrid {border: none;} .blockgrid tr {border: none;} .blockgrid td {padding: 0px;} #blocksb9ff7901-1c0d-47b5-9ba0-8327373db2bd td {border: 1px solid white;}</style><table id=\"blocksb9ff7901-1c0d-47b5-9ba0-8327373db2bd\" class=\"blockgrid\"><tbody><tr><td title=\"Index: [0, 0]&#10;Color: (120, 140, 255)\" style=\"width: 20px; height: 20px;background-color: rgb(120, 140, 255);\"></td><td title=\"Index: [0, 1]&#10;Color: (120, 140, 255)\" style=\"width: 20px; height: 20px;background-color: rgb(120, 140, 255);\"></td><td title=\"Index: [0, 2]&#10;Color: (120, 140, 255)\" style=\"width: 20px; height: 20px;background-color: rgb(120, 140, 255);\"></td><td title=\"Index: [0, 3]&#10;Color: (120, 140, 255)\" style=\"width: 20px; height: 20px;background-color: rgb(120, 140, 255);\"></td><td title=\"Index: [0, 4]&#10;Color: (120, 140, 255)\" style=\"width: 20px; height: 20px;background-color: rgb(120, 140, 255);\"></td><td title=\"Index: [0, 5]&#10;Color: (120, 140, 255)\" style=\"width: 20px; height: 20px;background-color: rgb(120, 140, 255);\"></td><td title=\"Index: [0, 6]&#10;Color: (120, 140, 255)\" style=\"width: 20px; height: 20px;background-color: rgb(120, 140, 255);\"></td><td title=\"Index: [0, 7]&#10;Color: (120, 140, 255)\" style=\"width: 20px; height: 20px;background-color: rgb(120, 140, 255);\"></td></tr><tr><td title=\"Index: [1, 0]&#10;Color: (120, 140, 255)\" style=\"width: 20px; height: 20px;background-color: rgb(120, 140, 255);\"></td><td title=\"Index: [1, 1]&#10;Color: (120, 140, 255)\" style=\"width: 20px; height: 20px;background-color: rgb(120, 140, 255);\"></td><td title=\"Index: [1, 2]&#10;Color: (120, 140, 255)\" style=\"width: 20px; height: 20px;background-color: rgb(120, 140, 255);\"></td><td title=\"Index: [1, 3]&#10;Color: (120, 140, 255)\" style=\"width: 20px; height: 20px;background-color: rgb(120, 140, 255);\"></td><td title=\"Index: [1, 4]&#10;Color: (120, 140, 255)\" style=\"width: 20px; height: 20px;background-color: rgb(120, 140, 255);\"></td><td title=\"Index: [1, 5]&#10;Color: (120, 140, 255)\" style=\"width: 20px; height: 20px;background-color: rgb(120, 140, 255);\"></td><td title=\"Index: [1, 6]&#10;Color: (120, 140, 255)\" style=\"width: 20px; height: 20px;background-color: rgb(120, 140, 255);\"></td><td title=\"Index: [1, 7]&#10;Color: (120, 140, 255)\" style=\"width: 20px; height: 20px;background-color: rgb(120, 140, 255);\"></td></tr><tr><td title=\"Index: [2, 0]&#10;Color: (120, 140, 255)\" style=\"width: 20px; height: 20px;background-color: rgb(120, 140, 255);\"></td><td title=\"Index: [2, 1]&#10;Color: (120, 140, 255)\" style=\"width: 20px; height: 20px;background-color: rgb(120, 140, 255);\"></td><td title=\"Index: [2, 2]&#10;Color: (120, 140, 255)\" style=\"width: 20px; height: 20px;background-color: rgb(120, 140, 255);\"></td><td title=\"Index: [2, 3]&#10;Color: (120, 140, 255)\" style=\"width: 20px; height: 20px;background-color: rgb(120, 140, 255);\"></td><td title=\"Index: [2, 4]&#10;Color: (120, 140, 255)\" style=\"width: 20px; height: 20px;background-color: rgb(120, 140, 255);\"></td><td title=\"Index: [2, 5]&#10;Color: (120, 140, 255)\" style=\"width: 20px; height: 20px;background-color: rgb(120, 140, 255);\"></td><td title=\"Index: [2, 6]&#10;Color: (120, 140, 255)\" style=\"width: 20px; height: 20px;background-color: rgb(120, 140, 255);\"></td><td title=\"Index: [2, 7]&#10;Color: (120, 140, 255)\" style=\"width: 20px; height: 20px;background-color: rgb(120, 140, 255);\"></td></tr><tr><td title=\"Index: [3, 0]&#10;Color: (120, 140, 255)\" style=\"width: 20px; height: 20px;background-color: rgb(120, 140, 255);\"></td><td title=\"Index: [3, 1]&#10;Color: (120, 140, 255)\" style=\"width: 20px; height: 20px;background-color: rgb(120, 140, 255);\"></td><td title=\"Index: [3, 2]&#10;Color: (120, 140, 255)\" style=\"width: 20px; height: 20px;background-color: rgb(120, 140, 255);\"></td><td title=\"Index: [3, 3]&#10;Color: (120, 140, 255)\" style=\"width: 20px; height: 20px;background-color: rgb(120, 140, 255);\"></td><td title=\"Index: [3, 4]&#10;Color: (120, 140, 255)\" style=\"width: 20px; height: 20px;background-color: rgb(120, 140, 255);\"></td><td title=\"Index: [3, 5]&#10;Color: (120, 140, 255)\" style=\"width: 20px; height: 20px;background-color: rgb(120, 140, 255);\"></td><td title=\"Index: [3, 6]&#10;Color: (120, 140, 255)\" style=\"width: 20px; height: 20px;background-color: rgb(120, 140, 255);\"></td><td title=\"Index: [3, 7]&#10;Color: (120, 140, 255)\" style=\"width: 20px; height: 20px;background-color: rgb(120, 140, 255);\"></td></tr><tr><td title=\"Index: [4, 0]&#10;Color: (120, 140, 255)\" style=\"width: 20px; height: 20px;background-color: rgb(120, 140, 255);\"></td><td title=\"Index: [4, 1]&#10;Color: (120, 140, 255)\" style=\"width: 20px; height: 20px;background-color: rgb(120, 140, 255);\"></td><td title=\"Index: [4, 2]&#10;Color: (120, 140, 255)\" style=\"width: 20px; height: 20px;background-color: rgb(120, 140, 255);\"></td><td title=\"Index: [4, 3]&#10;Color: (120, 140, 255)\" style=\"width: 20px; height: 20px;background-color: rgb(120, 140, 255);\"></td><td title=\"Index: [4, 4]&#10;Color: (120, 140, 255)\" style=\"width: 20px; height: 20px;background-color: rgb(120, 140, 255);\"></td><td title=\"Index: [4, 5]&#10;Color: (120, 140, 255)\" style=\"width: 20px; height: 20px;background-color: rgb(120, 140, 255);\"></td><td title=\"Index: [4, 6]&#10;Color: (120, 140, 255)\" style=\"width: 20px; height: 20px;background-color: rgb(120, 140, 255);\"></td><td title=\"Index: [4, 7]&#10;Color: (120, 140, 255)\" style=\"width: 20px; height: 20px;background-color: rgb(120, 140, 255);\"></td></tr><tr><td title=\"Index: [5, 0]&#10;Color: (120, 140, 255)\" style=\"width: 20px; height: 20px;background-color: rgb(120, 140, 255);\"></td><td title=\"Index: [5, 1]&#10;Color: (120, 140, 255)\" style=\"width: 20px; height: 20px;background-color: rgb(120, 140, 255);\"></td><td title=\"Index: [5, 2]&#10;Color: (120, 140, 255)\" style=\"width: 20px; height: 20px;background-color: rgb(120, 140, 255);\"></td><td title=\"Index: [5, 3]&#10;Color: (120, 140, 255)\" style=\"width: 20px; height: 20px;background-color: rgb(120, 140, 255);\"></td><td title=\"Index: [5, 4]&#10;Color: (120, 140, 255)\" style=\"width: 20px; height: 20px;background-color: rgb(120, 140, 255);\"></td><td title=\"Index: [5, 5]&#10;Color: (120, 140, 255)\" style=\"width: 20px; height: 20px;background-color: rgb(120, 140, 255);\"></td><td title=\"Index: [5, 6]&#10;Color: (120, 140, 255)\" style=\"width: 20px; height: 20px;background-color: rgb(120, 140, 255);\"></td><td title=\"Index: [5, 7]&#10;Color: (120, 140, 255)\" style=\"width: 20px; height: 20px;background-color: rgb(120, 140, 255);\"></td></tr><tr><td title=\"Index: [6, 0]&#10;Color: (120, 140, 255)\" style=\"width: 20px; height: 20px;background-color: rgb(120, 140, 255);\"></td><td title=\"Index: [6, 1]&#10;Color: (120, 140, 255)\" style=\"width: 20px; height: 20px;background-color: rgb(120, 140, 255);\"></td><td title=\"Index: [6, 2]&#10;Color: (120, 140, 255)\" style=\"width: 20px; height: 20px;background-color: rgb(120, 140, 255);\"></td><td title=\"Index: [6, 3]&#10;Color: (120, 140, 255)\" style=\"width: 20px; height: 20px;background-color: rgb(120, 140, 255);\"></td><td title=\"Index: [6, 4]&#10;Color: (120, 140, 255)\" style=\"width: 20px; height: 20px;background-color: rgb(120, 140, 255);\"></td><td title=\"Index: [6, 5]&#10;Color: (120, 140, 255)\" style=\"width: 20px; height: 20px;background-color: rgb(120, 140, 255);\"></td><td title=\"Index: [6, 6]&#10;Color: (120, 140, 255)\" style=\"width: 20px; height: 20px;background-color: rgb(120, 140, 255);\"></td><td title=\"Index: [6, 7]&#10;Color: (120, 140, 255)\" style=\"width: 20px; height: 20px;background-color: rgb(120, 140, 255);\"></td></tr><tr><td title=\"Index: [7, 0]&#10;Color: (120, 140, 255)\" style=\"width: 20px; height: 20px;background-color: rgb(120, 140, 255);\"></td><td title=\"Index: [7, 1]&#10;Color: (120, 140, 255)\" style=\"width: 20px; height: 20px;background-color: rgb(120, 140, 255);\"></td><td title=\"Index: [7, 2]&#10;Color: (120, 140, 255)\" style=\"width: 20px; height: 20px;background-color: rgb(120, 140, 255);\"></td><td title=\"Index: [7, 3]&#10;Color: (120, 140, 255)\" style=\"width: 20px; height: 20px;background-color: rgb(120, 140, 255);\"></td><td title=\"Index: [7, 4]&#10;Color: (120, 140, 255)\" style=\"width: 20px; height: 20px;background-color: rgb(120, 140, 255);\"></td><td title=\"Index: [7, 5]&#10;Color: (120, 140, 255)\" style=\"width: 20px; height: 20px;background-color: rgb(120, 140, 255);\"></td><td title=\"Index: [7, 6]&#10;Color: (120, 140, 255)\" style=\"width: 20px; height: 20px;background-color: rgb(120, 140, 255);\"></td><td title=\"Index: [7, 7]&#10;Color: (120, 140, 255)\" style=\"width: 20px; height: 20px;background-color: rgb(120, 140, 255);\"></td></tr></tbody></table>"
       ],
       "metadata": {},
       "output_type": "pyout",
       "prompt_number": 4,
       "text": [
        "<ipythonblocks.ipythonblocks.BlockGrid at 0x1024acd10>"
       ]
      }
     ],
     "prompt_number": 4
    },
    {
     "cell_type": "code",
     "collapsed": false,
     "input": [],
     "language": "python",
     "metadata": {},
     "outputs": [
      {
       "output_type": "stream",
       "stream": "stdout",
       "text": [
        "cheese\n"
       ]
      }
     ],
     "prompt_number": 3
    },
    {
     "cell_type": "code",
     "collapsed": false,
     "input": [],
     "language": "python",
     "metadata": {},
     "outputs": [],
     "prompt_number": 6
    },
    {
     "cell_type": "code",
     "collapsed": false,
     "input": [],
     "language": "python",
     "metadata": {},
     "outputs": []
    }
   ],
   "metadata": {}
  }
 ]
}