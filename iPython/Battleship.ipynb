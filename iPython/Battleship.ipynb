{
 "metadata": {
  "name": "",
  "signature": "sha256:eda2159f375d1753ce898b6975abfbd348b2084342e1aeee6fec16d1a5ba9575"
 },
 "nbformat": 3,
 "nbformat_minor": 0,
 "worksheets": [
  {
   "cells": [
    {
     "cell_type": "heading",
     "level": 1,
     "metadata": {},
     "source": [
      "BATTLE SHIP!!!"
     ]
    },
    {
     "cell_type": "code",
     "collapsed": false,
     "input": [
      "from random import randint\n",
      "from ipythonblocks import BlockGrid\n",
      "from IPython.display import clear_output"
     ],
     "language": "python",
     "metadata": {},
     "outputs": [],
     "prompt_number": 3
    },
    {
     "cell_type": "markdown",
     "metadata": {},
     "source": [
      "Battleship!\n",
      "Open Codecademy and grab your Battleship! code from Lesson 13-18.\n",
      "Copy it to a new notebook called Battleship and use ipythonblocks to make it more visual.\n",
      "Use a light blue for the background, red for a hit and a different color of your choice for misses.\n",
      "Once it is working:\n",
      "Expand it to a larger field\n",
      "Make the battleship longer\n",
      "Provide more tries for the player to find it and completely sink it.\n",
      "If the player doesn't sink the ship before the end of the game, reveal the playing board to them so they can see where it was.\n",
      "Document your code with a markdown cell that explains how to run it and what the options are.\n",
      "Demonstrate the game in another cell to show that it works as expected. You do not have to provide a demo for each possible outcome. Just one demo will do.\n",
      "Get creative. You could allow ships to lie diagonally, make the player say how many tries they would like to use to sink it, add more ships, etc.\n",
      "I will grade your output for this exercise. Your code must implement the elements listed in items 1-5 above. You will also receive a creativity bonus for any additional features that the code implements (such as those suggested in item 6 or others you come up with). Be sure to document the extra features too!"
     ]
    },
    {
     "cell_type": "heading",
     "level": 2,
     "metadata": {},
     "source": [
      "Solution"
     ]
    },
    {
     "cell_type": "code",
     "collapsed": false,
     "input": [
      "def place_ship(boardsize):\n",
      "    #Vertical or Horizontal\n",
      "    shipdir = randint(0,1)\n",
      "    #Ship Length\n",
      "    shiplength = randint(1,boardsize-2)\n",
      "    shipstart = randint(0,boardsize-1)\n",
      "    shipend = shipstart - 1 + shiplength\n",
      "    shipdiff = boardsize - 1 - shipend\n",
      "    if shipdiff < 0:\n",
      "        shipstart += shipdiff\n",
      "        shipend += shipdiff\n",
      "    #print shipdir, shiplength, shipstart, shipend, shipdiff\n",
      "    shipside = randint(0,boardsize-1)\n",
      "    ship = []\n",
      "    if randint(0,1) == 1:\n",
      "        for i in range(shiplength):\n",
      "            ship.append((shipstart+i,shipside))\n",
      "    else:\n",
      "        for i in range(shiplength):\n",
      "            ship.append((shipside,shipstart+i))\n",
      "    return ship\n",
      "\n",
      "BLACK = (0,0,0)\n",
      "RED = (255,0,0)\n",
      "ORANGE = (255,150,0)\n",
      "OCEAN = (13, 123, 234)"
     ],
     "language": "python",
     "metadata": {},
     "outputs": [],
     "prompt_number": 4
    },
    {
     "cell_type": "markdown",
     "metadata": {},
     "source": []
    },
    {
     "cell_type": "code",
     "collapsed": false,
     "input": [
      "print \"Let's play Battleship!\"\n",
      "\n",
      "boardsize = input(\"How big should the ocean be? (Enter an integer from 4 to 20)\")\n",
      "\n",
      "x=2\n",
      "while x==2:\n",
      "    try: \n",
      "        boardsize = input(\"How big should the ocean be? (Enter an integer from 4 to 20)\")\n",
      "    except NameError as err:\n",
      "        print err\n",
      "        print \"numbers etc.\"\n",
      "    except\n",
      "    else:\n",
      "        x = 1\n",
      "        \n",
      "       \n",
      "\n",
      "nturns = input(\"How many shots would you like?\")\n",
      "\n",
      "board = BlockGrid(boardsize, boardsize, fill=OCEAN)\n",
      "board.show()\n",
      "\n",
      "ship = place_ship(boardsize)\n",
      "nhits = 0\n",
      "\n",
      "for turn in range(nturns+1):\n",
      "    #print ship\n",
      "    guess_row = input(\"Guess Row:\")\n",
      "    \n",
      "    guess_col = input(\"Guess Col:\")\n",
      "    \n",
      "    if (guess_row < 0 or guess_row >= board.height) or (guess_col < 0 or guess_col >= board.width):\n",
      "        clear_output()\n",
      "        board.show()\n",
      "        print \"Oops, that's not even in the ocean.\"\n",
      "    else:\n",
      "        guessblock = board[guess_row,guess_col]\n",
      "        if (guess_row,guess_col) in ship:\n",
      "            clear_output()\n",
      "            board[guess_row,guess_col] = RED\n",
      "            board.show()\n",
      "            print \"It's a hit!\"\n",
      "            nhits += 1          \n",
      "        elif (guessblock.red,guessblock.green,guessblock.blue) == BLACK or (guessblock.red,guessblock.green,guessblock.blue) == RED:\n",
      "            clear_output()\n",
      "            board.show()\n",
      "            print \"You guessed that one already.\"\n",
      "        else:\n",
      "            clear_output()\n",
      "            board[guess_row,guess_col] = BLACK\n",
      "            board.show()\n",
      "            print \"You missed my battleship!\"        \n",
      "\n",
      "    if nhits == len(ship):\n",
      "        clear_output()\n",
      "        board[guess_row,guess_col] = RED\n",
      "        board.show()\n",
      "        print \"Congratulations! You sunk my battleship!\"\n",
      "        break\n",
      "\n",
      "    if turn == nturns:\n",
      "        clear_output()\n",
      "        #Reveal location of ship in yellow\n",
      "        for block in ship:\n",
      "            current = board[block[0],block[1]]\n",
      "            if (current.red,current.green,current.blue) == RED:\n",
      "                pass\n",
      "            else:\n",
      "                board[block[0],block[1]] = ORANGE\n",
      "        board.show()\n",
      "        print \"Sorry, you are out of turns.  Game Over.\"\n",
      "    else:\n",
      "        print turn+1"
     ],
     "language": "python",
     "metadata": {},
     "outputs": [
      {
       "output_type": "stream",
       "stream": "stdout",
       "text": [
        "Let's play Battleship!\n"
       ]
      },
      {
       "name": "stdout",
       "output_type": "stream",
       "stream": "stdout",
       "text": [
        "How big should the ocean be? (Enter an integer from 4 to 20)2\n"
       ]
      },
      {
       "name": "stdout",
       "output_type": "stream",
       "stream": "stdout",
       "text": [
        "How many shots would you like?5\n"
       ]
      },
      {
       "html": [
        "<style type=\"text/css\">table.blockgrid {border: none;} .blockgrid tr {border: none;} .blockgrid td {padding: 0px;} #blocks77d017cc-f43d-4ec4-b45a-eb7f4563ad92 td {border: 1px solid white;}</style><table id=\"blocks77d017cc-f43d-4ec4-b45a-eb7f4563ad92\" class=\"blockgrid\"><tbody><tr><td title=\"Index: [0, 0]&#10;Color: (13, 123, 234)\" style=\"width: 20px; height: 20px;background-color: rgb(13, 123, 234);\"></td><td title=\"Index: [0, 1]&#10;Color: (13, 123, 234)\" style=\"width: 20px; height: 20px;background-color: rgb(13, 123, 234);\"></td></tr><tr><td title=\"Index: [1, 0]&#10;Color: (13, 123, 234)\" style=\"width: 20px; height: 20px;background-color: rgb(13, 123, 234);\"></td><td title=\"Index: [1, 1]&#10;Color: (13, 123, 234)\" style=\"width: 20px; height: 20px;background-color: rgb(13, 123, 234);\"></td></tr></tbody></table>"
       ],
       "metadata": {},
       "output_type": "display_data",
       "text": [
        "<IPython.core.display.HTML at 0x1024aecd0>"
       ]
      },
      {
       "ename": "ValueError",
       "evalue": "empty range for randrange() (1,1, 0)",
       "output_type": "pyerr",
       "traceback": [
        "\u001b[0;31m---------------------------------------------------------------------------\u001b[0m\n\u001b[0;31mValueError\u001b[0m                                Traceback (most recent call last)",
        "\u001b[0;32m<ipython-input-20-98c0948188e6>\u001b[0m in \u001b[0;36m<module>\u001b[0;34m()\u001b[0m\n\u001b[1;32m     31\u001b[0m \u001b[0mboard\u001b[0m\u001b[0;34m.\u001b[0m\u001b[0mshow\u001b[0m\u001b[0;34m(\u001b[0m\u001b[0;34m)\u001b[0m\u001b[0;34m\u001b[0m\u001b[0m\n\u001b[1;32m     32\u001b[0m \u001b[0;34m\u001b[0m\u001b[0m\n\u001b[0;32m---> 33\u001b[0;31m \u001b[0mship\u001b[0m \u001b[0;34m=\u001b[0m \u001b[0mplace_ship\u001b[0m\u001b[0;34m(\u001b[0m\u001b[0mboardsize\u001b[0m\u001b[0;34m)\u001b[0m\u001b[0;34m\u001b[0m\u001b[0m\n\u001b[0m\u001b[1;32m     34\u001b[0m \u001b[0mnhits\u001b[0m \u001b[0;34m=\u001b[0m \u001b[0;36m0\u001b[0m\u001b[0;34m\u001b[0m\u001b[0m\n\u001b[1;32m     35\u001b[0m \u001b[0;34m\u001b[0m\u001b[0m\n",
        "\u001b[0;32m<ipython-input-4-402d1944b368>\u001b[0m in \u001b[0;36mplace_ship\u001b[0;34m(boardsize)\u001b[0m\n\u001b[1;32m      3\u001b[0m     \u001b[0mshipdir\u001b[0m \u001b[0;34m=\u001b[0m \u001b[0mrandint\u001b[0m\u001b[0;34m(\u001b[0m\u001b[0;36m0\u001b[0m\u001b[0;34m,\u001b[0m\u001b[0;36m1\u001b[0m\u001b[0;34m)\u001b[0m\u001b[0;34m\u001b[0m\u001b[0m\n\u001b[1;32m      4\u001b[0m     \u001b[0;31m#Ship Length\u001b[0m\u001b[0;34m\u001b[0m\u001b[0;34m\u001b[0m\u001b[0m\n\u001b[0;32m----> 5\u001b[0;31m     \u001b[0mshiplength\u001b[0m \u001b[0;34m=\u001b[0m \u001b[0mrandint\u001b[0m\u001b[0;34m(\u001b[0m\u001b[0;36m1\u001b[0m\u001b[0;34m,\u001b[0m\u001b[0mboardsize\u001b[0m\u001b[0;34m-\u001b[0m\u001b[0;36m2\u001b[0m\u001b[0;34m)\u001b[0m\u001b[0;34m\u001b[0m\u001b[0m\n\u001b[0m\u001b[1;32m      6\u001b[0m     \u001b[0mshipstart\u001b[0m \u001b[0;34m=\u001b[0m \u001b[0mrandint\u001b[0m\u001b[0;34m(\u001b[0m\u001b[0;36m0\u001b[0m\u001b[0;34m,\u001b[0m\u001b[0mboardsize\u001b[0m\u001b[0;34m-\u001b[0m\u001b[0;36m1\u001b[0m\u001b[0;34m)\u001b[0m\u001b[0;34m\u001b[0m\u001b[0m\n\u001b[1;32m      7\u001b[0m     \u001b[0mshipend\u001b[0m \u001b[0;34m=\u001b[0m \u001b[0mshipstart\u001b[0m \u001b[0;34m-\u001b[0m \u001b[0;36m1\u001b[0m \u001b[0;34m+\u001b[0m \u001b[0mshiplength\u001b[0m\u001b[0;34m\u001b[0m\u001b[0m\n",
        "\u001b[0;32m//anaconda/python.app/Contents/lib/python2.7/random.pyc\u001b[0m in \u001b[0;36mrandint\u001b[0;34m(self, a, b)\u001b[0m\n\u001b[1;32m    238\u001b[0m         \"\"\"\n\u001b[1;32m    239\u001b[0m \u001b[0;34m\u001b[0m\u001b[0m\n\u001b[0;32m--> 240\u001b[0;31m         \u001b[0;32mreturn\u001b[0m \u001b[0mself\u001b[0m\u001b[0;34m.\u001b[0m\u001b[0mrandrange\u001b[0m\u001b[0;34m(\u001b[0m\u001b[0ma\u001b[0m\u001b[0;34m,\u001b[0m \u001b[0mb\u001b[0m\u001b[0;34m+\u001b[0m\u001b[0;36m1\u001b[0m\u001b[0;34m)\u001b[0m\u001b[0;34m\u001b[0m\u001b[0m\n\u001b[0m\u001b[1;32m    241\u001b[0m \u001b[0;34m\u001b[0m\u001b[0m\n\u001b[1;32m    242\u001b[0m     def _randbelow(self, n, _log=_log, _int=int, _maxwidth=1L<<BPF,\n",
        "\u001b[0;32m//anaconda/python.app/Contents/lib/python2.7/random.pyc\u001b[0m in \u001b[0;36mrandrange\u001b[0;34m(self, start, stop, step, _int, _maxwidth)\u001b[0m\n\u001b[1;32m    214\u001b[0m             \u001b[0;32mreturn\u001b[0m \u001b[0m_int\u001b[0m\u001b[0;34m(\u001b[0m\u001b[0mistart\u001b[0m \u001b[0;34m+\u001b[0m \u001b[0m_int\u001b[0m\u001b[0;34m(\u001b[0m\u001b[0mself\u001b[0m\u001b[0;34m.\u001b[0m\u001b[0mrandom\u001b[0m\u001b[0;34m(\u001b[0m\u001b[0;34m)\u001b[0m\u001b[0;34m*\u001b[0m\u001b[0mwidth\u001b[0m\u001b[0;34m)\u001b[0m\u001b[0;34m)\u001b[0m\u001b[0;34m\u001b[0m\u001b[0m\n\u001b[1;32m    215\u001b[0m         \u001b[0;32mif\u001b[0m \u001b[0mstep\u001b[0m \u001b[0;34m==\u001b[0m \u001b[0;36m1\u001b[0m\u001b[0;34m:\u001b[0m\u001b[0;34m\u001b[0m\u001b[0m\n\u001b[0;32m--> 216\u001b[0;31m             \u001b[0;32mraise\u001b[0m \u001b[0mValueError\u001b[0m\u001b[0;34m,\u001b[0m \u001b[0;34m\"empty range for randrange() (%d,%d, %d)\"\u001b[0m \u001b[0;34m%\u001b[0m \u001b[0;34m(\u001b[0m\u001b[0mistart\u001b[0m\u001b[0;34m,\u001b[0m \u001b[0mistop\u001b[0m\u001b[0;34m,\u001b[0m \u001b[0mwidth\u001b[0m\u001b[0;34m)\u001b[0m\u001b[0;34m\u001b[0m\u001b[0m\n\u001b[0m\u001b[1;32m    217\u001b[0m \u001b[0;34m\u001b[0m\u001b[0m\n\u001b[1;32m    218\u001b[0m         \u001b[0;31m# Non-unit step argument supplied.\u001b[0m\u001b[0;34m\u001b[0m\u001b[0;34m\u001b[0m\u001b[0m\n",
        "\u001b[0;31mValueError\u001b[0m: empty range for randrange() (1,1, 0)"
       ]
      }
     ],
     "prompt_number": 20
    },
    {
     "cell_type": "code",
     "collapsed": false,
     "input": [],
     "language": "python",
     "metadata": {},
     "outputs": []
    },
    {
     "cell_type": "code",
     "collapsed": false,
     "input": [
      "'''\n",
      "Fail Version:\n",
      "\n",
      "from random import randint\n",
      "from ipythonblocks import colors\n",
      "\n",
      "board = BlockGrid(8, 8, fill=(120,140,255))\n",
      "board.show()\n",
      "\n",
      "print \"Let's play Battleship!\"\n",
      "\n",
      "\n",
      "\n",
      "def ship_spot(board):\n",
      "    return board[randint(0,8), randint(0,8)]\n",
      "\n",
      "ship_position = ship_spot(board)\n",
      "print \"ship position =\", ship_position\n",
      "\n",
      "\n",
      "\n",
      "for turn in range(4):\n",
      "    print \"Turn\", turn + 1\n",
      "    guess_row = int(raw_input(\"Guess Row:\"))\n",
      "    guess_col = int(raw_input(\"Guess Col:\"))\n",
      "\n",
      "    if board[guess_row, guess_col] == ship_spot(board):\n",
      "        print \"Congratulations! You sunk my battleship!\"\n",
      "        break\n",
      "\n",
      "    else:\n",
      "        if (guess_row < 0 or guess_row > 8) or (guess_col < 0 or guess_col > 8):\n",
      "            print \"Oops, that's not even in the ocean.\" \n",
      "\n",
      "        elif board[guess_row, guess_col] = (board[guess_row, guess_col] = colors['Black']):\n",
      "            print \"You guessed that one already.\"\n",
      "\n",
      "        else:\n",
      "            print \"You missed my battleship!\"\n",
      "            board[guess_row, guess_col] = colors('Black')\n",
      "            \n",
      "            if turn == 3:\n",
      "                print \"Game Over\"\n",
      "    # Print (turn + 1) here!\n",
      "'''"
     ],
     "language": "python",
     "metadata": {},
     "outputs": []
    },
    {
     "cell_type": "code",
     "collapsed": false,
     "input": [],
     "language": "python",
     "metadata": {},
     "outputs": []
    }
   ],
   "metadata": {}
  }
 ]
}