{
 "metadata": {
  "name": "",
  "signature": "sha256:fe08cd4a930003461ad508efcc07cef6722a2e666561f7b18dabac6d7ca8a170"
 },
 "nbformat": 3,
 "nbformat_minor": 0,
 "worksheets": [
  {
   "cells": [
    {
     "cell_type": "heading",
     "level": 1,
     "metadata": {},
     "source": [
      "Error Handling Exercises"
     ]
    },
    {
     "cell_type": "markdown",
     "metadata": {},
     "source": [
      "1. Find a partner. Choose a driver and a navigator. The driver should copy their Battleship code to a cell in the driver's ErrorHandlingExercises notebook. The driver should explain to the navigator the basics of how their program works. Work together to add some error handling to the program. Include a markdown cell identifying the driver and navigator. When you are done, switch roles and let the navigator be the driver and vice versa. At the end you should both have a Battleship program that includes some error handling."
     ]
    },
    {
     "cell_type": "markdown",
     "metadata": {},
     "source": [
      "Driver: Dylan Love\n",
      "Navigator: Anthony Bardessono"
     ]
    },
    {
     "cell_type": "code",
     "collapsed": false,
     "input": [
      "from random import randint\n",
      "from ipythonblocks import BlockGrid\n",
      "from IPython.display import clear_output"
     ],
     "language": "python",
     "metadata": {},
     "outputs": [],
     "prompt_number": 7
    },
    {
     "cell_type": "code",
     "collapsed": false,
     "input": [
      "def place_ship(boardsize):\n",
      "    #Vertical or Horizontal\n",
      "    shipdir = randint(0,1)\n",
      "    #Ship Length\n",
      "    shiplength = randint(1,boardsize-2)\n",
      "    shipstart = randint(0,boardsize-1)\n",
      "    shipend = shipstart - 1 + shiplength\n",
      "    shipdiff = boardsize - 1 - shipend\n",
      "    if shipdiff < 0:\n",
      "        shipstart += shipdiff\n",
      "        shipend += shipdiff\n",
      "    #print shipdir, shiplength, shipstart, shipend, shipdiff\n",
      "    shipside = randint(0,boardsize-1)\n",
      "    ship = []\n",
      "    if randint(0,1) == 1:\n",
      "        for i in range(shiplength):\n",
      "            ship.append((shipstart+i,shipside))\n",
      "    else:\n",
      "        for i in range(shiplength):\n",
      "            ship.append((shipside,shipstart+i))\n",
      "    return ship\n",
      "\n",
      "BLACK = (0,0,0)\n",
      "RED = (255,0,0)\n",
      "ORANGE = (255,150,0)\n",
      "OCEAN = (13, 123, 234)"
     ],
     "language": "python",
     "metadata": {},
     "outputs": [],
     "prompt_number": 8
    },
    {
     "cell_type": "code",
     "collapsed": false,
     "input": [
      "print \"Let's play Battleship!\"\n",
      "\n",
      "# Eliminates the \"NameError\" problem if the user  does not input an integer for boardsize.\n",
      "x=2\n",
      "while x==2:\n",
      "    try: \n",
      "        boardsize = input(\"How big should the ocean be? (Enter an integer from 4 to 20)\")\n",
      "    except NameError as err:\n",
      "        print err\n",
      "        print \"numbers etc.\"\n",
      "    else:\n",
      "        x = 1\n",
      "        \n",
      "       \n",
      "\n",
      "nturns = input(\"How many shots would you like?\")\n",
      "\n",
      "board = BlockGrid(boardsize, boardsize, fill=OCEAN)\n",
      "board.show()\n",
      "\n",
      "ship = place_ship(boardsize)\n",
      "nhits = 0\n",
      "\n",
      "for turn in range(nturns+1):\n",
      "    #print ship\n",
      "    guess_row = input(\"Guess Row:\")\n",
      "    \n",
      "    guess_col = input(\"Guess Col:\")\n",
      "    \n",
      "    if (guess_row < 0 or guess_row >= board.height) or (guess_col < 0 or guess_col >= board.width):\n",
      "        clear_output()\n",
      "        board.show()\n",
      "        print \"Oops, that's not even in the ocean.\"\n",
      "    else:\n",
      "        guessblock = board[guess_row,guess_col]\n",
      "        if (guess_row,guess_col) in ship:\n",
      "            clear_output()\n",
      "            board[guess_row,guess_col] = RED\n",
      "            board.show()\n",
      "            print \"It's a hit!\"\n",
      "            nhits += 1          \n",
      "        elif (guessblock.red,guessblock.green,guessblock.blue) == BLACK or (guessblock.red,guessblock.green,guessblock.blue) == RED:\n",
      "            clear_output()\n",
      "            board.show()\n",
      "            print \"You guessed that one already.\"\n",
      "        else:\n",
      "            clear_output()\n",
      "            board[guess_row,guess_col] = BLACK\n",
      "            board.show()\n",
      "            print \"You missed my battleship!\"        \n",
      "\n",
      "    if nhits == len(ship):\n",
      "        clear_output()\n",
      "        board[guess_row,guess_col] = RED\n",
      "        board.show()\n",
      "        print \"Congratulations! You sunk my battleship!\"\n",
      "        break\n",
      "\n",
      "    if turn == nturns:\n",
      "        clear_output()\n",
      "        #Reveal location of ship in yellow\n",
      "        for block in ship:\n",
      "            current = board[block[0],block[1]]\n",
      "            if (current.red,current.green,current.blue) == RED:\n",
      "                pass\n",
      "            else:\n",
      "                board[block[0],block[1]] = ORANGE\n",
      "        board.show()\n",
      "        print \"Sorry, you are out of turns.  Game Over.\"\n",
      "    else:\n",
      "        print turn+1"
     ],
     "language": "python",
     "metadata": {},
     "outputs": [
      {
       "html": [
        "<style type=\"text/css\">table.blockgrid {border: none;} .blockgrid tr {border: none;} .blockgrid td {padding: 0px;} #blocks05e17b5e-dfda-42e0-adc1-01c6e7dc643d td {border: 1px solid white;}</style><table id=\"blocks05e17b5e-dfda-42e0-adc1-01c6e7dc643d\" class=\"blockgrid\"><tbody><tr><td title=\"Index: [0, 0]&#10;Color: (13, 123, 234)\" style=\"width: 20px; height: 20px;background-color: rgb(13, 123, 234);\"></td><td title=\"Index: [0, 1]&#10;Color: (13, 123, 234)\" style=\"width: 20px; height: 20px;background-color: rgb(13, 123, 234);\"></td><td title=\"Index: [0, 2]&#10;Color: (13, 123, 234)\" style=\"width: 20px; height: 20px;background-color: rgb(13, 123, 234);\"></td><td title=\"Index: [0, 3]&#10;Color: (13, 123, 234)\" style=\"width: 20px; height: 20px;background-color: rgb(13, 123, 234);\"></td><td title=\"Index: [0, 4]&#10;Color: (13, 123, 234)\" style=\"width: 20px; height: 20px;background-color: rgb(13, 123, 234);\"></td><td title=\"Index: [0, 5]&#10;Color: (13, 123, 234)\" style=\"width: 20px; height: 20px;background-color: rgb(13, 123, 234);\"></td><td title=\"Index: [0, 6]&#10;Color: (13, 123, 234)\" style=\"width: 20px; height: 20px;background-color: rgb(13, 123, 234);\"></td><td title=\"Index: [0, 7]&#10;Color: (13, 123, 234)\" style=\"width: 20px; height: 20px;background-color: rgb(13, 123, 234);\"></td><td title=\"Index: [0, 8]&#10;Color: (13, 123, 234)\" style=\"width: 20px; height: 20px;background-color: rgb(13, 123, 234);\"></td><td title=\"Index: [0, 9]&#10;Color: (13, 123, 234)\" style=\"width: 20px; height: 20px;background-color: rgb(13, 123, 234);\"></td></tr><tr><td title=\"Index: [1, 0]&#10;Color: (13, 123, 234)\" style=\"width: 20px; height: 20px;background-color: rgb(13, 123, 234);\"></td><td title=\"Index: [1, 1]&#10;Color: (13, 123, 234)\" style=\"width: 20px; height: 20px;background-color: rgb(13, 123, 234);\"></td><td title=\"Index: [1, 2]&#10;Color: (0, 0, 0)\" style=\"width: 20px; height: 20px;background-color: rgb(0, 0, 0);\"></td><td title=\"Index: [1, 3]&#10;Color: (13, 123, 234)\" style=\"width: 20px; height: 20px;background-color: rgb(13, 123, 234);\"></td><td title=\"Index: [1, 4]&#10;Color: (13, 123, 234)\" style=\"width: 20px; height: 20px;background-color: rgb(13, 123, 234);\"></td><td title=\"Index: [1, 5]&#10;Color: (13, 123, 234)\" style=\"width: 20px; height: 20px;background-color: rgb(13, 123, 234);\"></td><td title=\"Index: [1, 6]&#10;Color: (13, 123, 234)\" style=\"width: 20px; height: 20px;background-color: rgb(13, 123, 234);\"></td><td title=\"Index: [1, 7]&#10;Color: (13, 123, 234)\" style=\"width: 20px; height: 20px;background-color: rgb(13, 123, 234);\"></td><td title=\"Index: [1, 8]&#10;Color: (13, 123, 234)\" style=\"width: 20px; height: 20px;background-color: rgb(13, 123, 234);\"></td><td title=\"Index: [1, 9]&#10;Color: (13, 123, 234)\" style=\"width: 20px; height: 20px;background-color: rgb(13, 123, 234);\"></td></tr><tr><td title=\"Index: [2, 0]&#10;Color: (13, 123, 234)\" style=\"width: 20px; height: 20px;background-color: rgb(13, 123, 234);\"></td><td title=\"Index: [2, 1]&#10;Color: (13, 123, 234)\" style=\"width: 20px; height: 20px;background-color: rgb(13, 123, 234);\"></td><td title=\"Index: [2, 2]&#10;Color: (13, 123, 234)\" style=\"width: 20px; height: 20px;background-color: rgb(13, 123, 234);\"></td><td title=\"Index: [2, 3]&#10;Color: (13, 123, 234)\" style=\"width: 20px; height: 20px;background-color: rgb(13, 123, 234);\"></td><td title=\"Index: [2, 4]&#10;Color: (13, 123, 234)\" style=\"width: 20px; height: 20px;background-color: rgb(13, 123, 234);\"></td><td title=\"Index: [2, 5]&#10;Color: (13, 123, 234)\" style=\"width: 20px; height: 20px;background-color: rgb(13, 123, 234);\"></td><td title=\"Index: [2, 6]&#10;Color: (13, 123, 234)\" style=\"width: 20px; height: 20px;background-color: rgb(13, 123, 234);\"></td><td title=\"Index: [2, 7]&#10;Color: (13, 123, 234)\" style=\"width: 20px; height: 20px;background-color: rgb(13, 123, 234);\"></td><td title=\"Index: [2, 8]&#10;Color: (13, 123, 234)\" style=\"width: 20px; height: 20px;background-color: rgb(13, 123, 234);\"></td><td title=\"Index: [2, 9]&#10;Color: (13, 123, 234)\" style=\"width: 20px; height: 20px;background-color: rgb(13, 123, 234);\"></td></tr><tr><td title=\"Index: [3, 0]&#10;Color: (13, 123, 234)\" style=\"width: 20px; height: 20px;background-color: rgb(13, 123, 234);\"></td><td title=\"Index: [3, 1]&#10;Color: (13, 123, 234)\" style=\"width: 20px; height: 20px;background-color: rgb(13, 123, 234);\"></td><td title=\"Index: [3, 2]&#10;Color: (13, 123, 234)\" style=\"width: 20px; height: 20px;background-color: rgb(13, 123, 234);\"></td><td title=\"Index: [3, 3]&#10;Color: (13, 123, 234)\" style=\"width: 20px; height: 20px;background-color: rgb(13, 123, 234);\"></td><td title=\"Index: [3, 4]&#10;Color: (13, 123, 234)\" style=\"width: 20px; height: 20px;background-color: rgb(13, 123, 234);\"></td><td title=\"Index: [3, 5]&#10;Color: (13, 123, 234)\" style=\"width: 20px; height: 20px;background-color: rgb(13, 123, 234);\"></td><td title=\"Index: [3, 6]&#10;Color: (13, 123, 234)\" style=\"width: 20px; height: 20px;background-color: rgb(13, 123, 234);\"></td><td title=\"Index: [3, 7]&#10;Color: (13, 123, 234)\" style=\"width: 20px; height: 20px;background-color: rgb(13, 123, 234);\"></td><td title=\"Index: [3, 8]&#10;Color: (13, 123, 234)\" style=\"width: 20px; height: 20px;background-color: rgb(13, 123, 234);\"></td><td title=\"Index: [3, 9]&#10;Color: (13, 123, 234)\" style=\"width: 20px; height: 20px;background-color: rgb(13, 123, 234);\"></td></tr><tr><td title=\"Index: [4, 0]&#10;Color: (13, 123, 234)\" style=\"width: 20px; height: 20px;background-color: rgb(13, 123, 234);\"></td><td title=\"Index: [4, 1]&#10;Color: (13, 123, 234)\" style=\"width: 20px; height: 20px;background-color: rgb(13, 123, 234);\"></td><td title=\"Index: [4, 2]&#10;Color: (13, 123, 234)\" style=\"width: 20px; height: 20px;background-color: rgb(13, 123, 234);\"></td><td title=\"Index: [4, 3]&#10;Color: (13, 123, 234)\" style=\"width: 20px; height: 20px;background-color: rgb(13, 123, 234);\"></td><td title=\"Index: [4, 4]&#10;Color: (13, 123, 234)\" style=\"width: 20px; height: 20px;background-color: rgb(13, 123, 234);\"></td><td title=\"Index: [4, 5]&#10;Color: (13, 123, 234)\" style=\"width: 20px; height: 20px;background-color: rgb(13, 123, 234);\"></td><td title=\"Index: [4, 6]&#10;Color: (13, 123, 234)\" style=\"width: 20px; height: 20px;background-color: rgb(13, 123, 234);\"></td><td title=\"Index: [4, 7]&#10;Color: (13, 123, 234)\" style=\"width: 20px; height: 20px;background-color: rgb(13, 123, 234);\"></td><td title=\"Index: [4, 8]&#10;Color: (13, 123, 234)\" style=\"width: 20px; height: 20px;background-color: rgb(13, 123, 234);\"></td><td title=\"Index: [4, 9]&#10;Color: (13, 123, 234)\" style=\"width: 20px; height: 20px;background-color: rgb(13, 123, 234);\"></td></tr><tr><td title=\"Index: [5, 0]&#10;Color: (13, 123, 234)\" style=\"width: 20px; height: 20px;background-color: rgb(13, 123, 234);\"></td><td title=\"Index: [5, 1]&#10;Color: (13, 123, 234)\" style=\"width: 20px; height: 20px;background-color: rgb(13, 123, 234);\"></td><td title=\"Index: [5, 2]&#10;Color: (13, 123, 234)\" style=\"width: 20px; height: 20px;background-color: rgb(13, 123, 234);\"></td><td title=\"Index: [5, 3]&#10;Color: (13, 123, 234)\" style=\"width: 20px; height: 20px;background-color: rgb(13, 123, 234);\"></td><td title=\"Index: [5, 4]&#10;Color: (13, 123, 234)\" style=\"width: 20px; height: 20px;background-color: rgb(13, 123, 234);\"></td><td title=\"Index: [5, 5]&#10;Color: (13, 123, 234)\" style=\"width: 20px; height: 20px;background-color: rgb(13, 123, 234);\"></td><td title=\"Index: [5, 6]&#10;Color: (13, 123, 234)\" style=\"width: 20px; height: 20px;background-color: rgb(13, 123, 234);\"></td><td title=\"Index: [5, 7]&#10;Color: (13, 123, 234)\" style=\"width: 20px; height: 20px;background-color: rgb(13, 123, 234);\"></td><td title=\"Index: [5, 8]&#10;Color: (13, 123, 234)\" style=\"width: 20px; height: 20px;background-color: rgb(13, 123, 234);\"></td><td title=\"Index: [5, 9]&#10;Color: (13, 123, 234)\" style=\"width: 20px; height: 20px;background-color: rgb(13, 123, 234);\"></td></tr><tr><td title=\"Index: [6, 0]&#10;Color: (13, 123, 234)\" style=\"width: 20px; height: 20px;background-color: rgb(13, 123, 234);\"></td><td title=\"Index: [6, 1]&#10;Color: (13, 123, 234)\" style=\"width: 20px; height: 20px;background-color: rgb(13, 123, 234);\"></td><td title=\"Index: [6, 2]&#10;Color: (13, 123, 234)\" style=\"width: 20px; height: 20px;background-color: rgb(13, 123, 234);\"></td><td title=\"Index: [6, 3]&#10;Color: (13, 123, 234)\" style=\"width: 20px; height: 20px;background-color: rgb(13, 123, 234);\"></td><td title=\"Index: [6, 4]&#10;Color: (13, 123, 234)\" style=\"width: 20px; height: 20px;background-color: rgb(13, 123, 234);\"></td><td title=\"Index: [6, 5]&#10;Color: (13, 123, 234)\" style=\"width: 20px; height: 20px;background-color: rgb(13, 123, 234);\"></td><td title=\"Index: [6, 6]&#10;Color: (13, 123, 234)\" style=\"width: 20px; height: 20px;background-color: rgb(13, 123, 234);\"></td><td title=\"Index: [6, 7]&#10;Color: (13, 123, 234)\" style=\"width: 20px; height: 20px;background-color: rgb(13, 123, 234);\"></td><td title=\"Index: [6, 8]&#10;Color: (13, 123, 234)\" style=\"width: 20px; height: 20px;background-color: rgb(13, 123, 234);\"></td><td title=\"Index: [6, 9]&#10;Color: (13, 123, 234)\" style=\"width: 20px; height: 20px;background-color: rgb(13, 123, 234);\"></td></tr><tr><td title=\"Index: [7, 0]&#10;Color: (13, 123, 234)\" style=\"width: 20px; height: 20px;background-color: rgb(13, 123, 234);\"></td><td title=\"Index: [7, 1]&#10;Color: (13, 123, 234)\" style=\"width: 20px; height: 20px;background-color: rgb(13, 123, 234);\"></td><td title=\"Index: [7, 2]&#10;Color: (13, 123, 234)\" style=\"width: 20px; height: 20px;background-color: rgb(13, 123, 234);\"></td><td title=\"Index: [7, 3]&#10;Color: (13, 123, 234)\" style=\"width: 20px; height: 20px;background-color: rgb(13, 123, 234);\"></td><td title=\"Index: [7, 4]&#10;Color: (13, 123, 234)\" style=\"width: 20px; height: 20px;background-color: rgb(13, 123, 234);\"></td><td title=\"Index: [7, 5]&#10;Color: (13, 123, 234)\" style=\"width: 20px; height: 20px;background-color: rgb(13, 123, 234);\"></td><td title=\"Index: [7, 6]&#10;Color: (13, 123, 234)\" style=\"width: 20px; height: 20px;background-color: rgb(13, 123, 234);\"></td><td title=\"Index: [7, 7]&#10;Color: (13, 123, 234)\" style=\"width: 20px; height: 20px;background-color: rgb(13, 123, 234);\"></td><td title=\"Index: [7, 8]&#10;Color: (13, 123, 234)\" style=\"width: 20px; height: 20px;background-color: rgb(13, 123, 234);\"></td><td title=\"Index: [7, 9]&#10;Color: (13, 123, 234)\" style=\"width: 20px; height: 20px;background-color: rgb(13, 123, 234);\"></td></tr><tr><td title=\"Index: [8, 0]&#10;Color: (13, 123, 234)\" style=\"width: 20px; height: 20px;background-color: rgb(13, 123, 234);\"></td><td title=\"Index: [8, 1]&#10;Color: (13, 123, 234)\" style=\"width: 20px; height: 20px;background-color: rgb(13, 123, 234);\"></td><td title=\"Index: [8, 2]&#10;Color: (13, 123, 234)\" style=\"width: 20px; height: 20px;background-color: rgb(13, 123, 234);\"></td><td title=\"Index: [8, 3]&#10;Color: (13, 123, 234)\" style=\"width: 20px; height: 20px;background-color: rgb(13, 123, 234);\"></td><td title=\"Index: [8, 4]&#10;Color: (13, 123, 234)\" style=\"width: 20px; height: 20px;background-color: rgb(13, 123, 234);\"></td><td title=\"Index: [8, 5]&#10;Color: (13, 123, 234)\" style=\"width: 20px; height: 20px;background-color: rgb(13, 123, 234);\"></td><td title=\"Index: [8, 6]&#10;Color: (13, 123, 234)\" style=\"width: 20px; height: 20px;background-color: rgb(13, 123, 234);\"></td><td title=\"Index: [8, 7]&#10;Color: (13, 123, 234)\" style=\"width: 20px; height: 20px;background-color: rgb(13, 123, 234);\"></td><td title=\"Index: [8, 8]&#10;Color: (13, 123, 234)\" style=\"width: 20px; height: 20px;background-color: rgb(13, 123, 234);\"></td><td title=\"Index: [8, 9]&#10;Color: (13, 123, 234)\" style=\"width: 20px; height: 20px;background-color: rgb(13, 123, 234);\"></td></tr><tr><td title=\"Index: [9, 0]&#10;Color: (13, 123, 234)\" style=\"width: 20px; height: 20px;background-color: rgb(13, 123, 234);\"></td><td title=\"Index: [9, 1]&#10;Color: (13, 123, 234)\" style=\"width: 20px; height: 20px;background-color: rgb(13, 123, 234);\"></td><td title=\"Index: [9, 2]&#10;Color: (13, 123, 234)\" style=\"width: 20px; height: 20px;background-color: rgb(13, 123, 234);\"></td><td title=\"Index: [9, 3]&#10;Color: (13, 123, 234)\" style=\"width: 20px; height: 20px;background-color: rgb(13, 123, 234);\"></td><td title=\"Index: [9, 4]&#10;Color: (13, 123, 234)\" style=\"width: 20px; height: 20px;background-color: rgb(13, 123, 234);\"></td><td title=\"Index: [9, 5]&#10;Color: (13, 123, 234)\" style=\"width: 20px; height: 20px;background-color: rgb(13, 123, 234);\"></td><td title=\"Index: [9, 6]&#10;Color: (13, 123, 234)\" style=\"width: 20px; height: 20px;background-color: rgb(13, 123, 234);\"></td><td title=\"Index: [9, 7]&#10;Color: (13, 123, 234)\" style=\"width: 20px; height: 20px;background-color: rgb(13, 123, 234);\"></td><td title=\"Index: [9, 8]&#10;Color: (13, 123, 234)\" style=\"width: 20px; height: 20px;background-color: rgb(13, 123, 234);\"></td><td title=\"Index: [9, 9]&#10;Color: (13, 123, 234)\" style=\"width: 20px; height: 20px;background-color: rgb(13, 123, 234);\"></td></tr></tbody></table>"
       ],
       "metadata": {},
       "output_type": "display_data",
       "text": [
        "<IPython.core.display.HTML at 0x10043c190>"
       ]
      },
      {
       "output_type": "stream",
       "stream": "stdout",
       "text": [
        "You missed my battleship!\n",
        "1\n"
       ]
      },
      {
       "ename": "KeyboardInterrupt",
       "evalue": "",
       "output_type": "pyerr",
       "traceback": [
        "\u001b[0;31m---------------------------------------------------------------------------\u001b[0m\n\u001b[0;31mKeyboardInterrupt\u001b[0m                         Traceback (most recent call last)",
        "\u001b[0;32m<ipython-input-10-3496936ffe4e>\u001b[0m in \u001b[0;36m<module>\u001b[0;34m()\u001b[0m\n\u001b[1;32m     24\u001b[0m \u001b[0;32mfor\u001b[0m \u001b[0mturn\u001b[0m \u001b[0;32min\u001b[0m \u001b[0mrange\u001b[0m\u001b[0;34m(\u001b[0m\u001b[0mnturns\u001b[0m\u001b[0;34m+\u001b[0m\u001b[0;36m1\u001b[0m\u001b[0;34m)\u001b[0m\u001b[0;34m:\u001b[0m\u001b[0;34m\u001b[0m\u001b[0m\n\u001b[1;32m     25\u001b[0m     \u001b[0;31m#print ship\u001b[0m\u001b[0;34m\u001b[0m\u001b[0;34m\u001b[0m\u001b[0m\n\u001b[0;32m---> 26\u001b[0;31m     \u001b[0mguess_row\u001b[0m \u001b[0;34m=\u001b[0m \u001b[0minput\u001b[0m\u001b[0;34m(\u001b[0m\u001b[0;34m\"Guess Row:\"\u001b[0m\u001b[0;34m)\u001b[0m\u001b[0;34m\u001b[0m\u001b[0m\n\u001b[0m\u001b[1;32m     27\u001b[0m \u001b[0;34m\u001b[0m\u001b[0m\n\u001b[1;32m     28\u001b[0m     \u001b[0mguess_col\u001b[0m \u001b[0;34m=\u001b[0m \u001b[0minput\u001b[0m\u001b[0;34m(\u001b[0m\u001b[0;34m\"Guess Col:\"\u001b[0m\u001b[0;34m)\u001b[0m\u001b[0;34m\u001b[0m\u001b[0m\n",
        "\u001b[0;32m//anaconda/lib/python2.7/site-packages/IPython/kernel/zmq/ipkernel.pyc\u001b[0m in \u001b[0;36m<lambda>\u001b[0;34m(prompt)\u001b[0m\n\u001b[1;32m    362\u001b[0m         \u001b[0;32mif\u001b[0m \u001b[0mcontent\u001b[0m\u001b[0;34m.\u001b[0m\u001b[0mget\u001b[0m\u001b[0;34m(\u001b[0m\u001b[0;34m'allow_stdin'\u001b[0m\u001b[0;34m,\u001b[0m \u001b[0mFalse\u001b[0m\u001b[0;34m)\u001b[0m\u001b[0;34m:\u001b[0m\u001b[0;34m\u001b[0m\u001b[0m\n\u001b[1;32m    363\u001b[0m             \u001b[0mraw_input\u001b[0m \u001b[0;34m=\u001b[0m \u001b[0;32mlambda\u001b[0m \u001b[0mprompt\u001b[0m\u001b[0;34m=\u001b[0m\u001b[0;34m''\u001b[0m\u001b[0;34m:\u001b[0m \u001b[0mself\u001b[0m\u001b[0;34m.\u001b[0m\u001b[0m_raw_input\u001b[0m\u001b[0;34m(\u001b[0m\u001b[0mprompt\u001b[0m\u001b[0;34m,\u001b[0m \u001b[0mident\u001b[0m\u001b[0;34m,\u001b[0m \u001b[0mparent\u001b[0m\u001b[0;34m)\u001b[0m\u001b[0;34m\u001b[0m\u001b[0m\n\u001b[0;32m--> 364\u001b[0;31m             \u001b[0minput\u001b[0m \u001b[0;34m=\u001b[0m \u001b[0;32mlambda\u001b[0m \u001b[0mprompt\u001b[0m\u001b[0;34m=\u001b[0m\u001b[0;34m''\u001b[0m\u001b[0;34m:\u001b[0m \u001b[0meval\u001b[0m\u001b[0;34m(\u001b[0m\u001b[0mraw_input\u001b[0m\u001b[0;34m(\u001b[0m\u001b[0mprompt\u001b[0m\u001b[0;34m)\u001b[0m\u001b[0;34m)\u001b[0m\u001b[0;34m\u001b[0m\u001b[0m\n\u001b[0m\u001b[1;32m    365\u001b[0m         \u001b[0;32melse\u001b[0m\u001b[0;34m:\u001b[0m\u001b[0;34m\u001b[0m\u001b[0m\n\u001b[1;32m    366\u001b[0m             \u001b[0mraw_input\u001b[0m \u001b[0;34m=\u001b[0m \u001b[0minput\u001b[0m \u001b[0;34m=\u001b[0m \u001b[0;32mlambda\u001b[0m \u001b[0mprompt\u001b[0m\u001b[0;34m=\u001b[0m\u001b[0;34m''\u001b[0m \u001b[0;34m:\u001b[0m \u001b[0mself\u001b[0m\u001b[0;34m.\u001b[0m\u001b[0m_no_raw_input\u001b[0m\u001b[0;34m(\u001b[0m\u001b[0;34m)\u001b[0m\u001b[0;34m\u001b[0m\u001b[0m\n",
        "\u001b[0;32m//anaconda/lib/python2.7/site-packages/IPython/kernel/zmq/ipkernel.pyc\u001b[0m in \u001b[0;36m<lambda>\u001b[0;34m(prompt)\u001b[0m\n\u001b[1;32m    361\u001b[0m         \u001b[0;31m# raw_input in the user namespace.\u001b[0m\u001b[0;34m\u001b[0m\u001b[0;34m\u001b[0m\u001b[0m\n\u001b[1;32m    362\u001b[0m         \u001b[0;32mif\u001b[0m \u001b[0mcontent\u001b[0m\u001b[0;34m.\u001b[0m\u001b[0mget\u001b[0m\u001b[0;34m(\u001b[0m\u001b[0;34m'allow_stdin'\u001b[0m\u001b[0;34m,\u001b[0m \u001b[0mFalse\u001b[0m\u001b[0;34m)\u001b[0m\u001b[0;34m:\u001b[0m\u001b[0;34m\u001b[0m\u001b[0m\n\u001b[0;32m--> 363\u001b[0;31m             \u001b[0mraw_input\u001b[0m \u001b[0;34m=\u001b[0m \u001b[0;32mlambda\u001b[0m \u001b[0mprompt\u001b[0m\u001b[0;34m=\u001b[0m\u001b[0;34m''\u001b[0m\u001b[0;34m:\u001b[0m \u001b[0mself\u001b[0m\u001b[0;34m.\u001b[0m\u001b[0m_raw_input\u001b[0m\u001b[0;34m(\u001b[0m\u001b[0mprompt\u001b[0m\u001b[0;34m,\u001b[0m \u001b[0mident\u001b[0m\u001b[0;34m,\u001b[0m \u001b[0mparent\u001b[0m\u001b[0;34m)\u001b[0m\u001b[0;34m\u001b[0m\u001b[0m\n\u001b[0m\u001b[1;32m    364\u001b[0m             \u001b[0minput\u001b[0m \u001b[0;34m=\u001b[0m \u001b[0;32mlambda\u001b[0m \u001b[0mprompt\u001b[0m\u001b[0;34m=\u001b[0m\u001b[0;34m''\u001b[0m\u001b[0;34m:\u001b[0m \u001b[0meval\u001b[0m\u001b[0;34m(\u001b[0m\u001b[0mraw_input\u001b[0m\u001b[0;34m(\u001b[0m\u001b[0mprompt\u001b[0m\u001b[0;34m)\u001b[0m\u001b[0;34m)\u001b[0m\u001b[0;34m\u001b[0m\u001b[0m\n\u001b[1;32m    365\u001b[0m         \u001b[0;32melse\u001b[0m\u001b[0;34m:\u001b[0m\u001b[0;34m\u001b[0m\u001b[0m\n",
        "\u001b[0;32m//anaconda/lib/python2.7/site-packages/IPython/kernel/zmq/ipkernel.pyc\u001b[0m in \u001b[0;36m_raw_input\u001b[0;34m(self, prompt, ident, parent)\u001b[0m\n\u001b[1;32m    763\u001b[0m             \u001b[0;32mexcept\u001b[0m \u001b[0mKeyboardInterrupt\u001b[0m\u001b[0;34m:\u001b[0m\u001b[0;34m\u001b[0m\u001b[0m\n\u001b[1;32m    764\u001b[0m                 \u001b[0;31m# re-raise KeyboardInterrupt, to truncate traceback\u001b[0m\u001b[0;34m\u001b[0m\u001b[0;34m\u001b[0m\u001b[0m\n\u001b[0;32m--> 765\u001b[0;31m                 \u001b[0;32mraise\u001b[0m \u001b[0mKeyboardInterrupt\u001b[0m\u001b[0;34m\u001b[0m\u001b[0m\n\u001b[0m\u001b[1;32m    766\u001b[0m             \u001b[0;32melse\u001b[0m\u001b[0;34m:\u001b[0m\u001b[0;34m\u001b[0m\u001b[0m\n\u001b[1;32m    767\u001b[0m                 \u001b[0;32mbreak\u001b[0m\u001b[0;34m\u001b[0m\u001b[0m\n",
        "\u001b[0;31mKeyboardInterrupt\u001b[0m: "
       ]
      }
     ],
     "prompt_number": 10
    },
    {
     "cell_type": "markdown",
     "metadata": {},
     "source": [
      "2. Here is a function which takes a filename, opens the file, reads the result, closes the file, and returns the contents. It should look something like this... (see Tour).\n",
      "\n",
      "Use runtime error handling concepts to improve this function, so that it does the following:\n",
      "\n",
      "raises an informative custom error if the file doesn't exist\n",
      "\n",
      "uses try, except, else, and/or finally to safely return the file's contents & close the file if necessary.\n",
      "\n",
      "add a keyword safe which defaults to False. If the function is called with safe=True, then return an empty string if the file doesn't exist."
     ]
    },
    {
     "cell_type": "code",
     "collapsed": false,
     "input": [
      "\n",
      "\n",
      "def read_all_from_file(filename, safe=False):\n",
      "    try:\n",
      "        f = open(filename)\n",
      "        contents = f.read()\n",
      "        f.close()\n",
      "        return contents\n",
      "    except IOError as err:\n",
      "        if safe == True:\n",
      "            return str()\n",
      "        else:\n",
      "            print err\n",
      "            print \"Dude, that's not a file. What's wrong with you?\"\n",
      "            return None\n",
      "\n",
      "    \n",
      "\n"
     ],
     "language": "python",
     "metadata": {},
     "outputs": [
      {
       "metadata": {},
       "output_type": "pyout",
       "prompt_number": 26,
       "text": [
        "''"
       ]
      }
     ],
     "prompt_number": 26
    },
    {
     "cell_type": "code",
     "collapsed": false,
     "input": [
      "read_all_from_file('tmp.txt')"
     ],
     "language": "python",
     "metadata": {},
     "outputs": [
      {
       "metadata": {},
       "output_type": "pyout",
       "prompt_number": 28,
       "text": [
        "'this is the contents of the file'"
       ]
      }
     ],
     "prompt_number": 28
    },
    {
     "cell_type": "code",
     "collapsed": false,
     "input": [
      "read_all_from_file('file.that.does.not.exist')"
     ],
     "language": "python",
     "metadata": {},
     "outputs": [
      {
       "output_type": "stream",
       "stream": "stdout",
       "text": [
        "[Errno 2] No such file or directory: 'file.that.does.not.exist'\n",
        "Dude, that's not a file. What's wrong with you?\n"
       ]
      }
     ],
     "prompt_number": 29
    },
    {
     "cell_type": "code",
     "collapsed": false,
     "input": [
      "read_all_from_file('file.that.does.not.exist', safe=True)"
     ],
     "language": "python",
     "metadata": {},
     "outputs": [
      {
       "metadata": {},
       "output_type": "pyout",
       "prompt_number": 30,
       "text": [
        "''"
       ]
      }
     ],
     "prompt_number": 30
    },
    {
     "cell_type": "code",
     "collapsed": false,
     "input": [],
     "language": "python",
     "metadata": {},
     "outputs": []
    }
   ],
   "metadata": {}
  }
 ]
}